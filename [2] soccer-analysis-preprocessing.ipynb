{
 "cells": [
  {
   "cell_type": "code",
   "execution_count": null,
   "id": "3a4bfb53",
   "metadata": {
    "pycharm": {
     "name": ""
    }
   },
   "outputs": [],
   "source": [
    "import sqlite3\n",
    "import pandas as pd\n",
    "import numpy as np\n",
    "\n",
    "from datetime import datetime\n",
    "from dateutil.relativedelta import relativedelta\n",
    "\n",
    "from sklearn.model_selection import KFold\n",
    "from sklearn.model_selection import train_test_split\n",
    "\n",
    "from sklearn.tree import DecisionTreeClassifier\n",
    "from sklearn.ensemble import RandomForestClassifier\n",
    "\n",
    "import matplotlib.pyplot as plt \n",
    "import seaborn as sns # Import seaborn\n",
    "\n",
    "from datetime import datetime\n",
    "from datetime import date\n",
    "from dateutil import parser\n",
    "\n",
    "from collections import defaultdict\n",
    "\n",
    "from warnings import simplefilter\n",
    "import time"
   ]
  },
  {
   "cell_type": "markdown",
   "id": "b9eef820",
   "metadata": {},
   "source": [
    "## Read the dataframe from eda and visualization"
   ]
  },
  {
   "cell_type": "code",
   "execution_count": null,
   "id": "de88c6fd",
   "metadata": {},
   "outputs": [],
   "source": [
    "# Import data frame from eda and visualization\n",
    "curr_date = \"2023-04-19\"\n",
    "pickle_file = 'sa-eda-' + curr_date + '.pkl'\n",
    "pickle_file_path = 'data/' + pickle_file\n",
    "df_main_nn = pd.read_pickle(pickle_file_path)"
   ]
  },
  {
   "cell_type": "code",
   "execution_count": null,
   "id": "f3813809",
   "metadata": {},
   "outputs": [],
   "source": [
    "# Show all columns\n",
    "pd.options.display.max_columns = None\n",
    "\n",
    "# Ignore warnings\n",
    "pd.options.mode.chained_assignment = None\n",
    "simplefilter(action=\"ignore\",category=FutureWarning)"
   ]
  },
  {
   "cell_type": "code",
   "execution_count": null,
   "id": "db3321f0",
   "metadata": {},
   "outputs": [],
   "source": [
    "# Calculate age of players\n",
    "hp = 'home_player_'\n",
    "ap = 'away_player_'\n",
    "for i in range(1, 12):\n",
    "    hp_n = hp+str(i)\n",
    "    ap_n = ap+str(i)\n",
    "    df_main_nn['date'] = pd.to_datetime(df_main_nn['date'])\n",
    "    df_main_nn[hp_n+\"_birthday\"] = pd.to_datetime(df_main_nn[hp_n+\"_birthday\"])\n",
    "    df_main_nn[ap_n+\"_birthday\"] = pd.to_datetime(df_main_nn[ap_n+\"_birthday\"])\n",
    "    \n",
    "    df_main_nn[hp_n+\"_age\"] = (df_main_nn['date'].dt.year - df_main_nn[hp_n+\"_birthday\"].dt.year)\n",
    "    df_main_nn[ap_n+\"_age\"] = (df_main_nn['date'].dt.year - df_main_nn[ap_n+\"_birthday\"].dt.year)   "
   ]
  },
  {
   "cell_type": "code",
   "execution_count": null,
   "id": "06a13fcb",
   "metadata": {},
   "outputs": [],
   "source": [
    "# Determining the outcome (Win | [Draw, Loss]) - This is the target\n",
    "df_main_nn['outcome'] = (df_main_nn[\"home_team_goal\"] > df_main_nn[\"away_team_goal\"])"
   ]
  },
  {
   "cell_type": "code",
   "execution_count": null,
   "id": "94ab71de",
   "metadata": {},
   "outputs": [],
   "source": [
    "df_main_nn = df_main_nn.sort_values(['home_team_api_id', 'date'])"
   ]
  },
  {
   "cell_type": "code",
   "execution_count": null,
   "id": "9c7062c5",
   "metadata": {},
   "outputs": [],
   "source": [
    "# Feature engineering: Long-term history - Amount of wins in the last 10 games\n",
    "df_main_nn['last_ten'] = False\n",
    "df_main_nn['last_ten'] = df_main_nn.groupby('home_team_api_id')['outcome'].rolling(window=10, min_periods=1, closed=\"left\").sum().reset_index(0, drop=True)\n",
    "df_main_nn = df_main_nn[~df_main_nn.isnull().any(axis=1)]"
   ]
  },
  {
   "cell_type": "code",
   "execution_count": null,
   "id": "8320b33b",
   "metadata": {},
   "outputs": [],
   "source": [
    "# Feature engineering: Mid-term history - Amount of wins in the last 5 games\n",
    "df_main_nn['last_five'] = False\n",
    "df_main_nn['last_five'] = df_main_nn.groupby('home_team_api_id')['outcome'].rolling(window=5, min_periods=1, closed=\"left\").sum().reset_index(0, drop=True)\n",
    "df_main_nn = df_main_nn[~df_main_nn.isnull().any(axis=1)]"
   ]
  },
  {
   "cell_type": "code",
   "execution_count": null,
   "id": "035c4fe8",
   "metadata": {},
   "outputs": [],
   "source": [
    "# Feature engineering: Short-term history - Amount of wins in the last 3 games\n",
    "df_main_nn['last_three'] = False\n",
    "df_main_nn['last_three'] = df_main_nn.groupby('home_team_api_id')['outcome'].rolling(window=3, min_periods=1, closed=\"left\").sum().reset_index(0, drop=True)\n",
    "df_main_nn = df_main_nn[~df_main_nn.isnull().any(axis=1)]"
   ]
  },
  {
   "cell_type": "code",
   "execution_count": null,
   "id": "41235f97",
   "metadata": {},
   "outputs": [],
   "source": [
    "# Feature engineering: Team height (Average height of players (Home | Away))\n",
    "#                      Team weight (Average weight of players (Home | Away))\n",
    "#                      Team age (Average age of players (Home | Away))\n",
    "#                      Team FIFA rating (Average FIFA rating of players (Home | Away))\n",
    "#                      Team Body Mass Index (Average BMI of players (Home | Away))\n",
    "\n",
    "hp = 'home_player_'\n",
    "hp_col_list_height = [hp+str(i)+'_height' for i in range(1,12)] \n",
    "hp_col_list_weight = [hp+str(i)+'_weight' for i in range(1,12)] \n",
    "hp_col_list_age = [hp+str(i)+'_age' for i in range(1,12)]\n",
    "hp_col_list_rating = [hp+str(i)+'_rating' for i in range(1,12)]    \n",
    "\n",
    "ap = 'away_player_'\n",
    "ap_col_list_height = [ap+str(i)+'_height' for i in range(1,12)] \n",
    "ap_col_list_weight = [ap+str(i)+'_weight' for i in range(1,12)]\n",
    "ap_col_list_age = [ap+str(i)+'_age' for i in range(1,12)]\n",
    "ap_col_list_rating = [ap+str(i)+'_rating' for i in range(1,12)] \n",
    "\n",
    "df_main_nn[hp+'height_total'] = df_main_nn[hp_col_list_height].sum(axis=1)\n",
    "df_main_nn[ap+'height_total'] = df_main_nn[ap_col_list_height].sum(axis=1)\n",
    "\n",
    "df_main_nn[hp+'weight_total'] = df_main_nn[hp_col_list_weight].sum(axis=1)\n",
    "df_main_nn[ap+'weight_total'] = df_main_nn[ap_col_list_weight].sum(axis=1)\n",
    "\n",
    "df_main_nn[hp+'rating_total'] = df_main_nn[hp_col_list_rating].sum(axis=1)\n",
    "df_main_nn[ap+'rating_total'] = df_main_nn[ap_col_list_rating].sum(axis=1)\n",
    "\n",
    "df_main_nn[hp+'age_total'] = df_main_nn[hp_col_list_age].sum(axis=1)\n",
    "df_main_nn[ap+'age_total'] = df_main_nn[ap_col_list_age].sum(axis=1)\n",
    "\n",
    "df_main_nn[hp+\"height_average\"] = df_main_nn['home_player_height_total']/11\n",
    "df_main_nn[ap+\"height_average\"] = df_main_nn['away_player_height_total']/11\n",
    "\n",
    "df_main_nn[hp+\"weight_average\"] = df_main_nn['home_player_weight_total']/11\n",
    "df_main_nn[ap+\"weight_average\"] = df_main_nn['away_player_weight_total']/11\n",
    "\n",
    "df_main_nn[hp+'age_average'] = (df_main_nn[hp+'age_total']/11)\n",
    "df_main_nn[ap+'age_average'] = (df_main_nn[ap+'age_total']/11)\n",
    "\n",
    "df_main_nn[hp+'rating_average'] = (df_main_nn[hp+'rating_total']/11)\n",
    "df_main_nn[ap+'rating_average'] = (df_main_nn[ap+'rating_total']/11)\n",
    " \n",
    "df_main_nn['home_team_bmi'] = ((df_main_nn['home_player_weight_total']/2.20462)/((df_main_nn['home_player_height_total']/100)**2))*11\n",
    "df_main_nn['away_team_bmi'] = ((df_main_nn['away_player_weight_total']/2.20462)/((df_main_nn['away_player_height_total']/100)**2))*11"
   ]
  },
  {
   "cell_type": "code",
   "execution_count": null,
   "id": "2ceb5fef",
   "metadata": {},
   "outputs": [],
   "source": [
    "df_main_nn['avg_height_diff'] = df_main_nn[hp+'height_average'] - df_main_nn[ap+'height_average'] \n",
    "df_main_nn['avg_weight_diff'] = df_main_nn[hp+'weight_average'] - df_main_nn[ap+'weight_average'] \n",
    "df_main_nn['avg_rating_diff'] = df_main_nn[hp+'rating_average'] - df_main_nn[ap+'rating_average']\n",
    "df_main_nn['avg_age_diff'] = df_main_nn[hp+'age_average'] - df_main_nn[ap+'age_average']\n",
    "df_main_nn['avg_bmi_diff'] = df_main_nn['home_team_bmi'] - df_main_nn['away_team_bmi'] "
   ]
  },
  {
   "cell_type": "code",
   "execution_count": null,
   "id": "2e3e1d9d",
   "metadata": {},
   "outputs": [],
   "source": [
    "attributes = [\"last_ten\",\"last_five\",\"last_three\",hp+\"height_average\",ap+\"height_average\",hp+\"weight_average\",\n",
    "              ap+\"weight_average\",hp+'age_average',ap+'age_average',hp+'rating_average',ap+'rating_average',\n",
    "              'home_team_bmi'] # ,'away_team_bmi'\n",
    "len(attributes)"
   ]
  },
  {
   "cell_type": "code",
   "execution_count": null,
   "id": "2c9c893d",
   "metadata": {},
   "outputs": [],
   "source": [
    "# Create a figure with two subplots\n",
    "fig, axs = plt.subplots(4,3,figsize=(8, 8))\n",
    "axs = axs.ravel()\n",
    "\n",
    "for i,atts in enumerate(attributes):\n",
    "    df_main_nn.hist(column=atts, bins=10, ax=axs[i])\n",
    "    axs[i].set_title(atts,fontsize=10)\n",
    "    axs[i].set_xlabel('Values',fontsize=10)\n",
    "    axs[i].set_ylabel('Frequency',fontsize=10)"
   ]
  },
  {
   "cell_type": "code",
   "execution_count": null,
   "id": "d4000adc",
   "metadata": {
    "scrolled": true
   },
   "outputs": [],
   "source": [
    "# General statistics of game outcomes\n",
    "count_home_team_win = df_main_nn['outcome'].value_counts()[True]\n",
    "count_home_team_not_win = df_main_nn['outcome'].value_counts()[False]\n",
    "game_sum = count_home_team_win + count_home_team_not_win \n",
    "print(\"Home team win count\")\n",
    "print(count_home_team_win)\n",
    "print(\"\\nHome team no win count\")\n",
    "print(count_home_team_not_win)\n",
    "print(\"\\nActual win percentage for home team\")\n",
    "print((count_home_team_win / game_sum )* 100)"
   ]
  },
  {
   "cell_type": "code",
   "execution_count": null,
   "id": "7227ada2",
   "metadata": {},
   "outputs": [],
   "source": [
    "df_main_nn[\"goal_diff\"] = df_main_nn[\"home_team_goal\"].sub(df_main_nn[\"away_team_goal\"],axis=0)"
   ]
  },
  {
   "cell_type": "code",
   "execution_count": null,
   "id": "2e584f00",
   "metadata": {},
   "outputs": [],
   "source": [
    "def rolling_sum_goal_diff(df, home_team_id, current_date):\n",
    "    team_games = df[(df['home_team_api_id'] == home_team_id) & (df['date'] < current_date)].tail(10)\n",
    "    goal_difference = team_games['home_team_goal'].sum() - team_games['away_team_goal'].sum()\n",
    "    return goal_difference"
   ]
  },
  {
   "cell_type": "code",
   "execution_count": null,
   "id": "42cd3724",
   "metadata": {},
   "outputs": [],
   "source": [
    "df_main_nn['last_10_diff'] = df_main_nn.apply(lambda row: rolling_sum_goal_diff(df_main_nn, row['home_team_api_id'], row['date']), axis=1)"
   ]
  },
  {
   "cell_type": "code",
   "execution_count": null,
   "id": "c5e5c8ad",
   "metadata": {},
   "outputs": [],
   "source": [
    "curr_date = date.today().strftime('%Y-%m-%d')\n",
    "pickle_file = 'sa-preprocessing-' + curr_date + '.pkl'\n",
    "pickle_file_path = 'data/' + pickle_file\n",
    "df_main_nn.to_pickle(pickle_file_path)\n",
    "print('Saved dataframe into .pkl file')"
   ]
  },
  {
   "cell_type": "code",
   "execution_count": null,
   "id": "978e9763",
   "metadata": {},
   "outputs": [],
   "source": []
  }
 ],
 "metadata": {
  "kernelspec": {
   "display_name": "Python 3 (ipykernel)",
   "language": "python",
   "name": "python3"
  },
  "language_info": {
   "codemirror_mode": {
    "name": "ipython",
    "version": 3
   },
   "file_extension": ".py",
   "mimetype": "text/x-python",
   "name": "python",
   "nbconvert_exporter": "python",
   "pygments_lexer": "ipython3",
   "version": "3.9.13"
  }
 },
 "nbformat": 4,
 "nbformat_minor": 5
}
