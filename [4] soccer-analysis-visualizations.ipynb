{
 "cells": [
  {
   "cell_type": "code",
   "execution_count": null,
   "id": "bb5af05a",
   "metadata": {},
   "outputs": [],
   "source": [
    "import sqlite3\n",
    "import pandas as pd\n",
    "import numpy as np\n",
    "\n",
    "from datetime import datetime\n",
    "from dateutil.relativedelta import relativedelta\n",
    "\n",
    "from sklearn.model_selection import KFold\n",
    "from sklearn.model_selection import train_test_split\n",
    "\n",
    "from sklearn.tree import DecisionTreeClassifier\n",
    "from sklearn.ensemble import RandomForestClassifier\n",
    "\n",
    "import matplotlib.pyplot as plt \n",
    "import seaborn as sns # Import seaborn\n",
    "\n",
    "from datetime import datetime\n",
    "from datetime import date\n",
    "from dateutil import parser\n",
    "\n",
    "from collections import defaultdict\n",
    "\n",
    "import warnings\n",
    "import time"
   ]
  },
  {
   "cell_type": "code",
   "execution_count": null,
   "id": "9b7a08fe",
   "metadata": {},
   "outputs": [],
   "source": [
    "# pd.set_option('display.max_rows', None)\n",
    "# pd.set_option('display.max_columns', None)"
   ]
  },
  {
   "cell_type": "markdown",
   "id": "4ede47ef",
   "metadata": {},
   "source": [
    "## Database connection\n",
    "\n",
    "The data is in sqlite tables. We read the data from tables into dataframes in the following cells"
   ]
  },
  {
   "cell_type": "code",
   "execution_count": null,
   "id": "7142cc02",
   "metadata": {},
   "outputs": [],
   "source": [
    "# open connection \n",
    "conn = sqlite3.connect(\"data/database.sqlite\")\n",
    "cur = conn.cursor()"
   ]
  },
  {
   "cell_type": "code",
   "execution_count": null,
   "id": "76dec709",
   "metadata": {},
   "outputs": [],
   "source": [
    "def executeQuery(cur, query):\n",
    "    cur.execute(query)\n",
    "    return cur.fetchall()"
   ]
  },
  {
   "cell_type": "code",
   "execution_count": null,
   "id": "7e51432a",
   "metadata": {},
   "outputs": [],
   "source": [
    "def read_table_to_df(table):\n",
    "    query = \"SELECT * from \" + table\n",
    "    return pd.read_sql_query(query, conn)"
   ]
  },
  {
   "cell_type": "code",
   "execution_count": null,
   "id": "76f38ec5",
   "metadata": {},
   "outputs": [],
   "source": [
    "# list of all tables\n",
    "q_all_tables = \"\"\"SELECT name FROM sqlite_master\n",
    "    WHERE type='table';\"\"\"\n",
    "all_tables = executeQuery(cur, q_all_tables)\n",
    "useful_tables = all_tables[1:]\n",
    "print(useful_tables)"
   ]
  },
  {
   "cell_type": "code",
   "execution_count": null,
   "id": "de85fab0",
   "metadata": {},
   "outputs": [],
   "source": [
    "df_matches = read_table_to_df(\"Match\");\n",
    "df_player = read_table_to_df(\"PLAYER\");\n",
    "df_team = read_table_to_df(\"Team\");\n",
    "df_player_attr = read_table_to_df(\"Player_Attributes\");\n",
    "df_country = read_table_to_df(\"Country\");\n",
    "df_league = read_table_to_df(\"League\");\n",
    "df_team_attr = read_table_to_df(\"Team_Attributes\");"
   ]
  },
  {
   "cell_type": "code",
   "execution_count": null,
   "id": "d87d8d0a",
   "metadata": {},
   "outputs": [],
   "source": [
    "df_matches.head()"
   ]
  },
  {
   "cell_type": "code",
   "execution_count": null,
   "id": "1d414a6a",
   "metadata": {},
   "outputs": [],
   "source": [
    "df_player.head()"
   ]
  },
  {
   "cell_type": "code",
   "execution_count": null,
   "id": "13e16d32",
   "metadata": {},
   "outputs": [],
   "source": [
    "df_team.head()"
   ]
  },
  {
   "cell_type": "code",
   "execution_count": null,
   "id": "b1ac93b4",
   "metadata": {},
   "outputs": [],
   "source": [
    "df_player_attr.head()"
   ]
  },
  {
   "cell_type": "code",
   "execution_count": null,
   "id": "55a84113",
   "metadata": {},
   "outputs": [],
   "source": [
    "df_country.head()"
   ]
  },
  {
   "cell_type": "code",
   "execution_count": null,
   "id": "f377e0d4",
   "metadata": {},
   "outputs": [],
   "source": [
    "df_league.head()"
   ]
  },
  {
   "cell_type": "code",
   "execution_count": null,
   "id": "a6ca1efc",
   "metadata": {},
   "outputs": [],
   "source": [
    "df_team_attr.head()"
   ]
  },
  {
   "cell_type": "code",
   "execution_count": null,
   "id": "44fd4a02",
   "metadata": {},
   "outputs": [],
   "source": [
    "# ranges\n",
    "df_match_info = df_matches.iloc[:, :11]\n",
    "df_match_player_positions = df_matches.iloc[:, 11:55]\n",
    "df_match_stats = df_matches.iloc[:, 77:85]\n",
    "df_match_betting = df_matches.iloc[:, 85:]\n",
    "df_match_stats.head()"
   ]
  },
  {
   "cell_type": "code",
   "execution_count": null,
   "id": "6648c3ac",
   "metadata": {},
   "outputs": [],
   "source": [
    "# font = {'family': 'Times New Roman', 'size': 12}\n",
    "# font2 = {'family': 'Times New Roman', 'size': 14, 'weight': 'bold'}\n",
    "\n",
    "font = {'family': 'Helvetica', 'size': 12}"
   ]
  },
  {
   "cell_type": "code",
   "execution_count": null,
   "id": "548f8bbc",
   "metadata": {},
   "outputs": [],
   "source": [
    "def plot_match_bar(X, y):\n",
    "    X = np.array(X)\n",
    "    y = np.array(y)\n",
    "    \n",
    "    fig, ax = plt.subplots(figsize=(8, 5), dpi=300)\n",
    "    # Plot the data\n",
    "    bars = ax.bar(X, y)\n",
    "    \n",
    "    for bar in bars:\n",
    "        bar.set_color('#CBCBCB')\n",
    "\n",
    "    ax.set_xticks(X)\n",
    "    ax.set_xticklabels(X, fontdict=font)\n",
    "\n",
    "    ax.set_yticks(y)\n",
    "    ax.set_yticklabels(y, fontdict=font)\n",
    "\n",
    "    ax.set_xlabel('Column group', fontdict=font)\n",
    "    ax.set_ylabel('Percentage of NaN values', fontdict=font)\n",
    "    plt.title('Percentage of NaN values by column groups', fontdict=font)\n",
    "    plt.savefig('data/figs/match_bar_plot.pdf')\n",
    "    plt.show()"
   ]
  },
  {
   "cell_type": "code",
   "execution_count": null,
   "id": "e72698c5",
   "metadata": {},
   "outputs": [],
   "source": [
    "def percentage_nan_df(df):\n",
    "    total_cells = df.size\n",
    "    total_nan = df.isna().sum().sum()\n",
    "    percentage_of_nan = (total_nan / total_cells) * 100\n",
    "    result = \"{:.2f}\".format(percentage_of_nan)\n",
    "    return float(result)"
   ]
  },
  {
   "cell_type": "code",
   "execution_count": null,
   "id": "6c79aaa6",
   "metadata": {},
   "outputs": [],
   "source": [
    "df_match_info_pc = percentage_nan_df(df_match_info);\n",
    "df_match_player_positions_pc = percentage_nan_df(df_match_player_positions);\n",
    "df_match_stats_pc = percentage_nan_df(df_match_stats);\n",
    "df_match_betting_pc = percentage_nan_df(df_match_betting)\n",
    "\n",
    "df_match_X = ['Match Info', 'Player Positions', 'Match Statistics', 'Betting']\n",
    "df_match_y = [df_match_info_pc, df_match_player_positions_pc, df_match_stats_pc, df_match_betting_pc]\n",
    "print(type(df_match_y[0]))\n",
    "print(df_match_X)\n",
    "print(df_match_y)"
   ]
  },
  {
   "cell_type": "code",
   "execution_count": null,
   "id": "468b439a",
   "metadata": {},
   "outputs": [],
   "source": [
    "plot_match_bar(df_match_X, df_match_y)"
   ]
  },
  {
   "cell_type": "code",
   "execution_count": null,
   "id": "b00836e2",
   "metadata": {},
   "outputs": [],
   "source": [
    "def plot_player_attr_iqr(df_player, df_player_attr):\n",
    "    # Extract height and weight columns from DataFrame\n",
    "    height = df_player['height']\n",
    "    weight = df_player['weight']\n",
    "    overall_rating = df_player_attr['overall_rating']\n",
    "    \n",
    "    # Create a figure with two subplots\n",
    "    fig, axs = plt.subplots(nrows=1, ncols=3, figsize=(15, 5), dpi=300)\n",
    "\n",
    "    # Plot IQR for height and weight\n",
    "    gray_color = '#CBCBCB'\n",
    "    sns.boxplot(y=height, ax=axs[0], color=gray_color)\n",
    "    sns.boxplot(y=weight, ax=axs[1], color=gray_color)\n",
    "    sns.boxplot(y=overall_rating, ax=axs[2], color=gray_color)\n",
    "    \n",
    "\n",
    "    # Set axis labels and title\n",
    "    axs[0].set_ylabel('Height (cm)', fontdict=font)\n",
    "    axs[1].set_ylabel('Weight (lbs)', fontdict=font)\n",
    "    axs[2].set_ylabel('Overall Rating ', fontdict=font)\n",
    "    fig.suptitle('Interquartile Range (IQR) for Height and Weight', font=font)\n",
    "\n",
    "    # Show the plot\n",
    "    plt.savefig('data/figs/players_iqr.pdf')\n",
    "    plt.show()"
   ]
  },
  {
   "cell_type": "code",
   "execution_count": null,
   "id": "82234324",
   "metadata": {},
   "outputs": [],
   "source": [
    "plot_player_attr_iqr(df_player, df_player_attr)"
   ]
  },
  {
   "cell_type": "code",
   "execution_count": null,
   "id": "1181fd59",
   "metadata": {},
   "outputs": [],
   "source": [
    "des_matches = df_matches.describe()\n",
    "des_player = df_player.describe()\n",
    "des_team = df_team.describe()\n",
    "des_player_attr = df_player_attr.describe()\n",
    "des_country = df_country.describe()\n",
    "des_league = df_league.describe()\n",
    "des_team_attr = df_team_attr.describe()"
   ]
  },
  {
   "cell_type": "code",
   "execution_count": null,
   "id": "5af2bb52",
   "metadata": {},
   "outputs": [],
   "source": [
    "tr_matches = des_matches.transpose()\n",
    "tr_player = des_player.transpose()\n",
    "tr_team = des_team.transpose()\n",
    "tr_player_attr = des_player_attr.transpose()\n",
    "tr_country = des_country.transpose()\n",
    "tr_league = des_league.transpose()\n",
    "tr_team_attr = des_team_attr.transpose()\n",
    "\n",
    "df_all_stats = pd.concat([tr_matches, tr_player, tr_team, tr_player_attr, tr_country, tr_league, tr_team_attr], axis=0)"
   ]
  },
  {
   "cell_type": "code",
   "execution_count": null,
   "id": "8e64e368",
   "metadata": {},
   "outputs": [],
   "source": [
    "styler = df_all_stats.style\n",
    "stats_table = styler.to_latex()\n",
    "\n",
    "with open('data/stats_table.tex', 'w') as f:\n",
    "    f.write(stats_table)"
   ]
  }
 ],
 "metadata": {
  "kernelspec": {
   "display_name": "Python 3 (ipykernel)",
   "language": "python",
   "name": "python3"
  },
  "language_info": {
   "codemirror_mode": {
    "name": "ipython",
    "version": 3
   },
   "file_extension": ".py",
   "mimetype": "text/x-python",
   "name": "python",
   "nbconvert_exporter": "python",
   "pygments_lexer": "ipython3",
   "version": "3.9.13"
  }
 },
 "nbformat": 4,
 "nbformat_minor": 5
}
