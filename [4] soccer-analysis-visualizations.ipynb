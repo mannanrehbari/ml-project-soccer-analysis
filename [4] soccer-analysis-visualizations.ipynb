{
 "cells": [
  {
   "cell_type": "code",
   "execution_count": null,
   "id": "bb5af05a",
   "metadata": {},
   "outputs": [],
   "source": [
    "import sqlite3\n",
    "import pandas as pd\n",
    "import numpy as np\n",
    "\n",
    "from datetime import datetime\n",
    "from dateutil.relativedelta import relativedelta\n",
    "\n",
    "from sklearn.model_selection import KFold\n",
    "from sklearn.model_selection import train_test_split\n",
    "\n",
    "from sklearn.tree import DecisionTreeClassifier\n",
    "from sklearn.ensemble import RandomForestClassifier\n",
    "\n",
    "import matplotlib.pyplot as plt \n",
    "import seaborn as sns # Import seaborn\n",
    "\n",
    "from datetime import datetime\n",
    "from datetime import date\n",
    "from dateutil import parser\n",
    "\n",
    "from collections import defaultdict\n",
    "\n",
    "import warnings\n",
    "import time"
   ]
  },
  {
   "cell_type": "code",
   "execution_count": null,
   "id": "9b7a08fe",
   "metadata": {},
   "outputs": [],
   "source": [
    "pd.options.display.max_columns = None"
   ]
  },
  {
   "cell_type": "code",
   "execution_count": null,
   "id": "7142cc02",
   "metadata": {},
   "outputs": [],
   "source": [
    "# open connection \n",
    "conn = sqlite3.connect(\"data/database.sqlite\")\n",
    "cur = conn.cursor()"
   ]
  },
  {
   "cell_type": "code",
   "execution_count": null,
   "id": "76dec709",
   "metadata": {},
   "outputs": [],
   "source": [
    "# function to execute queries\n",
    "def executeQuery(cur, query):\n",
    "    print(\"executing query: \")\n",
    "    cur.execute(query)\n",
    "    return cur.fetchall()"
   ]
  },
  {
   "cell_type": "code",
   "execution_count": null,
   "id": "52d7ba98",
   "metadata": {},
   "outputs": [],
   "source": [
    "# needs to be broken into smaller functions and call those individually on different tables\n",
    "def eda_for_df(data):\n",
    "    print(data.shape)\n",
    "    print(data.columns)\n",
    "    print(data.dtypes)\n",
    "    \n",
    "    missing_values = data.isnull().sum()\n",
    "    print(missing_values)\n",
    "    \n",
    "    summary_statistics = data.describe()\n",
    "    print(summary_statistics)\n",
    "\n",
    "    # Histograms\n",
    "    for column in data.columns:\n",
    "        if data[column].dtype in ['int64', 'float64']:\n",
    "            plt.figure()\n",
    "            sns.histplot(data[column])\n",
    "            plt.title(column)\n",
    "            plt.show()\n",
    "            \n",
    "    # Box plots\n",
    "    for column in data.columns:\n",
    "        if data[column].dtype in ['int64', 'float64']:\n",
    "            plt.figure()\n",
    "            sns.boxplot(data[column])\n",
    "            plt.title(column)\n",
    "            plt.show()\n",
    "            \n",
    "    correlation_matrix = data.corr()\n",
    "    plt.figure(figsize=(16, 12))\n",
    "    sns.heatmap(correlation_matrix, annot=True, cmap='coolwarm', fmt='.2f')\n",
    "    plt.show()\n",
    "    \n",
    "#     sns.pairplot(data, vars=['column1', 'column2', 'column3'])\n",
    "#     plt.show()\n",
    "    \n",
    "    # Bar plots\n",
    "    for column in data.columns:\n",
    "        if data[column].dtype == 'object':\n",
    "            plt.figure()\n",
    "            data[column].value_counts().plot.bar()\n",
    "            plt.title(column)\n",
    "            plt.show()\n",
    "\n",
    "    # Count plots\n",
    "    for column in data.columns:\n",
    "        if data[column].dtype == 'object':\n",
    "            plt.figure()\n",
    "            sns.countplot(data=data, x=column)\n",
    "            plt.title(column)\n",
    "            plt.show()"
   ]
  },
  {
   "cell_type": "code",
   "execution_count": null,
   "id": "76f38ec5",
   "metadata": {},
   "outputs": [],
   "source": [
    "# list of all tables\n",
    "q_all_tables = \"\"\"SELECT name FROM sqlite_master\n",
    "    WHERE type='table';\"\"\"\n",
    "all_tables = executeQuery(cur, q_all_tables)\n",
    "print(all_tables)"
   ]
  },
  {
   "cell_type": "code",
   "execution_count": null,
   "id": "de85fab0",
   "metadata": {},
   "outputs": [],
   "source": [
    "# read the Match table into Pandas DataFrame\n",
    "q_matches = \"SELECT * FROM MATCH;\"\n",
    "df_matches = pd.read_sql_query(q_matches, conn)\n",
    "# eda_for_df(df_matches)\n",
    "# df_matches.info()"
   ]
  },
  {
   "cell_type": "code",
   "execution_count": null,
   "id": "1d414a6a",
   "metadata": {},
   "outputs": [],
   "source": [
    "q_player = \"SELECT * FROM PLAYER;\"\n",
    "df_player = pd.read_sql_query(q_player, conn)\n",
    "df_player.head()"
   ]
  },
  {
   "cell_type": "code",
   "execution_count": null,
   "id": "b1ac93b4",
   "metadata": {},
   "outputs": [],
   "source": [
    "q_player_attr = \"SELECT * FROM Player_Attributes;\"\n",
    "df_player_attr = pd.read_sql_query(q_player_attr, conn)\n",
    "df_player_attr.head()"
   ]
  },
  {
   "cell_type": "code",
   "execution_count": null,
   "id": "13e16d32",
   "metadata": {},
   "outputs": [],
   "source": [
    "q_team = \"SELECT * FROM Team\"\n",
    "df_team = pd.read_sql_query(q_team, conn)\n",
    "df_team.head()"
   ]
  },
  {
   "cell_type": "code",
   "execution_count": null,
   "id": "55a84113",
   "metadata": {},
   "outputs": [],
   "source": [
    "q_country = \"SELECT * FROM Country\"\n",
    "df_country = pd.read_sql_query(q_country, conn)\n",
    "df_country.head()"
   ]
  },
  {
   "cell_type": "code",
   "execution_count": null,
   "id": "f377e0d4",
   "metadata": {},
   "outputs": [],
   "source": [
    "q_league = \"SELECT * FROM League\"\n",
    "df_league = pd.read_sql_query(q_league, conn)\n",
    "df_league.head()"
   ]
  },
  {
   "cell_type": "code",
   "execution_count": null,
   "id": "a6ca1efc",
   "metadata": {},
   "outputs": [],
   "source": [
    "q_team_attr = \"SELECT * FROM Team_Attributes\"\n",
    "df_team_attr = pd.read_sql_query(q_team_attr, conn)\n",
    "df_team_attr.head()"
   ]
  }
 ],
 "metadata": {
  "kernelspec": {
   "display_name": "Python 3 (ipykernel)",
   "language": "python",
   "name": "python3"
  },
  "language_info": {
   "codemirror_mode": {
    "name": "ipython",
    "version": 3
   },
   "file_extension": ".py",
   "mimetype": "text/x-python",
   "name": "python",
   "nbconvert_exporter": "python",
   "pygments_lexer": "ipython3",
   "version": "3.9.13"
  }
 },
 "nbformat": 4,
 "nbformat_minor": 5
}
