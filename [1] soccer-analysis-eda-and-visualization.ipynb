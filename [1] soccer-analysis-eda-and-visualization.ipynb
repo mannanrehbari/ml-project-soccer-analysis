{
 "cells": [
  {
   "cell_type": "code",
   "execution_count": null,
   "id": "3a4bfb53",
   "metadata": {
    "pycharm": {
     "name": ""
    }
   },
   "outputs": [],
   "source": [
    "import sqlite3\n",
    "import pandas as pd\n",
    "import numpy as np\n",
    "\n",
    "from datetime import datetime\n",
    "from dateutil.relativedelta import relativedelta\n",
    "\n",
    "from sklearn.model_selection import KFold\n",
    "from sklearn.model_selection import train_test_split\n",
    "\n",
    "from sklearn.tree import DecisionTreeClassifier\n",
    "from sklearn.ensemble import RandomForestClassifier\n",
    "\n",
    "import matplotlib.pyplot as plt \n",
    "import seaborn as sns # Import seaborn\n",
    "\n",
    "from datetime import datetime\n",
    "from datetime import date\n",
    "from dateutil import parser\n",
    "\n",
    "from collections import defaultdict\n",
    "\n",
    "import warnings\n",
    "import time\n"
   ]
  },
  {
   "cell_type": "markdown",
   "id": "ef7fa2fb",
   "metadata": {},
   "source": [
    "## Acquire data\n",
    "\n",
    "Our data comes from a database file in SQLite format. We import it into a Pandas DataFrame for preprocessing. "
   ]
  },
  {
   "cell_type": "code",
   "execution_count": null,
   "id": "2878443f",
   "metadata": {},
   "outputs": [],
   "source": [
    "# open connection \n",
    "conn = sqlite3.connect(\"data/database.sqlite\")\n",
    "cur = conn.cursor()"
   ]
  },
  {
   "cell_type": "code",
   "execution_count": null,
   "id": "125499af",
   "metadata": {},
   "outputs": [],
   "source": [
    "# function to execute queries\n",
    "def executeQuery(cur, query):\n",
    "    print(\"executing query: \")\n",
    "    cur.execute(query)\n",
    "    return cur.fetchall()"
   ]
  },
  {
   "cell_type": "code",
   "execution_count": null,
   "id": "d352b05a",
   "metadata": {},
   "outputs": [],
   "source": [
    "# list of all tables\n",
    "q_all_tables = \"\"\"SELECT name FROM sqlite_master\n",
    "    WHERE type='table';\"\"\"\n",
    "all_tables = executeQuery(cur, q_all_tables)\n"
   ]
  },
  {
   "cell_type": "code",
   "execution_count": null,
   "id": "57d6d198",
   "metadata": {},
   "outputs": [],
   "source": [
    "# read the Match table into Pandas DataFrame\n",
    "q_matches = \"SELECT * FROM MATCH;\"\n",
    "df_matches = pd.read_sql_query(q_matches, conn)\n"
   ]
  },
  {
   "cell_type": "markdown",
   "id": "6e82e3a5",
   "metadata": {},
   "source": [
    "### Preprocessing Data\n",
    "- we are dropping the columns that will not be needed for preliminary analysis"
   ]
  },
  {
   "cell_type": "code",
   "execution_count": null,
   "id": "b7b893f5",
   "metadata": {},
   "outputs": [],
   "source": [
    "# do this only 1\n",
    "# drop betting\n",
    "df_matches = df_matches.drop(df_matches.iloc[:, 85:], axis=1)\n",
    "\n",
    "#drop statistics\n",
    "df_matches = df_matches.drop(df_matches.iloc[:, 77:], axis=1)\n",
    "print(df_matches.info())\n",
    "# drop X, Y positions\n",
    "df_matches = df_matches.drop(df_matches.iloc[:, 11:55], axis=1)\n",
    "\n",
    "# drop fifa_api_id and a couple other columns irrelevant\n",
    "df_matches = df_matches.drop(df_matches.columns[[1, 2, 4]], axis=1)\n",
    "print(df_matches.info())"
   ]
  },
  {
   "cell_type": "code",
   "execution_count": null,
   "id": "31ad3c55",
   "metadata": {},
   "outputs": [],
   "source": [
    "\n",
    "df_matches.head()\n",
    "# print(df_matches.shape)\n"
   ]
  },
  {
   "cell_type": "code",
   "execution_count": null,
   "id": "78151edc",
   "metadata": {},
   "outputs": [],
   "source": [
    "# Drop player_fifa_api_id from player table\n",
    "# read the Match table into Pandas DataFrame\n",
    "q_player = \"SELECT * FROM PLAYER;\"\n",
    "df_player = pd.read_sql_query(q_player, conn)\n",
    "\n",
    "print(df_player.shape)\n",
    "# df_player = df_player.set_index('player_api_id')\n",
    "df_player = df_player.drop(['player_fifa_api_id', 'id'], axis=1)\n",
    "print(df_player.shape)\n",
    "df_player.tail()"
   ]
  },
  {
   "cell_type": "code",
   "execution_count": null,
   "id": "2a5bd9a5",
   "metadata": {},
   "outputs": [],
   "source": [
    "# import data from player attribute table\n",
    "\n",
    "q_player_attr = \"SELECT * FROM Player_Attributes;\"\n",
    "df_player_attr = pd.read_sql_query(q_player_attr, conn)\n",
    "\n",
    "print(df_player_attr.shape)\n",
    "df_player_attr = df_player_attr.loc[:, [ 'player_api_id', 'date', 'overall_rating']]\n",
    "\n",
    "dict_player_attr = defaultdict(dict)\n",
    "for index, row in df_player_attr.iterrows():\n",
    "    dict_player_attr[row['player_api_id']][row['date']] = row['overall_rating']\n",
    "\n",
    "print(len(dict_player_attr))\n",
    "print(dict_player_attr[39902])\n",
    "print(df_player_attr['player_api_id'].nunique())\n"
   ]
  },
  {
   "cell_type": "code",
   "execution_count": null,
   "id": "e35b9826",
   "metadata": {},
   "outputs": [],
   "source": [
    "def mostRecentRating(dates_dict, given_date_str):\n",
    "    given_date = parser.parse(given_date_str).date()\n",
    "    dates_dict_dt = {parser.parse(date_str).date(): value for date_str, value in dates_dict.items()}\n",
    "    smaller_dates = {date: value for date, value in dates_dict_dt.items() if date <= given_date}\n",
    "    highest_date = max(smaller_dates.keys())\n",
    "    return dates_dict_dt[highest_date]\n",
    "\n",
    "dates_list = ['2022-01-01', '2022-01-05', '2022-01-15', '2022-01-15', '2022-01-20', '2022-01-11']\n",
    "dates_ratings = [80, 89, 32, 45, 11, 33]\n",
    "\n",
    "all_dates = dict(zip(dates_list, dates_ratings))\n",
    "print(all_dates)\n",
    "# given date\n",
    "given_date_str = '2022-01-05'\n",
    "# print(all_dates)\n",
    "print(mostRecentRating(all_dates, given_date_str))\n",
    "# print(mostRecentRating(dict_player_attr[39902], '2009-02-21'))\n"
   ]
  },
  {
   "cell_type": "code",
   "execution_count": null,
   "id": "94be5cdc",
   "metadata": {},
   "outputs": [],
   "source": [
    "print(df_player.shape)\n",
    "\n",
    "print(df_player.tail())\n",
    "print(df_player.shape)\n"
   ]
  },
  {
   "cell_type": "code",
   "execution_count": null,
   "id": "5e0ae389",
   "metadata": {},
   "outputs": [],
   "source": [
    "# import team name\n",
    "q_team = \"SELECT * FROM Team\"\n",
    "df_team = pd.read_sql_query(q_team, conn)\n",
    "df_team = df_team.loc[:, ['team_api_id', 'team_long_name', 'team_short_name']]\n",
    "\n",
    "df_team.tail(10)\n"
   ]
  },
  {
   "cell_type": "code",
   "execution_count": null,
   "id": "04c12497",
   "metadata": {},
   "outputs": [],
   "source": [
    "# import Country but wont use them they dont add value to the model\n",
    "q_country = \"SELECT * FROM Country\"\n",
    "df_country = pd.read_sql_query(q_country, conn)\n",
    "df_country.tail()\n"
   ]
  },
  {
   "cell_type": "code",
   "execution_count": null,
   "id": "f11dcd26",
   "metadata": {},
   "outputs": [],
   "source": [
    "# import League but wont use them they dont add value to the model\n",
    "q_league = \"SELECT * FROM League\"\n",
    "df_league = pd.read_sql_query(q_league, conn)\n",
    "df_league.tail()"
   ]
  },
  {
   "cell_type": "code",
   "execution_count": null,
   "id": "ae297f7d",
   "metadata": {},
   "outputs": [],
   "source": [
    "# import Team_Attributes but wont use them they dont add value to the model\n",
    "q_team_attr = \"SELECT * FROM Team_Attributes\"\n",
    "df_team_attr = pd.read_sql_query(q_team_attr, conn)\n",
    "df_team_attr.tail()"
   ]
  },
  {
   "cell_type": "markdown",
   "id": "31b8272e",
   "metadata": {},
   "source": [
    "## Consolidating features from Matches, Players, and other dataframes into a single DF\n",
    "This is the basis for model building "
   ]
  },
  {
   "cell_type": "code",
   "execution_count": null,
   "id": "cbafac10",
   "metadata": {},
   "outputs": [],
   "source": [
    "df_main = df_matches\n",
    "df_main.tail()\n",
    "\n"
   ]
  },
  {
   "cell_type": "markdown",
   "id": "4563eeb2",
   "metadata": {},
   "source": [
    "## Feb 22, Join player name into main_df\n"
   ]
  },
  {
   "cell_type": "code",
   "execution_count": null,
   "id": "fefdc79f",
   "metadata": {},
   "outputs": [],
   "source": [
    "print(df_main.shape)"
   ]
  },
  {
   "cell_type": "code",
   "execution_count": null,
   "id": "63af2711",
   "metadata": {},
   "outputs": [],
   "source": [
    "# NB RUN THIS CODE ONLY ONCE or restart needed\n",
    "pd.options.mode.chained_assignment = None\n",
    "\n",
    "df_main = df_main.rename(columns={\"id\":\"id_main\"})\n",
    "df_player = df_player.rename(columns={\"id\":\"id_player\"})\n"
   ]
  },
  {
   "cell_type": "code",
   "execution_count": null,
   "id": "dbb013fe",
   "metadata": {},
   "outputs": [],
   "source": [
    "\n",
    "hp = 'home_player_'\n",
    "for i in range(1, 12):\n",
    "    hp_n = hp+str(i)\n",
    "    df_main = df_main.merge(df_player, left_on=hp_n, right_on=\"player_api_id\")\n",
    "    df_main = df_main.rename(columns={\"id_player\": hp_n+\"_id\", \"player_name\": hp_n+\"_name\", \"birthday\": hp_n+\"_birthday\", \"height\":hp_n+\"_height\", \"weight\":hp_n+\"_weight\"})\n",
    "    \n",
    "ap = 'away_player_'\n",
    "for i in range(1, 12):\n",
    "    ap_n = ap+str(i)\n",
    "    df_main = df_main.merge(df_player, left_on=ap_n, right_on=\"player_api_id\")\n",
    "    df_main = df_main.rename(columns={\"id_player\": ap_n+\"_id\", \"player_name\": ap_n+\"_name\", \"birthday\": ap_n+\"_birthday\", \"height\":ap_n+\"_height\", \"weight\":ap_n+\"_weight\"})\n",
    "df_main.drop(['player_api_id_x', 'player_api_id_y'], axis=1)\n",
    "# print(df_main.tail())  "
   ]
  },
  {
   "cell_type": "code",
   "execution_count": null,
   "id": "d634ed3c",
   "metadata": {},
   "outputs": [],
   "source": [
    "pd.options.display.max_columns = None"
   ]
  },
  {
   "cell_type": "markdown",
   "id": "c76010c9",
   "metadata": {},
   "source": [
    "## Merging Overall_rating into main DataFrame"
   ]
  },
  {
   "cell_type": "code",
   "execution_count": null,
   "id": "034c2add",
   "metadata": {},
   "outputs": [],
   "source": [
    "no_nans = df_main[~df_main.isnull().any(axis=1)]\n",
    "print(no_nans.shape)\n",
    "no_nans.tail()"
   ]
  },
  {
   "cell_type": "markdown",
   "id": "72f2fe36",
   "metadata": {},
   "source": [
    "## Most recent rating for each player on match"
   ]
  },
  {
   "cell_type": "code",
   "execution_count": null,
   "id": "71f86726",
   "metadata": {},
   "outputs": [],
   "source": [
    "# dropped null values from the dataframe\n",
    "df_main_nn = no_nans\n",
    "pd.options.display.max_columns = None"
   ]
  },
  {
   "cell_type": "code",
   "execution_count": null,
   "id": "9490050a",
   "metadata": {
    "scrolled": true
   },
   "outputs": [],
   "source": [
    "# # Ratings for home players\n",
    "# hp = 'home_player_'\n",
    "# ap = 'away_player_'\n",
    "# start_time = time.time()\n",
    "# for i in range(1, 12):\n",
    "#     hp_n = hp+str(i)\n",
    "#     ap_n = ap+str(i)\n",
    "#     hp_n_rating = hp_n+\"_rating\"\n",
    "#     ap_n_rating = ap_n+\"_rating\"\n",
    "#     for index, row in df_main_nn.iterrows():\n",
    "#         df_main_nn.at[index, hp_n_rating] = mostRecentRating(dict_player_attr[row[hp_n]], row['date'])\n",
    "#         df_main_nn.at[index, ap_n_rating] = mostRecentRating(dict_player_attr[row[ap_n]], row['date'])\n",
    "  \n",
    "# end_time = time.time()\n",
    "# elapsed_time = end_time - start_time\n",
    "# print(f\"Elapsed time: {elapsed_time:.4f} seconds\")\n",
    "# # print(df_main_nn.tail())\n"
   ]
  },
  {
   "cell_type": "code",
   "execution_count": null,
   "id": "8bafad09",
   "metadata": {},
   "outputs": [],
   "source": [
    "# import pandas as pd\n",
    "# from collections import defaultdict\n",
    "# from datetime import datetime\n",
    "\n",
    "df_player_attr = df_player_attr.loc[:, ['player_api_id', 'date', 'overall_rating']]\n",
    "\n",
    "dict_player_attr = defaultdict(dict)\n",
    "for index, row in df_player_attr.iterrows():\n",
    "    dict_player_attr[row['player_api_id']][pd.to_datetime(row['date'])] = row['overall_rating']\n",
    "\n",
    "def mostRecentRating(dates_dict, given_date):\n",
    "    smaller_dates = {date: value for date, value in dates_dict.items() if date <= given_date}\n",
    "    highest_date = max(smaller_dates.keys())\n",
    "    return dates_dict[highest_date]\n",
    "\n",
    "hp = 'home_player_'\n",
    "ap = 'away_player_'\n",
    "\n",
    "def fill_ratings(row):\n",
    "    for i in range(1, 12):\n",
    "        hp_n = hp + str(i)\n",
    "        ap_n = ap + str(i)\n",
    "        hp_n_rating = hp_n + \"_rating\"\n",
    "        ap_n_rating = ap_n + \"_rating\"\n",
    "        row[hp_n_rating] = mostRecentRating(dict_player_attr[row[hp_n]], row['date'])\n",
    "        row[ap_n_rating] = mostRecentRating(dict_player_attr[row[ap_n]], row['date'])\n",
    "    return row\n",
    "\n",
    "# Convert date strings to pandas datetime objects\n",
    "df_main_nn['date'] = pd.to_datetime(df_main_nn['date'])\n",
    "\n",
    "# Apply fill_ratings to each row in df_main_nn\n",
    "df_main_nn = df_main_nn.apply(fill_ratings, axis=1)\n"
   ]
  },
  {
   "cell_type": "code",
   "execution_count": null,
   "id": "7ac4662f",
   "metadata": {},
   "outputs": [],
   "source": [
    "df_main_nn.tail(10)"
   ]
  },
  {
   "cell_type": "code",
   "execution_count": null,
   "id": "759709ef",
   "metadata": {},
   "outputs": [],
   "source": [
    "curr_date = date.today().strftime('%Y-%m-%d')\n",
    "pickle_file = 'sa-eda-' + curr_date + '.pkl'\n",
    "pickle_file_path = 'data/' + pickle_file\n",
    "df_main_nn.to_pickle(pickle_file_path)\n",
    "print('Saved dataframe into .pkl file')"
   ]
  },
  {
   "cell_type": "code",
   "execution_count": null,
   "id": "56df271e",
   "metadata": {},
   "outputs": [],
   "source": [
    "conn.close()"
   ]
  }
 ],
 "metadata": {
  "kernelspec": {
   "display_name": "Python 3 (ipykernel)",
   "language": "python",
   "name": "python3"
  },
  "language_info": {
   "codemirror_mode": {
    "name": "ipython",
    "version": 3
   },
   "file_extension": ".py",
   "mimetype": "text/x-python",
   "name": "python",
   "nbconvert_exporter": "python",
   "pygments_lexer": "ipython3",
   "version": "3.9.13"
  }
 },
 "nbformat": 4,
 "nbformat_minor": 5
}
