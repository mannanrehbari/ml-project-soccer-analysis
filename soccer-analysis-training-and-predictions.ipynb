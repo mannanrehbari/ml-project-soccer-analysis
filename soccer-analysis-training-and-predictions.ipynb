{
 "cells": [
  {
   "cell_type": "code",
   "execution_count": null,
   "id": "5d3a95be",
   "metadata": {},
   "outputs": [],
   "source": [
    "import sqlite3\n",
    "import pandas as pd\n",
    "import numpy as np\n",
    "\n",
    "from datetime import datetime\n",
    "from dateutil.relativedelta import relativedelta\n",
    "\n",
    "from sklearn.model_selection import KFold\n",
    "from sklearn.model_selection import train_test_split\n",
    "\n",
    "from sklearn.tree import DecisionTreeClassifier\n",
    "from sklearn.ensemble import RandomForestClassifier\n",
    "\n",
    "import matplotlib.pyplot as plt \n",
    "import seaborn as sns # Import seaborn\n",
    "\n",
    "from datetime import datetime\n",
    "from datetime import date\n",
    "from dateutil import parser\n",
    "\n",
    "from collections import defaultdict\n",
    "\n",
    "import warnings\n",
    "import time"
   ]
  },
  {
   "cell_type": "code",
   "execution_count": null,
   "id": "1c66876e",
   "metadata": {},
   "outputs": [],
   "source": [
    "# Import pre-processed data frame\n",
    "curr_date = \"2023-03-16\"\n",
    "pickle_file = 'sa-preprocessing-' + curr_date + '.pkl'\n",
    "pickle_file_path = 'data/' + pickle_file\n",
    "df_main_nn = pd.read_pickle(pickle_file_path)"
   ]
  },
  {
   "cell_type": "code",
   "execution_count": null,
   "id": "6413cee4",
   "metadata": {},
   "outputs": [],
   "source": [
    "# Create the dataframe for modeling\n",
    "X = df_main_nn[[\"home_team_bmi\", \"away_team_bmi\", \"home_player_age_average\", \"away_player_age_average\", \"home_player_rating_average\", \"away_player_rating_average\", \"last_ten\"]].values\n",
    "y = df_main_nn['outcome'].values\n",
    "\n",
    "X_train,X_test,y_train,y_test = train_test_split(X,y)"
   ]
  },
  {
   "cell_type": "code",
   "execution_count": null,
   "id": "de5354a7",
   "metadata": {},
   "outputs": [],
   "source": [
    "decision_tree = DecisionTreeClassifier()\n",
    "random_forest = RandomForestClassifier()\n",
    "\n",
    "decision_tree.fit(X_train, y_train)\n",
    "random_forest.fit(X_train, y_train)\n",
    "\n",
    "print(decision_tree.score(X_test, y_test))\n",
    "print(random_forest.score(X_test, y_test))"
   ]
  }
 ],
 "metadata": {
  "kernelspec": {
   "display_name": "Python 3 (ipykernel)",
   "language": "python",
   "name": "python3"
  },
  "language_info": {
   "codemirror_mode": {
    "name": "ipython",
    "version": 3
   },
   "file_extension": ".py",
   "mimetype": "text/x-python",
   "name": "python",
   "nbconvert_exporter": "python",
   "pygments_lexer": "ipython3",
   "version": "3.9.13"
  }
 },
 "nbformat": 4,
 "nbformat_minor": 5
}
