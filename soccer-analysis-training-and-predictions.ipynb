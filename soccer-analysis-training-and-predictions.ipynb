{
 "cells": [
  {
   "cell_type": "code",
   "execution_count": 1,
   "id": "11636311",
   "metadata": {},
   "outputs": [
    {
     "name": "stdout",
     "output_type": "stream",
     "text": [
      "Requirement already satisfied: lightgbm in c:\\users\\richt\\anaconda3\\lib\\site-packages (3.3.5)\n",
      "Requirement already satisfied: scipy in c:\\users\\richt\\anaconda3\\lib\\site-packages (from lightgbm) (1.9.1)\n",
      "Requirement already satisfied: scikit-learn!=0.22.0 in c:\\users\\richt\\anaconda3\\lib\\site-packages (from lightgbm) (1.0.2)\n",
      "Requirement already satisfied: numpy in c:\\users\\richt\\anaconda3\\lib\\site-packages (from lightgbm) (1.21.5)\n",
      "Requirement already satisfied: wheel in c:\\users\\richt\\anaconda3\\lib\\site-packages (from lightgbm) (0.37.1)\n",
      "Requirement already satisfied: threadpoolctl>=2.0.0 in c:\\users\\richt\\anaconda3\\lib\\site-packages (from scikit-learn!=0.22.0->lightgbm) (2.2.0)\n",
      "Requirement already satisfied: joblib>=0.11 in c:\\users\\richt\\anaconda3\\lib\\site-packages (from scikit-learn!=0.22.0->lightgbm) (1.1.0)\n",
      "Requirement already satisfied: optuna in c:\\users\\richt\\anaconda3\\lib\\site-packages (3.1.1)\n",
      "Requirement already satisfied: colorlog in c:\\users\\richt\\anaconda3\\lib\\site-packages (from optuna) (6.7.0)\n",
      "Requirement already satisfied: numpy in c:\\users\\richt\\anaconda3\\lib\\site-packages (from optuna) (1.21.5)\n",
      "Requirement already satisfied: PyYAML in c:\\users\\richt\\anaconda3\\lib\\site-packages (from optuna) (6.0)\n",
      "Requirement already satisfied: packaging>=20.0 in c:\\users\\richt\\anaconda3\\lib\\site-packages (from optuna) (21.3)\n",
      "Requirement already satisfied: sqlalchemy>=1.3.0 in c:\\users\\richt\\anaconda3\\lib\\site-packages (from optuna) (1.4.39)\n",
      "Requirement already satisfied: tqdm in c:\\users\\richt\\anaconda3\\lib\\site-packages (from optuna) (4.64.1)\n",
      "Requirement already satisfied: alembic>=1.5.0 in c:\\users\\richt\\anaconda3\\lib\\site-packages (from optuna) (1.10.3)\n",
      "Requirement already satisfied: cmaes>=0.9.1 in c:\\users\\richt\\anaconda3\\lib\\site-packages (from optuna) (0.9.1)\n",
      "Requirement already satisfied: Mako in c:\\users\\richt\\anaconda3\\lib\\site-packages (from alembic>=1.5.0->optuna) (1.2.4)\n",
      "Requirement already satisfied: typing-extensions>=4 in c:\\users\\richt\\anaconda3\\lib\\site-packages (from alembic>=1.5.0->optuna) (4.3.0)\n",
      "Requirement already satisfied: pyparsing!=3.0.5,>=2.0.2 in c:\\users\\richt\\anaconda3\\lib\\site-packages (from packaging>=20.0->optuna) (3.0.9)\n",
      "Requirement already satisfied: greenlet!=0.4.17 in c:\\users\\richt\\anaconda3\\lib\\site-packages (from sqlalchemy>=1.3.0->optuna) (1.1.1)\n",
      "Requirement already satisfied: colorama in c:\\users\\richt\\anaconda3\\lib\\site-packages (from colorlog->optuna) (0.4.5)\n",
      "Requirement already satisfied: MarkupSafe>=0.9.2 in c:\\users\\richt\\anaconda3\\lib\\site-packages (from Mako->alembic>=1.5.0->optuna) (2.0.1)\n"
     ]
    }
   ],
   "source": [
    "!pip install lightgbm\n",
    "!pip install optuna"
   ]
  },
  {
   "cell_type": "code",
   "execution_count": 2,
   "id": "a8752ba6",
   "metadata": {},
   "outputs": [],
   "source": [
    "import sqlite3\n",
    "import pandas as pd\n",
    "import numpy as np\n",
    "\n",
    "from datetime import datetime\n",
    "from dateutil.relativedelta import relativedelta\n",
    "\n",
    "from sklearn.model_selection import KFold\n",
    "from sklearn.model_selection import train_test_split, cross_val_score\n",
    "\n",
    "from sklearn.tree import DecisionTreeClassifier\n",
    "from sklearn.ensemble import RandomForestClassifier\n",
    "\n",
    "import matplotlib.pyplot as plt \n",
    "import seaborn as sns # Import seaborn\n",
    "\n",
    "from datetime import datetime\n",
    "from datetime import date\n",
    "from dateutil import parser\n",
    "\n",
    "import lightgbm as lgb\n",
    "from sklearn.metrics import accuracy_score\n",
    "import optuna\n",
    "from optuna.integration import OptunaSearchCV\n",
    "\n",
    "from collections import defaultdict\n",
    "\n",
    "import time\n",
    "\n",
    "from warnings import simplefilter"
   ]
  },
  {
   "cell_type": "code",
   "execution_count": 3,
   "id": "723166e4",
   "metadata": {},
   "outputs": [],
   "source": [
    "simplefilter(action=\"ignore\",category=FutureWarning)"
   ]
  },
  {
   "cell_type": "code",
   "execution_count": 4,
   "id": "15c70c76",
   "metadata": {},
   "outputs": [],
   "source": [
    "pd.options.mode.chained_assignment = None\n",
    "\n",
    "# Import pre-processed data frame\n",
    "curr_date = \"2023-04-19\"\n",
    "pickle_file = 'sa-preprocessing-' + curr_date + '.pkl'\n",
    "pickle_file_path = 'data/' + pickle_file\n",
    "df_main_nn = pd.read_pickle(pickle_file_path)"
   ]
  },
  {
   "cell_type": "code",
   "execution_count": 5,
   "id": "29987d32",
   "metadata": {},
   "outputs": [
    {
     "data": {
      "text/html": [
       "<div>\n",
       "<style scoped>\n",
       "    .dataframe tbody tr th:only-of-type {\n",
       "        vertical-align: middle;\n",
       "    }\n",
       "\n",
       "    .dataframe tbody tr th {\n",
       "        vertical-align: top;\n",
       "    }\n",
       "\n",
       "    .dataframe thead th {\n",
       "        text-align: right;\n",
       "    }\n",
       "</style>\n",
       "<table border=\"1\" class=\"dataframe\">\n",
       "  <thead>\n",
       "    <tr style=\"text-align: right;\">\n",
       "      <th></th>\n",
       "      <th>0</th>\n",
       "      <th>1</th>\n",
       "      <th>2</th>\n",
       "      <th>3</th>\n",
       "      <th>4</th>\n",
       "      <th>5</th>\n",
       "      <th>6</th>\n",
       "      <th>7</th>\n",
       "      <th>8</th>\n",
       "      <th>9</th>\n",
       "      <th>10</th>\n",
       "      <th>11</th>\n",
       "      <th>12</th>\n",
       "      <th>13</th>\n",
       "    </tr>\n",
       "  </thead>\n",
       "  <tbody>\n",
       "    <tr>\n",
       "      <th>20082</th>\n",
       "      <td>3.0</td>\n",
       "      <td>1.0</td>\n",
       "      <td>1.0</td>\n",
       "      <td>179.647273</td>\n",
       "      <td>179.647273</td>\n",
       "      <td>160.818182</td>\n",
       "      <td>164.090909</td>\n",
       "      <td>26.909091</td>\n",
       "      <td>25.363636</td>\n",
       "      <td>72.454545</td>\n",
       "      <td>72.454545</td>\n",
       "      <td>22.896039</td>\n",
       "      <td>23.062667</td>\n",
       "      <td>0.0</td>\n",
       "    </tr>\n",
       "    <tr>\n",
       "      <th>20083</th>\n",
       "      <td>3.0</td>\n",
       "      <td>1.0</td>\n",
       "      <td>0.0</td>\n",
       "      <td>183.803636</td>\n",
       "      <td>183.803636</td>\n",
       "      <td>165.636364</td>\n",
       "      <td>172.363636</td>\n",
       "      <td>27.181818</td>\n",
       "      <td>26.272727</td>\n",
       "      <td>71.545455</td>\n",
       "      <td>71.545455</td>\n",
       "      <td>23.400031</td>\n",
       "      <td>23.142150</td>\n",
       "      <td>0.0</td>\n",
       "    </tr>\n",
       "    <tr>\n",
       "      <th>20084</th>\n",
       "      <td>3.0</td>\n",
       "      <td>1.0</td>\n",
       "      <td>0.0</td>\n",
       "      <td>181.725455</td>\n",
       "      <td>181.725455</td>\n",
       "      <td>162.454545</td>\n",
       "      <td>168.636364</td>\n",
       "      <td>27.181818</td>\n",
       "      <td>28.727273</td>\n",
       "      <td>71.272727</td>\n",
       "      <td>71.272727</td>\n",
       "      <td>23.009790</td>\n",
       "      <td>23.162528</td>\n",
       "      <td>-1.0</td>\n",
       "    </tr>\n",
       "    <tr>\n",
       "      <th>20085</th>\n",
       "      <td>2.0</td>\n",
       "      <td>0.0</td>\n",
       "      <td>0.0</td>\n",
       "      <td>178.723636</td>\n",
       "      <td>178.723636</td>\n",
       "      <td>160.818182</td>\n",
       "      <td>166.363636</td>\n",
       "      <td>27.181818</td>\n",
       "      <td>25.363636</td>\n",
       "      <td>72.909091</td>\n",
       "      <td>72.909091</td>\n",
       "      <td>22.836914</td>\n",
       "      <td>23.624394</td>\n",
       "      <td>3.0</td>\n",
       "    </tr>\n",
       "    <tr>\n",
       "      <th>20086</th>\n",
       "      <td>3.0</td>\n",
       "      <td>1.0</td>\n",
       "      <td>1.0</td>\n",
       "      <td>181.032727</td>\n",
       "      <td>181.032727</td>\n",
       "      <td>160.636364</td>\n",
       "      <td>172.181818</td>\n",
       "      <td>28.090909</td>\n",
       "      <td>28.454545</td>\n",
       "      <td>72.545455</td>\n",
       "      <td>72.545455</td>\n",
       "      <td>22.811095</td>\n",
       "      <td>23.830840</td>\n",
       "      <td>0.0</td>\n",
       "    </tr>\n",
       "    <tr>\n",
       "      <th>...</th>\n",
       "      <td>...</td>\n",
       "      <td>...</td>\n",
       "      <td>...</td>\n",
       "      <td>...</td>\n",
       "      <td>...</td>\n",
       "      <td>...</td>\n",
       "      <td>...</td>\n",
       "      <td>...</td>\n",
       "      <td>...</td>\n",
       "      <td>...</td>\n",
       "      <td>...</td>\n",
       "      <td>...</td>\n",
       "      <td>...</td>\n",
       "      <td>...</td>\n",
       "    </tr>\n",
       "    <tr>\n",
       "      <th>20177</th>\n",
       "      <td>2.0</td>\n",
       "      <td>0.0</td>\n",
       "      <td>0.0</td>\n",
       "      <td>182.187273</td>\n",
       "      <td>182.187273</td>\n",
       "      <td>167.000000</td>\n",
       "      <td>169.181818</td>\n",
       "      <td>24.090909</td>\n",
       "      <td>23.000000</td>\n",
       "      <td>65.818182</td>\n",
       "      <td>65.818182</td>\n",
       "      <td>22.763890</td>\n",
       "      <td>23.119790</td>\n",
       "      <td>-1.0</td>\n",
       "    </tr>\n",
       "    <tr>\n",
       "      <th>20178</th>\n",
       "      <td>1.0</td>\n",
       "      <td>0.0</td>\n",
       "      <td>0.0</td>\n",
       "      <td>181.725455</td>\n",
       "      <td>181.725455</td>\n",
       "      <td>167.181818</td>\n",
       "      <td>163.454545</td>\n",
       "      <td>24.818182</td>\n",
       "      <td>27.545455</td>\n",
       "      <td>65.636364</td>\n",
       "      <td>65.636364</td>\n",
       "      <td>22.846477</td>\n",
       "      <td>22.450795</td>\n",
       "      <td>-1.0</td>\n",
       "    </tr>\n",
       "    <tr>\n",
       "      <th>20179</th>\n",
       "      <td>1.0</td>\n",
       "      <td>0.0</td>\n",
       "      <td>0.0</td>\n",
       "      <td>185.189091</td>\n",
       "      <td>185.189091</td>\n",
       "      <td>167.818182</td>\n",
       "      <td>173.727273</td>\n",
       "      <td>26.000000</td>\n",
       "      <td>27.636364</td>\n",
       "      <td>66.272727</td>\n",
       "      <td>66.272727</td>\n",
       "      <td>22.817615</td>\n",
       "      <td>22.977536</td>\n",
       "      <td>0.0</td>\n",
       "    </tr>\n",
       "    <tr>\n",
       "      <th>20180</th>\n",
       "      <td>1.0</td>\n",
       "      <td>0.0</td>\n",
       "      <td>0.0</td>\n",
       "      <td>182.187273</td>\n",
       "      <td>182.187273</td>\n",
       "      <td>169.181818</td>\n",
       "      <td>166.454545</td>\n",
       "      <td>26.090909</td>\n",
       "      <td>25.090909</td>\n",
       "      <td>66.000000</td>\n",
       "      <td>66.000000</td>\n",
       "      <td>22.714948</td>\n",
       "      <td>22.747090</td>\n",
       "      <td>-1.0</td>\n",
       "    </tr>\n",
       "    <tr>\n",
       "      <th>20181</th>\n",
       "      <td>1.0</td>\n",
       "      <td>0.0</td>\n",
       "      <td>0.0</td>\n",
       "      <td>182.418182</td>\n",
       "      <td>182.418182</td>\n",
       "      <td>171.636364</td>\n",
       "      <td>173.090909</td>\n",
       "      <td>27.272727</td>\n",
       "      <td>26.454545</td>\n",
       "      <td>66.000000</td>\n",
       "      <td>66.000000</td>\n",
       "      <td>23.277864</td>\n",
       "      <td>23.594146</td>\n",
       "      <td>1.0</td>\n",
       "    </tr>\n",
       "  </tbody>\n",
       "</table>\n",
       "<p>100 rows × 14 columns</p>\n",
       "</div>"
      ],
      "text/plain": [
       "        0    1    2           3           4           5           6   \\\n",
       "20082  3.0  1.0  1.0  179.647273  179.647273  160.818182  164.090909   \n",
       "20083  3.0  1.0  0.0  183.803636  183.803636  165.636364  172.363636   \n",
       "20084  3.0  1.0  0.0  181.725455  181.725455  162.454545  168.636364   \n",
       "20085  2.0  0.0  0.0  178.723636  178.723636  160.818182  166.363636   \n",
       "20086  3.0  1.0  1.0  181.032727  181.032727  160.636364  172.181818   \n",
       "...    ...  ...  ...         ...         ...         ...         ...   \n",
       "20177  2.0  0.0  0.0  182.187273  182.187273  167.000000  169.181818   \n",
       "20178  1.0  0.0  0.0  181.725455  181.725455  167.181818  163.454545   \n",
       "20179  1.0  0.0  0.0  185.189091  185.189091  167.818182  173.727273   \n",
       "20180  1.0  0.0  0.0  182.187273  182.187273  169.181818  166.454545   \n",
       "20181  1.0  0.0  0.0  182.418182  182.418182  171.636364  173.090909   \n",
       "\n",
       "              7          8          9          10         11         12   13  \n",
       "20082  26.909091  25.363636  72.454545  72.454545  22.896039  23.062667  0.0  \n",
       "20083  27.181818  26.272727  71.545455  71.545455  23.400031  23.142150  0.0  \n",
       "20084  27.181818  28.727273  71.272727  71.272727  23.009790  23.162528 -1.0  \n",
       "20085  27.181818  25.363636  72.909091  72.909091  22.836914  23.624394  3.0  \n",
       "20086  28.090909  28.454545  72.545455  72.545455  22.811095  23.830840  0.0  \n",
       "...          ...        ...        ...        ...        ...        ...  ...  \n",
       "20177  24.090909  23.000000  65.818182  65.818182  22.763890  23.119790 -1.0  \n",
       "20178  24.818182  27.545455  65.636364  65.636364  22.846477  22.450795 -1.0  \n",
       "20179  26.000000  27.636364  66.272727  66.272727  22.817615  22.977536  0.0  \n",
       "20180  26.090909  25.090909  66.000000  66.000000  22.714948  22.747090 -1.0  \n",
       "20181  27.272727  26.454545  66.000000  66.000000  23.277864  23.594146  1.0  \n",
       "\n",
       "[100 rows x 14 columns]"
      ]
     },
     "execution_count": 5,
     "metadata": {},
     "output_type": "execute_result"
    }
   ],
   "source": [
    "# Create the dataframe for modeling\n",
    "feature_names = [\"last_ten\",\"last_five\",\"last_three\",\"away_player_height_average\",\"away_player_height_average\",\"home_player_weight_average\",\n",
    "              \"away_player_weight_average\",'home_player_age_average','away_player_age_average','home_player_rating_average','away_player_rating_average',\n",
    "              'home_team_bmi' ,'away_team_bmi','goal_diff']\n",
    "X = df_main_nn[feature_names].values\n",
    "y = df_main_nn['outcome'].values\n",
    "\n",
    "X_train,X_test,y_train,y_test = train_test_split(X,y)\n",
    "pd.DataFrame(X).tail(100)"
   ]
  },
  {
   "cell_type": "code",
   "execution_count": 6,
   "id": "06e8c11e",
   "metadata": {},
   "outputs": [
    {
     "data": {
      "text/plain": [
       "Text(0, 0.5, 'Explained Variance')"
      ]
     },
     "execution_count": 6,
     "metadata": {},
     "output_type": "execute_result"
    },
    {
     "data": {
      "image/png": "[encoded data removed]",
      "text/plain": [
       "<Figure size 640x480 with 1 Axes>"
      ]
     },
     "metadata": {},
     "output_type": "display_data"
    }
   ],
   "source": [
    "# PCA\n",
    "from sklearn import preprocessing\n",
    "from sklearn.decomposition import PCA\n",
    "\n",
    "scaler = preprocessing.StandardScaler().fit(X)\n",
    "X_scaled = scaler.transform(X)\n",
    "\n",
    "pca = PCA(n_components = 13)\n",
    "pca.fit(X)\n",
    "\n",
    "pca_evr = pd.DataFrame(pca.explained_variance_ratio_)\n",
    "\n",
    "# Create a figure with two subplots\n",
    "pca_evr.hist()\n",
    "plt.title(\"PCA\",fontsize=10)\n",
    "plt.xlabel('Feature #',fontsize=10)\n",
    "plt.ylabel('Explained Variance',fontsize=10)\n"
   ]
  },
  {
   "cell_type": "code",
   "execution_count": 7,
   "id": "26669b4b",
   "metadata": {},
   "outputs": [
    {
     "name": "stdout",
     "output_type": "stream",
     "text": [
      "1.0\n",
      "1.0\n"
     ]
    }
   ],
   "source": [
    "# Baseline models\n",
    "decision_tree = DecisionTreeClassifier()\n",
    "random_forest = RandomForestClassifier()\n",
    "\n",
    "decision_tree.fit(X_train, y_train)\n",
    "random_forest.fit(X_train, y_train)\n",
    "\n",
    "print(decision_tree.score(X_test, y_test))\n",
    "print(random_forest.score(X_test, y_test))"
   ]
  },
  {
   "cell_type": "code",
   "execution_count": 8,
   "id": "d16fc617",
   "metadata": {},
   "outputs": [
    {
     "data": {
      "image/png": "[encoded data removed]",
      "text/plain": [
       "<Figure size 640x480 with 1 Axes>"
      ]
     },
     "metadata": {},
     "output_type": "display_data"
    }
   ],
   "source": [
    "# Feature importance (RF) - based on mean decrease in impurity\n",
    "importances = random_forest.feature_importances_\n",
    "forest_importances = pd.Series(importances, index=feature_names)\n",
    "std = np.std([tree.feature_importances_ for tree in random_forest.estimators_], axis=0)\n",
    "\n",
    "fig, ax = plt.subplots()\n",
    "forest_importances.plot.bar(yerr=std, ax=ax)\n",
    "\n",
    "ax.set_title(\"Feature importances using MDI\")\n",
    "ax.set_ylabel(\"Mean decrease in impurity\")\n",
    "fig.tight_layout()"
   ]
  },
  {
   "cell_type": "code",
   "execution_count": 9,
   "id": "3746cad0",
   "metadata": {},
   "outputs": [
    {
     "data": {
      "image/png": "[encoded data removed]",
      "text/plain": [
       "<Figure size 640x480 with 1 Axes>"
      ]
     },
     "metadata": {},
     "output_type": "display_data"
    }
   ],
   "source": [
    "from sklearn.inspection import permutation_importance\n",
    "\n",
    "result = permutation_importance(\n",
    "    random_forest, X_test, y_test) # n_repeats=10, random_state=42, n_jobs=2\n",
    "\n",
    "forest_importances = pd.Series(result.importances_mean, index=feature_names)\n",
    "\n",
    "fig, ax = plt.subplots()\n",
    "forest_importances.plot.bar(yerr=result.importances_std, ax=ax)\n",
    "ax.set_title(\"Feature importances using permutation on full model\")\n",
    "ax.set_ylabel(\"Mean accuracy decrease\")\n",
    "fig.tight_layout()\n",
    "plt.show()"
   ]
  },
  {
   "cell_type": "code",
   "execution_count": 10,
   "id": "619588b8",
   "metadata": {},
   "outputs": [
    {
     "name": "stdout",
     "output_type": "stream",
     "text": [
      "1.0\n"
     ]
    },
    {
     "name": "stderr",
     "output_type": "stream",
     "text": [
      "C:\\Users\\richt\\anaconda3\\lib\\site-packages\\sklearn\\linear_model\\_logistic.py:814: ConvergenceWarning: lbfgs failed to converge (status=1):\n",
      "STOP: TOTAL NO. of ITERATIONS REACHED LIMIT.\n",
      "\n",
      "Increase the number of iterations (max_iter) or scale the data as shown in:\n",
      "    https://scikit-learn.org/stable/modules/preprocessing.html\n",
      "Please also refer to the documentation for alternative solver options:\n",
      "    https://scikit-learn.org/stable/modules/linear_model.html#logistic-regression\n",
      "  n_iter_i = _check_optimize_result(\n"
     ]
    }
   ],
   "source": [
    "# Logistic regression\n",
    "from sklearn import linear_model\n",
    "\n",
    "logistic_regression = linear_model.LogisticRegression()\n",
    "logistic_regression.fit(X_train, y_train)\n",
    "\n",
    "print(logistic_regression.score(X_test, y_test))"
   ]
  },
  {
   "cell_type": "code",
   "execution_count": 11,
   "id": "45c045e2",
   "metadata": {},
   "outputs": [
    {
     "name": "stdout",
     "output_type": "stream",
     "text": [
      "0.9120095124851367\n"
     ]
    }
   ],
   "source": [
    "# Gaussian Naive Bayes\n",
    "from sklearn.naive_bayes import GaussianNB\n",
    "\n",
    "gauss_nb = GaussianNB()\n",
    "gauss_nb.fit(X_train, y_train)\n",
    "\n",
    "print(gauss_nb.score(X_test, y_test))"
   ]
  },
  {
   "cell_type": "code",
   "execution_count": 12,
   "id": "abccb036",
   "metadata": {},
   "outputs": [
    {
     "name": "stdout",
     "output_type": "stream",
     "text": [
      "0.8682124455013872\n"
     ]
    }
   ],
   "source": [
    "# K nearest neighbor\n",
    "from sklearn.neighbors import KNeighborsClassifier\n",
    "\n",
    "k_neighbors = KNeighborsClassifier()\n",
    "k_neighbors.fit(X_train, y_train)\n",
    "\n",
    "print(k_neighbors.score(X_test, y_test))"
   ]
  },
  {
   "cell_type": "code",
   "execution_count": 13,
   "id": "ee19c23d",
   "metadata": {},
   "outputs": [
    {
     "name": "stdout",
     "output_type": "stream",
     "text": [
      "1.0\n"
     ]
    }
   ],
   "source": [
    "# Adaboost\n",
    "from sklearn.ensemble import AdaBoostClassifier\n",
    "\n",
    "ada_boost = AdaBoostClassifier(n_estimators = 200)\n",
    "ada_boost.fit(X_train, y_train)\n",
    "\n",
    "print(ada_boost.score(X_test, y_test))"
   ]
  },
  {
   "cell_type": "code",
   "execution_count": 14,
   "id": "57605b12",
   "metadata": {},
   "outputs": [
    {
     "name": "stdout",
     "output_type": "stream",
     "text": [
      "1.0\n"
     ]
    }
   ],
   "source": [
    "# Gradient Boost Classifier\n",
    "from sklearn.ensemble import GradientBoostingClassifier\n",
    "\n",
    "gradient_boost = GradientBoostingClassifier()\n",
    "gradient_boost.fit(X_train, y_train)\n",
    "\n",
    "print(gradient_boost.score(X_test, y_test))"
   ]
  },
  {
   "cell_type": "code",
   "execution_count": 15,
   "id": "666d440f",
   "metadata": {},
   "outputs": [],
   "source": [
    "# Define the objective function\n",
    "def objective(trial):\n",
    "    params = {\n",
    "        'boosting_type': 'gbdt',\n",
    "        'objective': 'binary',\n",
    "        'metric': 'binary_logloss',\n",
    "        'num_leaves': trial.suggest_int('num_leaves', 2, 256),\n",
    "        'learning_rate': trial.suggest_loguniform('learning_rate', 0.001, 0.1),\n",
    "        'max_depth': trial.suggest_int('max_depth', 3, 10),\n",
    "        'feature_fraction': trial.suggest_uniform('feature_fraction', 0.1, 1.0),\n",
    "        'bagging_fraction': trial.suggest_uniform('bagging_fraction', 0.1, 1.0),\n",
    "        'bagging_freq': trial.suggest_int('bagging_freq', 1, 10),\n",
    "        'min_child_samples': trial.suggest_int('min_child_samples', 5, 100),\n",
    "        'random_state': 42\n",
    "    }\n",
    "    model = lgb.LGBMClassifier(**params)\n",
    "    model.fit(X_train, y_train)\n",
    "    y_pred = model.predict(X_test)\n",
    "    accuracy = accuracy_score(y_test, y_pred)\n",
    "    return accuracy"
   ]
  },
  {
   "cell_type": "code",
   "execution_count": 16,
   "id": "528c9743",
   "metadata": {},
   "outputs": [
    {
     "name": "stderr",
     "output_type": "stream",
     "text": [
      "\u001b[32m[I 2023-04-19 13:29:20,818]\u001b[0m A new study created in memory with name: no-name-e183151e-ba4e-4b42-9524-94c33564a520\u001b[0m\n"
     ]
    },
    {
     "name": "stdout",
     "output_type": "stream",
     "text": [
      "[LightGBM] [Warning] feature_fraction is set=0.21766653370064615, colsample_bytree=1.0 will be ignored. Current value: feature_fraction=0.21766653370064615\n",
      "[LightGBM] [Warning] bagging_fraction is set=0.7092149789929059, subsample=1.0 will be ignored. Current value: bagging_fraction=0.7092149789929059\n",
      "[LightGBM] [Warning] bagging_freq is set=2, subsample_freq=0 will be ignored. Current value: bagging_freq=2\n"
     ]
    },
    {
     "name": "stderr",
     "output_type": "stream",
     "text": [
      "\u001b[32m[I 2023-04-19 13:29:21,100]\u001b[0m Trial 0 finished with value: 1.0 and parameters: {'num_leaves': 135, 'learning_rate': 0.023814525055492464, 'max_depth': 5, 'feature_fraction': 0.21766653370064615, 'bagging_fraction': 0.7092149789929059, 'bagging_freq': 2, 'min_child_samples': 43}. Best is trial 0 with value: 1.0.\u001b[0m\n"
     ]
    },
    {
     "name": "stdout",
     "output_type": "stream",
     "text": [
      "[LightGBM] [Warning] feature_fraction is set=0.7269144176073054, colsample_bytree=1.0 will be ignored. Current value: feature_fraction=0.7269144176073054\n",
      "[LightGBM] [Warning] bagging_fraction is set=0.41917866443312735, subsample=1.0 will be ignored. Current value: bagging_fraction=0.41917866443312735\n",
      "[LightGBM] [Warning] bagging_freq is set=6, subsample_freq=0 will be ignored. Current value: bagging_freq=6\n"
     ]
    },
    {
     "name": "stderr",
     "output_type": "stream",
     "text": [
      "\u001b[32m[I 2023-04-19 13:29:21,736]\u001b[0m Trial 1 finished with value: 1.0 and parameters: {'num_leaves': 140, 'learning_rate': 0.029420789200405636, 'max_depth': 9, 'feature_fraction': 0.7269144176073054, 'bagging_fraction': 0.41917866443312735, 'bagging_freq': 6, 'min_child_samples': 34}. Best is trial 0 with value: 1.0.\u001b[0m\n"
     ]
    },
    {
     "name": "stdout",
     "output_type": "stream",
     "text": [
      "[LightGBM] [Warning] feature_fraction is set=0.8784295358244386, colsample_bytree=1.0 will be ignored. Current value: feature_fraction=0.8784295358244386\n",
      "[LightGBM] [Warning] bagging_fraction is set=0.5880321014430582, subsample=1.0 will be ignored. Current value: bagging_fraction=0.5880321014430582\n",
      "[LightGBM] [Warning] bagging_freq is set=2, subsample_freq=0 will be ignored. Current value: bagging_freq=2\n"
     ]
    },
    {
     "name": "stderr",
     "output_type": "stream",
     "text": [
      "\u001b[32m[I 2023-04-19 13:29:22,233]\u001b[0m Trial 2 finished with value: 1.0 and parameters: {'num_leaves': 212, 'learning_rate': 0.004940616898216706, 'max_depth': 7, 'feature_fraction': 0.8784295358244386, 'bagging_fraction': 0.5880321014430582, 'bagging_freq': 2, 'min_child_samples': 42}. Best is trial 0 with value: 1.0.\u001b[0m\n"
     ]
    },
    {
     "name": "stdout",
     "output_type": "stream",
     "text": [
      "[LightGBM] [Warning] feature_fraction is set=0.2160427272723292, colsample_bytree=1.0 will be ignored. Current value: feature_fraction=0.2160427272723292\n",
      "[LightGBM] [Warning] bagging_fraction is set=0.32215299308965856, subsample=1.0 will be ignored. Current value: bagging_fraction=0.32215299308965856\n",
      "[LightGBM] [Warning] bagging_freq is set=2, subsample_freq=0 will be ignored. Current value: bagging_freq=2\n"
     ]
    },
    {
     "name": "stderr",
     "output_type": "stream",
     "text": [
      "\u001b[32m[I 2023-04-19 13:29:22,464]\u001b[0m Trial 3 finished with value: 1.0 and parameters: {'num_leaves': 63, 'learning_rate': 0.013767465888142838, 'max_depth': 6, 'feature_fraction': 0.2160427272723292, 'bagging_fraction': 0.32215299308965856, 'bagging_freq': 2, 'min_child_samples': 63}. Best is trial 0 with value: 1.0.\u001b[0m\n"
     ]
    },
    {
     "name": "stdout",
     "output_type": "stream",
     "text": [
      "[LightGBM] [Warning] feature_fraction is set=0.2461507014559028, colsample_bytree=1.0 will be ignored. Current value: feature_fraction=0.2461507014559028\n",
      "[LightGBM] [Warning] bagging_fraction is set=0.6914470350950198, subsample=1.0 will be ignored. Current value: bagging_fraction=0.6914470350950198\n",
      "[LightGBM] [Warning] bagging_freq is set=10, subsample_freq=0 will be ignored. Current value: bagging_freq=10\n"
     ]
    },
    {
     "name": "stderr",
     "output_type": "stream",
     "text": [
      "\u001b[32m[I 2023-04-19 13:29:23,085]\u001b[0m Trial 4 finished with value: 0.9998018232263178 and parameters: {'num_leaves': 168, 'learning_rate': 0.008339997877917449, 'max_depth': 9, 'feature_fraction': 0.2461507014559028, 'bagging_fraction': 0.6914470350950198, 'bagging_freq': 10, 'min_child_samples': 44}. Best is trial 0 with value: 1.0.\u001b[0m\n"
     ]
    },
    {
     "name": "stdout",
     "output_type": "stream",
     "text": [
      "[LightGBM] [Warning] feature_fraction is set=0.19273105645883082, colsample_bytree=1.0 will be ignored. Current value: feature_fraction=0.19273105645883082\n",
      "[LightGBM] [Warning] bagging_fraction is set=0.9960702982044066, subsample=1.0 will be ignored. Current value: bagging_fraction=0.9960702982044066\n",
      "[LightGBM] [Warning] bagging_freq is set=5, subsample_freq=0 will be ignored. Current value: bagging_freq=5\n"
     ]
    },
    {
     "name": "stderr",
     "output_type": "stream",
     "text": [
      "\u001b[32m[I 2023-04-19 13:29:23,598]\u001b[0m Trial 5 finished with value: 0.9972255251684503 and parameters: {'num_leaves': 84, 'learning_rate': 0.005735729836246926, 'max_depth': 8, 'feature_fraction': 0.19273105645883082, 'bagging_fraction': 0.9960702982044066, 'bagging_freq': 5, 'min_child_samples': 68}. Best is trial 0 with value: 1.0.\u001b[0m\n",
      "\u001b[32m[I 2023-04-19 13:29:23,773]\u001b[0m Trial 6 finished with value: 0.7271105826397146 and parameters: {'num_leaves': 198, 'learning_rate': 0.0015002347188534232, 'max_depth': 3, 'feature_fraction': 0.46779962651034546, 'bagging_fraction': 0.2180053993046906, 'bagging_freq': 2, 'min_child_samples': 63}. Best is trial 0 with value: 1.0.\u001b[0m\n"
     ]
    },
    {
     "name": "stdout",
     "output_type": "stream",
     "text": [
      "[LightGBM] [Warning] feature_fraction is set=0.46779962651034546, colsample_bytree=1.0 will be ignored. Current value: feature_fraction=0.46779962651034546\n",
      "[LightGBM] [Warning] bagging_fraction is set=0.2180053993046906, subsample=1.0 will be ignored. Current value: bagging_fraction=0.2180053993046906\n",
      "[LightGBM] [Warning] bagging_freq is set=2, subsample_freq=0 will be ignored. Current value: bagging_freq=2\n",
      "[LightGBM] [Warning] feature_fraction is set=0.8859262605497749, colsample_bytree=1.0 will be ignored. Current value: feature_fraction=0.8859262605497749\n",
      "[LightGBM] [Warning] bagging_fraction is set=0.28474988383581323, subsample=1.0 will be ignored. Current value: bagging_fraction=0.28474988383581323\n",
      "[LightGBM] [Warning] bagging_freq is set=10, subsample_freq=0 will be ignored. Current value: bagging_freq=10\n"
     ]
    },
    {
     "name": "stderr",
     "output_type": "stream",
     "text": [
      "\u001b[32m[I 2023-04-19 13:29:24,023]\u001b[0m Trial 7 finished with value: 1.0 and parameters: {'num_leaves': 218, 'learning_rate': 0.0015130923385975664, 'max_depth': 6, 'feature_fraction': 0.8859262605497749, 'bagging_fraction': 0.28474988383581323, 'bagging_freq': 10, 'min_child_samples': 87}. Best is trial 0 with value: 1.0.\u001b[0m\n",
      "\u001b[32m[I 2023-04-19 13:29:24,192]\u001b[0m Trial 8 finished with value: 0.5852160126833135 and parameters: {'num_leaves': 239, 'learning_rate': 0.001611584632440503, 'max_depth': 3, 'feature_fraction': 0.2640965381022915, 'bagging_fraction': 0.6915399096763124, 'bagging_freq': 3, 'min_child_samples': 66}. Best is trial 0 with value: 1.0.\u001b[0m\n"
     ]
    },
    {
     "name": "stdout",
     "output_type": "stream",
     "text": [
      "[LightGBM] [Warning] feature_fraction is set=0.2640965381022915, colsample_bytree=1.0 will be ignored. Current value: feature_fraction=0.2640965381022915\n",
      "[LightGBM] [Warning] bagging_fraction is set=0.6915399096763124, subsample=1.0 will be ignored. Current value: bagging_fraction=0.6915399096763124\n",
      "[LightGBM] [Warning] bagging_freq is set=3, subsample_freq=0 will be ignored. Current value: bagging_freq=3\n",
      "[LightGBM] [Warning] feature_fraction is set=0.4310906603400958, colsample_bytree=1.0 will be ignored. Current value: feature_fraction=0.4310906603400958\n",
      "[LightGBM] [Warning] bagging_fraction is set=0.5479635281831223, subsample=1.0 will be ignored. Current value: bagging_fraction=0.5479635281831223\n",
      "[LightGBM] [Warning] bagging_freq is set=8, subsample_freq=0 will be ignored. Current value: bagging_freq=8\n"
     ]
    },
    {
     "name": "stderr",
     "output_type": "stream",
     "text": [
      "\u001b[32m[I 2023-04-19 13:29:25,160]\u001b[0m Trial 9 finished with value: 1.0 and parameters: {'num_leaves': 172, 'learning_rate': 0.003591119565058576, 'max_depth': 10, 'feature_fraction': 0.4310906603400958, 'bagging_fraction': 0.5479635281831223, 'bagging_freq': 8, 'min_child_samples': 32}. Best is trial 0 with value: 1.0.\u001b[0m\n",
      "\u001b[32m[I 2023-04-19 13:29:25,452]\u001b[0m Trial 10 finished with value: 1.0 and parameters: {'num_leaves': 28, 'learning_rate': 0.09322906331675193, 'max_depth': 5, 'feature_fraction': 0.5897677206879628, 'bagging_fraction': 0.12557670415204858, 'bagging_freq': 4, 'min_child_samples': 10}. Best is trial 0 with value: 1.0.\u001b[0m\n"
     ]
    },
    {
     "name": "stdout",
     "output_type": "stream",
     "text": [
      "[LightGBM] [Warning] feature_fraction is set=0.5897677206879628, colsample_bytree=1.0 will be ignored. Current value: feature_fraction=0.5897677206879628\n",
      "[LightGBM] [Warning] bagging_fraction is set=0.12557670415204858, subsample=1.0 will be ignored. Current value: bagging_fraction=0.12557670415204858\n",
      "[LightGBM] [Warning] bagging_freq is set=4, subsample_freq=0 will be ignored. Current value: bagging_freq=4\n",
      "[LightGBM] [Warning] feature_fraction is set=0.658882309492781, colsample_bytree=1.0 will be ignored. Current value: feature_fraction=0.658882309492781\n",
      "[LightGBM] [Warning] bagging_fraction is set=0.43727896304354646, subsample=1.0 will be ignored. Current value: bagging_fraction=0.43727896304354646\n",
      "[LightGBM] [Warning] bagging_freq is set=7, subsample_freq=0 will be ignored. Current value: bagging_freq=7\n"
     ]
    },
    {
     "name": "stderr",
     "output_type": "stream",
     "text": [
      "\u001b[32m[I 2023-04-19 13:29:25,783]\u001b[0m Trial 11 finished with value: 1.0 and parameters: {'num_leaves': 125, 'learning_rate': 0.026607871538312403, 'max_depth': 5, 'feature_fraction': 0.658882309492781, 'bagging_fraction': 0.43727896304354646, 'bagging_freq': 7, 'min_child_samples': 20}. Best is trial 0 with value: 1.0.\u001b[0m\n"
     ]
    },
    {
     "name": "stdout",
     "output_type": "stream",
     "text": [
      "[LightGBM] [Warning] feature_fraction is set=0.7030216935324343, colsample_bytree=1.0 will be ignored. Current value: feature_fraction=0.7030216935324343\n",
      "[LightGBM] [Warning] bagging_fraction is set=0.4338594300035817, subsample=1.0 will be ignored. Current value: bagging_fraction=0.4338594300035817\n",
      "[LightGBM] [Warning] bagging_freq is set=6, subsample_freq=0 will be ignored. Current value: bagging_freq=6\n"
     ]
    },
    {
     "name": "stderr",
     "output_type": "stream",
     "text": [
      "\u001b[32m[I 2023-04-19 13:29:26,501]\u001b[0m Trial 12 finished with value: 1.0 and parameters: {'num_leaves': 123, 'learning_rate': 0.03065431241954001, 'max_depth': 10, 'feature_fraction': 0.7030216935324343, 'bagging_fraction': 0.4338594300035817, 'bagging_freq': 6, 'min_child_samples': 29}. Best is trial 0 with value: 1.0.\u001b[0m\n"
     ]
    },
    {
     "name": "stdout",
     "output_type": "stream",
     "text": [
      "[LightGBM] [Warning] feature_fraction is set=0.1045949864795761, colsample_bytree=1.0 will be ignored. Current value: feature_fraction=0.1045949864795761\n",
      "[LightGBM] [Warning] bagging_fraction is set=0.8430877249594192, subsample=1.0 will be ignored. Current value: bagging_fraction=0.8430877249594192\n",
      "[LightGBM] [Warning] bagging_freq is set=5, subsample_freq=0 will be ignored. Current value: bagging_freq=5\n"
     ]
    },
    {
     "name": "stderr",
     "output_type": "stream",
     "text": [
      "\u001b[32m[I 2023-04-19 13:29:26,895]\u001b[0m Trial 13 finished with value: 0.9799841458581054 and parameters: {'num_leaves': 95, 'learning_rate': 0.023657408275960256, 'max_depth': 8, 'feature_fraction': 0.1045949864795761, 'bagging_fraction': 0.8430877249594192, 'bagging_freq': 5, 'min_child_samples': 48}. Best is trial 0 with value: 1.0.\u001b[0m\n",
      "\u001b[32m[I 2023-04-19 13:29:27,191]\u001b[0m Trial 14 finished with value: 1.0 and parameters: {'num_leaves': 154, 'learning_rate': 0.05461608794040955, 'max_depth': 4, 'feature_fraction': 0.3794484269883915, 'bagging_fraction': 0.7608937588659861, 'bagging_freq': 1, 'min_child_samples': 29}. Best is trial 0 with value: 1.0.\u001b[0m\n"
     ]
    },
    {
     "name": "stdout",
     "output_type": "stream",
     "text": [
      "[LightGBM] [Warning] feature_fraction is set=0.3794484269883915, colsample_bytree=1.0 will be ignored. Current value: feature_fraction=0.3794484269883915\n",
      "[LightGBM] [Warning] bagging_fraction is set=0.7608937588659861, subsample=1.0 will be ignored. Current value: bagging_fraction=0.7608937588659861\n",
      "[LightGBM] [Warning] bagging_freq is set=1, subsample_freq=0 will be ignored. Current value: bagging_freq=1\n"
     ]
    },
    {
     "name": "stderr",
     "output_type": "stream",
     "text": [
      "\u001b[32m[I 2023-04-19 13:29:27,452]\u001b[0m Trial 15 finished with value: 1.0 and parameters: {'num_leaves': 10, 'learning_rate': 0.01338230241971055, 'max_depth': 7, 'feature_fraction': 0.7572829436768884, 'bagging_fraction': 0.5002862682607019, 'bagging_freq': 7, 'min_child_samples': 5}. Best is trial 0 with value: 1.0.\u001b[0m\n"
     ]
    },
    {
     "name": "stdout",
     "output_type": "stream",
     "text": [
      "[LightGBM] [Warning] feature_fraction is set=0.7572829436768884, colsample_bytree=1.0 will be ignored. Current value: feature_fraction=0.7572829436768884\n",
      "[LightGBM] [Warning] bagging_fraction is set=0.5002862682607019, subsample=1.0 will be ignored. Current value: bagging_fraction=0.5002862682607019\n",
      "[LightGBM] [Warning] bagging_freq is set=7, subsample_freq=0 will be ignored. Current value: bagging_freq=7\n"
     ]
    },
    {
     "name": "stderr",
     "output_type": "stream",
     "text": [
      "\u001b[32m[I 2023-04-19 13:29:27,749]\u001b[0m Trial 16 finished with value: 1.0 and parameters: {'num_leaves': 143, 'learning_rate': 0.045264803262614735, 'max_depth': 5, 'feature_fraction': 0.5462481311263734, 'bagging_fraction': 0.3804357033547102, 'bagging_freq': 4, 'min_child_samples': 99}. Best is trial 0 with value: 1.0.\u001b[0m\n"
     ]
    },
    {
     "name": "stdout",
     "output_type": "stream",
     "text": [
      "[LightGBM] [Warning] feature_fraction is set=0.5462481311263734, colsample_bytree=1.0 will be ignored. Current value: feature_fraction=0.5462481311263734\n",
      "[LightGBM] [Warning] bagging_fraction is set=0.3804357033547102, subsample=1.0 will be ignored. Current value: bagging_fraction=0.3804357033547102\n",
      "[LightGBM] [Warning] bagging_freq is set=4, subsample_freq=0 will be ignored. Current value: bagging_freq=4\n"
     ]
    },
    {
     "name": "stderr",
     "output_type": "stream",
     "text": [
      "\u001b[32m[I 2023-04-19 13:29:27,986]\u001b[0m Trial 17 finished with value: 1.0 and parameters: {'num_leaves': 97, 'learning_rate': 0.022367295766778202, 'max_depth': 8, 'feature_fraction': 0.9962849400585112, 'bagging_fraction': 0.594963738448976, 'bagging_freq': 8, 'min_child_samples': 54}. Best is trial 0 with value: 1.0.\u001b[0m\n"
     ]
    },
    {
     "name": "stdout",
     "output_type": "stream",
     "text": [
      "[LightGBM] [Warning] feature_fraction is set=0.9962849400585112, colsample_bytree=1.0 will be ignored. Current value: feature_fraction=0.9962849400585112\n",
      "[LightGBM] [Warning] bagging_fraction is set=0.594963738448976, subsample=1.0 will be ignored. Current value: bagging_fraction=0.594963738448976\n",
      "[LightGBM] [Warning] bagging_freq is set=8, subsample_freq=0 will be ignored. Current value: bagging_freq=8\n",
      "[LightGBM] [Warning] feature_fraction is set=0.34266302428181555, colsample_bytree=1.0 will be ignored. Current value: feature_fraction=0.34266302428181555\n",
      "[LightGBM] [Warning] bagging_fraction is set=0.4886027109236443, subsample=1.0 will be ignored. Current value: bagging_fraction=0.4886027109236443\n",
      "[LightGBM] [Warning] bagging_freq is set=4, subsample_freq=0 will be ignored. Current value: bagging_freq=4\n"
     ]
    },
    {
     "name": "stderr",
     "output_type": "stream",
     "text": [
      "\u001b[32m[I 2023-04-19 13:29:28,431]\u001b[0m Trial 18 finished with value: 1.0 and parameters: {'num_leaves': 48, 'learning_rate': 0.014248706037497408, 'max_depth': 9, 'feature_fraction': 0.34266302428181555, 'bagging_fraction': 0.4886027109236443, 'bagging_freq': 4, 'min_child_samples': 17}. Best is trial 0 with value: 1.0.\u001b[0m\n",
      "\u001b[32m[I 2023-04-19 13:29:28,686]\u001b[0m Trial 19 finished with value: 1.0 and parameters: {'num_leaves': 184, 'learning_rate': 0.09010781322032275, 'max_depth': 4, 'feature_fraction': 0.521433259802567, 'bagging_fraction': 0.3951173824223814, 'bagging_freq': 6, 'min_child_samples': 77}. Best is trial 0 with value: 1.0.\u001b[0m\n"
     ]
    },
    {
     "name": "stdout",
     "output_type": "stream",
     "text": [
      "[LightGBM] [Warning] feature_fraction is set=0.521433259802567, colsample_bytree=1.0 will be ignored. Current value: feature_fraction=0.521433259802567\n",
      "[LightGBM] [Warning] bagging_fraction is set=0.3951173824223814, subsample=1.0 will be ignored. Current value: bagging_fraction=0.3951173824223814\n",
      "[LightGBM] [Warning] bagging_freq is set=6, subsample_freq=0 will be ignored. Current value: bagging_freq=6\n",
      "[LightGBM] [Warning] feature_fraction is set=0.6232366330982222, colsample_bytree=1.0 will be ignored. Current value: feature_fraction=0.6232366330982222\n",
      "[LightGBM] [Warning] bagging_fraction is set=0.5973103440196527, subsample=1.0 will be ignored. Current value: bagging_fraction=0.5973103440196527\n",
      "[LightGBM] [Warning] bagging_freq is set=1, subsample_freq=0 will be ignored. Current value: bagging_freq=1\n"
     ]
    },
    {
     "name": "stderr",
     "output_type": "stream",
     "text": [
      "\u001b[32m[I 2023-04-19 13:29:29,388]\u001b[0m Trial 20 finished with value: 1.0 and parameters: {'num_leaves': 114, 'learning_rate': 0.04803727835953993, 'max_depth': 9, 'feature_fraction': 0.6232366330982222, 'bagging_fraction': 0.5973103440196527, 'bagging_freq': 1, 'min_child_samples': 38}. Best is trial 0 with value: 1.0.\u001b[0m\n"
     ]
    },
    {
     "name": "stdout",
     "output_type": "stream",
     "text": [
      "[LightGBM] [Warning] feature_fraction is set=0.7786954741454136, colsample_bytree=1.0 will be ignored. Current value: feature_fraction=0.7786954741454136\n",
      "[LightGBM] [Warning] bagging_fraction is set=0.6297054438871122, subsample=1.0 will be ignored. Current value: bagging_fraction=0.6297054438871122\n",
      "[LightGBM] [Warning] bagging_freq is set=3, subsample_freq=0 will be ignored. Current value: bagging_freq=3\n"
     ]
    },
    {
     "name": "stderr",
     "output_type": "stream",
     "text": [
      "\u001b[32m[I 2023-04-19 13:29:29,917]\u001b[0m Trial 21 finished with value: 1.0 and parameters: {'num_leaves': 247, 'learning_rate': 0.007817547235353233, 'max_depth': 7, 'feature_fraction': 0.7786954741454136, 'bagging_fraction': 0.6297054438871122, 'bagging_freq': 3, 'min_child_samples': 54}. Best is trial 0 with value: 1.0.\u001b[0m\n"
     ]
    },
    {
     "name": "stdout",
     "output_type": "stream",
     "text": [
      "[LightGBM] [Warning] feature_fraction is set=0.8163171403182987, colsample_bytree=1.0 will be ignored. Current value: feature_fraction=0.8163171403182987\n",
      "[LightGBM] [Warning] bagging_fraction is set=0.5500694854447282, subsample=1.0 will be ignored. Current value: bagging_fraction=0.5500694854447282\n",
      "[LightGBM] [Warning] bagging_freq is set=2, subsample_freq=0 will be ignored. Current value: bagging_freq=2\n"
     ]
    },
    {
     "name": "stderr",
     "output_type": "stream",
     "text": [
      "\u001b[32m[I 2023-04-19 13:29:30,463]\u001b[0m Trial 22 finished with value: 1.0 and parameters: {'num_leaves': 199, 'learning_rate': 0.004399661280567815, 'max_depth': 7, 'feature_fraction': 0.8163171403182987, 'bagging_fraction': 0.5500694854447282, 'bagging_freq': 2, 'min_child_samples': 40}. Best is trial 0 with value: 1.0.\u001b[0m\n"
     ]
    },
    {
     "name": "stdout",
     "output_type": "stream",
     "text": [
      "[LightGBM] [Warning] feature_fraction is set=0.6721136819515385, colsample_bytree=1.0 will be ignored. Current value: feature_fraction=0.6721136819515385\n",
      "[LightGBM] [Warning] bagging_fraction is set=0.49040934862000884, subsample=1.0 will be ignored. Current value: bagging_fraction=0.49040934862000884\n",
      "[LightGBM] [Warning] bagging_freq is set=3, subsample_freq=0 will be ignored. Current value: bagging_freq=3\n"
     ]
    },
    {
     "name": "stderr",
     "output_type": "stream",
     "text": [
      "\u001b[32m[I 2023-04-19 13:29:30,899]\u001b[0m Trial 23 finished with value: 1.0 and parameters: {'num_leaves': 220, 'learning_rate': 0.01861940032225357, 'max_depth': 6, 'feature_fraction': 0.6721136819515385, 'bagging_fraction': 0.49040934862000884, 'bagging_freq': 3, 'min_child_samples': 21}. Best is trial 0 with value: 1.0.\u001b[0m\n",
      "\u001b[32m[I 2023-04-19 13:29:31,220]\u001b[0m Trial 24 finished with value: 1.0 and parameters: {'num_leaves': 155, 'learning_rate': 0.011225814368852526, 'max_depth': 4, 'feature_fraction': 0.8653211299687541, 'bagging_fraction': 0.684312604335753, 'bagging_freq': 1, 'min_child_samples': 36}. Best is trial 0 with value: 1.0.\u001b[0m\n"
     ]
    },
    {
     "name": "stdout",
     "output_type": "stream",
     "text": [
      "[LightGBM] [Warning] feature_fraction is set=0.8653211299687541, colsample_bytree=1.0 will be ignored. Current value: feature_fraction=0.8653211299687541\n",
      "[LightGBM] [Warning] bagging_fraction is set=0.684312604335753, subsample=1.0 will be ignored. Current value: bagging_fraction=0.684312604335753\n",
      "[LightGBM] [Warning] bagging_freq is set=1, subsample_freq=0 will be ignored. Current value: bagging_freq=1\n",
      "[LightGBM] [Warning] feature_fraction is set=0.7264834371048036, colsample_bytree=1.0 will be ignored. Current value: feature_fraction=0.7264834371048036\n",
      "[LightGBM] [Warning] bagging_fraction is set=0.7699872279107551, subsample=1.0 will be ignored. Current value: bagging_fraction=0.7699872279107551\n",
      "[LightGBM] [Warning] bagging_freq is set=5, subsample_freq=0 will be ignored. Current value: bagging_freq=5\n"
     ]
    },
    {
     "name": "stderr",
     "output_type": "stream",
     "text": [
      "\u001b[32m[I 2023-04-19 13:29:31,904]\u001b[0m Trial 25 finished with value: 1.0 and parameters: {'num_leaves': 139, 'learning_rate': 0.032140345429842544, 'max_depth': 8, 'feature_fraction': 0.7264834371048036, 'bagging_fraction': 0.7699872279107551, 'bagging_freq': 5, 'min_child_samples': 50}. Best is trial 0 with value: 1.0.\u001b[0m\n"
     ]
    },
    {
     "name": "stdout",
     "output_type": "stream",
     "text": [
      "[LightGBM] [Warning] feature_fraction is set=0.6029951089637524, colsample_bytree=1.0 will be ignored. Current value: feature_fraction=0.6029951089637524\n",
      "[LightGBM] [Warning] bagging_fraction is set=0.5257282692661545, subsample=1.0 will be ignored. Current value: bagging_fraction=0.5257282692661545\n",
      "[LightGBM] [Warning] bagging_freq is set=7, subsample_freq=0 will be ignored. Current value: bagging_freq=7\n"
     ]
    },
    {
     "name": "stderr",
     "output_type": "stream",
     "text": [
      "\u001b[32m[I 2023-04-19 13:29:32,249]\u001b[0m Trial 26 finished with value: 1.0 and parameters: {'num_leaves': 224, 'learning_rate': 0.01951179004068599, 'max_depth': 5, 'feature_fraction': 0.6029951089637524, 'bagging_fraction': 0.5257282692661545, 'bagging_freq': 7, 'min_child_samples': 27}. Best is trial 0 with value: 1.0.\u001b[0m\n"
     ]
    },
    {
     "name": "stdout",
     "output_type": "stream",
     "text": [
      "[LightGBM] [Warning] feature_fraction is set=0.5016553496426271, colsample_bytree=1.0 will be ignored. Current value: feature_fraction=0.5016553496426271\n",
      "[LightGBM] [Warning] bagging_fraction is set=0.6256553853164741, subsample=1.0 will be ignored. Current value: bagging_fraction=0.6256553853164741\n",
      "[LightGBM] [Warning] bagging_freq is set=2, subsample_freq=0 will be ignored. Current value: bagging_freq=2\n"
     ]
    },
    {
     "name": "stderr",
     "output_type": "stream",
     "text": [
      "\u001b[32m[I 2023-04-19 13:29:32,767]\u001b[0m Trial 27 finished with value: 1.0 and parameters: {'num_leaves': 77, 'learning_rate': 0.009465552081208672, 'max_depth': 7, 'feature_fraction': 0.5016553496426271, 'bagging_fraction': 0.6256553853164741, 'bagging_freq': 2, 'min_child_samples': 44}. Best is trial 0 with value: 1.0.\u001b[0m\n"
     ]
    },
    {
     "name": "stdout",
     "output_type": "stream",
     "text": [
      "[LightGBM] [Warning] feature_fraction is set=0.921150271845707, colsample_bytree=1.0 will be ignored. Current value: feature_fraction=0.921150271845707\n",
      "[LightGBM] [Warning] bagging_fraction is set=0.337998048468706, subsample=1.0 will be ignored. Current value: bagging_fraction=0.337998048468706\n",
      "[LightGBM] [Warning] bagging_freq is set=9, subsample_freq=0 will be ignored. Current value: bagging_freq=9\n"
     ]
    },
    {
     "name": "stderr",
     "output_type": "stream",
     "text": [
      "\u001b[32m[I 2023-04-19 13:29:33,277]\u001b[0m Trial 28 finished with value: 1.0 and parameters: {'num_leaves': 110, 'learning_rate': 0.002916411006786712, 'max_depth': 10, 'feature_fraction': 0.921150271845707, 'bagging_fraction': 0.337998048468706, 'bagging_freq': 9, 'min_child_samples': 53}. Best is trial 0 with value: 1.0.\u001b[0m\n"
     ]
    },
    {
     "name": "stdout",
     "output_type": "stream",
     "text": [
      "[LightGBM] [Warning] feature_fraction is set=0.8083334826726803, colsample_bytree=1.0 will be ignored. Current value: feature_fraction=0.8083334826726803\n",
      "[LightGBM] [Warning] bagging_fraction is set=0.44856958209844455, subsample=1.0 will be ignored. Current value: bagging_fraction=0.44856958209844455\n",
      "[LightGBM] [Warning] bagging_freq is set=3, subsample_freq=0 will be ignored. Current value: bagging_freq=3\n"
     ]
    },
    {
     "name": "stderr",
     "output_type": "stream",
     "text": [
      "\u001b[32m[I 2023-04-19 13:29:33,746]\u001b[0m Trial 29 finished with value: 1.0 and parameters: {'num_leaves': 54, 'learning_rate': 0.015594860022379205, 'max_depth': 9, 'feature_fraction': 0.8083334826726803, 'bagging_fraction': 0.44856958209844455, 'bagging_freq': 3, 'min_child_samples': 74}. Best is trial 0 with value: 1.0.\u001b[0m\n"
     ]
    },
    {
     "name": "stdout",
     "output_type": "stream",
     "text": [
      "[LightGBM] [Warning] feature_fraction is set=0.722298959732453, colsample_bytree=1.0 will be ignored. Current value: feature_fraction=0.722298959732453\n",
      "[LightGBM] [Warning] bagging_fraction is set=0.3166169766645124, subsample=1.0 will be ignored. Current value: bagging_fraction=0.3166169766645124\n",
      "[LightGBM] [Warning] bagging_freq is set=4, subsample_freq=0 will be ignored. Current value: bagging_freq=4\n"
     ]
    },
    {
     "name": "stderr",
     "output_type": "stream",
     "text": [
      "\u001b[32m[I 2023-04-19 13:29:34,109]\u001b[0m Trial 30 finished with value: 1.0 and parameters: {'num_leaves': 195, 'learning_rate': 0.013952409794429722, 'max_depth': 6, 'feature_fraction': 0.722298959732453, 'bagging_fraction': 0.3166169766645124, 'bagging_freq': 4, 'min_child_samples': 60}. Best is trial 0 with value: 1.0.\u001b[0m\n"
     ]
    },
    {
     "name": "stdout",
     "output_type": "stream",
     "text": [
      "[LightGBM] [Warning] feature_fraction is set=0.2892549046612072, colsample_bytree=1.0 will be ignored. Current value: feature_fraction=0.2892549046612072\n",
      "[LightGBM] [Warning] bagging_fraction is set=0.2616032807356949, subsample=1.0 will be ignored. Current value: bagging_fraction=0.2616032807356949\n",
      "[LightGBM] [Warning] bagging_freq is set=2, subsample_freq=0 will be ignored. Current value: bagging_freq=2\n"
     ]
    },
    {
     "name": "stderr",
     "output_type": "stream",
     "text": [
      "\u001b[32m[I 2023-04-19 13:29:34,458]\u001b[0m Trial 31 finished with value: 1.0 and parameters: {'num_leaves': 168, 'learning_rate': 0.006914866257970174, 'max_depth': 6, 'feature_fraction': 0.2892549046612072, 'bagging_fraction': 0.2616032807356949, 'bagging_freq': 2, 'min_child_samples': 45}. Best is trial 0 with value: 1.0.\u001b[0m\n"
     ]
    },
    {
     "name": "stdout",
     "output_type": "stream",
     "text": [
      "[LightGBM] [Warning] feature_fraction is set=0.14100079014899713, colsample_bytree=1.0 will be ignored. Current value: feature_fraction=0.14100079014899713\n",
      "[LightGBM] [Warning] bagging_fraction is set=0.37500998788031503, subsample=1.0 will be ignored. Current value: bagging_fraction=0.37500998788031503\n",
      "[LightGBM] [Warning] bagging_freq is set=1, subsample_freq=0 will be ignored. Current value: bagging_freq=1\n"
     ]
    },
    {
     "name": "stderr",
     "output_type": "stream",
     "text": [
      "\u001b[32m[I 2023-04-19 13:29:34,823]\u001b[0m Trial 32 finished with value: 0.6807372175980975 and parameters: {'num_leaves': 65, 'learning_rate': 0.009041776745108296, 'max_depth': 6, 'feature_fraction': 0.14100079014899713, 'bagging_fraction': 0.37500998788031503, 'bagging_freq': 1, 'min_child_samples': 57}. Best is trial 0 with value: 1.0.\u001b[0m\n",
      "\u001b[32m[I 2023-04-19 13:29:35,125]\u001b[0m Trial 33 finished with value: 1.0 and parameters: {'num_leaves': 32, 'learning_rate': 0.010372422119654638, 'max_depth': 5, 'feature_fraction': 0.18019769385741652, 'bagging_fraction': 0.20871318018322588, 'bagging_freq': 2, 'min_child_samples': 43}. Best is trial 0 with value: 1.0.\u001b[0m\n"
     ]
    },
    {
     "name": "stdout",
     "output_type": "stream",
     "text": [
      "[LightGBM] [Warning] feature_fraction is set=0.18019769385741652, colsample_bytree=1.0 will be ignored. Current value: feature_fraction=0.18019769385741652\n",
      "[LightGBM] [Warning] bagging_fraction is set=0.20871318018322588, subsample=1.0 will be ignored. Current value: bagging_fraction=0.20871318018322588\n",
      "[LightGBM] [Warning] bagging_freq is set=2, subsample_freq=0 will be ignored. Current value: bagging_freq=2\n",
      "[LightGBM] [Warning] feature_fraction is set=0.22268879268570252, colsample_bytree=1.0 will be ignored. Current value: feature_fraction=0.22268879268570252\n",
      "[LightGBM] [Warning] bagging_fraction is set=0.3530182587468774, subsample=1.0 will be ignored. Current value: bagging_fraction=0.3530182587468774\n",
      "[LightGBM] [Warning] bagging_freq is set=5, subsample_freq=0 will be ignored. Current value: bagging_freq=5\n"
     ]
    },
    {
     "name": "stderr",
     "output_type": "stream",
     "text": [
      "\u001b[32m[I 2023-04-19 13:29:35,492]\u001b[0m Trial 34 finished with value: 1.0 and parameters: {'num_leaves': 83, 'learning_rate': 0.00628769323356417, 'max_depth': 7, 'feature_fraction': 0.22268879268570252, 'bagging_fraction': 0.3530182587468774, 'bagging_freq': 5, 'min_child_samples': 72}. Best is trial 0 with value: 1.0.\u001b[0m\n"
     ]
    },
    {
     "name": "stdout",
     "output_type": "stream",
     "text": [
      "[LightGBM] [Warning] feature_fraction is set=0.28538115908508815, colsample_bytree=1.0 will be ignored. Current value: feature_fraction=0.28538115908508815\n",
      "[LightGBM] [Warning] bagging_fraction is set=0.41434842472465394, subsample=1.0 will be ignored. Current value: bagging_fraction=0.41434842472465394\n",
      "[LightGBM] [Warning] bagging_freq is set=3, subsample_freq=0 will be ignored. Current value: bagging_freq=3\n"
     ]
    },
    {
     "name": "stderr",
     "output_type": "stream",
     "text": [
      "\u001b[32m[I 2023-04-19 13:29:36,042]\u001b[0m Trial 35 finished with value: 0.9948474038842647 and parameters: {'num_leaves': 256, 'learning_rate': 0.005072761591875658, 'max_depth': 8, 'feature_fraction': 0.28538115908508815, 'bagging_fraction': 0.41434842472465394, 'bagging_freq': 3, 'min_child_samples': 35}. Best is trial 0 with value: 1.0.\u001b[0m\n",
      "\u001b[32m[I 2023-04-19 13:29:36,330]\u001b[0m Trial 36 finished with value: 1.0 and parameters: {'num_leaves': 102, 'learning_rate': 0.01116164255708028, 'max_depth': 4, 'feature_fraction': 0.18998706747070243, 'bagging_fraction': 0.2916430652324888, 'bagging_freq': 2, 'min_child_samples': 64}. Best is trial 0 with value: 1.0.\u001b[0m\n"
     ]
    },
    {
     "name": "stdout",
     "output_type": "stream",
     "text": [
      "[LightGBM] [Warning] feature_fraction is set=0.18998706747070243, colsample_bytree=1.0 will be ignored. Current value: feature_fraction=0.18998706747070243\n",
      "[LightGBM] [Warning] bagging_fraction is set=0.2916430652324888, subsample=1.0 will be ignored. Current value: bagging_fraction=0.2916430652324888\n",
      "[LightGBM] [Warning] bagging_freq is set=2, subsample_freq=0 will be ignored. Current value: bagging_freq=2\n"
     ]
    },
    {
     "name": "stderr",
     "output_type": "stream",
     "text": [
      "\u001b[32m[I 2023-04-19 13:29:36,566]\u001b[0m Trial 37 finished with value: 1.0 and parameters: {'num_leaves': 184, 'learning_rate': 0.01850097647712698, 'max_depth': 3, 'feature_fraction': 0.24443755757753213, 'bagging_fraction': 0.5458686686062864, 'bagging_freq': 6, 'min_child_samples': 25}. Best is trial 0 with value: 1.0.\u001b[0m\n"
     ]
    },
    {
     "name": "stdout",
     "output_type": "stream",
     "text": [
      "[LightGBM] [Warning] feature_fraction is set=0.24443755757753213, colsample_bytree=1.0 will be ignored. Current value: feature_fraction=0.24443755757753213\n",
      "[LightGBM] [Warning] bagging_fraction is set=0.5458686686062864, subsample=1.0 will be ignored. Current value: bagging_fraction=0.5458686686062864\n",
      "[LightGBM] [Warning] bagging_freq is set=6, subsample_freq=0 will be ignored. Current value: bagging_freq=6\n",
      "[LightGBM] [Warning] feature_fraction is set=0.3251110266201458, colsample_bytree=1.0 will be ignored. Current value: feature_fraction=0.3251110266201458\n",
      "[LightGBM] [Warning] bagging_fraction is set=0.4764567231092489, subsample=1.0 will be ignored. Current value: bagging_fraction=0.4764567231092489\n",
      "[LightGBM] [Warning] bagging_freq is set=3, subsample_freq=0 will be ignored. Current value: bagging_freq=3\n"
     ]
    },
    {
     "name": "stderr",
     "output_type": "stream",
     "text": [
      "\u001b[32m[I 2023-04-19 13:29:36,947]\u001b[0m Trial 38 finished with value: 1.0 and parameters: {'num_leaves': 157, 'learning_rate': 0.029100905018374066, 'max_depth': 6, 'feature_fraction': 0.3251110266201458, 'bagging_fraction': 0.4764567231092489, 'bagging_freq': 3, 'min_child_samples': 79}. Best is trial 0 with value: 1.0.\u001b[0m\n"
     ]
    },
    {
     "name": "stdout",
     "output_type": "stream",
     "text": [
      "[LightGBM] [Warning] feature_fraction is set=0.3904591244398984, colsample_bytree=1.0 will be ignored. Current value: feature_fraction=0.3904591244398984\n",
      "[LightGBM] [Warning] bagging_fraction is set=0.42856936564487397, subsample=1.0 will be ignored. Current value: bagging_fraction=0.42856936564487397\n",
      "[LightGBM] [Warning] bagging_freq is set=1, subsample_freq=0 will be ignored. Current value: bagging_freq=1\n"
     ]
    },
    {
     "name": "stderr",
     "output_type": "stream",
     "text": [
      "\u001b[32m[I 2023-04-19 13:29:37,291]\u001b[0m Trial 39 finished with value: 1.0 and parameters: {'num_leaves': 143, 'learning_rate': 0.0023840494218683363, 'max_depth': 5, 'feature_fraction': 0.3904591244398984, 'bagging_fraction': 0.42856936564487397, 'bagging_freq': 1, 'min_child_samples': 61}. Best is trial 0 with value: 1.0.\u001b[0m\n"
     ]
    },
    {
     "name": "stdout",
     "output_type": "stream",
     "text": [
      "[LightGBM] [Warning] feature_fraction is set=0.4597117652998779, colsample_bytree=1.0 will be ignored. Current value: feature_fraction=0.4597117652998779\n",
      "[LightGBM] [Warning] bagging_fraction is set=0.24331658342051077, subsample=1.0 will be ignored. Current value: bagging_fraction=0.24331658342051077\n",
      "[LightGBM] [Warning] bagging_freq is set=4, subsample_freq=0 will be ignored. Current value: bagging_freq=4\n"
     ]
    },
    {
     "name": "stderr",
     "output_type": "stream",
     "text": [
      "\u001b[32m[I 2023-04-19 13:29:37,787]\u001b[0m Trial 40 finished with value: 1.0 and parameters: {'num_leaves': 206, 'learning_rate': 0.007038841442116715, 'max_depth': 8, 'feature_fraction': 0.4597117652998779, 'bagging_fraction': 0.24331658342051077, 'bagging_freq': 4, 'min_child_samples': 48}. Best is trial 0 with value: 1.0.\u001b[0m\n",
      "\u001b[32m[I 2023-04-19 13:29:38,123]\u001b[0m Trial 41 finished with value: 1.0 and parameters: {'num_leaves': 235, 'learning_rate': 0.0015387438731806486, 'max_depth': 6, 'feature_fraction': 0.8678463995384923, 'bagging_fraction': 0.17410855296031708, 'bagging_freq': 10, 'min_child_samples': 90}. Best is trial 0 with value: 1.0.\u001b[0m\n"
     ]
    },
    {
     "name": "stdout",
     "output_type": "stream",
     "text": [
      "[LightGBM] [Warning] feature_fraction is set=0.8678463995384923, colsample_bytree=1.0 will be ignored. Current value: feature_fraction=0.8678463995384923\n",
      "[LightGBM] [Warning] bagging_fraction is set=0.17410855296031708, subsample=1.0 will be ignored. Current value: bagging_fraction=0.17410855296031708\n",
      "[LightGBM] [Warning] bagging_freq is set=10, subsample_freq=0 will be ignored. Current value: bagging_freq=10\n",
      "[LightGBM] [Warning] feature_fraction is set=0.5801303395935669, colsample_bytree=1.0 will be ignored. Current value: feature_fraction=0.5801303395935669\n",
      "[LightGBM] [Warning] bagging_fraction is set=0.30611605357952537, subsample=1.0 will be ignored. Current value: bagging_fraction=0.30611605357952537\n",
      "[LightGBM] [Warning] bagging_freq is set=10, subsample_freq=0 will be ignored. Current value: bagging_freq=10\n"
     ]
    },
    {
     "name": "stderr",
     "output_type": "stream",
     "text": [
      "\u001b[32m[I 2023-04-19 13:29:38,489]\u001b[0m Trial 42 finished with value: 1.0 and parameters: {'num_leaves': 129, 'learning_rate': 0.0020005025157979234, 'max_depth': 5, 'feature_fraction': 0.5801303395935669, 'bagging_fraction': 0.30611605357952537, 'bagging_freq': 10, 'min_child_samples': 97}. Best is trial 0 with value: 1.0.\u001b[0m\n"
     ]
    },
    {
     "name": "stdout",
     "output_type": "stream",
     "text": [
      "[LightGBM] [Warning] feature_fraction is set=0.6749772093411254, colsample_bytree=1.0 will be ignored. Current value: feature_fraction=0.6749772093411254\n",
      "[LightGBM] [Warning] bagging_fraction is set=0.26868837770667336, subsample=1.0 will be ignored. Current value: bagging_fraction=0.26868837770667336\n",
      "[LightGBM] [Warning] bagging_freq is set=9, subsample_freq=0 will be ignored. Current value: bagging_freq=9\n"
     ]
    },
    {
     "name": "stderr",
     "output_type": "stream",
     "text": [
      "\u001b[32m[I 2023-04-19 13:29:38,840]\u001b[0m Trial 43 finished with value: 0.9197384066587396 and parameters: {'num_leaves': 215, 'learning_rate': 0.0012750837115922484, 'max_depth': 7, 'feature_fraction': 0.6749772093411254, 'bagging_fraction': 0.26868837770667336, 'bagging_freq': 9, 'min_child_samples': 85}. Best is trial 0 with value: 1.0.\u001b[0m\n"
     ]
    },
    {
     "name": "stdout",
     "output_type": "stream",
     "text": [
      "[LightGBM] [Warning] feature_fraction is set=0.11132568045104582, colsample_bytree=1.0 will be ignored. Current value: feature_fraction=0.11132568045104582\n",
      "[LightGBM] [Warning] bagging_fraction is set=0.3569077866999604, subsample=1.0 will be ignored. Current value: bagging_fraction=0.3569077866999604\n",
      "[LightGBM] [Warning] bagging_freq is set=8, subsample_freq=0 will be ignored. Current value: bagging_freq=8\n"
     ]
    },
    {
     "name": "stderr",
     "output_type": "stream",
     "text": [
      "\u001b[32m[I 2023-04-19 13:29:39,195]\u001b[0m Trial 44 finished with value: 0.5325009908838684 and parameters: {'num_leaves': 180, 'learning_rate': 0.0010332804211625028, 'max_depth': 6, 'feature_fraction': 0.11132568045104582, 'bagging_fraction': 0.3569077866999604, 'bagging_freq': 8, 'min_child_samples': 70}. Best is trial 0 with value: 1.0.\u001b[0m\n"
     ]
    },
    {
     "name": "stdout",
     "output_type": "stream",
     "text": [
      "[LightGBM] [Warning] feature_fraction is set=0.24526699501302024, colsample_bytree=1.0 will be ignored. Current value: feature_fraction=0.24526699501302024\n",
      "[LightGBM] [Warning] bagging_fraction is set=0.11851988858010218, subsample=1.0 will be ignored. Current value: bagging_fraction=0.11851988858010218\n",
      "[LightGBM] [Warning] bagging_freq is set=2, subsample_freq=0 will be ignored. Current value: bagging_freq=2\n"
     ]
    },
    {
     "name": "stderr",
     "output_type": "stream",
     "text": [
      "\u001b[32m[I 2023-04-19 13:29:39,565]\u001b[0m Trial 45 finished with value: 0.9908838684106223 and parameters: {'num_leaves': 169, 'learning_rate': 0.005508107608845039, 'max_depth': 10, 'feature_fraction': 0.24526699501302024, 'bagging_fraction': 0.11851988858010218, 'bagging_freq': 2, 'min_child_samples': 32}. Best is trial 0 with value: 1.0.\u001b[0m\n",
      "\u001b[32m[I 2023-04-19 13:29:39,838]\u001b[0m Trial 46 finished with value: 1.0 and parameters: {'num_leaves': 232, 'learning_rate': 0.0035713529472351257, 'max_depth': 4, 'feature_fraction': 0.9484979637131136, 'bagging_fraction': 0.32541003655222533, 'bagging_freq': 9, 'min_child_samples': 84}. Best is trial 0 with value: 1.0.\u001b[0m\n"
     ]
    },
    {
     "name": "stdout",
     "output_type": "stream",
     "text": [
      "[LightGBM] [Warning] feature_fraction is set=0.9484979637131136, colsample_bytree=1.0 will be ignored. Current value: feature_fraction=0.9484979637131136\n",
      "[LightGBM] [Warning] bagging_fraction is set=0.32541003655222533, subsample=1.0 will be ignored. Current value: bagging_fraction=0.32541003655222533\n",
      "[LightGBM] [Warning] bagging_freq is set=9, subsample_freq=0 will be ignored. Current value: bagging_freq=9\n"
     ]
    },
    {
     "name": "stderr",
     "output_type": "stream",
     "text": [
      "\u001b[32m[I 2023-04-19 13:29:40,174]\u001b[0m Trial 47 finished with value: 1.0 and parameters: {'num_leaves': 117, 'learning_rate': 0.0018315882777031414, 'max_depth': 5, 'feature_fraction': 0.7479741578561431, 'bagging_fraction': 0.38620393007976817, 'bagging_freq': 7, 'min_child_samples': 67}. Best is trial 0 with value: 1.0.\u001b[0m\n"
     ]
    },
    {
     "name": "stdout",
     "output_type": "stream",
     "text": [
      "[LightGBM] [Warning] feature_fraction is set=0.7479741578561431, colsample_bytree=1.0 will be ignored. Current value: feature_fraction=0.7479741578561431\n",
      "[LightGBM] [Warning] bagging_fraction is set=0.38620393007976817, subsample=1.0 will be ignored. Current value: bagging_fraction=0.38620393007976817\n",
      "[LightGBM] [Warning] bagging_freq is set=7, subsample_freq=0 will be ignored. Current value: bagging_freq=7\n",
      "[LightGBM] [Warning] feature_fraction is set=0.4316937515227115, colsample_bytree=1.0 will be ignored. Current value: feature_fraction=0.4316937515227115\n",
      "[LightGBM] [Warning] bagging_fraction is set=0.4530389596779781, subsample=1.0 will be ignored. Current value: bagging_fraction=0.4530389596779781\n",
      "[LightGBM] [Warning] bagging_freq is set=5, subsample_freq=0 will be ignored. Current value: bagging_freq=5\n"
     ]
    },
    {
     "name": "stderr",
     "output_type": "stream",
     "text": [
      "\u001b[32m[I 2023-04-19 13:29:40,895]\u001b[0m Trial 48 finished with value: 1.0 and parameters: {'num_leaves': 133, 'learning_rate': 0.0255645833156468, 'max_depth': 9, 'feature_fraction': 0.4316937515227115, 'bagging_fraction': 0.4530389596779781, 'bagging_freq': 5, 'min_child_samples': 40}. Best is trial 0 with value: 1.0.\u001b[0m\n"
     ]
    },
    {
     "name": "stdout",
     "output_type": "stream",
     "text": [
      "[LightGBM] [Warning] feature_fraction is set=0.6450041184507278, colsample_bytree=1.0 will be ignored. Current value: feature_fraction=0.6450041184507278\n",
      "[LightGBM] [Warning] bagging_fraction is set=0.28058095825605167, subsample=1.0 will be ignored. Current value: bagging_fraction=0.28058095825605167\n",
      "[LightGBM] [Warning] bagging_freq is set=3, subsample_freq=0 will be ignored. Current value: bagging_freq=3\n"
     ]
    },
    {
     "name": "stderr",
     "output_type": "stream",
     "text": [
      "\u001b[32m[I 2023-04-19 13:29:41,300]\u001b[0m Trial 49 finished with value: 1.0 and parameters: {'num_leaves': 207, 'learning_rate': 0.003593849132468796, 'max_depth': 6, 'feature_fraction': 0.6450041184507278, 'bagging_fraction': 0.28058095825605167, 'bagging_freq': 3, 'min_child_samples': 32}. Best is trial 0 with value: 1.0.\u001b[0m\n"
     ]
    },
    {
     "name": "stdout",
     "output_type": "stream",
     "text": [
      "[LightGBM] [Warning] feature_fraction is set=0.21766653370064615, colsample_bytree=1.0 will be ignored. Current value: feature_fraction=0.21766653370064615\n",
      "[LightGBM] [Warning] bagging_fraction is set=0.7092149789929059, subsample=1.0 will be ignored. Current value: bagging_fraction=0.7092149789929059\n",
      "[LightGBM] [Warning] bagging_freq is set=2, subsample_freq=0 will be ignored. Current value: bagging_freq=2\n",
      "Best accuracy: 1.0\n",
      "Best parameters: {'num_leaves': 135, 'learning_rate': 0.023814525055492464, 'max_depth': 5, 'feature_fraction': 0.21766653370064615, 'bagging_fraction': 0.7092149789929059, 'bagging_freq': 2, 'min_child_samples': 43}\n"
     ]
    },
    {
     "ename": "NameError",
     "evalue": "name 'accuracy' is not defined",
     "output_type": "error",
     "traceback": [
      "\u001b[1;31m---------------------------------------------------------------------------\u001b[0m",
      "\u001b[1;31mNameError\u001b[0m                                 Traceback (most recent call last)",
      "\u001b[1;32m~\\AppData\\Local\\Temp\\ipykernel_20884\\3342521569.py\u001b[0m in \u001b[0;36m<module>\u001b[1;34m\u001b[0m\n\u001b[0;32m     24\u001b[0m \u001b[0mprint\u001b[0m\u001b[1;33m(\u001b[0m\u001b[1;34m'Best accuracy:'\u001b[0m\u001b[1;33m,\u001b[0m \u001b[0mstudy\u001b[0m\u001b[1;33m.\u001b[0m\u001b[0mbest_value\u001b[0m\u001b[1;33m)\u001b[0m\u001b[1;33m\u001b[0m\u001b[1;33m\u001b[0m\u001b[0m\n\u001b[0;32m     25\u001b[0m \u001b[0mprint\u001b[0m\u001b[1;33m(\u001b[0m\u001b[1;34m'Best parameters:'\u001b[0m\u001b[1;33m,\u001b[0m \u001b[0mstudy\u001b[0m\u001b[1;33m.\u001b[0m\u001b[0mbest_params\u001b[0m\u001b[1;33m)\u001b[0m\u001b[1;33m\u001b[0m\u001b[1;33m\u001b[0m\u001b[0m\n\u001b[1;32m---> 26\u001b[1;33m \u001b[0mprint\u001b[0m\u001b[1;33m(\u001b[0m\u001b[1;34m'Accuracy on test data:'\u001b[0m\u001b[1;33m,\u001b[0m \u001b[0maccuracy\u001b[0m\u001b[1;33m)\u001b[0m\u001b[1;33m\u001b[0m\u001b[1;33m\u001b[0m\u001b[0m\n\u001b[0m",
      "\u001b[1;31mNameError\u001b[0m: name 'accuracy' is not defined"
     ]
    }
   ],
   "source": [
    "# Define the search space using IntLogUniformDistribution\n",
    "search_space = {\n",
    "    'num_leaves': optuna.distributions.IntLogUniformDistribution(2, 256),\n",
    "    'learning_rate': optuna.distributions.LogUniformDistribution(0.001, 0.1),\n",
    "    'max_depth': optuna.distributions.IntUniformDistribution(3, 10),\n",
    "    'feature_fraction': optuna.distributions.UniformDistribution(0.1, 1.0),\n",
    "    'bagging_fraction': optuna.distributions.UniformDistribution(0.1, 1.0),\n",
    "    'bagging_freq': optuna.distributions.IntUniformDistribution(1, 10),\n",
    "    'min_child_samples': optuna.distributions.IntUniformDistribution(5, 100),\n",
    "}\n",
    "\n",
    "# Create a study object and run the optimization\n",
    "study = optuna.create_study(direction='maximize')\n",
    "study.optimize(objective, n_trials=50)\n",
    "\n",
    "# Train the final model with the best hyperparameters\n",
    "best_params = study.best_params\n",
    "model = lgb.LGBMClassifier(**best_params)\n",
    "model.fit(X_train, y_train)\n",
    "y_pred = model.predict(X_test)\n",
    "accuracy_lgbm = accuracy_score(y_test, y_pred)\n",
    "\n",
    "# Print the results\n",
    "print('Best accuracy:', study.best_value)\n",
    "print('Best parameters:', study.best_params)\n",
    "print('Accuracy on test data:', accuracy_lgbm)"
   ]
  },
  {
   "cell_type": "code",
   "execution_count": null,
   "id": "8f022442",
   "metadata": {},
   "outputs": [],
   "source": [
    "# Comparison of Models\n",
    "model_names = ['Decision Tree', 'Random Forest', 'Logistic Regression', 'Gaussian Naive Bayes', 'KNN', \n",
    "               \"Adaboost\", \"Gradient Boosting\",\"LGBM\"]\n",
    "scores = [decision_tree.score(X_test, y_test), random_forest.score(X_test, y_test), logistic_regression.score(X_test, y_test), \n",
    "          gauss_nb.score(X_test, y_test),k_neighbors.score(X_test, y_test),ada_boost.score(X_test, y_test),\n",
    "          gradient_boost.score(X_test, y_test),accuracy_lgbm]\n",
    "\n",
    "# Create a bar chart\n",
    "plt.bar(model_names, scores)\n",
    "\n",
    "# Add labels and title\n",
    "plt.xlabel('Model')\n",
    "plt.ylabel('Mean score')\n",
    "plt.title('Model comparison')\n",
    "\n",
    "# Display the graph\n",
    "for i in range(len(model_names)):\n",
    "    plt.text(i, scores[i]/2, '{:.2f}'.format(scores[i]), ha='center', va='center')\n",
    "plt.xticks(rotation=90)\n",
    "plt.show()"
   ]
  }
 ],
 "metadata": {
  "kernelspec": {
   "display_name": "Python 3 (ipykernel)",
   "language": "python",
   "name": "python3"
  },
  "language_info": {
   "codemirror_mode": {
    "name": "ipython",
    "version": 3
   },
   "file_extension": ".py",
   "mimetype": "text/x-python",
   "name": "python",
   "nbconvert_exporter": "python",
   "pygments_lexer": "ipython3",
   "version": "3.9.13"
  }
 },
 "nbformat": 4,
 "nbformat_minor": 5
}
