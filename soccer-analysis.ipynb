{
 "cells": [
  {
   "cell_type": "code",
   "execution_count": 6,
   "id": "3a4bfb53",
   "metadata": {
    "pycharm": {
     "name": ""
    }
   },
   "outputs": [],
   "source": [
    "# all imports go in this block\n",
    "import sqlite3\n",
    "import pandas as pd"
   ]
  },
  {
   "cell_type": "code",
   "execution_count": 10,
   "id": "2878443f",
   "metadata": {},
   "outputs": [],
   "source": [
    "# open connection \n",
    "conn = sqlite3.connect(\"data/database.sqlite\")\n",
    "cur = conn.cursor()"
   ]
  },
  {
   "cell_type": "code",
   "execution_count": 11,
   "id": "125499af",
   "metadata": {},
   "outputs": [],
   "source": [
    "# function to execute queries\n",
    "def executeQuery(cur, query):\n",
    "    print(\"executing query: \")\n",
    "    cur.execute(query)\n",
    "    return cur.fetchall()"
   ]
  },
  {
   "cell_type": "code",
   "execution_count": 12,
   "id": "d352b05a",
   "metadata": {},
   "outputs": [
    {
     "name": "stdout",
     "output_type": "stream",
     "text": [
      "executing query: \n",
      "[('sqlite_sequence',), ('Player_Attributes',), ('Player',), ('Match',), ('League',), ('Country',), ('Team',), ('Team_Attributes',)]\n"
     ]
    }
   ],
   "source": [
    "# list of all tables\n",
    "q_all_tables = \"\"\"SELECT name FROM sqlite_master\n",
    "    WHERE type='table';\"\"\"\n",
    "all_tables = executeQuery(cur, q_all_tables)\n",
    "print(all_tables)"
   ]
  },
  {
   "cell_type": "code",
   "execution_count": 13,
   "id": "e656ef84",
   "metadata": {},
   "outputs": [],
   "source": [
    "\n",
    "# always run this at connecting\n",
    "conn.close()"
   ]
  },
  {
   "cell_type": "code",
   "execution_count": null,
   "id": "5e0ae389",
   "metadata": {},
   "outputs": [],
   "source": []
  }
 ],
 "metadata": {
  "kernelspec": {
   "display_name": "Python 3 (ipykernel)",
   "language": "python",
   "name": "python3"
  },
  "language_info": {
   "codemirror_mode": {
    "name": "ipython",
    "version": 3
   },
   "file_extension": ".py",
   "mimetype": "text/x-python",
   "name": "python",
   "nbconvert_exporter": "python",
   "pygments_lexer": "ipython3",
   "version": "3.9.16"
  }
 },
 "nbformat": 4,
 "nbformat_minor": 5
}
