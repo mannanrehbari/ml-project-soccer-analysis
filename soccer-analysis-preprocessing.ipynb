{
 "cells": [
  {
   "cell_type": "code",
   "execution_count": null,
   "id": "3a4bfb53",
   "metadata": {
    "pycharm": {
     "name": ""
    }
   },
   "outputs": [],
   "source": [
    "import sqlite3\n",
    "import pandas as pd\n",
    "import numpy as np\n",
    "\n",
    "from datetime import datetime\n",
    "from dateutil.relativedelta import relativedelta\n",
    "\n",
    "from sklearn.model_selection import KFold\n",
    "from sklearn.model_selection import train_test_split\n",
    "\n",
    "from sklearn.tree import DecisionTreeClassifier\n",
    "from sklearn.ensemble import RandomForestClassifier\n",
    "\n",
    "import matplotlib.pyplot as plt \n",
    "import seaborn as sns # Import seaborn\n",
    "\n",
    "from datetime import datetime\n",
    "from datetime import date\n",
    "from dateutil import parser\n",
    "\n",
    "from collections import defaultdict\n",
    "\n",
    "import warnings\n",
    "import time"
   ]
  },
  {
   "cell_type": "markdown",
   "id": "b9eef820",
   "metadata": {},
   "source": [
    "## Read the dataframe from eda and visualization"
   ]
  },
  {
   "cell_type": "code",
   "execution_count": null,
   "id": "de88c6fd",
   "metadata": {},
   "outputs": [],
   "source": [
    "curr_date = \"2023-03-16\"\n",
    "pickle_file = 'sa-eda-' + curr_date + '.pkl'\n",
    "pickle_file_path = 'data/' + pickle_file\n",
    "df_main_nn = pd.read_pickle(pickle_file_path)"
   ]
  },
  {
   "cell_type": "code",
   "execution_count": null,
   "id": "f3813809",
   "metadata": {},
   "outputs": [],
   "source": [
    "# show all columns\n",
    "pd.options.display.max_columns = None"
   ]
  },
  {
   "cell_type": "code",
   "execution_count": null,
   "id": "db3321f0",
   "metadata": {},
   "outputs": [],
   "source": [
    "# calculate age\n",
    "pd.options.mode.chained_assignment = None\n",
    "\n",
    "hp = 'home_player_'\n",
    "ap = 'away_player_'\n",
    "for i in range(1, 12):\n",
    "    hp_n = hp+str(i)\n",
    "    ap_n = ap+str(i)\n",
    "    df_main_nn['date'] = pd.to_datetime(df_main_nn['date'])\n",
    "    df_main_nn[hp_n+\"_birthday\"] = pd.to_datetime(df_main_nn[hp_n+\"_birthday\"])\n",
    "    df_main_nn[ap_n+\"_birthday\"] = pd.to_datetime(df_main_nn[ap_n+\"_birthday\"])\n",
    "    \n",
    "    df_main_nn[hp_n+\"_age\"] = (df_main_nn['date'].dt.year - df_main_nn[hp_n+\"_birthday\"].dt.year)\n",
    "    df_main_nn[ap_n+\"_age\"] = (df_main_nn['date'].dt.year - df_main_nn[ap_n+\"_birthday\"].dt.year)   "
   ]
  },
  {
   "cell_type": "code",
   "execution_count": null,
   "id": "af5af646",
   "metadata": {},
   "outputs": [],
   "source": [
    "print(df_main_nn.shape)\n",
    "\n",
    "df_main_nn.tail()"
   ]
  },
  {
   "cell_type": "code",
   "execution_count": null,
   "id": "06a13fcb",
   "metadata": {},
   "outputs": [],
   "source": [
    "df_main_nn['outcome'] = (df_main_nn[\"home_team_goal\"] > df_main_nn[\"away_team_goal\"])"
   ]
  },
  {
   "cell_type": "code",
   "execution_count": null,
   "id": "94ab71de",
   "metadata": {},
   "outputs": [],
   "source": [
    "df_main_nn = df_main_nn.sort_values(['home_team_api_id', 'date'])"
   ]
  },
  {
   "cell_type": "code",
   "execution_count": null,
   "id": "69c76f4d",
   "metadata": {},
   "outputs": [],
   "source": [
    "df_main_nn['last_ten'] = False"
   ]
  },
  {
   "cell_type": "code",
   "execution_count": null,
   "id": "9c7062c5",
   "metadata": {},
   "outputs": [],
   "source": [
    "# df_main_clean['last_ten'] = df_main_clean.groupby('home_team_api_id')['outcome'].rolling(window=10, min_periods=1).sum().reset_index(level=0, drop=True)\n",
    "# df_main_clean['last_ten'] = df_main_clean.groupby(['date', 'home_team_api_id'])['outcome'].rolling(window=10, min_periods=1).sum().shift(1)\n",
    "df_main_nn['last_ten'] = df_main_nn.groupby('home_team_api_id')['outcome'].rolling(window=30, min_periods=1, closed=\"left\").sum().reset_index(0, drop=True)\n",
    "df_main_nn = df_main_nn[~df_main_nn.isnull().any(axis=1)]"
   ]
  },
  {
   "cell_type": "code",
   "execution_count": null,
   "id": "965975fd",
   "metadata": {},
   "outputs": [],
   "source": [
    "# Proof of Concept for rolling window of 10 \n",
    "df = pd.DataFrame({\n",
    "    'team_id': ['A', 'A', 'A', 'B', 'B', 'B', 'A', 'A', 'B', 'B', 'A', 'B', 'A', 'B', 'A', 'B', 'B', 'A', 'A', 'B'],\n",
    "    'game_date': pd.date_range(start='2022-01-01', periods=20, freq='D'),\n",
    "    'game_result': [True, False, True, True, True, False, True, True, False, True, True, False, True, False, True, False, True, True, True, False]\n",
    "})\n",
    "\n",
    "# Compute the number of wins in the last 10 games for each team\n",
    "# df['last_ten'] = df.groupby('team_id')['game_result'].rolling(window=10, min_periods=2).sum().reset_index(0, drop=True)\n",
    "df = df.sort_values(['team_id', 'game_date'])\n",
    "df['last_ten'] = df.groupby(['team_id'])['game_result'].rolling(window=15, min_periods=5, closed=\"left\").sum().reset_index(0, drop=True)\n"
   ]
  },
  {
   "cell_type": "code",
   "execution_count": null,
   "id": "2e50c657",
   "metadata": {},
   "outputs": [],
   "source": [
    "print(df_main_nn.shape)\n",
    "export_list = ['id_main', 'date', 'match_api_id', 'home_team_api_id', 'away_team_api_id', 'home_team_goal', 'away_team_goal', 'outcome', 'last_ten']\n",
    "df_main_streak = df_main_nn[export_list]\n",
    "df_2_csv = df_main_streak.tail(400).to_csv('data/last_ten.csv')"
   ]
  },
  {
   "cell_type": "code",
   "execution_count": null,
   "id": "a740f88e",
   "metadata": {},
   "outputs": [],
   "source": [
    "df_main_nn.head()"
   ]
  },
  {
   "cell_type": "code",
   "execution_count": null,
   "id": "368fc612",
   "metadata": {},
   "outputs": [],
   "source": [
    "# Average Height for teams\n",
    "\n",
    "hp = 'home_player_'\n",
    "hp_col_list_height = [hp+str(i)+'_height' for i in range(1,12)] \n",
    "\n",
    "ap = 'away_player_'\n",
    "ap_col_list_height = [ap+str(i)+'_height' for i in range(1,12)] \n",
    "  \n",
    "\n",
    "df_main_nn[hp+'height_total'] = df_main_nn[hp_col_list_height].sum(axis=1)\n",
    "df_main_nn[ap+'height_total'] = df_main_nn[ap_col_list_height].sum(axis=1)\n",
    "\n"
   ]
  },
  {
   "cell_type": "code",
   "execution_count": null,
   "id": "41235f97",
   "metadata": {},
   "outputs": [],
   "source": [
    "# Average Weight for teams\n",
    "\n",
    "hp = 'home_player_'\n",
    "hp_col_list_weight = [hp+str(i)+'_weight' for i in range(1,12)] \n",
    "hp_col_list_age = [hp+str(i)+'_age' for i in range(1,12)]\n",
    "hp_col_list_rating = [hp+str(i)+'_rating' for i in range(1,12)] \n",
    "# print(hp_col_list_weight)    \n",
    "\n",
    "ap = 'away_player_'\n",
    "ap_col_list_weight = [ap+str(i)+'_weight' for i in range(1,12)]\n",
    "ap_col_list_age = [ap+str(i)+'_age' for i in range(1,12)]\n",
    "ap_col_list_rating = [hp+str(i)+'_rating' for i in range(1,12)] \n",
    "# print(ap_col_list_weight)\n",
    "\n",
    "df_main_nn[hp+'weight_total'] = df_main_nn[hp_col_list_weight].sum(axis=1)\n",
    "df_main_nn[ap+'weight_total'] = df_main_nn[ap_col_list_weight].sum(axis=1)\n",
    "\n",
    "df_main_nn[hp+'rating_total'] = df_main_nn[hp_col_list_rating].sum(axis=1)\n",
    "df_main_nn[ap+'rating_total'] = df_main_nn[ap_col_list_rating].sum(axis=1)\n",
    "\n",
    "df_main_nn[hp+'age_total'] = df_main_nn[hp_col_list_age].sum(axis=1)\n",
    "df_main_nn[ap+'age_total'] = df_main_nn[ap_col_list_age].sum(axis=1)\n",
    "\n",
    "df_main_nn[hp+'age_average'] = (df_main_nn[hp+'age_total']/11)\n",
    "df_main_nn[ap+'age_average'] = (df_main_nn[ap+'age_total']/11)\n",
    "\n",
    "df_main_nn[hp+'rating_average'] = (df_main_nn[hp+'rating_total']/11)\n",
    "df_main_nn[ap+'rating_average'] = (df_main_nn[ap+'rating_total']/11)\n"
   ]
  },
  {
   "cell_type": "code",
   "execution_count": null,
   "id": "6e7f99bf",
   "metadata": {},
   "outputs": [],
   "source": [
    "# calculate BMI for teams \n",
    "df_main_nn['home_team_bmi'] = ((df_main_nn['home_player_weight_total']/2.20462)/((df_main_nn['home_player_height_total']/100)**2))*11\n",
    "df_main_nn['away_team_bmi'] = ((df_main_nn['away_player_weight_total']/2.20462)/((df_main_nn['away_player_height_total']/100)**2))*11"
   ]
  },
  {
   "cell_type": "code",
   "execution_count": null,
   "id": "b7db29fc",
   "metadata": {},
   "outputs": [],
   "source": [
    "df_main_nn.tail()"
   ]
  },
  {
   "cell_type": "code",
   "execution_count": null,
   "id": "b311923c",
   "metadata": {},
   "outputs": [],
   "source": [
    "df_main_nn.tail()"
   ]
  },
  {
   "cell_type": "code",
   "execution_count": null,
   "id": "8e3ef139",
   "metadata": {},
   "outputs": [],
   "source": [
    "hist_home_team_bmi = df_main_nn.hist(column='home_team_bmi', bins=10)"
   ]
  },
  {
   "cell_type": "code",
   "execution_count": null,
   "id": "d64dcd3e",
   "metadata": {},
   "outputs": [],
   "source": [
    "hist_away_team_bmi = df_main_nn.hist(column='away_team_bmi', bins=10)"
   ]
  },
  {
   "cell_type": "code",
   "execution_count": null,
   "id": "624073c6",
   "metadata": {},
   "outputs": [],
   "source": [
    "hist_home_player_age_average = df_main_nn.hist(column='home_player_age_average', bins=10)"
   ]
  },
  {
   "cell_type": "code",
   "execution_count": null,
   "id": "bef61250",
   "metadata": {},
   "outputs": [],
   "source": [
    "hist_away_player_age_average = df_main_nn.hist(column='away_player_age_average', bins=10)"
   ]
  },
  {
   "cell_type": "code",
   "execution_count": null,
   "id": "d4000adc",
   "metadata": {
    "scrolled": true
   },
   "outputs": [],
   "source": [
    "count_home_team_win = df_main_nn['outcome'].value_counts()[True]\n",
    "count_home_team_not_win = df_main_nn['outcome'].value_counts()[False]\n",
    "game_sum = count_home_team_win + count_home_team_not_win \n",
    "print(\"Home team win count\")\n",
    "print(count_home_team_win)\n",
    "print(\"\\nHome team no win count\")\n",
    "print(count_home_team_not_win)\n",
    "print(\"\\nActual win percentage for home team\")\n",
    "print((count_home_team_win / game_sum )* 100)"
   ]
  },
  {
   "cell_type": "code",
   "execution_count": null,
   "id": "c5e5c8ad",
   "metadata": {},
   "outputs": [],
   "source": [
    "curr_date = date.today().strftime('%Y-%m-%d')\n",
    "pickle_file = 'sa-preprocessing-' + curr_date + '.pkl'\n",
    "pickle_file_path = 'data/' + pickle_file\n",
    "df_main_nn.to_pickle(pickle_file_path)\n",
    "print('Saved dataframe into .pkl file')"
   ]
  }
 ],
 "metadata": {
  "kernelspec": {
   "display_name": "Python 3 (ipykernel)",
   "language": "python",
   "name": "python3"
  },
  "language_info": {
   "codemirror_mode": {
    "name": "ipython",
    "version": 3
   },
   "file_extension": ".py",
   "mimetype": "text/x-python",
   "name": "python",
   "nbconvert_exporter": "python",
   "pygments_lexer": "ipython3",
   "version": "3.9.13"
  }
 },
 "nbformat": 4,
 "nbformat_minor": 5
}
