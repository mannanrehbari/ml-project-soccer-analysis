{
 "cells": [
  {
   "cell_type": "code",
   "execution_count": 1,
   "id": "11636311",
   "metadata": {},
   "outputs": [],
   "source": [
    "# !pip install lightgbm\n",
    "# !pip install optuna"
   ]
  },
  {
   "cell_type": "code",
   "execution_count": 35,
   "id": "a8752ba6",
   "metadata": {},
   "outputs": [],
   "source": [
    "import sqlite3\n",
    "import pandas as pd\n",
    "import numpy as np\n",
    "\n",
    "from datetime import datetime\n",
    "from dateutil.relativedelta import relativedelta\n",
    "\n",
    "from sklearn.model_selection import KFold\n",
    "from sklearn.model_selection import train_test_split, cross_val_score\n",
    "\n",
    "from sklearn.tree import DecisionTreeClassifier\n",
    "from sklearn.ensemble import RandomForestClassifier\n",
    "\n",
    "from sklearn.inspection import permutation_importance\n",
    "from sklearn import preprocessing\n",
    "from sklearn.preprocessing import MinMaxScaler\n",
    "\n",
    "from sklearn.decomposition import PCA\n",
    "\n",
    "from sklearn import linear_model\n",
    "from sklearn.linear_model import LogisticRegression\n",
    "from sklearn.naive_bayes import GaussianNB\n",
    "from sklearn.neighbors import KNeighborsClassifier\n",
    "from sklearn.ensemble import AdaBoostClassifier\n",
    "from sklearn.ensemble import GradientBoostingClassifier\n",
    "\n",
    "import matplotlib.pyplot as plt \n",
    "import seaborn as sns # Import seaborn\n",
    "\n",
    "from datetime import date\n",
    "from dateutil import parser\n",
    "\n",
    "import lightgbm as lgb\n",
    "from sklearn.metrics import accuracy_score\n",
    "from sklearn.metrics import f1_score\n",
    "import optuna\n",
    "from optuna.integration import OptunaSearchCV\n",
    "\n",
    "from collections import defaultdict\n",
    "\n",
    "import time\n",
    "\n",
    "from warnings import simplefilter"
   ]
  },
  {
   "cell_type": "code",
   "execution_count": 3,
   "id": "723166e4",
   "metadata": {},
   "outputs": [],
   "source": [
    "simplefilter(action=\"ignore\",category=FutureWarning)"
   ]
  },
  {
   "cell_type": "code",
   "execution_count": 4,
   "id": "15c70c76",
   "metadata": {},
   "outputs": [
    {
     "data": {
      "text/plain": [
       "<bound method NDFrame.head of        id_main     season       date  match_api_id  home_team_api_id  \\\n",
       "6559     17130  2013/2014 2013-08-30       1467856              1601   \n",
       "9336     17146  2013/2014 2013-09-22       1467891              1601   \n",
       "20967    16930  2013/2014 2013-09-28       1467712              1601   \n",
       "21295    17020  2013/2014 2013-12-07       1468015              1601   \n",
       "395      17039  2013/2014 2014-02-16       1467719              1601   \n",
       "...        ...        ...        ...           ...               ...   \n",
       "2869      1589  2015/2016 2015-12-19       1979980            274581   \n",
       "321       1549  2015/2016 2015-12-22       1979948            274581   \n",
       "5596      1613  2015/2016 2016-01-23       1980004            274581   \n",
       "6049      1629  2015/2016 2016-02-06       1980020            274581   \n",
       "12375     1661  2015/2016 2016-03-05       1980052            274581   \n",
       "\n",
       "       away_team_api_id  home_team_goal  away_team_goal  home_player_1  \\\n",
       "6559               8021               0               2       275751.0   \n",
       "9336               8025               1               1       138159.0   \n",
       "20967             10265               1               1       138159.0   \n",
       "21295              8020               2               1       138159.0   \n",
       "395                1957               1               0       138159.0   \n",
       "...                 ...             ...             ...            ...   \n",
       "2869               8475               0               1       128083.0   \n",
       "321                9986               0               1       128083.0   \n",
       "5596               9994               1               1       128083.0   \n",
       "6049               9987               0               1       128083.0   \n",
       "12375              8635               2               1       128083.0   \n",
       "\n",
       "       home_player_2  ...  away_player_rating_average  home_team_bmi  \\\n",
       "6559        393287.0  ...                   63.181818      22.650580   \n",
       "9336        488960.0  ...                   64.090909      22.238524   \n",
       "20967        69254.0  ...                   64.181818      22.379022   \n",
       "21295       393287.0  ...                   64.727273      22.542005   \n",
       "395          69254.0  ...                   63.727273      22.393850   \n",
       "...              ...  ...                         ...            ...   \n",
       "2869        280251.0  ...                   64.090909      22.763890   \n",
       "321         280251.0  ...                   67.818182      22.846477   \n",
       "5596        280251.0  ...                   69.090909      22.817615   \n",
       "6049        202471.0  ...                   70.090909      22.714948   \n",
       "12375       522673.0  ...                   73.727273      23.277864   \n",
       "\n",
       "       away_team_bmi  avg_height_diff  avg_weight_diff  avg_rating_diff  \\\n",
       "6559       23.126629    -9.236364e-01        -5.181818        -2.909091   \n",
       "9336       22.834007    -1.154545e+00        -6.454545        -3.000000   \n",
       "20967      23.579452    -2.309091e+00       -12.909091        -3.090909   \n",
       "21295      23.268154    -4.618182e-01        -6.090909        -3.909091   \n",
       "395        23.452513    -5.684342e-14        -7.727273        -1.181818   \n",
       "...              ...              ...              ...              ...   \n",
       "2869       23.119790     2.309091e-01        -2.181818         1.727273   \n",
       "321        22.450795     4.618182e-01         3.727273        -2.181818   \n",
       "5596       22.977536    -2.540000e+00        -5.909091        -2.818182   \n",
       "6049       22.747090     1.616364e+00         2.727273        -4.090909   \n",
       "12375      23.594146     4.618182e-01        -1.454545        -7.727273   \n",
       "\n",
       "       avg_age_diff  avg_bmi_diff  goal_diff  last_10_diff  \n",
       "6559       0.272727     -0.476049         -2             0  \n",
       "9336      -2.545455     -0.595483          0            -2  \n",
       "20967     -1.090909     -1.200430          0            -2  \n",
       "21295     -2.181818     -0.726149          1            -2  \n",
       "395        2.818182     -1.058664          1            -1  \n",
       "...             ...           ...        ...           ...  \n",
       "2869       1.090909     -0.355899         -1            -3  \n",
       "321       -2.727273      0.395681         -1            -5  \n",
       "5596      -1.636364     -0.159922          0            -4  \n",
       "6049       1.000000     -0.032142         -1            -4  \n",
       "12375      0.818182     -0.316282          1            -4  \n",
       "\n",
       "[20182 rows x 213 columns]>"
      ]
     },
     "execution_count": 4,
     "metadata": {},
     "output_type": "execute_result"
    }
   ],
   "source": [
    "pd.options.mode.chained_assignment = None\n",
    "\n",
    "# Import pre-processed data frame\n",
    "curr_date = \"2023-04-22\"\n",
    "pickle_file = 'sa-preprocessing-' + curr_date + '.pkl'\n",
    "pickle_file_path = 'data/' + pickle_file\n",
    "df_main_nn = pd.read_pickle(pickle_file_path)\n",
    "\n",
    "df_main_nn.head"
   ]
  },
  {
   "cell_type": "code",
   "execution_count": 5,
   "id": "29987d32",
   "metadata": {},
   "outputs": [],
   "source": [
    "# Create the dataframe for modeling\n",
    "# feature_names = [\"last_ten\",\"last_five\",\"last_three\",\n",
    "#                  \"away_player_height_average\",\"away_player_height_average\",\n",
    "# #                  \"home_player_weight_average\",\n",
    "# #               \"away_player_weight_average\",\n",
    "# #                  'home_player_age_average','away_player_age_average',\n",
    "#                  'home_player_rating_average','away_player_rating_average',\n",
    "#               'home_team_bmi' ,'away_team_bmi', \n",
    "#                  'last_10_diff']\n",
    "feature_names = [\"last_ten\",\"last_five\",\"last_three\",  'last_10_diff', \n",
    "                \"avg_height_diff\", \"avg_weight_diff\", \"avg_rating_diff\",\n",
    "                \"avg_age_diff\", \"avg_bmi_diff\"]\n",
    "X = df_main_nn[feature_names].values\n",
    "y = df_main_nn['outcome'].values"
   ]
  },
  {
   "cell_type": "code",
   "execution_count": 6,
   "id": "31368660",
   "metadata": {},
   "outputs": [],
   "source": [
    "scaler = preprocessing.MinMaxScaler().fit(X)\n",
    "X = scaler.transform(X)"
   ]
  },
  {
   "cell_type": "code",
   "execution_count": 7,
   "id": "047ed20e",
   "metadata": {},
   "outputs": [
    {
     "data": {
      "text/html": [
       "<div>\n",
       "<style scoped>\n",
       "    .dataframe tbody tr th:only-of-type {\n",
       "        vertical-align: middle;\n",
       "    }\n",
       "\n",
       "    .dataframe tbody tr th {\n",
       "        vertical-align: top;\n",
       "    }\n",
       "\n",
       "    .dataframe thead th {\n",
       "        text-align: right;\n",
       "    }\n",
       "</style>\n",
       "<table border=\"1\" class=\"dataframe\">\n",
       "  <thead>\n",
       "    <tr style=\"text-align: right;\">\n",
       "      <th></th>\n",
       "      <th>0</th>\n",
       "      <th>1</th>\n",
       "      <th>2</th>\n",
       "      <th>3</th>\n",
       "      <th>4</th>\n",
       "      <th>5</th>\n",
       "      <th>6</th>\n",
       "      <th>7</th>\n",
       "      <th>8</th>\n",
       "    </tr>\n",
       "  </thead>\n",
       "  <tbody>\n",
       "    <tr>\n",
       "      <th>20082</th>\n",
       "      <td>0.3</td>\n",
       "      <td>0.2</td>\n",
       "      <td>0.333333</td>\n",
       "      <td>0.285714</td>\n",
       "      <td>0.406593</td>\n",
       "      <td>0.415323</td>\n",
       "      <td>0.430412</td>\n",
       "      <td>0.565714</td>\n",
       "      <td>0.441696</td>\n",
       "    </tr>\n",
       "    <tr>\n",
       "      <th>20083</th>\n",
       "      <td>0.3</td>\n",
       "      <td>0.2</td>\n",
       "      <td>0.000000</td>\n",
       "      <td>0.285714</td>\n",
       "      <td>0.241758</td>\n",
       "      <td>0.338710</td>\n",
       "      <td>0.311856</td>\n",
       "      <td>0.525714</td>\n",
       "      <td>0.525802</td>\n",
       "    </tr>\n",
       "    <tr>\n",
       "      <th>20084</th>\n",
       "      <td>0.3</td>\n",
       "      <td>0.2</td>\n",
       "      <td>0.000000</td>\n",
       "      <td>0.317460</td>\n",
       "      <td>0.329670</td>\n",
       "      <td>0.350806</td>\n",
       "      <td>0.420103</td>\n",
       "      <td>0.371429</td>\n",
       "      <td>0.444448</td>\n",
       "    </tr>\n",
       "    <tr>\n",
       "      <th>20085</th>\n",
       "      <td>0.2</td>\n",
       "      <td>0.0</td>\n",
       "      <td>0.000000</td>\n",
       "      <td>0.285714</td>\n",
       "      <td>0.461538</td>\n",
       "      <td>0.364919</td>\n",
       "      <td>0.445876</td>\n",
       "      <td>0.582857</td>\n",
       "      <td>0.318689</td>\n",
       "    </tr>\n",
       "    <tr>\n",
       "      <th>20086</th>\n",
       "      <td>0.3</td>\n",
       "      <td>0.2</td>\n",
       "      <td>0.333333</td>\n",
       "      <td>0.333333</td>\n",
       "      <td>0.351648</td>\n",
       "      <td>0.231855</td>\n",
       "      <td>0.422680</td>\n",
       "      <td>0.445714</td>\n",
       "      <td>0.272671</td>\n",
       "    </tr>\n",
       "    <tr>\n",
       "      <th>...</th>\n",
       "      <td>...</td>\n",
       "      <td>...</td>\n",
       "      <td>...</td>\n",
       "      <td>...</td>\n",
       "      <td>...</td>\n",
       "      <td>...</td>\n",
       "      <td>...</td>\n",
       "      <td>...</td>\n",
       "      <td>...</td>\n",
       "    </tr>\n",
       "    <tr>\n",
       "      <th>20177</th>\n",
       "      <td>0.2</td>\n",
       "      <td>0.0</td>\n",
       "      <td>0.000000</td>\n",
       "      <td>0.301587</td>\n",
       "      <td>0.472527</td>\n",
       "      <td>0.439516</td>\n",
       "      <td>0.512887</td>\n",
       "      <td>0.537143</td>\n",
       "      <td>0.404196</td>\n",
       "    </tr>\n",
       "    <tr>\n",
       "      <th>20178</th>\n",
       "      <td>0.1</td>\n",
       "      <td>0.0</td>\n",
       "      <td>0.000000</td>\n",
       "      <td>0.269841</td>\n",
       "      <td>0.483516</td>\n",
       "      <td>0.570565</td>\n",
       "      <td>0.402062</td>\n",
       "      <td>0.297143</td>\n",
       "      <td>0.553104</td>\n",
       "    </tr>\n",
       "    <tr>\n",
       "      <th>20179</th>\n",
       "      <td>0.1</td>\n",
       "      <td>0.0</td>\n",
       "      <td>0.000000</td>\n",
       "      <td>0.285714</td>\n",
       "      <td>0.340659</td>\n",
       "      <td>0.356855</td>\n",
       "      <td>0.384021</td>\n",
       "      <td>0.365714</td>\n",
       "      <td>0.443024</td>\n",
       "    </tr>\n",
       "    <tr>\n",
       "      <th>20180</th>\n",
       "      <td>0.1</td>\n",
       "      <td>0.0</td>\n",
       "      <td>0.000000</td>\n",
       "      <td>0.285714</td>\n",
       "      <td>0.538462</td>\n",
       "      <td>0.548387</td>\n",
       "      <td>0.347938</td>\n",
       "      <td>0.531429</td>\n",
       "      <td>0.468341</td>\n",
       "    </tr>\n",
       "    <tr>\n",
       "      <th>20181</th>\n",
       "      <td>0.1</td>\n",
       "      <td>0.0</td>\n",
       "      <td>0.000000</td>\n",
       "      <td>0.285714</td>\n",
       "      <td>0.483516</td>\n",
       "      <td>0.455645</td>\n",
       "      <td>0.244845</td>\n",
       "      <td>0.520000</td>\n",
       "      <td>0.412045</td>\n",
       "    </tr>\n",
       "  </tbody>\n",
       "</table>\n",
       "<p>100 rows × 9 columns</p>\n",
       "</div>"
      ],
      "text/plain": [
       "         0    1         2         3         4         5         6         7  \\\n",
       "20082  0.3  0.2  0.333333  0.285714  0.406593  0.415323  0.430412  0.565714   \n",
       "20083  0.3  0.2  0.000000  0.285714  0.241758  0.338710  0.311856  0.525714   \n",
       "20084  0.3  0.2  0.000000  0.317460  0.329670  0.350806  0.420103  0.371429   \n",
       "20085  0.2  0.0  0.000000  0.285714  0.461538  0.364919  0.445876  0.582857   \n",
       "20086  0.3  0.2  0.333333  0.333333  0.351648  0.231855  0.422680  0.445714   \n",
       "...    ...  ...       ...       ...       ...       ...       ...       ...   \n",
       "20177  0.2  0.0  0.000000  0.301587  0.472527  0.439516  0.512887  0.537143   \n",
       "20178  0.1  0.0  0.000000  0.269841  0.483516  0.570565  0.402062  0.297143   \n",
       "20179  0.1  0.0  0.000000  0.285714  0.340659  0.356855  0.384021  0.365714   \n",
       "20180  0.1  0.0  0.000000  0.285714  0.538462  0.548387  0.347938  0.531429   \n",
       "20181  0.1  0.0  0.000000  0.285714  0.483516  0.455645  0.244845  0.520000   \n",
       "\n",
       "              8  \n",
       "20082  0.441696  \n",
       "20083  0.525802  \n",
       "20084  0.444448  \n",
       "20085  0.318689  \n",
       "20086  0.272671  \n",
       "...         ...  \n",
       "20177  0.404196  \n",
       "20178  0.553104  \n",
       "20179  0.443024  \n",
       "20180  0.468341  \n",
       "20181  0.412045  \n",
       "\n",
       "[100 rows x 9 columns]"
      ]
     },
     "execution_count": 7,
     "metadata": {},
     "output_type": "execute_result"
    }
   ],
   "source": [
    "X_train,X_test,y_train,y_test = train_test_split(X,y)\n",
    "pd.DataFrame(X).tail(100)"
   ]
  },
  {
   "cell_type": "code",
   "execution_count": 8,
   "id": "6d43b8a0",
   "metadata": {},
   "outputs": [
    {
     "data": {
      "text/html": [
       "<div>\n",
       "<style scoped>\n",
       "    .dataframe tbody tr th:only-of-type {\n",
       "        vertical-align: middle;\n",
       "    }\n",
       "\n",
       "    .dataframe tbody tr th {\n",
       "        vertical-align: top;\n",
       "    }\n",
       "\n",
       "    .dataframe thead th {\n",
       "        text-align: right;\n",
       "    }\n",
       "</style>\n",
       "<table border=\"1\" class=\"dataframe\">\n",
       "  <thead>\n",
       "    <tr style=\"text-align: right;\">\n",
       "      <th></th>\n",
       "      <th>last_ten</th>\n",
       "      <th>last_five</th>\n",
       "      <th>last_three</th>\n",
       "      <th>last_10_diff</th>\n",
       "      <th>avg_height_diff</th>\n",
       "      <th>avg_weight_diff</th>\n",
       "      <th>avg_rating_diff</th>\n",
       "      <th>avg_age_diff</th>\n",
       "      <th>avg_bmi_diff</th>\n",
       "    </tr>\n",
       "  </thead>\n",
       "  <tbody>\n",
       "    <tr>\n",
       "      <th>15630</th>\n",
       "      <td>3.0</td>\n",
       "      <td>1.0</td>\n",
       "      <td>1.0</td>\n",
       "      <td>-4</td>\n",
       "      <td>-1.154545</td>\n",
       "      <td>-3.272727</td>\n",
       "      <td>-1.181818</td>\n",
       "      <td>1.545455</td>\n",
       "      <td>-0.166628</td>\n",
       "    </tr>\n",
       "    <tr>\n",
       "      <th>18436</th>\n",
       "      <td>3.0</td>\n",
       "      <td>1.0</td>\n",
       "      <td>0.0</td>\n",
       "      <td>-4</td>\n",
       "      <td>-4.618182</td>\n",
       "      <td>-6.727273</td>\n",
       "      <td>-5.363636</td>\n",
       "      <td>0.909091</td>\n",
       "      <td>0.257881</td>\n",
       "    </tr>\n",
       "    <tr>\n",
       "      <th>12188</th>\n",
       "      <td>3.0</td>\n",
       "      <td>1.0</td>\n",
       "      <td>0.0</td>\n",
       "      <td>-2</td>\n",
       "      <td>-2.770909</td>\n",
       "      <td>-6.181818</td>\n",
       "      <td>-1.545455</td>\n",
       "      <td>-1.545455</td>\n",
       "      <td>-0.152738</td>\n",
       "    </tr>\n",
       "    <tr>\n",
       "      <th>14812</th>\n",
       "      <td>2.0</td>\n",
       "      <td>0.0</td>\n",
       "      <td>0.0</td>\n",
       "      <td>-4</td>\n",
       "      <td>0.000000</td>\n",
       "      <td>-5.545455</td>\n",
       "      <td>-0.636364</td>\n",
       "      <td>1.818182</td>\n",
       "      <td>-0.787480</td>\n",
       "    </tr>\n",
       "    <tr>\n",
       "      <th>15249</th>\n",
       "      <td>3.0</td>\n",
       "      <td>1.0</td>\n",
       "      <td>1.0</td>\n",
       "      <td>-1</td>\n",
       "      <td>-2.309091</td>\n",
       "      <td>-11.545455</td>\n",
       "      <td>-1.454545</td>\n",
       "      <td>-0.363636</td>\n",
       "      <td>-1.019745</td>\n",
       "    </tr>\n",
       "    <tr>\n",
       "      <th>...</th>\n",
       "      <td>...</td>\n",
       "      <td>...</td>\n",
       "      <td>...</td>\n",
       "      <td>...</td>\n",
       "      <td>...</td>\n",
       "      <td>...</td>\n",
       "      <td>...</td>\n",
       "      <td>...</td>\n",
       "      <td>...</td>\n",
       "    </tr>\n",
       "    <tr>\n",
       "      <th>2869</th>\n",
       "      <td>2.0</td>\n",
       "      <td>0.0</td>\n",
       "      <td>0.0</td>\n",
       "      <td>-3</td>\n",
       "      <td>0.230909</td>\n",
       "      <td>-2.181818</td>\n",
       "      <td>1.727273</td>\n",
       "      <td>1.090909</td>\n",
       "      <td>-0.355899</td>\n",
       "    </tr>\n",
       "    <tr>\n",
       "      <th>321</th>\n",
       "      <td>1.0</td>\n",
       "      <td>0.0</td>\n",
       "      <td>0.0</td>\n",
       "      <td>-5</td>\n",
       "      <td>0.461818</td>\n",
       "      <td>3.727273</td>\n",
       "      <td>-2.181818</td>\n",
       "      <td>-2.727273</td>\n",
       "      <td>0.395681</td>\n",
       "    </tr>\n",
       "    <tr>\n",
       "      <th>5596</th>\n",
       "      <td>1.0</td>\n",
       "      <td>0.0</td>\n",
       "      <td>0.0</td>\n",
       "      <td>-4</td>\n",
       "      <td>-2.540000</td>\n",
       "      <td>-5.909091</td>\n",
       "      <td>-2.818182</td>\n",
       "      <td>-1.636364</td>\n",
       "      <td>-0.159922</td>\n",
       "    </tr>\n",
       "    <tr>\n",
       "      <th>6049</th>\n",
       "      <td>1.0</td>\n",
       "      <td>0.0</td>\n",
       "      <td>0.0</td>\n",
       "      <td>-4</td>\n",
       "      <td>1.616364</td>\n",
       "      <td>2.727273</td>\n",
       "      <td>-4.090909</td>\n",
       "      <td>1.000000</td>\n",
       "      <td>-0.032142</td>\n",
       "    </tr>\n",
       "    <tr>\n",
       "      <th>12375</th>\n",
       "      <td>1.0</td>\n",
       "      <td>0.0</td>\n",
       "      <td>0.0</td>\n",
       "      <td>-4</td>\n",
       "      <td>0.461818</td>\n",
       "      <td>-1.454545</td>\n",
       "      <td>-7.727273</td>\n",
       "      <td>0.818182</td>\n",
       "      <td>-0.316282</td>\n",
       "    </tr>\n",
       "  </tbody>\n",
       "</table>\n",
       "<p>100 rows × 9 columns</p>\n",
       "</div>"
      ],
      "text/plain": [
       "       last_ten  last_five  last_three  last_10_diff  avg_height_diff  \\\n",
       "15630       3.0        1.0         1.0            -4        -1.154545   \n",
       "18436       3.0        1.0         0.0            -4        -4.618182   \n",
       "12188       3.0        1.0         0.0            -2        -2.770909   \n",
       "14812       2.0        0.0         0.0            -4         0.000000   \n",
       "15249       3.0        1.0         1.0            -1        -2.309091   \n",
       "...         ...        ...         ...           ...              ...   \n",
       "2869        2.0        0.0         0.0            -3         0.230909   \n",
       "321         1.0        0.0         0.0            -5         0.461818   \n",
       "5596        1.0        0.0         0.0            -4        -2.540000   \n",
       "6049        1.0        0.0         0.0            -4         1.616364   \n",
       "12375       1.0        0.0         0.0            -4         0.461818   \n",
       "\n",
       "       avg_weight_diff  avg_rating_diff  avg_age_diff  avg_bmi_diff  \n",
       "15630        -3.272727        -1.181818      1.545455     -0.166628  \n",
       "18436        -6.727273        -5.363636      0.909091      0.257881  \n",
       "12188        -6.181818        -1.545455     -1.545455     -0.152738  \n",
       "14812        -5.545455        -0.636364      1.818182     -0.787480  \n",
       "15249       -11.545455        -1.454545     -0.363636     -1.019745  \n",
       "...                ...              ...           ...           ...  \n",
       "2869         -2.181818         1.727273      1.090909     -0.355899  \n",
       "321           3.727273        -2.181818     -2.727273      0.395681  \n",
       "5596         -5.909091        -2.818182     -1.636364     -0.159922  \n",
       "6049          2.727273        -4.090909      1.000000     -0.032142  \n",
       "12375        -1.454545        -7.727273      0.818182     -0.316282  \n",
       "\n",
       "[100 rows x 9 columns]"
      ]
     },
     "execution_count": 8,
     "metadata": {},
     "output_type": "execute_result"
    }
   ],
   "source": [
    "df_main_nn[feature_names].tail(100)"
   ]
  },
  {
   "cell_type": "code",
   "execution_count": 9,
   "id": "06e8c11e",
   "metadata": {},
   "outputs": [
    {
     "data": {
      "image/png": "[encoded data removed]",
      "text/plain": [
       "<Figure size 640x480 with 1 Axes>"
      ]
     },
     "metadata": {},
     "output_type": "display_data"
    },
    {
     "data": {
      "image/png": "[encoded data removed]",
      "text/plain": [
       "<Figure size 1000x500 with 2 Axes>"
      ]
     },
     "metadata": {},
     "output_type": "display_data"
    }
   ],
   "source": [
    "# Perform PCA on the scaled data\n",
    "pca = PCA()\n",
    "X_pca = pca.fit_transform(X)\n",
    "\n",
    "# Determine the explained variance ratio for each principal component\n",
    "explained_variance_ratio = pca.explained_variance_ratio_\n",
    "\n",
    "# Create a bar chart to visualize the explained variance ratio\n",
    "plt.bar(range(1, len(explained_variance_ratio) + 1), explained_variance_ratio)\n",
    "plt.xlabel('Principal Component')\n",
    "plt.ylabel('Explained Variance Ratio')\n",
    "plt.title('PCA - Explained Variance Ratio per Principal Component')\n",
    "plt.xticks(range(1, len(explained_variance_ratio) + 1))\n",
    "plt.show()\n",
    "\n",
    "# Extract the PCA loadings (components_)\n",
    "loadings = pca.components_\n",
    "\n",
    "# Create a DataFrame with the loadings and feature names\n",
    "loadings_df = pd.DataFrame(loadings, columns=feature_names)\n",
    "loadings_df.index.name = 'Principal Component'\n",
    "loadings_df.index += 1\n",
    "\n",
    "import seaborn as sns\n",
    "\n",
    "plt.figure(figsize=(10, 5))\n",
    "sns.heatmap(loadings_df, annot=True, cmap='coolwarm', center=0)\n",
    "plt.title(\"PCA Loadings\")\n",
    "plt.show()\n"
   ]
  },
  {
   "cell_type": "code",
   "execution_count": 10,
   "id": "26669b4b",
   "metadata": {},
   "outputs": [
    {
     "name": "stdout",
     "output_type": "stream",
     "text": [
      "0.5552913198573127\n",
      "0.6072136345620294\n"
     ]
    }
   ],
   "source": [
    "# Baseline models\n",
    "decision_tree = DecisionTreeClassifier()\n",
    "random_forest = RandomForestClassifier()\n",
    "\n",
    "decision_tree.fit(X_train, y_train)\n",
    "random_forest.fit(X_train, y_train)\n",
    "\n",
    "print(decision_tree.score(X_test, y_test))\n",
    "print(random_forest.score(X_test, y_test))"
   ]
  },
  {
   "cell_type": "code",
   "execution_count": 11,
   "id": "d16fc617",
   "metadata": {},
   "outputs": [
    {
     "data": {
      "image/png": "[encoded data removed]",
      "text/plain": [
       "<Figure size 640x480 with 1 Axes>"
      ]
     },
     "metadata": {},
     "output_type": "display_data"
    }
   ],
   "source": [
    "# Feature importance (RF) - based on mean decrease in impurity\n",
    "importances = random_forest.feature_importances_\n",
    "forest_importances = pd.Series(importances, index=feature_names)\n",
    "std = np.std([tree.feature_importances_ for tree in random_forest.estimators_], axis=0)\n",
    "\n",
    "fig, ax = plt.subplots()\n",
    "forest_importances.plot.bar(yerr=std, ax=ax)\n",
    "\n",
    "ax.set_title(\"Feature importances using MDI\")\n",
    "ax.set_ylabel(\"Mean decrease in impurity\")\n",
    "fig.tight_layout()"
   ]
  },
  {
   "cell_type": "code",
   "execution_count": 12,
   "id": "3746cad0",
   "metadata": {},
   "outputs": [
    {
     "data": {
      "image/png": "[encoded data removed]",
      "text/plain": [
       "<Figure size 640x480 with 1 Axes>"
      ]
     },
     "metadata": {},
     "output_type": "display_data"
    }
   ],
   "source": [
    "\n",
    "result = permutation_importance(\n",
    "    random_forest, X_test, y_test) # n_repeats=10, random_state=42, n_jobs=2\n",
    "\n",
    "forest_importances = pd.Series(result.importances_mean, index=feature_names)\n",
    "\n",
    "fig, ax = plt.subplots()\n",
    "forest_importances.plot.bar(yerr=result.importances_std, ax=ax)\n",
    "ax.set_title(\"Feature importances using permutation on full model\")\n",
    "ax.set_ylabel(\"Mean accuracy decrease\")\n",
    "fig.tight_layout()\n",
    "plt.show()"
   ]
  },
  {
   "cell_type": "code",
   "execution_count": 13,
   "id": "9e94b2e3",
   "metadata": {},
   "outputs": [
    {
     "name": "stderr",
     "output_type": "stream",
     "text": [
      "\u001b[32m[I 2023-04-22 16:16:42,755]\u001b[0m A new study created in memory with name: no-name-af8c4ae9-9675-4755-9be9-0453ce6f17b9\u001b[0m\n",
      "\u001b[32m[I 2023-04-22 16:16:48,279]\u001b[0m Trial 0 finished with value: 0.638081441399924 and parameters: {'n_estimators': 133, 'max_depth': 10, 'min_samples_split': 9, 'min_samples_leaf': 10}. Best is trial 0 with value: 0.638081441399924.\u001b[0m\n",
      "\u001b[32m[I 2023-04-22 16:16:56,379]\u001b[0m Trial 1 finished with value: 0.6267839335893297 and parameters: {'n_estimators': 147, 'max_depth': 38, 'min_samples_split': 4, 'min_samples_leaf': 8}. Best is trial 0 with value: 0.638081441399924.\u001b[0m\n",
      "\u001b[32m[I 2023-04-22 16:16:58,500]\u001b[0m Trial 2 finished with value: 0.6259251937319738 and parameters: {'n_estimators': 39, 'max_depth': 38, 'min_samples_split': 2, 'min_samples_leaf': 8}. Best is trial 0 with value: 0.638081441399924.\u001b[0m\n",
      "\u001b[32m[I 2023-04-22 16:17:00,985]\u001b[0m Trial 3 finished with value: 0.635240431885815 and parameters: {'n_estimators': 59, 'max_depth': 10, 'min_samples_split': 4, 'min_samples_leaf': 3}. Best is trial 0 with value: 0.638081441399924.\u001b[0m\n",
      "\u001b[32m[I 2023-04-22 16:17:10,477]\u001b[0m Trial 4 finished with value: 0.626387785142873 and parameters: {'n_estimators': 179, 'max_depth': 44, 'min_samples_split': 10, 'min_samples_leaf': 9}. Best is trial 0 with value: 0.638081441399924.\u001b[0m\n",
      "\u001b[32m[I 2023-04-22 16:17:19,043]\u001b[0m Trial 5 finished with value: 0.626849743763635 and parameters: {'n_estimators': 142, 'max_depth': 47, 'min_samples_split': 9, 'min_samples_leaf': 5}. Best is trial 0 with value: 0.638081441399924.\u001b[0m\n",
      "\u001b[32m[I 2023-04-22 16:17:20,461]\u001b[0m Trial 6 finished with value: 0.6247355919140767 and parameters: {'n_estimators': 26, 'max_depth': 16, 'min_samples_split': 6, 'min_samples_leaf': 5}. Best is trial 0 with value: 0.638081441399924.\u001b[0m\n",
      "\u001b[32m[I 2023-04-22 16:17:26,115]\u001b[0m Trial 7 finished with value: 0.6312766126438452 and parameters: {'n_estimators': 108, 'max_depth': 34, 'min_samples_split': 3, 'min_samples_leaf': 10}. Best is trial 0 with value: 0.638081441399924.\u001b[0m\n",
      "\u001b[32m[I 2023-04-22 16:17:33,298]\u001b[0m Trial 8 finished with value: 0.6276426298059865 and parameters: {'n_estimators': 124, 'max_depth': 47, 'min_samples_split': 8, 'min_samples_leaf': 6}. Best is trial 0 with value: 0.638081441399924.\u001b[0m\n",
      "\u001b[32m[I 2023-04-22 16:17:37,914]\u001b[0m Trial 9 finished with value: 0.6298227882129963 and parameters: {'n_estimators': 85, 'max_depth': 31, 'min_samples_split': 8, 'min_samples_leaf': 9}. Best is trial 0 with value: 0.638081441399924.\u001b[0m\n"
     ]
    },
    {
     "name": "stdout",
     "output_type": "stream",
     "text": [
      "           feature  importance\n",
      "6  avg_rating_diff    0.092251\n",
      "3     last_10_diff    0.004102\n",
      "2       last_three    0.000773\n",
      "7     avg_age_diff   -0.000872\n",
      "1        last_five   -0.002200\n",
      "0         last_ten   -0.002735\n",
      "4  avg_height_diff   -0.003092\n",
      "8     avg_bmi_diff   -0.003508\n",
      "5  avg_weight_diff   -0.003646\n"
     ]
    }
   ],
   "source": [
    "from sklearn.inspection import permutation_importance\n",
    "\n",
    "# Define the objective function for Optuna\n",
    "def objective(trial):\n",
    "    n_estimators = trial.suggest_int(\"n_estimators\", 10, 200)\n",
    "    max_depth = trial.suggest_int(\"max_depth\", 10, 50)\n",
    "    min_samples_split = trial.suggest_int(\"min_samples_split\", 2, 10)\n",
    "    min_samples_leaf = trial.suggest_int(\"min_samples_leaf\", 1, 10)\n",
    "    \n",
    "    model = RandomForestClassifier(n_estimators=n_estimators,\n",
    "                                   max_depth=max_depth,\n",
    "                                   min_samples_split=min_samples_split,\n",
    "                                   min_samples_leaf=min_samples_leaf,\n",
    "                                   random_state=0)\n",
    "\n",
    "    score = np.mean(cross_val_score(model, X_train, y_train, cv=5))\n",
    "    return score\n",
    "\n",
    "# Create a study object and run the optimization\n",
    "study = optuna.create_study(direction=\"maximize\")\n",
    "study.optimize(objective, n_trials=10)\n",
    "\n",
    "# Train the final model with the best hyperparameters\n",
    "best_params = study.best_params\n",
    "rf = RandomForestClassifier(**best_params)\n",
    "rf.fit(X_train, y_train)\n",
    "\n",
    "# Calculate permutation importance\n",
    "result = permutation_importance(rf, X_test, y_test, n_repeats=10, random_state=0)\n",
    "\n",
    "# Display the feature importances\n",
    "importance_df = pd.DataFrame({'feature': feature_names, 'importance': result.importances_mean})\n",
    "importance_df = importance_df.sort_values('importance', ascending=False)\n",
    "print(importance_df)"
   ]
  },
  {
   "cell_type": "code",
   "execution_count": 14,
   "id": "ad383d63",
   "metadata": {},
   "outputs": [
    {
     "name": "stdout",
     "output_type": "stream",
     "text": [
      "Best accuracy: 0.638081441399924\n",
      "Best parameters: {'n_estimators': 133, 'max_depth': 10, 'min_samples_split': 9, 'min_samples_leaf': 10}\n",
      "Accuracy on test data: 0.6270313119302418\n"
     ]
    }
   ],
   "source": [
    "test_accuracy = rf.score(X_test, y_test)\n",
    "\n",
    "print('Best accuracy:', study.best_value)\n",
    "print('Best parameters:', study.best_params)\n",
    "print('Accuracy on test data:', test_accuracy)"
   ]
  },
  {
   "cell_type": "code",
   "execution_count": 15,
   "id": "742b2fc4",
   "metadata": {},
   "outputs": [
    {
     "data": {
      "image/png": "[encoded data removed]",
      "text/plain": [
       "<Figure size 1000x500 with 1 Axes>"
      ]
     },
     "metadata": {},
     "output_type": "display_data"
    }
   ],
   "source": [
    "import matplotlib.pyplot as plt\n",
    "from matplotlib import rcParams\n",
    "\n",
    "# Set the font to Helvetica with size 12\n",
    "rcParams['font.family'] = 'Helvetica'\n",
    "rcParams['font.size'] = 12\n",
    "\n",
    "# Plot the feature importances in a bar graph\n",
    "plt.figure(figsize=(10, 5))\n",
    "plt.bar(importance_df['feature'], importance_df['importance'], color='#CBCBCB')\n",
    "plt.xlabel('Features')\n",
    "plt.ylabel('Permutation Importance')\n",
    "plt.title('Feature Importance')\n",
    "plt.xticks(rotation=45)\n",
    "\n",
    "plt.tight_layout()\n",
    "plt.savefig('data/feature_importance.pdf')\n",
    "plt.show()\n"
   ]
  },
  {
   "cell_type": "code",
   "execution_count": 16,
   "id": "9fe693ca",
   "metadata": {},
   "outputs": [],
   "source": [
    "def objective(trial):\n",
    "    params = {\n",
    "        'C': trial.suggest_loguniform('C', 1e-5, 1e2),\n",
    "        'solver': trial.suggest_categorical('solver', ['newton-cg', 'lbfgs', 'liblinear', 'sag', 'saga']),\n",
    "        'max_iter': trial.suggest_int('max_iter', 100, 1000),\n",
    "        'random_state': 42\n",
    "    }\n",
    "\n",
    "    model = LogisticRegression(**params)\n",
    "    scores = cross_val_score(model, X_train, y_train, cv=10, scoring='accuracy')\n",
    "    mean_accuracy = scores.mean()\n",
    "\n",
    "    return mean_accuracy"
   ]
  },
  {
   "cell_type": "code",
   "execution_count": 17,
   "id": "619588b8",
   "metadata": {},
   "outputs": [
    {
     "name": "stderr",
     "output_type": "stream",
     "text": [
      "\u001b[32m[I 2023-04-22 16:17:45,464]\u001b[0m A new study created in memory with name: no-name-141e65e5-b5ba-4872-b751-afa0e21411ed\u001b[0m\n",
      "\u001b[32m[I 2023-04-22 16:17:45,693]\u001b[0m Trial 0 finished with value: 0.6397976235898305 and parameters: {'C': 0.041479840624030505, 'solver': 'sag', 'max_iter': 709}. Best is trial 0 with value: 0.6397976235898305.\u001b[0m\n",
      "C:\\Users\\richt\\anaconda3\\lib\\site-packages\\sklearn\\linear_model\\_sag.py:352: ConvergenceWarning: The max_iter was reached which means the coef_ did not converge\n",
      "  warnings.warn(\n",
      "C:\\Users\\richt\\anaconda3\\lib\\site-packages\\sklearn\\linear_model\\_sag.py:352: ConvergenceWarning: The max_iter was reached which means the coef_ did not converge\n",
      "  warnings.warn(\n",
      "C:\\Users\\richt\\anaconda3\\lib\\site-packages\\sklearn\\linear_model\\_sag.py:352: ConvergenceWarning: The max_iter was reached which means the coef_ did not converge\n",
      "  warnings.warn(\n",
      "C:\\Users\\richt\\anaconda3\\lib\\site-packages\\sklearn\\linear_model\\_sag.py:352: ConvergenceWarning: The max_iter was reached which means the coef_ did not converge\n",
      "  warnings.warn(\n",
      "C:\\Users\\richt\\anaconda3\\lib\\site-packages\\sklearn\\linear_model\\_sag.py:352: ConvergenceWarning: The max_iter was reached which means the coef_ did not converge\n",
      "  warnings.warn(\n",
      "C:\\Users\\richt\\anaconda3\\lib\\site-packages\\sklearn\\linear_model\\_sag.py:352: ConvergenceWarning: The max_iter was reached which means the coef_ did not converge\n",
      "  warnings.warn(\n",
      "\u001b[32m[I 2023-04-22 16:17:49,713]\u001b[0m Trial 1 finished with value: 0.6383427730256753 and parameters: {'C': 57.93673015125487, 'solver': 'saga', 'max_iter': 335}. Best is trial 0 with value: 0.6397976235898305.\u001b[0m\n",
      "\u001b[32m[I 2023-04-22 16:17:50,015]\u001b[0m Trial 2 finished with value: 0.5399709344204042 and parameters: {'C': 0.0001808891786432528, 'solver': 'saga', 'max_iter': 998}. Best is trial 0 with value: 0.6397976235898305.\u001b[0m\n",
      "\u001b[32m[I 2023-04-22 16:17:50,367]\u001b[0m Trial 3 finished with value: 0.6379464281816507 and parameters: {'C': 0.893114291421204, 'solver': 'sag', 'max_iter': 839}. Best is trial 0 with value: 0.6397976235898305.\u001b[0m\n",
      "\u001b[32m[I 2023-04-22 16:17:50,859]\u001b[0m Trial 4 finished with value: 0.6382106726293741 and parameters: {'C': 3.904949049049868, 'solver': 'sag', 'max_iter': 431}. Best is trial 0 with value: 0.6397976235898305.\u001b[0m\n",
      "\u001b[32m[I 2023-04-22 16:17:50,978]\u001b[0m Trial 5 finished with value: 0.6379463845265296 and parameters: {'C': 1.1236879428119952, 'solver': 'liblinear', 'max_iter': 744}. Best is trial 0 with value: 0.6397976235898305.\u001b[0m\n",
      "\u001b[32m[I 2023-04-22 16:17:51,231]\u001b[0m Trial 6 finished with value: 0.5399709344204042 and parameters: {'C': 7.14203956691395e-05, 'solver': 'sag', 'max_iter': 791}. Best is trial 0 with value: 0.6397976235898305.\u001b[0m\n",
      "\u001b[32m[I 2023-04-22 16:17:53,927]\u001b[0m Trial 7 finished with value: 0.6383427730256753 and parameters: {'C': 19.84940011248781, 'solver': 'saga', 'max_iter': 272}. Best is trial 0 with value: 0.6397976235898305.\u001b[0m\n",
      "\u001b[32m[I 2023-04-22 16:17:54,048]\u001b[0m Trial 8 finished with value: 0.6382107162844952 and parameters: {'C': 7.573286320607127, 'solver': 'liblinear', 'max_iter': 998}. Best is trial 0 with value: 0.6397976235898305.\u001b[0m\n",
      "\u001b[32m[I 2023-04-22 16:17:54,171]\u001b[0m Trial 9 finished with value: 0.6383427730256753 and parameters: {'C': 17.651188702982978, 'solver': 'liblinear', 'max_iter': 776}. Best is trial 0 with value: 0.6397976235898305.\u001b[0m\n",
      "\u001b[32m[I 2023-04-22 16:17:54,452]\u001b[0m Trial 10 finished with value: 0.6329257836749055 and parameters: {'C': 0.014826160167805568, 'solver': 'newton-cg', 'max_iter': 113}. Best is trial 0 with value: 0.6397976235898305.\u001b[0m\n",
      "\u001b[32m[I 2023-04-22 16:17:54,691]\u001b[0m Trial 11 finished with value: 0.6382106726293743 and parameters: {'C': 88.89055101334498, 'solver': 'lbfgs', 'max_iter': 557}. Best is trial 0 with value: 0.6397976235898305.\u001b[0m\n",
      "\u001b[32m[I 2023-04-22 16:17:55,029]\u001b[0m Trial 12 finished with value: 0.638476183075608 and parameters: {'C': 0.0886790912617591, 'solver': 'saga', 'max_iter': 542}. Best is trial 0 with value: 0.6397976235898305.\u001b[0m\n",
      "\u001b[32m[I 2023-04-22 16:17:55,320]\u001b[0m Trial 13 finished with value: 0.6400618680375538 and parameters: {'C': 0.04052404033006798, 'solver': 'newton-cg', 'max_iter': 587}. Best is trial 13 with value: 0.6400618680375538.\u001b[0m\n",
      "\u001b[32m[I 2023-04-22 16:17:55,599]\u001b[0m Trial 14 finished with value: 0.6303489528446113 and parameters: {'C': 0.007890321370767962, 'solver': 'newton-cg', 'max_iter': 610}. Best is trial 13 with value: 0.6400618680375538.\u001b[0m\n",
      "\u001b[32m[I 2023-04-22 16:17:55,890]\u001b[0m Trial 15 finished with value: 0.6386083707821514 and parameters: {'C': 0.09824675796861548, 'solver': 'newton-cg', 'max_iter': 655}. Best is trial 13 with value: 0.6400618680375538.\u001b[0m\n",
      "\u001b[32m[I 2023-04-22 16:17:56,005]\u001b[0m Trial 16 finished with value: 0.6112562110323475 and parameters: {'C': 0.0017667459008416878, 'solver': 'lbfgs', 'max_iter': 459}. Best is trial 13 with value: 0.6400618680375538.\u001b[0m\n",
      "\u001b[32m[I 2023-04-22 16:17:56,343]\u001b[0m Trial 17 finished with value: 0.5399709344204042 and parameters: {'C': 1.4557558569079578e-05, 'solver': 'sag', 'max_iter': 676}. Best is trial 13 with value: 0.6400618680375538.\u001b[0m\n",
      "\u001b[32m[I 2023-04-22 16:17:56,643]\u001b[0m Trial 18 finished with value: 0.6385422332737586 and parameters: {'C': 0.1042126960126394, 'solver': 'newton-cg', 'max_iter': 471}. Best is trial 13 with value: 0.6400618680375538.\u001b[0m\n",
      "\u001b[32m[I 2023-04-22 16:17:56,875]\u001b[0m Trial 19 finished with value: 0.6164084320739412 and parameters: {'C': 0.002432929591018503, 'solver': 'newton-cg', 'max_iter': 883}. Best is trial 13 with value: 0.6400618680375538.\u001b[0m\n",
      "\u001b[32m[I 2023-04-22 16:17:57,226]\u001b[0m Trial 20 finished with value: 0.6382769411031299 and parameters: {'C': 0.36555846247792617, 'solver': 'sag', 'max_iter': 328}. Best is trial 13 with value: 0.6400618680375538.\u001b[0m\n",
      "\u001b[32m[I 2023-04-22 16:17:57,541]\u001b[0m Trial 21 finished with value: 0.639533248176744 and parameters: {'C': 0.04997204345094114, 'solver': 'newton-cg', 'max_iter': 655}. Best is trial 13 with value: 0.6400618680375538.\u001b[0m\n",
      "\u001b[32m[I 2023-04-22 16:17:57,880]\u001b[0m Trial 22 finished with value: 0.6367587033032084 and parameters: {'C': 0.025349793835168506, 'solver': 'newton-cg', 'max_iter': 698}. Best is trial 13 with value: 0.6400618680375538.\u001b[0m\n",
      "\u001b[32m[I 2023-04-22 16:17:58,169]\u001b[0m Trial 23 finished with value: 0.6397974926244672 and parameters: {'C': 0.04613981857052577, 'solver': 'newton-cg', 'max_iter': 601}. Best is trial 13 with value: 0.6400618680375538.\u001b[0m\n",
      "\u001b[32m[I 2023-04-22 16:17:58,461]\u001b[0m Trial 24 finished with value: 0.6295560885360779 and parameters: {'C': 0.007146918659553032, 'solver': 'newton-cg', 'max_iter': 577}. Best is trial 13 with value: 0.6400618680375538.\u001b[0m\n",
      "\u001b[32m[I 2023-04-22 16:17:58,714]\u001b[0m Trial 25 finished with value: 0.6381452336029183 and parameters: {'C': 0.20605090190531863, 'solver': 'lbfgs', 'max_iter': 511}. Best is trial 13 with value: 0.6400618680375538.\u001b[0m\n",
      "\u001b[32m[I 2023-04-22 16:17:59,078]\u001b[0m Trial 26 finished with value: 0.6384090851545522 and parameters: {'C': 0.38996906743146925, 'solver': 'sag', 'max_iter': 866}. Best is trial 13 with value: 0.6400618680375538.\u001b[0m\n",
      "\u001b[32m[I 2023-04-22 16:17:59,379]\u001b[0m Trial 27 finished with value: 0.6387408204194209 and parameters: {'C': 0.03327456809908356, 'solver': 'newton-cg', 'max_iter': 413}. Best is trial 13 with value: 0.6400618680375538.\u001b[0m\n",
      "\u001b[32m[I 2023-04-22 16:17:59,711]\u001b[0m Trial 28 finished with value: 0.6220242268459786 and parameters: {'C': 0.0037658565594222778, 'solver': 'newton-cg', 'max_iter': 724}. Best is trial 13 with value: 0.6400618680375538.\u001b[0m\n",
      "\u001b[32m[I 2023-04-22 16:17:59,981]\u001b[0m Trial 29 finished with value: 0.6367585723378453 and parameters: {'C': 0.024078817941643463, 'solver': 'sag', 'max_iter': 610}. Best is trial 13 with value: 0.6400618680375538.\u001b[0m\n",
      "\u001b[32m[I 2023-04-22 16:18:00,102]\u001b[0m Trial 30 finished with value: 0.6018092864919705 and parameters: {'C': 0.0011077176397239854, 'solver': 'lbfgs', 'max_iter': 378}. Best is trial 13 with value: 0.6400618680375538.\u001b[0m\n",
      "\u001b[32m[I 2023-04-22 16:18:00,450]\u001b[0m Trial 31 finished with value: 0.6399297676412526 and parameters: {'C': 0.0602513273447233, 'solver': 'newton-cg', 'max_iter': 642}. Best is trial 13 with value: 0.6400618680375538.\u001b[0m\n"
     ]
    },
    {
     "name": "stderr",
     "output_type": "stream",
     "text": [
      "\u001b[32m[I 2023-04-22 16:18:00,774]\u001b[0m Trial 32 finished with value: 0.6397315297365589 and parameters: {'C': 0.056441691173131164, 'solver': 'newton-cg', 'max_iter': 621}. Best is trial 13 with value: 0.6400618680375538.\u001b[0m\n",
      "\u001b[32m[I 2023-04-22 16:18:01,074]\u001b[0m Trial 33 finished with value: 0.631472242764382 and parameters: {'C': 0.012890403288342586, 'solver': 'newton-cg', 'max_iter': 514}. Best is trial 13 with value: 0.6400618680375538.\u001b[0m\n",
      "\u001b[32m[I 2023-04-22 16:18:01,401]\u001b[0m Trial 34 finished with value: 0.6383434715076122 and parameters: {'C': 0.18266400818267706, 'solver': 'saga', 'max_iter': 820}. Best is trial 13 with value: 0.6400618680375538.\u001b[0m\n",
      "\u001b[32m[I 2023-04-22 16:18:01,763]\u001b[0m Trial 35 finished with value: 0.638408910534068 and parameters: {'C': 0.552580379495559, 'solver': 'newton-cg', 'max_iter': 933}. Best is trial 13 with value: 0.6400618680375538.\u001b[0m\n",
      "\u001b[32m[I 2023-04-22 16:18:02,169]\u001b[0m Trial 36 finished with value: 0.6377482775871989 and parameters: {'C': 1.0014661731366412, 'solver': 'sag', 'max_iter': 725}. Best is trial 13 with value: 0.6400618680375538.\u001b[0m\n",
      "\u001b[32m[I 2023-04-22 16:18:02,300]\u001b[0m Trial 37 finished with value: 0.6380124783798012 and parameters: {'C': 1.9881025811953075, 'solver': 'liblinear', 'max_iter': 784}. Best is trial 13 with value: 0.6400618680375538.\u001b[0m\n",
      "\u001b[32m[I 2023-04-22 16:18:02,582]\u001b[0m Trial 38 finished with value: 0.6384095653608838 and parameters: {'C': 0.1777694519663639, 'solver': 'saga', 'max_iter': 594}. Best is trial 13 with value: 0.6400618680375538.\u001b[0m\n",
      "\u001b[32m[I 2023-04-22 16:18:02,803]\u001b[0m Trial 39 finished with value: 0.6392695712455941 and parameters: {'C': 0.03704633044735314, 'solver': 'sag', 'max_iter': 753}. Best is trial 13 with value: 0.6400618680375538.\u001b[0m\n",
      "\u001b[32m[I 2023-04-22 16:18:02,912]\u001b[0m Trial 40 finished with value: 0.6337853530084053 and parameters: {'C': 0.012099036075574896, 'solver': 'liblinear', 'max_iter': 499}. Best is trial 13 with value: 0.6400618680375538.\u001b[0m\n",
      "\u001b[32m[I 2023-04-22 16:18:03,226]\u001b[0m Trial 41 finished with value: 0.6395992983748944 and parameters: {'C': 0.050194910035656584, 'solver': 'newton-cg', 'max_iter': 654}. Best is trial 13 with value: 0.6400618680375538.\u001b[0m\n",
      "\u001b[32m[I 2023-04-22 16:18:03,545]\u001b[0m Trial 42 finished with value: 0.6401279618908255 and parameters: {'C': 0.06377683475524659, 'solver': 'newton-cg', 'max_iter': 625}. Best is trial 42 with value: 0.6401279618908255.\u001b[0m\n",
      "\u001b[32m[I 2023-04-22 16:18:03,852]\u001b[0m Trial 43 finished with value: 0.6354367825826545 and parameters: {'C': 0.021303269633208336, 'solver': 'newton-cg', 'max_iter': 560}. Best is trial 42 with value: 0.6401279618908255.\u001b[0m\n",
      "\u001b[32m[I 2023-04-22 16:18:04,176]\u001b[0m Trial 44 finished with value: 0.639203171806475 and parameters: {'C': 0.07603851894327021, 'solver': 'newton-cg', 'max_iter': 701}. Best is trial 42 with value: 0.6401279618908255.\u001b[0m\n",
      "\u001b[32m[I 2023-04-22 16:18:04,513]\u001b[0m Trial 45 finished with value: 0.6382772903440984 and parameters: {'C': 0.258621120718516, 'solver': 'newton-cg', 'max_iter': 634}. Best is trial 42 with value: 0.6401279618908255.\u001b[0m\n",
      "\u001b[32m[I 2023-04-22 16:18:04,790]\u001b[0m Trial 46 finished with value: 0.6386740717393334 and parameters: {'C': 0.12865732154366732, 'solver': 'newton-cg', 'max_iter': 541}. Best is trial 42 with value: 0.6401279618908255.\u001b[0m\n",
      "\u001b[32m[I 2023-04-22 16:18:05,046]\u001b[0m Trial 47 finished with value: 0.6277721656694382 and parameters: {'C': 0.006102833579605861, 'solver': 'sag', 'max_iter': 110}. Best is trial 42 with value: 0.6401279618908255.\u001b[0m\n",
      "\u001b[32m[I 2023-04-22 16:18:05,343]\u001b[0m Trial 48 finished with value: 0.6329918775281772 and parameters: {'C': 0.015260406359001312, 'solver': 'saga', 'max_iter': 745}. Best is trial 42 with value: 0.6401279618908255.\u001b[0m\n",
      "\u001b[32m[I 2023-04-22 16:18:05,452]\u001b[0m Trial 49 finished with value: 0.6401934882275235 and parameters: {'C': 0.05952393266065747, 'solver': 'liblinear', 'max_iter': 829}. Best is trial 49 with value: 0.6401934882275235.\u001b[0m\n"
     ]
    },
    {
     "name": "stdout",
     "output_type": "stream",
     "text": [
      "Best accuracy: 0.6401934882275235\n",
      "Best parameters: {'C': 0.05952393266065747, 'solver': 'liblinear', 'max_iter': 829}\n",
      "Accuracy on test data: 0.6323820848196592\n"
     ]
    }
   ],
   "source": [
    "study = optuna.create_study(direction='maximize')\n",
    "study.optimize(objective, n_trials=50)\n",
    "\n",
    "best_params = study.best_params\n",
    "logistic_regression = LogisticRegression(**best_params)\n",
    "logistic_regression.fit(X_train, y_train)\n",
    "\n",
    "test_accuracy = logistic_regression.score(X_test, y_test)\n",
    "\n",
    "print('Best accuracy:', study.best_value)\n",
    "print('Best parameters:', study.best_params)\n",
    "print('Accuracy on test data:', test_accuracy)\n"
   ]
  },
  {
   "cell_type": "code",
   "execution_count": 18,
   "id": "cc3b8652",
   "metadata": {},
   "outputs": [],
   "source": [
    "def objective_gnb(trial):\n",
    "    params = {\n",
    "        'var_smoothing': trial.suggest_loguniform('var_smoothing', 1e-10, 1e-1)\n",
    "    }\n",
    "\n",
    "    model = GaussianNB(**params)\n",
    "    scores = cross_val_score(model, X_train, y_train, cv=10, scoring='accuracy')\n",
    "    mean_accuracy = scores.mean()\n",
    "\n",
    "    return mean_accuracy"
   ]
  },
  {
   "cell_type": "code",
   "execution_count": 19,
   "id": "45c045e2",
   "metadata": {},
   "outputs": [
    {
     "name": "stderr",
     "output_type": "stream",
     "text": [
      "\u001b[32m[I 2023-04-22 16:18:05,487]\u001b[0m A new study created in memory with name: no-name-2779cfed-7c07-43a4-8237-d92c417ae442\u001b[0m\n",
      "\u001b[32m[I 2023-04-22 16:18:05,539]\u001b[0m Trial 0 finished with value: 0.6192498129378063 and parameters: {'var_smoothing': 0.00018621773750366968}. Best is trial 0 with value: 0.6192498129378063.\u001b[0m\n",
      "\u001b[32m[I 2023-04-22 16:18:05,587]\u001b[0m Trial 1 finished with value: 0.6191837627396557 and parameters: {'var_smoothing': 4.6638069134958985e-09}. Best is trial 0 with value: 0.6192498129378063.\u001b[0m\n",
      "\u001b[32m[I 2023-04-22 16:18:05,632]\u001b[0m Trial 2 finished with value: 0.6191837627396557 and parameters: {'var_smoothing': 2.7855017230276375e-09}. Best is trial 0 with value: 0.6192498129378063.\u001b[0m\n",
      "\u001b[32m[I 2023-04-22 16:18:05,679]\u001b[0m Trial 3 finished with value: 0.6194479635322581 and parameters: {'var_smoothing': 0.001700904148017133}. Best is trial 3 with value: 0.6194479635322581.\u001b[0m\n",
      "\u001b[32m[I 2023-04-22 16:18:05,717]\u001b[0m Trial 4 finished with value: 0.6195140573855297 and parameters: {'var_smoothing': 0.00246680465874566}. Best is trial 4 with value: 0.6195140573855297.\u001b[0m\n",
      "\u001b[32m[I 2023-04-22 16:18:05,753]\u001b[0m Trial 5 finished with value: 0.6191837627396557 and parameters: {'var_smoothing': 1.6652599632133083e-10}. Best is trial 4 with value: 0.6195140573855297.\u001b[0m\n",
      "\u001b[32m[I 2023-04-22 16:18:05,790]\u001b[0m Trial 6 finished with value: 0.6194482691181055 and parameters: {'var_smoothing': 0.044584345112355823}. Best is trial 4 with value: 0.6195140573855297.\u001b[0m\n",
      "\u001b[32m[I 2023-04-22 16:18:05,827]\u001b[0m Trial 7 finished with value: 0.6191837627396557 and parameters: {'var_smoothing': 9.588759400467029e-07}. Best is trial 4 with value: 0.6195140573855297.\u001b[0m\n",
      "\u001b[32m[I 2023-04-22 16:18:05,864]\u001b[0m Trial 8 finished with value: 0.6191837627396557 and parameters: {'var_smoothing': 2.772664606465076e-08}. Best is trial 4 with value: 0.6195140573855297.\u001b[0m\n",
      "\u001b[32m[I 2023-04-22 16:18:05,901]\u001b[0m Trial 9 finished with value: 0.6192498129378063 and parameters: {'var_smoothing': 5.923702082997332e-05}. Best is trial 4 with value: 0.6195140573855297.\u001b[0m\n",
      "\u001b[32m[I 2023-04-22 16:18:05,941]\u001b[0m Trial 10 finished with value: 0.6186552738442088 and parameters: {'var_smoothing': 0.07004609024396777}. Best is trial 4 with value: 0.6195140573855297.\u001b[0m\n",
      "\u001b[32m[I 2023-04-22 16:18:05,982]\u001b[0m Trial 11 finished with value: 0.619514319316256 and parameters: {'var_smoothing': 0.05626953477100603}. Best is trial 11 with value: 0.619514319316256.\u001b[0m\n",
      "\u001b[32m[I 2023-04-22 16:18:06,025]\u001b[0m Trial 12 finished with value: 0.6195801512388013 and parameters: {'var_smoothing': 0.0029632341375090887}. Best is trial 12 with value: 0.6195801512388013.\u001b[0m\n",
      "\u001b[32m[I 2023-04-22 16:18:06,065]\u001b[0m Trial 13 finished with value: 0.6183910730516065 and parameters: {'var_smoothing': 0.08144489222578467}. Best is trial 12 with value: 0.6195801512388013.\u001b[0m\n",
      "\u001b[32m[I 2023-04-22 16:18:06,106]\u001b[0m Trial 14 finished with value: 0.6197123389453446 and parameters: {'var_smoothing': 0.0036005123867312305}. Best is trial 14 with value: 0.6197123389453446.\u001b[0m\n",
      "\u001b[32m[I 2023-04-22 16:18:06,147]\u001b[0m Trial 15 finished with value: 0.6191837627396557 and parameters: {'var_smoothing': 1.0107762676639477e-05}. Best is trial 14 with value: 0.6197123389453446.\u001b[0m\n",
      "\u001b[32m[I 2023-04-22 16:18:06,191]\u001b[0m Trial 16 finished with value: 0.6194479635322581 and parameters: {'var_smoothing': 0.002002907516294585}. Best is trial 14 with value: 0.6197123389453446.\u001b[0m\n",
      "\u001b[32m[I 2023-04-22 16:18:06,233]\u001b[0m Trial 17 finished with value: 0.6192498129378063 and parameters: {'var_smoothing': 0.00023291115068177048}. Best is trial 14 with value: 0.6197123389453446.\u001b[0m\n",
      "\u001b[32m[I 2023-04-22 16:18:06,274]\u001b[0m Trial 18 finished with value: 0.6191837627396557 and parameters: {'var_smoothing': 4.373637328875204e-06}. Best is trial 14 with value: 0.6197123389453446.\u001b[0m\n",
      "\u001b[32m[I 2023-04-22 16:18:06,314]\u001b[0m Trial 19 finished with value: 0.6197783891434953 and parameters: {'var_smoothing': 0.00646919871106863}. Best is trial 19 with value: 0.6197783891434953.\u001b[0m\n",
      "\u001b[32m[I 2023-04-22 16:18:06,354]\u001b[0m Trial 20 finished with value: 0.619976539737947 and parameters: {'var_smoothing': 0.0071381860035051765}. Best is trial 20 with value: 0.619976539737947.\u001b[0m\n",
      "\u001b[32m[I 2023-04-22 16:18:06,397]\u001b[0m Trial 21 finished with value: 0.6199105331949175 and parameters: {'var_smoothing': 0.007642476103642387}. Best is trial 20 with value: 0.619976539737947.\u001b[0m\n",
      "\u001b[32m[I 2023-04-22 16:18:06,437]\u001b[0m Trial 22 finished with value: 0.6194481381527422 and parameters: {'var_smoothing': 0.014364023246578213}. Best is trial 20 with value: 0.619976539737947.\u001b[0m\n",
      "\u001b[32m[I 2023-04-22 16:18:06,478]\u001b[0m Trial 23 finished with value: 0.619514188350893 and parameters: {'var_smoothing': 0.013585669566173774}. Best is trial 20 with value: 0.619976539737947.\u001b[0m\n",
      "\u001b[32m[I 2023-04-22 16:18:06,521]\u001b[0m Trial 24 finished with value: 0.6193158631359569 and parameters: {'var_smoothing': 0.0004457288226830656}. Best is trial 20 with value: 0.619976539737947.\u001b[0m\n",
      "\u001b[32m[I 2023-04-22 16:18:06,563]\u001b[0m Trial 25 finished with value: 0.6201748649528831 and parameters: {'var_smoothing': 0.009752760872117967}. Best is trial 25 with value: 0.6201748649528831.\u001b[0m\n",
      "\u001b[32m[I 2023-04-22 16:18:06,603]\u001b[0m Trial 26 finished with value: 0.6193819569892285 and parameters: {'var_smoothing': 0.0006387860221712979}. Best is trial 25 with value: 0.6201748649528831.\u001b[0m\n",
      "\u001b[32m[I 2023-04-22 16:18:06,642]\u001b[0m Trial 27 finished with value: 0.619514275661135 and parameters: {'var_smoothing': 0.01654629416945005}. Best is trial 25 with value: 0.6201748649528831.\u001b[0m\n",
      "\u001b[32m[I 2023-04-22 16:18:06,683]\u001b[0m Trial 28 finished with value: 0.6192498129378063 and parameters: {'var_smoothing': 6.620869163591163e-05}. Best is trial 25 with value: 0.6201748649528831.\u001b[0m\n",
      "\u001b[32m[I 2023-04-22 16:18:06,725]\u001b[0m Trial 29 finished with value: 0.6193819569892285 and parameters: {'var_smoothing': 0.0006134779601451441}. Best is trial 25 with value: 0.6201748649528831.\u001b[0m\n",
      "\u001b[32m[I 2023-04-22 16:18:06,765]\u001b[0m Trial 30 finished with value: 0.6197124699107078 and parameters: {'var_smoothing': 0.019120349917080316}. Best is trial 25 with value: 0.6201748649528831.\u001b[0m\n",
      "\u001b[32m[I 2023-04-22 16:18:06,806]\u001b[0m Trial 31 finished with value: 0.6199105331949175 and parameters: {'var_smoothing': 0.00793496403757113}. Best is trial 25 with value: 0.6201748649528831.\u001b[0m\n",
      "\u001b[32m[I 2023-04-22 16:18:06,849]\u001b[0m Trial 32 finished with value: 0.6199765833930682 and parameters: {'var_smoothing': 0.008219072560646802}. Best is trial 25 with value: 0.6201748649528831.\u001b[0m\n",
      "\u001b[32m[I 2023-04-22 16:18:06,890]\u001b[0m Trial 33 finished with value: 0.6193819133341075 and parameters: {'var_smoothing': 0.0010129116406393545}. Best is trial 25 with value: 0.6201748649528831.\u001b[0m\n",
      "\u001b[32m[I 2023-04-22 16:18:06,929]\u001b[0m Trial 34 finished with value: 0.6180609093710956 and parameters: {'var_smoothing': 0.0955879789740737}. Best is trial 25 with value: 0.6201748649528831.\u001b[0m\n",
      "\u001b[32m[I 2023-04-22 16:18:06,968]\u001b[0m Trial 35 finished with value: 0.6196462887471941 and parameters: {'var_smoothing': 0.00534287318328205}. Best is trial 25 with value: 0.6201748649528831.\u001b[0m\n",
      "\u001b[32m[I 2023-04-22 16:18:07,009]\u001b[0m Trial 36 finished with value: 0.6193158631359569 and parameters: {'var_smoothing': 0.0010411190733007167}. Best is trial 25 with value: 0.6201748649528831.\u001b[0m\n",
      "\u001b[32m[I 2023-04-22 16:18:07,051]\u001b[0m Trial 37 finished with value: 0.6198446139621301 and parameters: {'var_smoothing': 0.018939732710139663}. Best is trial 25 with value: 0.6201748649528831.\u001b[0m\n",
      "\u001b[32m[I 2023-04-22 16:18:07,092]\u001b[0m Trial 38 finished with value: 0.6197123389453446 and parameters: {'var_smoothing': 0.003521636049429125}. Best is trial 25 with value: 0.6201748649528831.\u001b[0m\n",
      "\u001b[32m[I 2023-04-22 16:18:07,133]\u001b[0m Trial 39 finished with value: 0.6192498129378063 and parameters: {'var_smoothing': 0.0001669508169170726}. Best is trial 25 with value: 0.6201748649528831.\u001b[0m\n",
      "\u001b[32m[I 2023-04-22 16:18:07,173]\u001b[0m Trial 40 finished with value: 0.619712688186313 and parameters: {'var_smoothing': 0.029475370000984314}. Best is trial 25 with value: 0.6201748649528831.\u001b[0m\n",
      "\u001b[32m[I 2023-04-22 16:18:07,214]\u001b[0m Trial 41 finished with value: 0.6199765833930682 and parameters: {'var_smoothing': 0.008161548241492286}. Best is trial 25 with value: 0.6201748649528831.\u001b[0m\n"
     ]
    },
    {
     "name": "stderr",
     "output_type": "stream",
     "text": [
      "\u001b[32m[I 2023-04-22 16:18:07,254]\u001b[0m Trial 42 finished with value: 0.6193819133341075 and parameters: {'var_smoothing': 0.0015116436428844712}. Best is trial 25 with value: 0.6201748649528831.\u001b[0m\n",
      "\u001b[32m[I 2023-04-22 16:18:07,294]\u001b[0m Trial 43 finished with value: 0.6199765833930682 and parameters: {'var_smoothing': 0.00739753568408131}. Best is trial 25 with value: 0.6201748649528831.\u001b[0m\n",
      "\u001b[32m[I 2023-04-22 16:18:07,332]\u001b[0m Trial 44 finished with value: 0.6194482691181055 and parameters: {'var_smoothing': 0.0358331474634262}. Best is trial 25 with value: 0.6201748649528831.\u001b[0m\n",
      "\u001b[32m[I 2023-04-22 16:18:07,372]\u001b[0m Trial 45 finished with value: 0.6194479635322581 and parameters: {'var_smoothing': 0.0017262477739162397}. Best is trial 25 with value: 0.6201748649528831.\u001b[0m\n",
      "\u001b[32m[I 2023-04-22 16:18:07,413]\u001b[0m Trial 46 finished with value: 0.6193160814115621 and parameters: {'var_smoothing': 0.03815382217617259}. Best is trial 25 with value: 0.6201748649528831.\u001b[0m\n",
      "\u001b[32m[I 2023-04-22 16:18:07,455]\u001b[0m Trial 47 finished with value: 0.6199765833930682 and parameters: {'var_smoothing': 0.0069095395126288735}. Best is trial 25 with value: 0.6201748649528831.\u001b[0m\n",
      "\u001b[32m[I 2023-04-22 16:18:07,494]\u001b[0m Trial 48 finished with value: 0.6196462887471941 and parameters: {'var_smoothing': 0.004332831511952506}. Best is trial 25 with value: 0.6201748649528831.\u001b[0m\n",
      "\u001b[32m[I 2023-04-22 16:18:07,535]\u001b[0m Trial 49 finished with value: 0.6176644772168289 and parameters: {'var_smoothing': 0.09982891321106288}. Best is trial 25 with value: 0.6201748649528831.\u001b[0m\n"
     ]
    },
    {
     "name": "stdout",
     "output_type": "stream",
     "text": [
      "Best accuracy: 0.6201748649528831\n",
      "Best parameters: {'var_smoothing': 0.009752760872117967}\n",
      "Accuracy on test data: 0.6175188267934998\n"
     ]
    }
   ],
   "source": [
    "study = optuna.create_study(direction='maximize')\n",
    "study.optimize(objective_gnb, n_trials=50)\n",
    "\n",
    "best_params = study.best_params\n",
    "gnb = GaussianNB(**best_params)\n",
    "gnb.fit(X_train, y_train)\n",
    "\n",
    "test_accuracy = gnb.score(X_test, y_test)\n",
    "\n",
    "print('Best accuracy:', study.best_value)\n",
    "print('Best parameters:', study.best_params)\n",
    "print('Accuracy on test data:', test_accuracy)\n"
   ]
  },
  {
   "cell_type": "code",
   "execution_count": 20,
   "id": "1dd61386",
   "metadata": {},
   "outputs": [],
   "source": [
    "from sklearn.neighbors import KNeighborsClassifier\n",
    "\n",
    "def objective_knn(trial):\n",
    "    params = {\n",
    "        'n_neighbors': trial.suggest_int('n_neighbors', 1, 50),\n",
    "        'weights': trial.suggest_categorical('weights', ['uniform', 'distance']),\n",
    "        'p': trial.suggest_int('p', 1, 5)\n",
    "    }\n",
    "\n",
    "    model = KNeighborsClassifier(**params)\n",
    "    scores = cross_val_score(model, X_train, y_train, cv=5, scoring='accuracy')\n",
    "    mean_accuracy = scores.mean()\n",
    "\n",
    "    return mean_accuracy\n"
   ]
  },
  {
   "cell_type": "code",
   "execution_count": 21,
   "id": "abccb036",
   "metadata": {},
   "outputs": [
    {
     "name": "stderr",
     "output_type": "stream",
     "text": [
      "\u001b[32m[I 2023-04-22 16:18:07,576]\u001b[0m A new study created in memory with name: no-name-45a00a73-62bd-416e-b63f-053dff16898e\u001b[0m\n",
      "\u001b[32m[I 2023-04-22 16:18:11,537]\u001b[0m Trial 0 finished with value: 0.5955997737666155 and parameters: {'n_neighbors': 9, 'weights': 'uniform', 'p': 4}. Best is trial 0 with value: 0.5955997737666155.\u001b[0m\n",
      "\u001b[32m[I 2023-04-22 16:18:12,473]\u001b[0m Trial 1 finished with value: 0.6217626347461137 and parameters: {'n_neighbors': 44, 'weights': 'distance', 'p': 2}. Best is trial 1 with value: 0.6217626347461137.\u001b[0m\n",
      "\u001b[32m[I 2023-04-22 16:18:18,899]\u001b[0m Trial 2 finished with value: 0.6205735566166064 and parameters: {'n_neighbors': 47, 'weights': 'distance', 'p': 5}. Best is trial 1 with value: 0.6217626347461137.\u001b[0m\n",
      "\u001b[32m[I 2023-04-22 16:18:24,131]\u001b[0m Trial 3 finished with value: 0.6079545866156594 and parameters: {'n_neighbors': 19, 'weights': 'distance', 'p': 3}. Best is trial 1 with value: 0.6217626347461137.\u001b[0m\n",
      "\u001b[32m[I 2023-04-22 16:18:29,959]\u001b[0m Trial 4 finished with value: 0.6176004903468956 and parameters: {'n_neighbors': 32, 'weights': 'distance', 'p': 4}. Best is trial 1 with value: 0.6217626347461137.\u001b[0m\n",
      "\u001b[32m[I 2023-04-22 16:18:34,622]\u001b[0m Trial 5 finished with value: 0.6039244989720434 and parameters: {'n_neighbors': 17, 'weights': 'uniform', 'p': 5}. Best is trial 1 with value: 0.6217626347461137.\u001b[0m\n",
      "\u001b[32m[I 2023-04-22 16:18:35,036]\u001b[0m Trial 6 finished with value: 0.5606492906858965 and parameters: {'n_neighbors': 1, 'weights': 'distance', 'p': 1}. Best is trial 1 with value: 0.6217626347461137.\u001b[0m\n",
      "\u001b[32m[I 2023-04-22 16:18:35,724]\u001b[0m Trial 7 finished with value: 0.6047163812783147 and parameters: {'n_neighbors': 16, 'weights': 'distance', 'p': 2}. Best is trial 1 with value: 0.6217626347461137.\u001b[0m\n",
      "\u001b[32m[I 2023-04-22 16:18:40,228]\u001b[0m Trial 8 finished with value: 0.6060383671570573 and parameters: {'n_neighbors': 14, 'weights': 'uniform', 'p': 5}. Best is trial 1 with value: 0.6217626347461137.\u001b[0m\n",
      "\u001b[32m[I 2023-04-22 16:18:41,139]\u001b[0m Trial 9 finished with value: 0.6180626671711533 and parameters: {'n_neighbors': 36, 'weights': 'distance', 'p': 2}. Best is trial 1 with value: 0.6217626347461137.\u001b[0m\n",
      "\u001b[32m[I 2023-04-22 16:18:42,464]\u001b[0m Trial 10 finished with value: 0.6228197215810676 and parameters: {'n_neighbors': 50, 'weights': 'uniform', 'p': 1}. Best is trial 10 with value: 0.6228197215810676.\u001b[0m\n",
      "\u001b[32m[I 2023-04-22 16:18:43,786]\u001b[0m Trial 11 finished with value: 0.6222252043366636 and parameters: {'n_neighbors': 49, 'weights': 'uniform', 'p': 1}. Best is trial 10 with value: 0.6228197215810676.\u001b[0m\n",
      "\u001b[32m[I 2023-04-22 16:18:45,061]\u001b[0m Trial 12 finished with value: 0.6228197215810676 and parameters: {'n_neighbors': 50, 'weights': 'uniform', 'p': 1}. Best is trial 10 with value: 0.6228197215810676.\u001b[0m\n",
      "\u001b[32m[I 2023-04-22 16:18:46,254]\u001b[0m Trial 13 finished with value: 0.6205072009335618 and parameters: {'n_neighbors': 39, 'weights': 'uniform', 'p': 1}. Best is trial 10 with value: 0.6228197215810676.\u001b[0m\n",
      "\u001b[32m[I 2023-04-22 16:18:47,357]\u001b[0m Trial 14 finished with value: 0.6197144239929582 and parameters: {'n_neighbors': 28, 'weights': 'uniform', 'p': 1}. Best is trial 10 with value: 0.6228197215810676.\u001b[0m\n"
     ]
    },
    {
     "name": "stdout",
     "output_type": "stream",
     "text": [
      "Best accuracy: 0.6228197215810676\n",
      "Best parameters: {'n_neighbors': 50, 'weights': 'uniform', 'p': 1}\n",
      "Accuracy on test data: 0.6191042409829568\n"
     ]
    }
   ],
   "source": [
    "study = optuna.create_study(direction='maximize')\n",
    "study.optimize(objective_knn, n_trials=15)\n",
    "\n",
    "best_params = study.best_params\n",
    "k_neighbors = KNeighborsClassifier(**best_params)\n",
    "k_neighbors.fit(X_train, y_train)\n",
    "\n",
    "test_accuracy = k_neighbors.score(X_test, y_test)\n",
    "\n",
    "print('Best accuracy:', study.best_value)\n",
    "print('Best parameters:', study.best_params)\n",
    "print('Accuracy on test data:', test_accuracy)\n"
   ]
  },
  {
   "cell_type": "code",
   "execution_count": 22,
   "id": "c5153d13",
   "metadata": {},
   "outputs": [],
   "source": [
    "from sklearn.ensemble import AdaBoostClassifier\n",
    "\n",
    "def objective_adaboost(trial):\n",
    "    params = {\n",
    "        'n_estimators': trial.suggest_int('n_estimators', 10, 500),\n",
    "        'learning_rate': trial.suggest_loguniform('learning_rate', 1e-3, 1)\n",
    "    }\n",
    "\n",
    "    model = AdaBoostClassifier(**params, random_state=42)\n",
    "    scores = cross_val_score(model, X_train, y_train, cv=5, scoring='accuracy')\n",
    "    mean_accuracy = scores.mean()\n",
    "\n",
    "    return mean_accuracy\n"
   ]
  },
  {
   "cell_type": "code",
   "execution_count": 23,
   "id": "ee19c23d",
   "metadata": {},
   "outputs": [
    {
     "name": "stderr",
     "output_type": "stream",
     "text": [
      "\u001b[32m[I 2023-04-22 16:18:47,860]\u001b[0m A new study created in memory with name: no-name-747b36de-0a4b-431f-b7c4-b03b95541d0c\u001b[0m\n",
      "\u001b[32m[I 2023-04-22 16:19:00,013]\u001b[0m Trial 0 finished with value: 0.6372228542850148 and parameters: {'n_estimators': 421, 'learning_rate': 0.22082188190978647}. Best is trial 0 with value: 0.6372228542850148.\u001b[0m\n",
      "\u001b[32m[I 2023-04-22 16:19:05,990]\u001b[0m Trial 1 finished with value: 0.6372885117168732 and parameters: {'n_estimators': 209, 'learning_rate': 0.08410166143603699}. Best is trial 1 with value: 0.6372885117168732.\u001b[0m\n",
      "\u001b[32m[I 2023-04-22 16:19:07,084]\u001b[0m Trial 2 finished with value: 0.6325316973308039 and parameters: {'n_estimators': 38, 'learning_rate': 0.7270623982934007}. Best is trial 1 with value: 0.6372885117168732.\u001b[0m\n",
      "\u001b[32m[I 2023-04-22 16:19:18,050]\u001b[0m Trial 3 finished with value: 0.6362315994447157 and parameters: {'n_estimators': 385, 'learning_rate': 0.006686217369719448}. Best is trial 1 with value: 0.6372885117168732.\u001b[0m\n",
      "\u001b[32m[I 2023-04-22 16:19:29,837]\u001b[0m Trial 4 finished with value: 0.6331266291618498 and parameters: {'n_estimators': 409, 'learning_rate': 0.003374195946369376}. Best is trial 1 with value: 0.6372885117168732.\u001b[0m\n"
     ]
    },
    {
     "name": "stdout",
     "output_type": "stream",
     "text": [
      "Best accuracy: 0.6372885117168732\n",
      "Best parameters: {'n_estimators': 209, 'learning_rate': 0.08410166143603699}\n",
      "Accuracy on test data: 0.633769322235434\n"
     ]
    }
   ],
   "source": [
    "study = optuna.create_study(direction='maximize')\n",
    "study.optimize(objective_adaboost, n_trials=5)\n",
    "\n",
    "best_params = study.best_params\n",
    "ada_boost = AdaBoostClassifier(**best_params, random_state=42)\n",
    "ada_boost.fit(X_train, y_train)\n",
    "\n",
    "test_accuracy = ada_boost.score(X_test, y_test)\n",
    "\n",
    "print('Best accuracy:', study.best_value)\n",
    "print('Best parameters:', study.best_params)\n",
    "print('Accuracy on test data:', test_accuracy)"
   ]
  },
  {
   "cell_type": "code",
   "execution_count": 24,
   "id": "abd219c9",
   "metadata": {},
   "outputs": [],
   "source": [
    "def objective_gradient_boost(trial):\n",
    "    params = {\n",
    "        'n_estimators': trial.suggest_int('n_estimators', 10, 500),\n",
    "        'learning_rate': trial.suggest_loguniform('learning_rate', 1e-3, 1),\n",
    "        'max_depth': trial.suggest_int('max_depth', 1, 10),\n",
    "        'min_samples_split': trial.suggest_int('min_samples_split', 2, 20),\n",
    "        'min_samples_leaf': trial.suggest_int('min_samples_leaf', 1, 20)\n",
    "    }\n",
    "\n",
    "    model = GradientBoostingClassifier(**params, random_state=42)\n",
    "    scores = cross_val_score(model, X_train, y_train, cv=5, scoring='accuracy')\n",
    "    mean_accuracy = scores.mean()\n",
    "\n",
    "    return mean_accuracy\n"
   ]
  },
  {
   "cell_type": "code",
   "execution_count": 25,
   "id": "57605b12",
   "metadata": {},
   "outputs": [
    {
     "name": "stderr",
     "output_type": "stream",
     "text": [
      "\u001b[32m[I 2023-04-22 16:19:31,394]\u001b[0m A new study created in memory with name: no-name-5ccfbc17-9434-412f-ae46-9755082ba00b\u001b[0m\n",
      "\u001b[32m[I 2023-04-22 16:20:10,973]\u001b[0m Trial 0 finished with value: 0.6355048508819131 and parameters: {'n_estimators': 471, 'learning_rate': 0.011410643088786464, 'max_depth': 5, 'min_samples_split': 15, 'min_samples_leaf': 11}. Best is trial 0 with value: 0.6355048508819131.\u001b[0m\n",
      "\u001b[32m[I 2023-04-22 16:20:58,548]\u001b[0m Trial 1 finished with value: 0.6188556186745535 and parameters: {'n_estimators': 262, 'learning_rate': 0.03169259926392849, 'max_depth': 10, 'min_samples_split': 5, 'min_samples_leaf': 4}. Best is trial 0 with value: 0.6355048508819131.\u001b[0m\n",
      "\u001b[32m[I 2023-04-22 16:21:47,061]\u001b[0m Trial 2 finished with value: 0.6343815829267111 and parameters: {'n_estimators': 414, 'learning_rate': 0.00738278061269796, 'max_depth': 7, 'min_samples_split': 17, 'min_samples_leaf': 18}. Best is trial 0 with value: 0.6355048508819131.\u001b[0m\n",
      "\u001b[32m[I 2023-04-22 16:22:23,869]\u001b[0m Trial 3 finished with value: 0.6376850747499716 and parameters: {'n_estimators': 435, 'learning_rate': 0.0027268753232794047, 'max_depth': 5, 'min_samples_split': 9, 'min_samples_leaf': 20}. Best is trial 3 with value: 0.6376850747499716.\u001b[0m\n",
      "\u001b[32m[I 2023-04-22 16:23:09,642]\u001b[0m Trial 4 finished with value: 0.6337870438619575 and parameters: {'n_estimators': 370, 'learning_rate': 0.0016654688709271184, 'max_depth': 7, 'min_samples_split': 2, 'min_samples_leaf': 9}. Best is trial 3 with value: 0.6376850747499716.\u001b[0m\n",
      "\u001b[32m[I 2023-04-22 16:23:20,735]\u001b[0m Trial 5 finished with value: 0.6294925372222433 and parameters: {'n_estimators': 81, 'learning_rate': 0.08581907206572142, 'max_depth': 8, 'min_samples_split': 11, 'min_samples_leaf': 14}. Best is trial 3 with value: 0.6376850747499716.\u001b[0m\n",
      "\u001b[32m[I 2023-04-22 16:23:29,631]\u001b[0m Trial 6 finished with value: 0.6359016539388567 and parameters: {'n_estimators': 438, 'learning_rate': 0.2855690170962292, 'max_depth': 1, 'min_samples_split': 9, 'min_samples_leaf': 18}. Best is trial 3 with value: 0.6376850747499716.\u001b[0m\n",
      "\u001b[32m[I 2023-04-22 16:23:32,433]\u001b[0m Trial 7 finished with value: 0.6045194089827397 and parameters: {'n_estimators': 24, 'learning_rate': 0.5425910924808445, 'max_depth': 7, 'min_samples_split': 16, 'min_samples_leaf': 8}. Best is trial 3 with value: 0.6376850747499716.\u001b[0m\n",
      "\u001b[32m[I 2023-04-22 16:23:40,129]\u001b[0m Trial 8 finished with value: 0.6398652113366318 and parameters: {'n_estimators': 205, 'learning_rate': 0.016764197498531634, 'max_depth': 2, 'min_samples_split': 20, 'min_samples_leaf': 5}. Best is trial 8 with value: 0.6398652113366318.\u001b[0m\n",
      "\u001b[32m[I 2023-04-22 16:24:19,916]\u001b[0m Trial 9 finished with value: 0.63358867506401 and parameters: {'n_estimators': 393, 'learning_rate': 0.011527669049191384, 'max_depth': 6, 'min_samples_split': 13, 'min_samples_leaf': 15}. Best is trial 8 with value: 0.6398652113366318.\u001b[0m\n",
      "\u001b[32m[I 2023-04-22 16:24:23,495]\u001b[0m Trial 10 finished with value: 0.6380153912017732 and parameters: {'n_estimators': 171, 'learning_rate': 0.0800106909431176, 'max_depth': 1, 'min_samples_split': 20, 'min_samples_leaf': 1}. Best is trial 8 with value: 0.6398652113366318.\u001b[0m\n",
      "\u001b[32m[I 2023-04-22 16:24:27,272]\u001b[0m Trial 11 finished with value: 0.637487011436918 and parameters: {'n_estimators': 175, 'learning_rate': 0.088266696885389, 'max_depth': 1, 'min_samples_split': 20, 'min_samples_leaf': 1}. Best is trial 8 with value: 0.6398652113366318.\u001b[0m\n",
      "\u001b[32m[I 2023-04-22 16:24:38,727]\u001b[0m Trial 12 finished with value: 0.6372888172017671 and parameters: {'n_estimators': 213, 'learning_rate': 0.04687511950822596, 'max_depth': 3, 'min_samples_split': 20, 'min_samples_leaf': 4}. Best is trial 8 with value: 0.6398652113366318.\u001b[0m\n",
      "\u001b[32m[I 2023-04-22 16:24:53,522]\u001b[0m Trial 13 finished with value: 0.6308140648736449 and parameters: {'n_estimators': 286, 'learning_rate': 0.17189899285219445, 'max_depth': 3, 'min_samples_split': 18, 'min_samples_leaf': 1}. Best is trial 8 with value: 0.6398652113366318.\u001b[0m\n",
      "\u001b[32m[I 2023-04-22 16:25:00,832]\u001b[0m Trial 14 finished with value: 0.6397992047791803 and parameters: {'n_estimators': 138, 'learning_rate': 0.021766328771271097, 'max_depth': 3, 'min_samples_split': 20, 'min_samples_leaf': 5}. Best is trial 8 with value: 0.6398652113366318.\u001b[0m\n"
     ]
    },
    {
     "name": "stdout",
     "output_type": "stream",
     "text": [
      "Best accuracy: 0.6398652113366318\n",
      "Best parameters: {'n_estimators': 205, 'learning_rate': 0.016764197498531634, 'max_depth': 2, 'min_samples_split': 20, 'min_samples_leaf': 5}\n",
      "Accuracy on test data: 0.6327784383670234\n"
     ]
    }
   ],
   "source": [
    "study = optuna.create_study(direction='maximize')\n",
    "study.optimize(objective_gradient_boost, n_trials=15)\n",
    "\n",
    "best_params = study.best_params\n",
    "gradient_boost = GradientBoostingClassifier(**best_params, random_state=42)\n",
    "gradient_boost.fit(X_train, y_train)\n",
    "\n",
    "test_accuracy = gradient_boost.score(X_test, y_test)\n",
    "\n",
    "print('Best accuracy:', study.best_value)\n",
    "print('Best parameters:', study.best_params)\n",
    "print('Accuracy on test data:', test_accuracy)\n"
   ]
  },
  {
   "cell_type": "code",
   "execution_count": 26,
   "id": "666d440f",
   "metadata": {},
   "outputs": [],
   "source": [
    "# Define the objective function\n",
    "def objective(trial):\n",
    "    params = {\n",
    "        'boosting_type': 'gbdt',\n",
    "        'objective': 'binary',\n",
    "        'metric': 'binary_logloss',\n",
    "        'num_leaves': trial.suggest_int('num_leaves', 2, 256),\n",
    "        'learning_rate': trial.suggest_loguniform('learning_rate', 0.001, 0.1),\n",
    "        'max_depth': trial.suggest_int('max_depth', 3, 10),\n",
    "        'feature_fraction': trial.suggest_uniform('feature_fraction', 0.1, 1.0),\n",
    "        'bagging_fraction': trial.suggest_uniform('bagging_fraction', 0.1, 1.0),\n",
    "        'bagging_freq': trial.suggest_int('bagging_freq', 1, 10),\n",
    "        'min_child_samples': trial.suggest_int('min_child_samples', 5, 100),\n",
    "        'random_state': 42\n",
    "    }\n",
    "    model = lgb.LGBMClassifier(**params)\n",
    "    #model.fit(X_train, y_train)\n",
    "    #y_pred = model.predict(X_test)\n",
    "    #accuracy = accuracy_score(y_test, y_pred)\n",
    "    # Use cross_val_score for cross-validation\n",
    "    scores = cross_val_score(model, X_train, y_train, cv=5, scoring='accuracy')\n",
    "    mean_accuracy = scores.mean()\n",
    "    return mean_accuracy"
   ]
  },
  {
   "cell_type": "code",
   "execution_count": 27,
   "id": "528c9743",
   "metadata": {},
   "outputs": [
    {
     "name": "stderr",
     "output_type": "stream",
     "text": [
      "\u001b[32m[I 2023-04-22 16:25:02,775]\u001b[0m A new study created in memory with name: no-name-75f45734-2e27-4dae-85d2-380586b6d43f\u001b[0m\n"
     ]
    },
    {
     "name": "stdout",
     "output_type": "stream",
     "text": [
      "[LightGBM] [Warning] feature_fraction is set=0.11077214003515051, colsample_bytree=1.0 will be ignored. Current value: feature_fraction=0.11077214003515051\n",
      "[LightGBM] [Warning] bagging_fraction is set=0.8747355258498289, subsample=1.0 will be ignored. Current value: bagging_fraction=0.8747355258498289\n",
      "[LightGBM] [Warning] bagging_freq is set=3, subsample_freq=0 will be ignored. Current value: bagging_freq=3\n",
      "[LightGBM] [Warning] feature_fraction is set=0.11077214003515051, colsample_bytree=1.0 will be ignored. Current value: feature_fraction=0.11077214003515051\n",
      "[LightGBM] [Warning] bagging_fraction is set=0.8747355258498289, subsample=1.0 will be ignored. Current value: bagging_fraction=0.8747355258498289\n",
      "[LightGBM] [Warning] bagging_freq is set=3, subsample_freq=0 will be ignored. Current value: bagging_freq=3\n",
      "[LightGBM] [Warning] feature_fraction is set=0.11077214003515051, colsample_bytree=1.0 will be ignored. Current value: feature_fraction=0.11077214003515051\n",
      "[LightGBM] [Warning] bagging_fraction is set=0.8747355258498289, subsample=1.0 will be ignored. Current value: bagging_fraction=0.8747355258498289\n",
      "[LightGBM] [Warning] bagging_freq is set=3, subsample_freq=0 will be ignored. Current value: bagging_freq=3\n",
      "[LightGBM] [Warning] feature_fraction is set=0.11077214003515051, colsample_bytree=1.0 will be ignored. Current value: feature_fraction=0.11077214003515051\n",
      "[LightGBM] [Warning] bagging_fraction is set=0.8747355258498289, subsample=1.0 will be ignored. Current value: bagging_fraction=0.8747355258498289\n",
      "[LightGBM] [Warning] bagging_freq is set=3, subsample_freq=0 will be ignored. Current value: bagging_freq=3\n"
     ]
    },
    {
     "name": "stderr",
     "output_type": "stream",
     "text": [
      "\u001b[32m[I 2023-04-22 16:25:03,516]\u001b[0m Trial 0 finished with value: 0.6251981178639274 and parameters: {'num_leaves': 92, 'learning_rate': 0.08797576229606495, 'max_depth': 9, 'feature_fraction': 0.11077214003515051, 'bagging_fraction': 0.8747355258498289, 'bagging_freq': 3, 'min_child_samples': 87}. Best is trial 0 with value: 0.6251981178639274.\u001b[0m\n"
     ]
    },
    {
     "name": "stdout",
     "output_type": "stream",
     "text": [
      "[LightGBM] [Warning] feature_fraction is set=0.11077214003515051, colsample_bytree=1.0 will be ignored. Current value: feature_fraction=0.11077214003515051\n",
      "[LightGBM] [Warning] bagging_fraction is set=0.8747355258498289, subsample=1.0 will be ignored. Current value: bagging_fraction=0.8747355258498289\n",
      "[LightGBM] [Warning] bagging_freq is set=3, subsample_freq=0 will be ignored. Current value: bagging_freq=3\n",
      "[LightGBM] [Warning] feature_fraction is set=0.22347451297292548, colsample_bytree=1.0 will be ignored. Current value: feature_fraction=0.22347451297292548\n",
      "[LightGBM] [Warning] bagging_fraction is set=0.33537487426110413, subsample=1.0 will be ignored. Current value: bagging_fraction=0.33537487426110413\n",
      "[LightGBM] [Warning] bagging_freq is set=8, subsample_freq=0 will be ignored. Current value: bagging_freq=8\n"
     ]
    },
    {
     "name": "stderr",
     "output_type": "stream",
     "text": [
      "\u001b[32m[I 2023-04-22 16:25:03,789]\u001b[0m Trial 1 finished with value: 0.5399709309303018 and parameters: {'num_leaves': 154, 'learning_rate': 0.0018863616199156583, 'max_depth': 4, 'feature_fraction': 0.22347451297292548, 'bagging_fraction': 0.33537487426110413, 'bagging_freq': 8, 'min_child_samples': 59}. Best is trial 0 with value: 0.6251981178639274.\u001b[0m\n"
     ]
    },
    {
     "name": "stdout",
     "output_type": "stream",
     "text": [
      "[LightGBM] [Warning] feature_fraction is set=0.22347451297292548, colsample_bytree=1.0 will be ignored. Current value: feature_fraction=0.22347451297292548\n",
      "[LightGBM] [Warning] bagging_fraction is set=0.33537487426110413, subsample=1.0 will be ignored. Current value: bagging_fraction=0.33537487426110413\n",
      "[LightGBM] [Warning] bagging_freq is set=8, subsample_freq=0 will be ignored. Current value: bagging_freq=8\n",
      "[LightGBM] [Warning] feature_fraction is set=0.22347451297292548, colsample_bytree=1.0 will be ignored. Current value: feature_fraction=0.22347451297292548\n",
      "[LightGBM] [Warning] bagging_fraction is set=0.33537487426110413, subsample=1.0 will be ignored. Current value: bagging_fraction=0.33537487426110413\n",
      "[LightGBM] [Warning] bagging_freq is set=8, subsample_freq=0 will be ignored. Current value: bagging_freq=8\n",
      "[LightGBM] [Warning] feature_fraction is set=0.22347451297292548, colsample_bytree=1.0 will be ignored. Current value: feature_fraction=0.22347451297292548\n",
      "[LightGBM] [Warning] bagging_fraction is set=0.33537487426110413, subsample=1.0 will be ignored. Current value: bagging_fraction=0.33537487426110413\n",
      "[LightGBM] [Warning] bagging_freq is set=8, subsample_freq=0 will be ignored. Current value: bagging_freq=8\n",
      "[LightGBM] [Warning] feature_fraction is set=0.22347451297292548, colsample_bytree=1.0 will be ignored. Current value: feature_fraction=0.22347451297292548\n",
      "[LightGBM] [Warning] bagging_fraction is set=0.33537487426110413, subsample=1.0 will be ignored. Current value: bagging_fraction=0.33537487426110413\n",
      "[LightGBM] [Warning] bagging_freq is set=8, subsample_freq=0 will be ignored. Current value: bagging_freq=8\n"
     ]
    },
    {
     "name": "stderr",
     "output_type": "stream",
     "text": [
      "\u001b[32m[I 2023-04-22 16:25:03,974]\u001b[0m Trial 2 finished with value: 0.6059069650119423 and parameters: {'num_leaves': 150, 'learning_rate': 0.004275831376691706, 'max_depth': 3, 'feature_fraction': 0.3495572524481926, 'bagging_fraction': 0.11606865249007282, 'bagging_freq': 9, 'min_child_samples': 31}. Best is trial 0 with value: 0.6251981178639274.\u001b[0m\n"
     ]
    },
    {
     "name": "stdout",
     "output_type": "stream",
     "text": [
      "[LightGBM] [Warning] feature_fraction is set=0.3495572524481926, colsample_bytree=1.0 will be ignored. Current value: feature_fraction=0.3495572524481926\n",
      "[LightGBM] [Warning] bagging_fraction is set=0.11606865249007282, subsample=1.0 will be ignored. Current value: bagging_fraction=0.11606865249007282\n",
      "[LightGBM] [Warning] bagging_freq is set=9, subsample_freq=0 will be ignored. Current value: bagging_freq=9\n",
      "[LightGBM] [Warning] feature_fraction is set=0.3495572524481926, colsample_bytree=1.0 will be ignored. Current value: feature_fraction=0.3495572524481926\n",
      "[LightGBM] [Warning] bagging_fraction is set=0.11606865249007282, subsample=1.0 will be ignored. Current value: bagging_fraction=0.11606865249007282\n",
      "[LightGBM] [Warning] bagging_freq is set=9, subsample_freq=0 will be ignored. Current value: bagging_freq=9\n",
      "[LightGBM] [Warning] feature_fraction is set=0.3495572524481926, colsample_bytree=1.0 will be ignored. Current value: feature_fraction=0.3495572524481926\n",
      "[LightGBM] [Warning] bagging_fraction is set=0.11606865249007282, subsample=1.0 will be ignored. Current value: bagging_fraction=0.11606865249007282\n",
      "[LightGBM] [Warning] bagging_freq is set=9, subsample_freq=0 will be ignored. Current value: bagging_freq=9\n",
      "[LightGBM] [Warning] feature_fraction is set=0.3495572524481926, colsample_bytree=1.0 will be ignored. Current value: feature_fraction=0.3495572524481926\n",
      "[LightGBM] [Warning] bagging_fraction is set=0.11606865249007282, subsample=1.0 will be ignored. Current value: bagging_fraction=0.11606865249007282\n",
      "[LightGBM] [Warning] bagging_freq is set=9, subsample_freq=0 will be ignored. Current value: bagging_freq=9\n",
      "[LightGBM] [Warning] feature_fraction is set=0.3495572524481926, colsample_bytree=1.0 will be ignored. Current value: feature_fraction=0.3495572524481926\n",
      "[LightGBM] [Warning] bagging_fraction is set=0.11606865249007282, subsample=1.0 will be ignored. Current value: bagging_fraction=0.11606865249007282\n",
      "[LightGBM] [Warning] bagging_freq is set=9, subsample_freq=0 will be ignored. Current value: bagging_freq=9\n",
      "[LightGBM] [Warning] feature_fraction is set=0.7454832066234935, colsample_bytree=1.0 will be ignored. Current value: feature_fraction=0.7454832066234935\n",
      "[LightGBM] [Warning] bagging_fraction is set=0.4552919460868966, subsample=1.0 will be ignored. Current value: bagging_fraction=0.4552919460868966\n",
      "[LightGBM] [Warning] bagging_freq is set=6, subsample_freq=0 will be ignored. Current value: bagging_freq=6\n",
      "[LightGBM] [Warning] feature_fraction is set=0.7454832066234935, colsample_bytree=1.0 will be ignored. Current value: feature_fraction=0.7454832066234935\n",
      "[LightGBM] [Warning] bagging_fraction is set=0.4552919460868966, subsample=1.0 will be ignored. Current value: bagging_fraction=0.4552919460868966\n",
      "[LightGBM] [Warning] bagging_freq is set=6, subsample_freq=0 will be ignored. Current value: bagging_freq=6\n",
      "[LightGBM] [Warning] feature_fraction is set=0.7454832066234935, colsample_bytree=1.0 will be ignored. Current value: feature_fraction=0.7454832066234935\n",
      "[LightGBM] [Warning] bagging_fraction is set=0.4552919460868966, subsample=1.0 will be ignored. Current value: bagging_fraction=0.4552919460868966\n",
      "[LightGBM] [Warning] bagging_freq is set=6, subsample_freq=0 will be ignored. Current value: bagging_freq=6\n"
     ]
    },
    {
     "name": "stderr",
     "output_type": "stream",
     "text": [
      "\u001b[32m[I 2023-04-22 16:25:04,369]\u001b[0m Trial 3 finished with value: 0.6245372885771779 and parameters: {'num_leaves': 141, 'learning_rate': 0.0980577214150874, 'max_depth': 6, 'feature_fraction': 0.7454832066234935, 'bagging_fraction': 0.4552919460868966, 'bagging_freq': 6, 'min_child_samples': 70}. Best is trial 0 with value: 0.6251981178639274.\u001b[0m\n"
     ]
    },
    {
     "name": "stdout",
     "output_type": "stream",
     "text": [
      "[LightGBM] [Warning] feature_fraction is set=0.7454832066234935, colsample_bytree=1.0 will be ignored. Current value: feature_fraction=0.7454832066234935\n",
      "[LightGBM] [Warning] bagging_fraction is set=0.4552919460868966, subsample=1.0 will be ignored. Current value: bagging_fraction=0.4552919460868966\n",
      "[LightGBM] [Warning] bagging_freq is set=6, subsample_freq=0 will be ignored. Current value: bagging_freq=6\n",
      "[LightGBM] [Warning] feature_fraction is set=0.7454832066234935, colsample_bytree=1.0 will be ignored. Current value: feature_fraction=0.7454832066234935\n",
      "[LightGBM] [Warning] bagging_fraction is set=0.4552919460868966, subsample=1.0 will be ignored. Current value: bagging_fraction=0.4552919460868966\n",
      "[LightGBM] [Warning] bagging_freq is set=6, subsample_freq=0 will be ignored. Current value: bagging_freq=6\n",
      "[LightGBM] [Warning] feature_fraction is set=0.2547992640068612, colsample_bytree=1.0 will be ignored. Current value: feature_fraction=0.2547992640068612\n",
      "[LightGBM] [Warning] bagging_fraction is set=0.4933962125790263, subsample=1.0 will be ignored. Current value: bagging_fraction=0.4933962125790263\n",
      "[LightGBM] [Warning] bagging_freq is set=7, subsample_freq=0 will be ignored. Current value: bagging_freq=7\n",
      "[LightGBM] [Warning] feature_fraction is set=0.2547992640068612, colsample_bytree=1.0 will be ignored. Current value: feature_fraction=0.2547992640068612\n",
      "[LightGBM] [Warning] bagging_fraction is set=0.4933962125790263, subsample=1.0 will be ignored. Current value: bagging_fraction=0.4933962125790263\n",
      "[LightGBM] [Warning] bagging_freq is set=7, subsample_freq=0 will be ignored. Current value: bagging_freq=7\n",
      "[LightGBM] [Warning] feature_fraction is set=0.2547992640068612, colsample_bytree=1.0 will be ignored. Current value: feature_fraction=0.2547992640068612\n",
      "[LightGBM] [Warning] bagging_fraction is set=0.4933962125790263, subsample=1.0 will be ignored. Current value: bagging_fraction=0.4933962125790263\n",
      "[LightGBM] [Warning] bagging_freq is set=7, subsample_freq=0 will be ignored. Current value: bagging_freq=7\n",
      "[LightGBM] [Warning] feature_fraction is set=0.2547992640068612, colsample_bytree=1.0 will be ignored. Current value: feature_fraction=0.2547992640068612\n",
      "[LightGBM] [Warning] bagging_fraction is set=0.4933962125790263, subsample=1.0 will be ignored. Current value: bagging_fraction=0.4933962125790263\n",
      "[LightGBM] [Warning] bagging_freq is set=7, subsample_freq=0 will be ignored. Current value: bagging_freq=7\n"
     ]
    },
    {
     "name": "stderr",
     "output_type": "stream",
     "text": [
      "\u001b[32m[I 2023-04-22 16:25:04,871]\u001b[0m Trial 4 finished with value: 0.6006872319097301 and parameters: {'num_leaves': 220, 'learning_rate': 0.009460763165150776, 'max_depth': 9, 'feature_fraction': 0.2547992640068612, 'bagging_fraction': 0.4933962125790263, 'bagging_freq': 7, 'min_child_samples': 97}. Best is trial 0 with value: 0.6251981178639274.\u001b[0m\n"
     ]
    },
    {
     "name": "stdout",
     "output_type": "stream",
     "text": [
      "[LightGBM] [Warning] feature_fraction is set=0.2547992640068612, colsample_bytree=1.0 will be ignored. Current value: feature_fraction=0.2547992640068612\n",
      "[LightGBM] [Warning] bagging_fraction is set=0.4933962125790263, subsample=1.0 will be ignored. Current value: bagging_fraction=0.4933962125790263\n",
      "[LightGBM] [Warning] bagging_freq is set=7, subsample_freq=0 will be ignored. Current value: bagging_freq=7\n",
      "[LightGBM] [Warning] feature_fraction is set=0.41325479851282554, colsample_bytree=1.0 will be ignored. Current value: feature_fraction=0.41325479851282554\n",
      "[LightGBM] [Warning] bagging_fraction is set=0.11156290306102107, subsample=1.0 will be ignored. Current value: bagging_fraction=0.11156290306102107\n",
      "[LightGBM] [Warning] bagging_freq is set=9, subsample_freq=0 will be ignored. Current value: bagging_freq=9\n",
      "[LightGBM] [Warning] feature_fraction is set=0.41325479851282554, colsample_bytree=1.0 will be ignored. Current value: feature_fraction=0.41325479851282554\n",
      "[LightGBM] [Warning] bagging_fraction is set=0.11156290306102107, subsample=1.0 will be ignored. Current value: bagging_fraction=0.11156290306102107\n",
      "[LightGBM] [Warning] bagging_freq is set=9, subsample_freq=0 will be ignored. Current value: bagging_freq=9\n",
      "[LightGBM] [Warning] feature_fraction is set=0.41325479851282554, colsample_bytree=1.0 will be ignored. Current value: feature_fraction=0.41325479851282554\n",
      "[LightGBM] [Warning] bagging_fraction is set=0.11156290306102107, subsample=1.0 will be ignored. Current value: bagging_fraction=0.11156290306102107\n",
      "[LightGBM] [Warning] bagging_freq is set=9, subsample_freq=0 will be ignored. Current value: bagging_freq=9\n",
      "[LightGBM] [Warning] feature_fraction is set=0.41325479851282554, colsample_bytree=1.0 will be ignored. Current value: feature_fraction=0.41325479851282554\n",
      "[LightGBM] [Warning] bagging_fraction is set=0.11156290306102107, subsample=1.0 will be ignored. Current value: bagging_fraction=0.11156290306102107\n",
      "[LightGBM] [Warning] bagging_freq is set=9, subsample_freq=0 will be ignored. Current value: bagging_freq=9\n",
      "[LightGBM] [Warning] feature_fraction is set=0.41325479851282554, colsample_bytree=1.0 will be ignored. Current value: feature_fraction=0.41325479851282554\n",
      "[LightGBM] [Warning] bagging_fraction is set=0.11156290306102107, subsample=1.0 will be ignored. Current value: bagging_fraction=0.11156290306102107\n",
      "[LightGBM] [Warning] bagging_freq is set=9, subsample_freq=0 will be ignored. Current value: bagging_freq=9\n"
     ]
    },
    {
     "name": "stderr",
     "output_type": "stream",
     "text": [
      "\u001b[32m[I 2023-04-22 16:25:05,274]\u001b[0m Trial 5 finished with value: 0.6279067433171907 and parameters: {'num_leaves': 237, 'learning_rate': 0.04055402532063022, 'max_depth': 8, 'feature_fraction': 0.41325479851282554, 'bagging_fraction': 0.11156290306102107, 'bagging_freq': 9, 'min_child_samples': 27}. Best is trial 5 with value: 0.6279067433171907.\u001b[0m\n"
     ]
    },
    {
     "name": "stdout",
     "output_type": "stream",
     "text": [
      "[LightGBM] [Warning] feature_fraction is set=0.3040410252864882, colsample_bytree=1.0 will be ignored. Current value: feature_fraction=0.3040410252864882\n",
      "[LightGBM] [Warning] bagging_fraction is set=0.46566152422925333, subsample=1.0 will be ignored. Current value: bagging_fraction=0.46566152422925333\n",
      "[LightGBM] [Warning] bagging_freq is set=8, subsample_freq=0 will be ignored. Current value: bagging_freq=8\n",
      "[LightGBM] [Warning] feature_fraction is set=0.3040410252864882, colsample_bytree=1.0 will be ignored. Current value: feature_fraction=0.3040410252864882\n",
      "[LightGBM] [Warning] bagging_fraction is set=0.46566152422925333, subsample=1.0 will be ignored. Current value: bagging_fraction=0.46566152422925333\n",
      "[LightGBM] [Warning] bagging_freq is set=8, subsample_freq=0 will be ignored. Current value: bagging_freq=8\n",
      "[LightGBM] [Warning] feature_fraction is set=0.3040410252864882, colsample_bytree=1.0 will be ignored. Current value: feature_fraction=0.3040410252864882\n",
      "[LightGBM] [Warning] bagging_fraction is set=0.46566152422925333, subsample=1.0 will be ignored. Current value: bagging_fraction=0.46566152422925333\n",
      "[LightGBM] [Warning] bagging_freq is set=8, subsample_freq=0 will be ignored. Current value: bagging_freq=8\n",
      "[LightGBM] [Warning] feature_fraction is set=0.3040410252864882, colsample_bytree=1.0 will be ignored. Current value: feature_fraction=0.3040410252864882\n",
      "[LightGBM] [Warning] bagging_fraction is set=0.46566152422925333, subsample=1.0 will be ignored. Current value: bagging_fraction=0.46566152422925333\n",
      "[LightGBM] [Warning] bagging_freq is set=8, subsample_freq=0 will be ignored. Current value: bagging_freq=8\n",
      "[LightGBM] [Warning] feature_fraction is set=0.3040410252864882, colsample_bytree=1.0 will be ignored. Current value: feature_fraction=0.3040410252864882\n",
      "[LightGBM] [Warning] bagging_fraction is set=0.46566152422925333, subsample=1.0 will be ignored. Current value: bagging_fraction=0.46566152422925333\n",
      "[LightGBM] [Warning] bagging_freq is set=8, subsample_freq=0 will be ignored. Current value: bagging_freq=8\n"
     ]
    },
    {
     "name": "stderr",
     "output_type": "stream",
     "text": [
      "\u001b[32m[I 2023-04-22 16:25:05,833]\u001b[0m Trial 6 finished with value: 0.562962684147385 and parameters: {'num_leaves': 134, 'learning_rate': 0.001852147659093954, 'max_depth': 7, 'feature_fraction': 0.3040410252864882, 'bagging_fraction': 0.46566152422925333, 'bagging_freq': 8, 'min_child_samples': 37}. Best is trial 5 with value: 0.6279067433171907.\u001b[0m\n"
     ]
    },
    {
     "name": "stdout",
     "output_type": "stream",
     "text": [
      "[LightGBM] [Warning] feature_fraction is set=0.7542079197276321, colsample_bytree=1.0 will be ignored. Current value: feature_fraction=0.7542079197276321\n",
      "[LightGBM] [Warning] bagging_fraction is set=0.2421352622122721, subsample=1.0 will be ignored. Current value: bagging_fraction=0.2421352622122721\n",
      "[LightGBM] [Warning] bagging_freq is set=3, subsample_freq=0 will be ignored. Current value: bagging_freq=3\n",
      "[LightGBM] [Warning] feature_fraction is set=0.7542079197276321, colsample_bytree=1.0 will be ignored. Current value: feature_fraction=0.7542079197276321\n",
      "[LightGBM] [Warning] bagging_fraction is set=0.2421352622122721, subsample=1.0 will be ignored. Current value: bagging_fraction=0.2421352622122721\n",
      "[LightGBM] [Warning] bagging_freq is set=3, subsample_freq=0 will be ignored. Current value: bagging_freq=3\n",
      "[LightGBM] [Warning] feature_fraction is set=0.7542079197276321, colsample_bytree=1.0 will be ignored. Current value: feature_fraction=0.7542079197276321\n",
      "[LightGBM] [Warning] bagging_fraction is set=0.2421352622122721, subsample=1.0 will be ignored. Current value: bagging_fraction=0.2421352622122721\n",
      "[LightGBM] [Warning] bagging_freq is set=3, subsample_freq=0 will be ignored. Current value: bagging_freq=3\n",
      "[LightGBM] [Warning] feature_fraction is set=0.7542079197276321, colsample_bytree=1.0 will be ignored. Current value: feature_fraction=0.7542079197276321\n",
      "[LightGBM] [Warning] bagging_fraction is set=0.2421352622122721, subsample=1.0 will be ignored. Current value: bagging_fraction=0.2421352622122721\n",
      "[LightGBM] [Warning] bagging_freq is set=3, subsample_freq=0 will be ignored. Current value: bagging_freq=3\n"
     ]
    },
    {
     "name": "stderr",
     "output_type": "stream",
     "text": [
      "\u001b[32m[I 2023-04-22 16:25:06,433]\u001b[0m Trial 7 finished with value: 0.6331921774919603 and parameters: {'num_leaves': 163, 'learning_rate': 0.006685262997305215, 'max_depth': 7, 'feature_fraction': 0.7542079197276321, 'bagging_fraction': 0.2421352622122721, 'bagging_freq': 3, 'min_child_samples': 23}. Best is trial 7 with value: 0.6331921774919603.\u001b[0m\n"
     ]
    },
    {
     "name": "stdout",
     "output_type": "stream",
     "text": [
      "[LightGBM] [Warning] feature_fraction is set=0.7542079197276321, colsample_bytree=1.0 will be ignored. Current value: feature_fraction=0.7542079197276321\n",
      "[LightGBM] [Warning] bagging_fraction is set=0.2421352622122721, subsample=1.0 will be ignored. Current value: bagging_fraction=0.2421352622122721\n",
      "[LightGBM] [Warning] bagging_freq is set=3, subsample_freq=0 will be ignored. Current value: bagging_freq=3\n",
      "[LightGBM] [Warning] feature_fraction is set=0.24948968588634154, colsample_bytree=1.0 will be ignored. Current value: feature_fraction=0.24948968588634154\n",
      "[LightGBM] [Warning] bagging_fraction is set=0.6949945444802581, subsample=1.0 will be ignored. Current value: bagging_fraction=0.6949945444802581\n",
      "[LightGBM] [Warning] bagging_freq is set=4, subsample_freq=0 will be ignored. Current value: bagging_freq=4\n",
      "[LightGBM] [Warning] feature_fraction is set=0.24948968588634154, colsample_bytree=1.0 will be ignored. Current value: feature_fraction=0.24948968588634154\n",
      "[LightGBM] [Warning] bagging_fraction is set=0.6949945444802581, subsample=1.0 will be ignored. Current value: bagging_fraction=0.6949945444802581\n",
      "[LightGBM] [Warning] bagging_freq is set=4, subsample_freq=0 will be ignored. Current value: bagging_freq=4\n",
      "[LightGBM] [Warning] feature_fraction is set=0.24948968588634154, colsample_bytree=1.0 will be ignored. Current value: feature_fraction=0.24948968588634154\n",
      "[LightGBM] [Warning] bagging_fraction is set=0.6949945444802581, subsample=1.0 will be ignored. Current value: bagging_fraction=0.6949945444802581\n",
      "[LightGBM] [Warning] bagging_freq is set=4, subsample_freq=0 will be ignored. Current value: bagging_freq=4\n"
     ]
    },
    {
     "name": "stderr",
     "output_type": "stream",
     "text": [
      "\u001b[32m[I 2023-04-22 16:25:06,651]\u001b[0m Trial 8 finished with value: 0.6014799215689356 and parameters: {'num_leaves': 68, 'learning_rate': 0.0101174338679158, 'max_depth': 3, 'feature_fraction': 0.24948968588634154, 'bagging_fraction': 0.6949945444802581, 'bagging_freq': 4, 'min_child_samples': 39}. Best is trial 7 with value: 0.6331921774919603.\u001b[0m\n"
     ]
    },
    {
     "name": "stdout",
     "output_type": "stream",
     "text": [
      "[LightGBM] [Warning] feature_fraction is set=0.24948968588634154, colsample_bytree=1.0 will be ignored. Current value: feature_fraction=0.24948968588634154\n",
      "[LightGBM] [Warning] bagging_fraction is set=0.6949945444802581, subsample=1.0 will be ignored. Current value: bagging_fraction=0.6949945444802581\n",
      "[LightGBM] [Warning] bagging_freq is set=4, subsample_freq=0 will be ignored. Current value: bagging_freq=4\n",
      "[LightGBM] [Warning] feature_fraction is set=0.24948968588634154, colsample_bytree=1.0 will be ignored. Current value: feature_fraction=0.24948968588634154\n",
      "[LightGBM] [Warning] bagging_fraction is set=0.6949945444802581, subsample=1.0 will be ignored. Current value: bagging_fraction=0.6949945444802581\n",
      "[LightGBM] [Warning] bagging_freq is set=4, subsample_freq=0 will be ignored. Current value: bagging_freq=4\n",
      "[LightGBM] [Warning] feature_fraction is set=0.44164971948956466, colsample_bytree=1.0 will be ignored. Current value: feature_fraction=0.44164971948956466\n",
      "[LightGBM] [Warning] bagging_fraction is set=0.280440898584269, subsample=1.0 will be ignored. Current value: bagging_fraction=0.280440898584269\n",
      "[LightGBM] [Warning] bagging_freq is set=7, subsample_freq=0 will be ignored. Current value: bagging_freq=7\n",
      "[LightGBM] [Warning] feature_fraction is set=0.44164971948956466, colsample_bytree=1.0 will be ignored. Current value: feature_fraction=0.44164971948956466\n",
      "[LightGBM] [Warning] bagging_fraction is set=0.280440898584269, subsample=1.0 will be ignored. Current value: bagging_fraction=0.280440898584269\n",
      "[LightGBM] [Warning] bagging_freq is set=7, subsample_freq=0 will be ignored. Current value: bagging_freq=7\n",
      "[LightGBM] [Warning] feature_fraction is set=0.44164971948956466, colsample_bytree=1.0 will be ignored. Current value: feature_fraction=0.44164971948956466\n",
      "[LightGBM] [Warning] bagging_fraction is set=0.280440898584269, subsample=1.0 will be ignored. Current value: bagging_fraction=0.280440898584269\n",
      "[LightGBM] [Warning] bagging_freq is set=7, subsample_freq=0 will be ignored. Current value: bagging_freq=7\n",
      "[LightGBM] [Warning] feature_fraction is set=0.44164971948956466, colsample_bytree=1.0 will be ignored. Current value: feature_fraction=0.44164971948956466\n",
      "[LightGBM] [Warning] bagging_fraction is set=0.280440898584269, subsample=1.0 will be ignored. Current value: bagging_fraction=0.280440898584269\n",
      "[LightGBM] [Warning] bagging_freq is set=7, subsample_freq=0 will be ignored. Current value: bagging_freq=7\n",
      "[LightGBM] [Warning] feature_fraction is set=0.44164971948956466, colsample_bytree=1.0 will be ignored. Current value: feature_fraction=0.44164971948956466\n",
      "[LightGBM] [Warning] bagging_fraction is set=0.280440898584269, subsample=1.0 will be ignored. Current value: bagging_fraction=0.280440898584269\n",
      "[LightGBM] [Warning] bagging_freq is set=7, subsample_freq=0 will be ignored. Current value: bagging_freq=7\n"
     ]
    },
    {
     "name": "stderr",
     "output_type": "stream",
     "text": [
      "\u001b[32m[I 2023-04-22 16:25:07,008]\u001b[0m Trial 9 finished with value: 0.6127116410255738 and parameters: {'num_leaves': 193, 'learning_rate': 0.004531544547200806, 'max_depth': 5, 'feature_fraction': 0.44164971948956466, 'bagging_fraction': 0.280440898584269, 'bagging_freq': 7, 'min_child_samples': 57}. Best is trial 7 with value: 0.6331921774919603.\u001b[0m\n",
      "\u001b[32m[I 2023-04-22 16:25:07,244]\u001b[0m Trial 10 finished with value: 0.5399709309303018 and parameters: {'num_leaves': 3, 'learning_rate': 0.0010020907551166088, 'max_depth': 10, 'feature_fraction': 0.9864492005097871, 'bagging_fraction': 0.6515660242795649, 'bagging_freq': 1, 'min_child_samples': 5}. Best is trial 7 with value: 0.6331921774919603.\u001b[0m\n"
     ]
    },
    {
     "name": "stdout",
     "output_type": "stream",
     "text": [
      "[LightGBM] [Warning] feature_fraction is set=0.9864492005097871, colsample_bytree=1.0 will be ignored. Current value: feature_fraction=0.9864492005097871\n",
      "[LightGBM] [Warning] bagging_fraction is set=0.6515660242795649, subsample=1.0 will be ignored. Current value: bagging_fraction=0.6515660242795649\n",
      "[LightGBM] [Warning] bagging_freq is set=1, subsample_freq=0 will be ignored. Current value: bagging_freq=1\n",
      "[LightGBM] [Warning] feature_fraction is set=0.9864492005097871, colsample_bytree=1.0 will be ignored. Current value: feature_fraction=0.9864492005097871\n",
      "[LightGBM] [Warning] bagging_fraction is set=0.6515660242795649, subsample=1.0 will be ignored. Current value: bagging_fraction=0.6515660242795649\n",
      "[LightGBM] [Warning] bagging_freq is set=1, subsample_freq=0 will be ignored. Current value: bagging_freq=1\n",
      "[LightGBM] [Warning] feature_fraction is set=0.9864492005097871, colsample_bytree=1.0 will be ignored. Current value: feature_fraction=0.9864492005097871\n",
      "[LightGBM] [Warning] bagging_fraction is set=0.6515660242795649, subsample=1.0 will be ignored. Current value: bagging_fraction=0.6515660242795649\n",
      "[LightGBM] [Warning] bagging_freq is set=1, subsample_freq=0 will be ignored. Current value: bagging_freq=1\n",
      "[LightGBM] [Warning] feature_fraction is set=0.9864492005097871, colsample_bytree=1.0 will be ignored. Current value: feature_fraction=0.9864492005097871\n",
      "[LightGBM] [Warning] bagging_fraction is set=0.6515660242795649, subsample=1.0 will be ignored. Current value: bagging_fraction=0.6515660242795649\n",
      "[LightGBM] [Warning] bagging_freq is set=1, subsample_freq=0 will be ignored. Current value: bagging_freq=1\n",
      "[LightGBM] [Warning] feature_fraction is set=0.9864492005097871, colsample_bytree=1.0 will be ignored. Current value: feature_fraction=0.9864492005097871\n",
      "[LightGBM] [Warning] bagging_fraction is set=0.6515660242795649, subsample=1.0 will be ignored. Current value: bagging_fraction=0.6515660242795649\n",
      "[LightGBM] [Warning] bagging_freq is set=1, subsample_freq=0 will be ignored. Current value: bagging_freq=1\n",
      "[LightGBM] [Warning] feature_fraction is set=0.5936611562219141, colsample_bytree=1.0 will be ignored. Current value: feature_fraction=0.5936611562219141\n",
      "[LightGBM] [Warning] bagging_fraction is set=0.11180972422986284, subsample=1.0 will be ignored. Current value: bagging_fraction=0.11180972422986284\n",
      "[LightGBM] [Warning] bagging_freq is set=10, subsample_freq=0 will be ignored. Current value: bagging_freq=10\n",
      "[LightGBM] [Warning] feature_fraction is set=0.5936611562219141, colsample_bytree=1.0 will be ignored. Current value: feature_fraction=0.5936611562219141\n",
      "[LightGBM] [Warning] bagging_fraction is set=0.11180972422986284, subsample=1.0 will be ignored. Current value: bagging_fraction=0.11180972422986284\n",
      "[LightGBM] [Warning] bagging_freq is set=10, subsample_freq=0 will be ignored. Current value: bagging_freq=10\n",
      "[LightGBM] [Warning] feature_fraction is set=0.5936611562219141, colsample_bytree=1.0 will be ignored. Current value: feature_fraction=0.5936611562219141\n",
      "[LightGBM] [Warning] bagging_fraction is set=0.11180972422986284, subsample=1.0 will be ignored. Current value: bagging_fraction=0.11180972422986284\n",
      "[LightGBM] [Warning] bagging_freq is set=10, subsample_freq=0 will be ignored. Current value: bagging_freq=10\n"
     ]
    },
    {
     "name": "stderr",
     "output_type": "stream",
     "text": [
      "\u001b[32m[I 2023-04-22 16:25:07,752]\u001b[0m Trial 11 finished with value: 0.6265853247675369 and parameters: {'num_leaves': 255, 'learning_rate': 0.030522623032905025, 'max_depth': 7, 'feature_fraction': 0.5936611562219141, 'bagging_fraction': 0.11180972422986284, 'bagging_freq': 10, 'min_child_samples': 8}. Best is trial 7 with value: 0.6331921774919603.\u001b[0m\n"
     ]
    },
    {
     "name": "stdout",
     "output_type": "stream",
     "text": [
      "[LightGBM] [Warning] feature_fraction is set=0.5936611562219141, colsample_bytree=1.0 will be ignored. Current value: feature_fraction=0.5936611562219141\n",
      "[LightGBM] [Warning] bagging_fraction is set=0.11180972422986284, subsample=1.0 will be ignored. Current value: bagging_fraction=0.11180972422986284\n",
      "[LightGBM] [Warning] bagging_freq is set=10, subsample_freq=0 will be ignored. Current value: bagging_freq=10\n",
      "[LightGBM] [Warning] feature_fraction is set=0.5936611562219141, colsample_bytree=1.0 will be ignored. Current value: feature_fraction=0.5936611562219141\n",
      "[LightGBM] [Warning] bagging_fraction is set=0.11180972422986284, subsample=1.0 will be ignored. Current value: bagging_fraction=0.11180972422986284\n",
      "[LightGBM] [Warning] bagging_freq is set=10, subsample_freq=0 will be ignored. Current value: bagging_freq=10\n",
      "[LightGBM] [Warning] feature_fraction is set=0.5948879215649447, colsample_bytree=1.0 will be ignored. Current value: feature_fraction=0.5948879215649447\n",
      "[LightGBM] [Warning] bagging_fraction is set=0.23732109256902015, subsample=1.0 will be ignored. Current value: bagging_fraction=0.23732109256902015\n",
      "[LightGBM] [Warning] bagging_freq is set=4, subsample_freq=0 will be ignored. Current value: bagging_freq=4\n",
      "[LightGBM] [Warning] feature_fraction is set=0.5948879215649447, colsample_bytree=1.0 will be ignored. Current value: feature_fraction=0.5948879215649447\n",
      "[LightGBM] [Warning] bagging_fraction is set=0.23732109256902015, subsample=1.0 will be ignored. Current value: bagging_fraction=0.23732109256902015\n",
      "[LightGBM] [Warning] bagging_freq is set=4, subsample_freq=0 will be ignored. Current value: bagging_freq=4\n",
      "[LightGBM] [Warning] feature_fraction is set=0.5948879215649447, colsample_bytree=1.0 will be ignored. Current value: feature_fraction=0.5948879215649447\n",
      "[LightGBM] [Warning] bagging_fraction is set=0.23732109256902015, subsample=1.0 will be ignored. Current value: bagging_fraction=0.23732109256902015\n",
      "[LightGBM] [Warning] bagging_freq is set=4, subsample_freq=0 will be ignored. Current value: bagging_freq=4\n",
      "[LightGBM] [Warning] feature_fraction is set=0.5948879215649447, colsample_bytree=1.0 will be ignored. Current value: feature_fraction=0.5948879215649447\n",
      "[LightGBM] [Warning] bagging_fraction is set=0.23732109256902015, subsample=1.0 will be ignored. Current value: bagging_fraction=0.23732109256902015\n",
      "[LightGBM] [Warning] bagging_freq is set=4, subsample_freq=0 will be ignored. Current value: bagging_freq=4\n"
     ]
    },
    {
     "name": "stderr",
     "output_type": "stream",
     "text": [
      "\u001b[32m[I 2023-04-22 16:25:08,425]\u001b[0m Trial 12 finished with value: 0.6312765471827965 and parameters: {'num_leaves': 195, 'learning_rate': 0.02788768936548583, 'max_depth': 8, 'feature_fraction': 0.5948879215649447, 'bagging_fraction': 0.23732109256902015, 'bagging_freq': 4, 'min_child_samples': 22}. Best is trial 7 with value: 0.6331921774919603.\u001b[0m\n"
     ]
    },
    {
     "name": "stdout",
     "output_type": "stream",
     "text": [
      "[LightGBM] [Warning] feature_fraction is set=0.5948879215649447, colsample_bytree=1.0 will be ignored. Current value: feature_fraction=0.5948879215649447\n",
      "[LightGBM] [Warning] bagging_fraction is set=0.23732109256902015, subsample=1.0 will be ignored. Current value: bagging_fraction=0.23732109256902015\n",
      "[LightGBM] [Warning] bagging_freq is set=4, subsample_freq=0 will be ignored. Current value: bagging_freq=4\n",
      "[LightGBM] [Warning] feature_fraction is set=0.6656959529169582, colsample_bytree=1.0 will be ignored. Current value: feature_fraction=0.6656959529169582\n",
      "[LightGBM] [Warning] bagging_fraction is set=0.2834810901433739, subsample=1.0 will be ignored. Current value: bagging_fraction=0.2834810901433739\n",
      "[LightGBM] [Warning] bagging_freq is set=3, subsample_freq=0 will be ignored. Current value: bagging_freq=3\n",
      "[LightGBM] [Warning] feature_fraction is set=0.6656959529169582, colsample_bytree=1.0 will be ignored. Current value: feature_fraction=0.6656959529169582\n",
      "[LightGBM] [Warning] bagging_fraction is set=0.2834810901433739, subsample=1.0 will be ignored. Current value: bagging_fraction=0.2834810901433739\n",
      "[LightGBM] [Warning] bagging_freq is set=3, subsample_freq=0 will be ignored. Current value: bagging_freq=3\n",
      "[LightGBM] [Warning] feature_fraction is set=0.6656959529169582, colsample_bytree=1.0 will be ignored. Current value: feature_fraction=0.6656959529169582\n",
      "[LightGBM] [Warning] bagging_fraction is set=0.2834810901433739, subsample=1.0 will be ignored. Current value: bagging_fraction=0.2834810901433739\n",
      "[LightGBM] [Warning] bagging_freq is set=3, subsample_freq=0 will be ignored. Current value: bagging_freq=3\n",
      "[LightGBM] [Warning] feature_fraction is set=0.6656959529169582, colsample_bytree=1.0 will be ignored. Current value: feature_fraction=0.6656959529169582\n",
      "[LightGBM] [Warning] bagging_fraction is set=0.2834810901433739, subsample=1.0 will be ignored. Current value: bagging_fraction=0.2834810901433739\n",
      "[LightGBM] [Warning] bagging_freq is set=3, subsample_freq=0 will be ignored. Current value: bagging_freq=3\n"
     ]
    },
    {
     "name": "stderr",
     "output_type": "stream",
     "text": [
      "\u001b[32m[I 2023-04-22 16:25:08,916]\u001b[0m Trial 13 finished with value: 0.6361655928872643 and parameters: {'num_leaves': 188, 'learning_rate': 0.018901660036537617, 'max_depth': 6, 'feature_fraction': 0.6656959529169582, 'bagging_fraction': 0.2834810901433739, 'bagging_freq': 3, 'min_child_samples': 20}. Best is trial 13 with value: 0.6361655928872643.\u001b[0m\n"
     ]
    },
    {
     "name": "stdout",
     "output_type": "stream",
     "text": [
      "[LightGBM] [Warning] feature_fraction is set=0.6656959529169582, colsample_bytree=1.0 will be ignored. Current value: feature_fraction=0.6656959529169582\n",
      "[LightGBM] [Warning] bagging_fraction is set=0.2834810901433739, subsample=1.0 will be ignored. Current value: bagging_fraction=0.2834810901433739\n",
      "[LightGBM] [Warning] bagging_freq is set=3, subsample_freq=0 will be ignored. Current value: bagging_freq=3\n",
      "[LightGBM] [Warning] feature_fraction is set=0.7552160732441671, colsample_bytree=1.0 will be ignored. Current value: feature_fraction=0.7552160732441671\n",
      "[LightGBM] [Warning] bagging_fraction is set=0.37776462435202773, subsample=1.0 will be ignored. Current value: bagging_fraction=0.37776462435202773\n",
      "[LightGBM] [Warning] bagging_freq is set=1, subsample_freq=0 will be ignored. Current value: bagging_freq=1\n",
      "[LightGBM] [Warning] feature_fraction is set=0.7552160732441671, colsample_bytree=1.0 will be ignored. Current value: feature_fraction=0.7552160732441671\n",
      "[LightGBM] [Warning] bagging_fraction is set=0.37776462435202773, subsample=1.0 will be ignored. Current value: bagging_fraction=0.37776462435202773\n",
      "[LightGBM] [Warning] bagging_freq is set=1, subsample_freq=0 will be ignored. Current value: bagging_freq=1\n",
      "[LightGBM] [Warning] feature_fraction is set=0.7552160732441671, colsample_bytree=1.0 will be ignored. Current value: feature_fraction=0.7552160732441671\n",
      "[LightGBM] [Warning] bagging_fraction is set=0.37776462435202773, subsample=1.0 will be ignored. Current value: bagging_fraction=0.37776462435202773\n",
      "[LightGBM] [Warning] bagging_freq is set=1, subsample_freq=0 will be ignored. Current value: bagging_freq=1\n",
      "[LightGBM] [Warning] feature_fraction is set=0.7552160732441671, colsample_bytree=1.0 will be ignored. Current value: feature_fraction=0.7552160732441671\n",
      "[LightGBM] [Warning] bagging_fraction is set=0.37776462435202773, subsample=1.0 will be ignored. Current value: bagging_fraction=0.37776462435202773\n",
      "[LightGBM] [Warning] bagging_freq is set=1, subsample_freq=0 will be ignored. Current value: bagging_freq=1\n",
      "[LightGBM] [Warning] feature_fraction is set=0.7552160732441671, colsample_bytree=1.0 will be ignored. Current value: feature_fraction=0.7552160732441671\n",
      "[LightGBM] [Warning] bagging_fraction is set=0.37776462435202773, subsample=1.0 will be ignored. Current value: bagging_fraction=0.37776462435202773\n",
      "[LightGBM] [Warning] bagging_freq is set=1, subsample_freq=0 will be ignored. Current value: bagging_freq=1\n"
     ]
    },
    {
     "name": "stderr",
     "output_type": "stream",
     "text": [
      "\u001b[32m[I 2023-04-22 16:25:09,521]\u001b[0m Trial 14 finished with value: 0.6376849438278741 and parameters: {'num_leaves': 182, 'learning_rate': 0.012673913733960008, 'max_depth': 6, 'feature_fraction': 0.7552160732441671, 'bagging_fraction': 0.37776462435202773, 'bagging_freq': 1, 'min_child_samples': 22}. Best is trial 14 with value: 0.6376849438278741.\u001b[0m\n"
     ]
    },
    {
     "name": "stdout",
     "output_type": "stream",
     "text": [
      "[LightGBM] [Warning] feature_fraction is set=0.758827834156008, colsample_bytree=1.0 will be ignored. Current value: feature_fraction=0.758827834156008\n",
      "[LightGBM] [Warning] bagging_fraction is set=0.3639375478678972, subsample=1.0 will be ignored. Current value: bagging_fraction=0.3639375478678972\n",
      "[LightGBM] [Warning] bagging_freq is set=1, subsample_freq=0 will be ignored. Current value: bagging_freq=1\n",
      "[LightGBM] [Warning] feature_fraction is set=0.758827834156008, colsample_bytree=1.0 will be ignored. Current value: feature_fraction=0.758827834156008\n",
      "[LightGBM] [Warning] bagging_fraction is set=0.3639375478678972, subsample=1.0 will be ignored. Current value: bagging_fraction=0.3639375478678972\n",
      "[LightGBM] [Warning] bagging_freq is set=1, subsample_freq=0 will be ignored. Current value: bagging_freq=1\n",
      "[LightGBM] [Warning] feature_fraction is set=0.758827834156008, colsample_bytree=1.0 will be ignored. Current value: feature_fraction=0.758827834156008\n",
      "[LightGBM] [Warning] bagging_fraction is set=0.3639375478678972, subsample=1.0 will be ignored. Current value: bagging_fraction=0.3639375478678972\n",
      "[LightGBM] [Warning] bagging_freq is set=1, subsample_freq=0 will be ignored. Current value: bagging_freq=1\n"
     ]
    },
    {
     "name": "stderr",
     "output_type": "stream",
     "text": [
      "\u001b[32m[I 2023-04-22 16:25:09,977]\u001b[0m Trial 15 finished with value: 0.637685205672069 and parameters: {'num_leaves': 189, 'learning_rate': 0.017949442136776905, 'max_depth': 5, 'feature_fraction': 0.758827834156008, 'bagging_fraction': 0.3639375478678972, 'bagging_freq': 1, 'min_child_samples': 45}. Best is trial 15 with value: 0.637685205672069.\u001b[0m\n"
     ]
    },
    {
     "name": "stdout",
     "output_type": "stream",
     "text": [
      "[LightGBM] [Warning] feature_fraction is set=0.758827834156008, colsample_bytree=1.0 will be ignored. Current value: feature_fraction=0.758827834156008\n",
      "[LightGBM] [Warning] bagging_fraction is set=0.3639375478678972, subsample=1.0 will be ignored. Current value: bagging_fraction=0.3639375478678972\n",
      "[LightGBM] [Warning] bagging_freq is set=1, subsample_freq=0 will be ignored. Current value: bagging_freq=1\n",
      "[LightGBM] [Warning] feature_fraction is set=0.758827834156008, colsample_bytree=1.0 will be ignored. Current value: feature_fraction=0.758827834156008\n",
      "[LightGBM] [Warning] bagging_fraction is set=0.3639375478678972, subsample=1.0 will be ignored. Current value: bagging_fraction=0.3639375478678972\n",
      "[LightGBM] [Warning] bagging_freq is set=1, subsample_freq=0 will be ignored. Current value: bagging_freq=1\n",
      "[LightGBM] [Warning] feature_fraction is set=0.8823803253837065, colsample_bytree=1.0 will be ignored. Current value: feature_fraction=0.8823803253837065\n",
      "[LightGBM] [Warning] bagging_fraction is set=0.3866192426582826, subsample=1.0 will be ignored. Current value: bagging_fraction=0.3866192426582826\n",
      "[LightGBM] [Warning] bagging_freq is set=1, subsample_freq=0 will be ignored. Current value: bagging_freq=1\n",
      "[LightGBM] [Warning] feature_fraction is set=0.8823803253837065, colsample_bytree=1.0 will be ignored. Current value: feature_fraction=0.8823803253837065\n",
      "[LightGBM] [Warning] bagging_fraction is set=0.3866192426582826, subsample=1.0 will be ignored. Current value: bagging_fraction=0.3866192426582826\n",
      "[LightGBM] [Warning] bagging_freq is set=1, subsample_freq=0 will be ignored. Current value: bagging_freq=1\n",
      "[LightGBM] [Warning] feature_fraction is set=0.8823803253837065, colsample_bytree=1.0 will be ignored. Current value: feature_fraction=0.8823803253837065\n",
      "[LightGBM] [Warning] bagging_fraction is set=0.3866192426582826, subsample=1.0 will be ignored. Current value: bagging_fraction=0.3866192426582826\n",
      "[LightGBM] [Warning] bagging_freq is set=1, subsample_freq=0 will be ignored. Current value: bagging_freq=1\n"
     ]
    },
    {
     "name": "stderr",
     "output_type": "stream",
     "text": [
      "\u001b[32m[I 2023-04-22 16:25:10,409]\u001b[0m Trial 16 finished with value: 0.6366282497592124 and parameters: {'num_leaves': 96, 'learning_rate': 0.01809288144099978, 'max_depth': 5, 'feature_fraction': 0.8823803253837065, 'bagging_fraction': 0.3866192426582826, 'bagging_freq': 1, 'min_child_samples': 44}. Best is trial 15 with value: 0.637685205672069.\u001b[0m\n"
     ]
    },
    {
     "name": "stdout",
     "output_type": "stream",
     "text": [
      "[LightGBM] [Warning] feature_fraction is set=0.8823803253837065, colsample_bytree=1.0 will be ignored. Current value: feature_fraction=0.8823803253837065\n",
      "[LightGBM] [Warning] bagging_fraction is set=0.3866192426582826, subsample=1.0 will be ignored. Current value: bagging_fraction=0.3866192426582826\n",
      "[LightGBM] [Warning] bagging_freq is set=1, subsample_freq=0 will be ignored. Current value: bagging_freq=1\n",
      "[LightGBM] [Warning] feature_fraction is set=0.8823803253837065, colsample_bytree=1.0 will be ignored. Current value: feature_fraction=0.8823803253837065\n",
      "[LightGBM] [Warning] bagging_fraction is set=0.3866192426582826, subsample=1.0 will be ignored. Current value: bagging_fraction=0.3866192426582826\n",
      "[LightGBM] [Warning] bagging_freq is set=1, subsample_freq=0 will be ignored. Current value: bagging_freq=1\n",
      "[LightGBM] [Warning] feature_fraction is set=0.7747769881770775, colsample_bytree=1.0 will be ignored. Current value: feature_fraction=0.7747769881770775\n",
      "[LightGBM] [Warning] bagging_fraction is set=0.5680217546615348, subsample=1.0 will be ignored. Current value: bagging_fraction=0.5680217546615348\n",
      "[LightGBM] [Warning] bagging_freq is set=1, subsample_freq=0 will be ignored. Current value: bagging_freq=1\n",
      "[LightGBM] [Warning] feature_fraction is set=0.7747769881770775, colsample_bytree=1.0 will be ignored. Current value: feature_fraction=0.7747769881770775\n",
      "[LightGBM] [Warning] bagging_fraction is set=0.5680217546615348, subsample=1.0 will be ignored. Current value: bagging_fraction=0.5680217546615348\n",
      "[LightGBM] [Warning] bagging_freq is set=1, subsample_freq=0 will be ignored. Current value: bagging_freq=1\n",
      "[LightGBM] [Warning] feature_fraction is set=0.7747769881770775, colsample_bytree=1.0 will be ignored. Current value: feature_fraction=0.7747769881770775\n",
      "[LightGBM] [Warning] bagging_fraction is set=0.5680217546615348, subsample=1.0 will be ignored. Current value: bagging_fraction=0.5680217546615348\n",
      "[LightGBM] [Warning] bagging_freq is set=1, subsample_freq=0 will be ignored. Current value: bagging_freq=1\n",
      "[LightGBM] [Warning] feature_fraction is set=0.7747769881770775, colsample_bytree=1.0 will be ignored. Current value: feature_fraction=0.7747769881770775\n",
      "[LightGBM] [Warning] bagging_fraction is set=0.5680217546615348, subsample=1.0 will be ignored. Current value: bagging_fraction=0.5680217546615348\n",
      "[LightGBM] [Warning] bagging_freq is set=1, subsample_freq=0 will be ignored. Current value: bagging_freq=1\n"
     ]
    },
    {
     "name": "stderr",
     "output_type": "stream",
     "text": [
      "\u001b[32m[I 2023-04-22 16:25:10,870]\u001b[0m Trial 17 finished with value: 0.636495756596619 and parameters: {'num_leaves': 214, 'learning_rate': 0.012526105766976766, 'max_depth': 5, 'feature_fraction': 0.7747769881770775, 'bagging_fraction': 0.5680217546615348, 'bagging_freq': 1, 'min_child_samples': 70}. Best is trial 15 with value: 0.637685205672069.\u001b[0m\n"
     ]
    },
    {
     "name": "stdout",
     "output_type": "stream",
     "text": [
      "[LightGBM] [Warning] feature_fraction is set=0.7747769881770775, colsample_bytree=1.0 will be ignored. Current value: feature_fraction=0.7747769881770775\n",
      "[LightGBM] [Warning] bagging_fraction is set=0.5680217546615348, subsample=1.0 will be ignored. Current value: bagging_fraction=0.5680217546615348\n",
      "[LightGBM] [Warning] bagging_freq is set=1, subsample_freq=0 will be ignored. Current value: bagging_freq=1\n",
      "[LightGBM] [Warning] feature_fraction is set=0.5263366063184504, colsample_bytree=1.0 will be ignored. Current value: feature_fraction=0.5263366063184504\n",
      "[LightGBM] [Warning] bagging_fraction is set=0.5683023326675934, subsample=1.0 will be ignored. Current value: bagging_fraction=0.5683023326675934\n",
      "[LightGBM] [Warning] bagging_freq is set=2, subsample_freq=0 will be ignored. Current value: bagging_freq=2\n",
      "[LightGBM] [Warning] feature_fraction is set=0.5263366063184504, colsample_bytree=1.0 will be ignored. Current value: feature_fraction=0.5263366063184504\n",
      "[LightGBM] [Warning] bagging_fraction is set=0.5683023326675934, subsample=1.0 will be ignored. Current value: bagging_fraction=0.5683023326675934\n",
      "[LightGBM] [Warning] bagging_freq is set=2, subsample_freq=0 will be ignored. Current value: bagging_freq=2\n"
     ]
    },
    {
     "name": "stderr",
     "output_type": "stream",
     "text": [
      "\u001b[32m[I 2023-04-22 16:25:11,232]\u001b[0m Trial 18 finished with value: 0.6355046763191166 and parameters: {'num_leaves': 108, 'learning_rate': 0.01626374907132185, 'max_depth': 4, 'feature_fraction': 0.5263366063184504, 'bagging_fraction': 0.5683023326675934, 'bagging_freq': 2, 'min_child_samples': 46}. Best is trial 15 with value: 0.637685205672069.\u001b[0m\n"
     ]
    },
    {
     "name": "stdout",
     "output_type": "stream",
     "text": [
      "[LightGBM] [Warning] feature_fraction is set=0.5263366063184504, colsample_bytree=1.0 will be ignored. Current value: feature_fraction=0.5263366063184504\n",
      "[LightGBM] [Warning] bagging_fraction is set=0.5683023326675934, subsample=1.0 will be ignored. Current value: bagging_fraction=0.5683023326675934\n",
      "[LightGBM] [Warning] bagging_freq is set=2, subsample_freq=0 will be ignored. Current value: bagging_freq=2\n",
      "[LightGBM] [Warning] feature_fraction is set=0.5263366063184504, colsample_bytree=1.0 will be ignored. Current value: feature_fraction=0.5263366063184504\n",
      "[LightGBM] [Warning] bagging_fraction is set=0.5683023326675934, subsample=1.0 will be ignored. Current value: bagging_fraction=0.5683023326675934\n",
      "[LightGBM] [Warning] bagging_freq is set=2, subsample_freq=0 will be ignored. Current value: bagging_freq=2\n",
      "[LightGBM] [Warning] feature_fraction is set=0.5263366063184504, colsample_bytree=1.0 will be ignored. Current value: feature_fraction=0.5263366063184504\n",
      "[LightGBM] [Warning] bagging_fraction is set=0.5683023326675934, subsample=1.0 will be ignored. Current value: bagging_fraction=0.5683023326675934\n",
      "[LightGBM] [Warning] bagging_freq is set=2, subsample_freq=0 will be ignored. Current value: bagging_freq=2\n",
      "[LightGBM] [Warning] feature_fraction is set=0.8506817069578558, colsample_bytree=1.0 will be ignored. Current value: feature_fraction=0.8506817069578558\n",
      "[LightGBM] [Warning] bagging_fraction is set=0.3832018881220733, subsample=1.0 will be ignored. Current value: bagging_fraction=0.3832018881220733\n",
      "[LightGBM] [Warning] bagging_freq is set=5, subsample_freq=0 will be ignored. Current value: bagging_freq=5\n",
      "[LightGBM] [Warning] feature_fraction is set=0.8506817069578558, colsample_bytree=1.0 will be ignored. Current value: feature_fraction=0.8506817069578558\n",
      "[LightGBM] [Warning] bagging_fraction is set=0.3832018881220733, subsample=1.0 will be ignored. Current value: bagging_fraction=0.3832018881220733\n",
      "[LightGBM] [Warning] bagging_freq is set=5, subsample_freq=0 will be ignored. Current value: bagging_freq=5\n",
      "[LightGBM] [Warning] feature_fraction is set=0.8506817069578558, colsample_bytree=1.0 will be ignored. Current value: feature_fraction=0.8506817069578558\n",
      "[LightGBM] [Warning] bagging_fraction is set=0.3832018881220733, subsample=1.0 will be ignored. Current value: bagging_fraction=0.3832018881220733\n",
      "[LightGBM] [Warning] bagging_freq is set=5, subsample_freq=0 will be ignored. Current value: bagging_freq=5\n",
      "[LightGBM] [Warning] feature_fraction is set=0.8506817069578558, colsample_bytree=1.0 will be ignored. Current value: feature_fraction=0.8506817069578558\n",
      "[LightGBM] [Warning] bagging_fraction is set=0.3832018881220733, subsample=1.0 will be ignored. Current value: bagging_fraction=0.3832018881220733\n",
      "[LightGBM] [Warning] bagging_freq is set=5, subsample_freq=0 will be ignored. Current value: bagging_freq=5\n"
     ]
    },
    {
     "name": "stderr",
     "output_type": "stream",
     "text": [
      "\u001b[32m[I 2023-04-22 16:25:11,538]\u001b[0m Trial 19 finished with value: 0.636496062081513 and parameters: {'num_leaves': 169, 'learning_rate': 0.04784739865536956, 'max_depth': 4, 'feature_fraction': 0.8506817069578558, 'bagging_fraction': 0.3832018881220733, 'bagging_freq': 5, 'min_child_samples': 12}. Best is trial 15 with value: 0.637685205672069.\u001b[0m\n"
     ]
    },
    {
     "name": "stdout",
     "output_type": "stream",
     "text": [
      "[LightGBM] [Warning] feature_fraction is set=0.8506817069578558, colsample_bytree=1.0 will be ignored. Current value: feature_fraction=0.8506817069578558\n",
      "[LightGBM] [Warning] bagging_fraction is set=0.3832018881220733, subsample=1.0 will be ignored. Current value: bagging_fraction=0.3832018881220733\n",
      "[LightGBM] [Warning] bagging_freq is set=5, subsample_freq=0 will be ignored. Current value: bagging_freq=5\n",
      "[LightGBM] [Warning] feature_fraction is set=0.6708239062225603, colsample_bytree=1.0 will be ignored. Current value: feature_fraction=0.6708239062225603\n",
      "[LightGBM] [Warning] bagging_fraction is set=0.4116409681304238, subsample=1.0 will be ignored. Current value: bagging_fraction=0.4116409681304238\n",
      "[LightGBM] [Warning] bagging_freq is set=2, subsample_freq=0 will be ignored. Current value: bagging_freq=2\n",
      "[LightGBM] [Warning] feature_fraction is set=0.6708239062225603, colsample_bytree=1.0 will be ignored. Current value: feature_fraction=0.6708239062225603\n",
      "[LightGBM] [Warning] bagging_fraction is set=0.4116409681304238, subsample=1.0 will be ignored. Current value: bagging_fraction=0.4116409681304238\n",
      "[LightGBM] [Warning] bagging_freq is set=2, subsample_freq=0 will be ignored. Current value: bagging_freq=2\n",
      "[LightGBM] [Warning] feature_fraction is set=0.6708239062225603, colsample_bytree=1.0 will be ignored. Current value: feature_fraction=0.6708239062225603\n",
      "[LightGBM] [Warning] bagging_fraction is set=0.4116409681304238, subsample=1.0 will be ignored. Current value: bagging_fraction=0.4116409681304238\n",
      "[LightGBM] [Warning] bagging_freq is set=2, subsample_freq=0 will be ignored. Current value: bagging_freq=2\n",
      "[LightGBM] [Warning] feature_fraction is set=0.6708239062225603, colsample_bytree=1.0 will be ignored. Current value: feature_fraction=0.6708239062225603\n",
      "[LightGBM] [Warning] bagging_fraction is set=0.4116409681304238, subsample=1.0 will be ignored. Current value: bagging_fraction=0.4116409681304238\n",
      "[LightGBM] [Warning] bagging_freq is set=2, subsample_freq=0 will be ignored. Current value: bagging_freq=2\n",
      "[LightGBM] [Warning] feature_fraction is set=0.6708239062225603, colsample_bytree=1.0 will be ignored. Current value: feature_fraction=0.6708239062225603\n",
      "[LightGBM] [Warning] bagging_fraction is set=0.4116409681304238, subsample=1.0 will be ignored. Current value: bagging_fraction=0.4116409681304238\n",
      "[LightGBM] [Warning] bagging_freq is set=2, subsample_freq=0 will be ignored. Current value: bagging_freq=2\n"
     ]
    },
    {
     "name": "stderr",
     "output_type": "stream",
     "text": [
      "\u001b[32m[I 2023-04-22 16:25:11,993]\u001b[0m Trial 20 finished with value: 0.6376189809111217 and parameters: {'num_leaves': 59, 'learning_rate': 0.022188635834739647, 'max_depth': 6, 'feature_fraction': 0.6708239062225603, 'bagging_fraction': 0.4116409681304238, 'bagging_freq': 2, 'min_child_samples': 53}. Best is trial 15 with value: 0.637685205672069.\u001b[0m\n"
     ]
    },
    {
     "name": "stdout",
     "output_type": "stream",
     "text": [
      "[LightGBM] [Warning] feature_fraction is set=0.6746070294847483, colsample_bytree=1.0 will be ignored. Current value: feature_fraction=0.6746070294847483\n",
      "[LightGBM] [Warning] bagging_fraction is set=0.39411776940235166, subsample=1.0 will be ignored. Current value: bagging_fraction=0.39411776940235166\n",
      "[LightGBM] [Warning] bagging_freq is set=2, subsample_freq=0 will be ignored. Current value: bagging_freq=2\n",
      "[LightGBM] [Warning] feature_fraction is set=0.6746070294847483, colsample_bytree=1.0 will be ignored. Current value: feature_fraction=0.6746070294847483\n",
      "[LightGBM] [Warning] bagging_fraction is set=0.39411776940235166, subsample=1.0 will be ignored. Current value: bagging_fraction=0.39411776940235166\n",
      "[LightGBM] [Warning] bagging_freq is set=2, subsample_freq=0 will be ignored. Current value: bagging_freq=2\n",
      "[LightGBM] [Warning] feature_fraction is set=0.6746070294847483, colsample_bytree=1.0 will be ignored. Current value: feature_fraction=0.6746070294847483\n",
      "[LightGBM] [Warning] bagging_fraction is set=0.39411776940235166, subsample=1.0 will be ignored. Current value: bagging_fraction=0.39411776940235166\n",
      "[LightGBM] [Warning] bagging_freq is set=2, subsample_freq=0 will be ignored. Current value: bagging_freq=2\n"
     ]
    },
    {
     "name": "stderr",
     "output_type": "stream",
     "text": [
      "\u001b[32m[I 2023-04-22 16:25:12,484]\u001b[0m Trial 21 finished with value: 0.6368923850907662 and parameters: {'num_leaves': 36, 'learning_rate': 0.023797221873651176, 'max_depth': 6, 'feature_fraction': 0.6746070294847483, 'bagging_fraction': 0.39411776940235166, 'bagging_freq': 2, 'min_child_samples': 65}. Best is trial 15 with value: 0.637685205672069.\u001b[0m\n"
     ]
    },
    {
     "name": "stdout",
     "output_type": "stream",
     "text": [
      "[LightGBM] [Warning] feature_fraction is set=0.6746070294847483, colsample_bytree=1.0 will be ignored. Current value: feature_fraction=0.6746070294847483\n",
      "[LightGBM] [Warning] bagging_fraction is set=0.39411776940235166, subsample=1.0 will be ignored. Current value: bagging_fraction=0.39411776940235166\n",
      "[LightGBM] [Warning] bagging_freq is set=2, subsample_freq=0 will be ignored. Current value: bagging_freq=2\n",
      "[LightGBM] [Warning] feature_fraction is set=0.6746070294847483, colsample_bytree=1.0 will be ignored. Current value: feature_fraction=0.6746070294847483\n",
      "[LightGBM] [Warning] bagging_fraction is set=0.39411776940235166, subsample=1.0 will be ignored. Current value: bagging_fraction=0.39411776940235166\n",
      "[LightGBM] [Warning] bagging_freq is set=2, subsample_freq=0 will be ignored. Current value: bagging_freq=2\n",
      "[LightGBM] [Warning] feature_fraction is set=0.6806649919465367, colsample_bytree=1.0 will be ignored. Current value: feature_fraction=0.6806649919465367\n",
      "[LightGBM] [Warning] bagging_fraction is set=0.3403544866785272, subsample=1.0 will be ignored. Current value: bagging_fraction=0.3403544866785272\n",
      "[LightGBM] [Warning] bagging_freq is set=2, subsample_freq=0 will be ignored. Current value: bagging_freq=2\n",
      "[LightGBM] [Warning] feature_fraction is set=0.6806649919465367, colsample_bytree=1.0 will be ignored. Current value: feature_fraction=0.6806649919465367\n",
      "[LightGBM] [Warning] bagging_fraction is set=0.3403544866785272, subsample=1.0 will be ignored. Current value: bagging_fraction=0.3403544866785272\n",
      "[LightGBM] [Warning] bagging_freq is set=2, subsample_freq=0 will be ignored. Current value: bagging_freq=2\n",
      "[LightGBM] [Warning] feature_fraction is set=0.6806649919465367, colsample_bytree=1.0 will be ignored. Current value: feature_fraction=0.6806649919465367\n",
      "[LightGBM] [Warning] bagging_fraction is set=0.3403544866785272, subsample=1.0 will be ignored. Current value: bagging_fraction=0.3403544866785272\n",
      "[LightGBM] [Warning] bagging_freq is set=2, subsample_freq=0 will be ignored. Current value: bagging_freq=2\n"
     ]
    },
    {
     "name": "stderr",
     "output_type": "stream",
     "text": [
      "\u001b[32m[I 2023-04-22 16:25:12,880]\u001b[0m Trial 22 finished with value: 0.6377512995109187 and parameters: {'num_leaves': 58, 'learning_rate': 0.017045138780223835, 'max_depth': 5, 'feature_fraction': 0.6806649919465367, 'bagging_fraction': 0.3403544866785272, 'bagging_freq': 2, 'min_child_samples': 50}. Best is trial 22 with value: 0.6377512995109187.\u001b[0m\n"
     ]
    },
    {
     "name": "stdout",
     "output_type": "stream",
     "text": [
      "[LightGBM] [Warning] feature_fraction is set=0.6806649919465367, colsample_bytree=1.0 will be ignored. Current value: feature_fraction=0.6806649919465367\n",
      "[LightGBM] [Warning] bagging_fraction is set=0.3403544866785272, subsample=1.0 will be ignored. Current value: bagging_fraction=0.3403544866785272\n",
      "[LightGBM] [Warning] bagging_freq is set=2, subsample_freq=0 will be ignored. Current value: bagging_freq=2\n",
      "[LightGBM] [Warning] feature_fraction is set=0.6806649919465367, colsample_bytree=1.0 will be ignored. Current value: feature_fraction=0.6806649919465367\n",
      "[LightGBM] [Warning] bagging_fraction is set=0.3403544866785272, subsample=1.0 will be ignored. Current value: bagging_fraction=0.3403544866785272\n",
      "[LightGBM] [Warning] bagging_freq is set=2, subsample_freq=0 will be ignored. Current value: bagging_freq=2\n",
      "[LightGBM] [Warning] feature_fraction is set=0.8357233527478725, colsample_bytree=1.0 will be ignored. Current value: feature_fraction=0.8357233527478725\n",
      "[LightGBM] [Warning] bagging_fraction is set=0.3221296860699941, subsample=1.0 will be ignored. Current value: bagging_fraction=0.3221296860699941\n",
      "[LightGBM] [Warning] bagging_freq is set=1, subsample_freq=0 will be ignored. Current value: bagging_freq=1\n",
      "[LightGBM] [Warning] feature_fraction is set=0.8357233527478725, colsample_bytree=1.0 will be ignored. Current value: feature_fraction=0.8357233527478725\n",
      "[LightGBM] [Warning] bagging_fraction is set=0.3221296860699941, subsample=1.0 will be ignored. Current value: bagging_fraction=0.3221296860699941\n",
      "[LightGBM] [Warning] bagging_freq is set=1, subsample_freq=0 will be ignored. Current value: bagging_freq=1\n",
      "[LightGBM] [Warning] feature_fraction is set=0.8357233527478725, colsample_bytree=1.0 will be ignored. Current value: feature_fraction=0.8357233527478725\n",
      "[LightGBM] [Warning] bagging_fraction is set=0.3221296860699941, subsample=1.0 will be ignored. Current value: bagging_fraction=0.3221296860699941\n",
      "[LightGBM] [Warning] bagging_freq is set=1, subsample_freq=0 will be ignored. Current value: bagging_freq=1\n",
      "[LightGBM] [Warning] feature_fraction is set=0.8357233527478725, colsample_bytree=1.0 will be ignored. Current value: feature_fraction=0.8357233527478725\n",
      "[LightGBM] [Warning] bagging_fraction is set=0.3221296860699941, subsample=1.0 will be ignored. Current value: bagging_fraction=0.3221296860699941\n",
      "[LightGBM] [Warning] bagging_freq is set=1, subsample_freq=0 will be ignored. Current value: bagging_freq=1\n"
     ]
    },
    {
     "name": "stderr",
     "output_type": "stream",
     "text": [
      "\u001b[32m[I 2023-04-22 16:25:13,308]\u001b[0m Trial 23 finished with value: 0.6389405303828729 and parameters: {'num_leaves': 121, 'learning_rate': 0.013778966329597018, 'max_depth': 5, 'feature_fraction': 0.8357233527478725, 'bagging_fraction': 0.3221296860699941, 'bagging_freq': 1, 'min_child_samples': 47}. Best is trial 23 with value: 0.6389405303828729.\u001b[0m\n"
     ]
    },
    {
     "name": "stdout",
     "output_type": "stream",
     "text": [
      "[LightGBM] [Warning] feature_fraction is set=0.8357233527478725, colsample_bytree=1.0 will be ignored. Current value: feature_fraction=0.8357233527478725\n",
      "[LightGBM] [Warning] bagging_fraction is set=0.3221296860699941, subsample=1.0 will be ignored. Current value: bagging_fraction=0.3221296860699941\n",
      "[LightGBM] [Warning] bagging_freq is set=1, subsample_freq=0 will be ignored. Current value: bagging_freq=1\n",
      "[LightGBM] [Warning] feature_fraction is set=0.876480595134377, colsample_bytree=1.0 will be ignored. Current value: feature_fraction=0.876480595134377\n",
      "[LightGBM] [Warning] bagging_fraction is set=0.19818158827864657, subsample=1.0 will be ignored. Current value: bagging_fraction=0.19818158827864657\n",
      "[LightGBM] [Warning] bagging_freq is set=2, subsample_freq=0 will be ignored. Current value: bagging_freq=2\n",
      "[LightGBM] [Warning] feature_fraction is set=0.876480595134377, colsample_bytree=1.0 will be ignored. Current value: feature_fraction=0.876480595134377\n",
      "[LightGBM] [Warning] bagging_fraction is set=0.19818158827864657, subsample=1.0 will be ignored. Current value: bagging_fraction=0.19818158827864657\n",
      "[LightGBM] [Warning] bagging_freq is set=2, subsample_freq=0 will be ignored. Current value: bagging_freq=2\n",
      "[LightGBM] [Warning] feature_fraction is set=0.876480595134377, colsample_bytree=1.0 will be ignored. Current value: feature_fraction=0.876480595134377\n",
      "[LightGBM] [Warning] bagging_fraction is set=0.19818158827864657, subsample=1.0 will be ignored. Current value: bagging_fraction=0.19818158827864657\n",
      "[LightGBM] [Warning] bagging_freq is set=2, subsample_freq=0 will be ignored. Current value: bagging_freq=2\n",
      "[LightGBM] [Warning] feature_fraction is set=0.876480595134377, colsample_bytree=1.0 will be ignored. Current value: feature_fraction=0.876480595134377\n",
      "[LightGBM] [Warning] bagging_fraction is set=0.19818158827864657, subsample=1.0 will be ignored. Current value: bagging_fraction=0.19818158827864657\n",
      "[LightGBM] [Warning] bagging_freq is set=2, subsample_freq=0 will be ignored. Current value: bagging_freq=2\n",
      "[LightGBM] [Warning] feature_fraction is set=0.876480595134377, colsample_bytree=1.0 will be ignored. Current value: feature_fraction=0.876480595134377\n",
      "[LightGBM] [Warning] bagging_fraction is set=0.19818158827864657, subsample=1.0 will be ignored. Current value: bagging_fraction=0.19818158827864657\n",
      "[LightGBM] [Warning] bagging_freq is set=2, subsample_freq=0 will be ignored. Current value: bagging_freq=2\n"
     ]
    },
    {
     "name": "stderr",
     "output_type": "stream",
     "text": [
      "\u001b[32m[I 2023-04-22 16:25:13,707]\u001b[0m Trial 24 finished with value: 0.6370905138648684 and parameters: {'num_leaves': 119, 'learning_rate': 0.007827672327673658, 'max_depth': 5, 'feature_fraction': 0.876480595134377, 'bagging_fraction': 0.19818158827864657, 'bagging_freq': 2, 'min_child_samples': 48}. Best is trial 23 with value: 0.6389405303828729.\u001b[0m\n"
     ]
    },
    {
     "name": "stdout",
     "output_type": "stream",
     "text": [
      "[LightGBM] [Warning] feature_fraction is set=0.9738886283717976, colsample_bytree=1.0 will be ignored. Current value: feature_fraction=0.9738886283717976\n",
      "[LightGBM] [Warning] bagging_fraction is set=0.3081326396160785, subsample=1.0 will be ignored. Current value: bagging_fraction=0.3081326396160785\n",
      "[LightGBM] [Warning] bagging_freq is set=4, subsample_freq=0 will be ignored. Current value: bagging_freq=4\n",
      "[LightGBM] [Warning] feature_fraction is set=0.9738886283717976, colsample_bytree=1.0 will be ignored. Current value: feature_fraction=0.9738886283717976\n",
      "[LightGBM] [Warning] bagging_fraction is set=0.3081326396160785, subsample=1.0 will be ignored. Current value: bagging_fraction=0.3081326396160785\n",
      "[LightGBM] [Warning] bagging_freq is set=4, subsample_freq=0 will be ignored. Current value: bagging_freq=4\n",
      "[LightGBM] [Warning] feature_fraction is set=0.9738886283717976, colsample_bytree=1.0 will be ignored. Current value: feature_fraction=0.9738886283717976\n",
      "[LightGBM] [Warning] bagging_fraction is set=0.3081326396160785, subsample=1.0 will be ignored. Current value: bagging_fraction=0.3081326396160785\n",
      "[LightGBM] [Warning] bagging_freq is set=4, subsample_freq=0 will be ignored. Current value: bagging_freq=4\n",
      "[LightGBM] [Warning] feature_fraction is set=0.9738886283717976, colsample_bytree=1.0 will be ignored. Current value: feature_fraction=0.9738886283717976\n",
      "[LightGBM] [Warning] bagging_fraction is set=0.3081326396160785, subsample=1.0 will be ignored. Current value: bagging_fraction=0.3081326396160785\n",
      "[LightGBM] [Warning] bagging_freq is set=4, subsample_freq=0 will be ignored. Current value: bagging_freq=4\n"
     ]
    },
    {
     "name": "stderr",
     "output_type": "stream",
     "text": [
      "\u001b[32m[I 2023-04-22 16:25:14,037]\u001b[0m Trial 25 finished with value: 0.6394688883273786 and parameters: {'num_leaves': 15, 'learning_rate': 0.013153816989232453, 'max_depth': 4, 'feature_fraction': 0.9738886283717976, 'bagging_fraction': 0.3081326396160785, 'bagging_freq': 4, 'min_child_samples': 79}. Best is trial 25 with value: 0.6394688883273786.\u001b[0m\n"
     ]
    },
    {
     "name": "stdout",
     "output_type": "stream",
     "text": [
      "[LightGBM] [Warning] feature_fraction is set=0.9738886283717976, colsample_bytree=1.0 will be ignored. Current value: feature_fraction=0.9738886283717976\n",
      "[LightGBM] [Warning] bagging_fraction is set=0.3081326396160785, subsample=1.0 will be ignored. Current value: bagging_fraction=0.3081326396160785\n",
      "[LightGBM] [Warning] bagging_freq is set=4, subsample_freq=0 will be ignored. Current value: bagging_freq=4\n",
      "[LightGBM] [Warning] feature_fraction is set=0.9978388135434557, colsample_bytree=1.0 will be ignored. Current value: feature_fraction=0.9978388135434557\n",
      "[LightGBM] [Warning] bagging_fraction is set=0.30895347098330145, subsample=1.0 will be ignored. Current value: bagging_fraction=0.30895347098330145\n",
      "[LightGBM] [Warning] bagging_freq is set=4, subsample_freq=0 will be ignored. Current value: bagging_freq=4\n",
      "[LightGBM] [Warning] feature_fraction is set=0.9978388135434557, colsample_bytree=1.0 will be ignored. Current value: feature_fraction=0.9978388135434557\n",
      "[LightGBM] [Warning] bagging_fraction is set=0.30895347098330145, subsample=1.0 will be ignored. Current value: bagging_fraction=0.30895347098330145\n",
      "[LightGBM] [Warning] bagging_freq is set=4, subsample_freq=0 will be ignored. Current value: bagging_freq=4\n",
      "[LightGBM] [Warning] feature_fraction is set=0.9978388135434557, colsample_bytree=1.0 will be ignored. Current value: feature_fraction=0.9978388135434557\n",
      "[LightGBM] [Warning] bagging_fraction is set=0.30895347098330145, subsample=1.0 will be ignored. Current value: bagging_fraction=0.30895347098330145\n",
      "[LightGBM] [Warning] bagging_freq is set=4, subsample_freq=0 will be ignored. Current value: bagging_freq=4\n"
     ]
    },
    {
     "name": "stderr",
     "output_type": "stream",
     "text": [
      "\u001b[32m[I 2023-04-22 16:25:14,341]\u001b[0m Trial 26 finished with value: 0.6389405085625234 and parameters: {'num_leaves': 10, 'learning_rate': 0.014050331982904582, 'max_depth': 4, 'feature_fraction': 0.9978388135434557, 'bagging_fraction': 0.30895347098330145, 'bagging_freq': 4, 'min_child_samples': 82}. Best is trial 25 with value: 0.6394688883273786.\u001b[0m\n"
     ]
    },
    {
     "name": "stdout",
     "output_type": "stream",
     "text": [
      "[LightGBM] [Warning] feature_fraction is set=0.9978388135434557, colsample_bytree=1.0 will be ignored. Current value: feature_fraction=0.9978388135434557\n",
      "[LightGBM] [Warning] bagging_fraction is set=0.30895347098330145, subsample=1.0 will be ignored. Current value: bagging_fraction=0.30895347098330145\n",
      "[LightGBM] [Warning] bagging_freq is set=4, subsample_freq=0 will be ignored. Current value: bagging_freq=4\n",
      "[LightGBM] [Warning] feature_fraction is set=0.9978388135434557, colsample_bytree=1.0 will be ignored. Current value: feature_fraction=0.9978388135434557\n",
      "[LightGBM] [Warning] bagging_fraction is set=0.30895347098330145, subsample=1.0 will be ignored. Current value: bagging_fraction=0.30895347098330145\n",
      "[LightGBM] [Warning] bagging_freq is set=4, subsample_freq=0 will be ignored. Current value: bagging_freq=4\n",
      "[LightGBM] [Warning] feature_fraction is set=0.999133443986518, colsample_bytree=1.0 will be ignored. Current value: feature_fraction=0.999133443986518\n",
      "[LightGBM] [Warning] bagging_fraction is set=0.1904955020466343, subsample=1.0 will be ignored. Current value: bagging_fraction=0.1904955020466343\n",
      "[LightGBM] [Warning] bagging_freq is set=5, subsample_freq=0 will be ignored. Current value: bagging_freq=5\n",
      "[LightGBM] [Warning] feature_fraction is set=0.999133443986518, colsample_bytree=1.0 will be ignored. Current value: feature_fraction=0.999133443986518\n",
      "[LightGBM] [Warning] bagging_fraction is set=0.1904955020466343, subsample=1.0 will be ignored. Current value: bagging_fraction=0.1904955020466343\n",
      "[LightGBM] [Warning] bagging_freq is set=5, subsample_freq=0 will be ignored. Current value: bagging_freq=5\n"
     ]
    },
    {
     "name": "stderr",
     "output_type": "stream",
     "text": [
      "\u001b[32m[I 2023-04-22 16:25:14,585]\u001b[0m Trial 27 finished with value: 0.6390064496589261 and parameters: {'num_leaves': 14, 'learning_rate': 0.012026570848440648, 'max_depth': 3, 'feature_fraction': 0.999133443986518, 'bagging_fraction': 0.1904955020466343, 'bagging_freq': 5, 'min_child_samples': 79}. Best is trial 25 with value: 0.6394688883273786.\u001b[0m\n"
     ]
    },
    {
     "name": "stdout",
     "output_type": "stream",
     "text": [
      "[LightGBM] [Warning] feature_fraction is set=0.999133443986518, colsample_bytree=1.0 will be ignored. Current value: feature_fraction=0.999133443986518\n",
      "[LightGBM] [Warning] bagging_fraction is set=0.1904955020466343, subsample=1.0 will be ignored. Current value: bagging_fraction=0.1904955020466343\n",
      "[LightGBM] [Warning] bagging_freq is set=5, subsample_freq=0 will be ignored. Current value: bagging_freq=5\n",
      "[LightGBM] [Warning] feature_fraction is set=0.999133443986518, colsample_bytree=1.0 will be ignored. Current value: feature_fraction=0.999133443986518\n",
      "[LightGBM] [Warning] bagging_fraction is set=0.1904955020466343, subsample=1.0 will be ignored. Current value: bagging_fraction=0.1904955020466343\n",
      "[LightGBM] [Warning] bagging_freq is set=5, subsample_freq=0 will be ignored. Current value: bagging_freq=5\n",
      "[LightGBM] [Warning] feature_fraction is set=0.999133443986518, colsample_bytree=1.0 will be ignored. Current value: feature_fraction=0.999133443986518\n",
      "[LightGBM] [Warning] bagging_fraction is set=0.1904955020466343, subsample=1.0 will be ignored. Current value: bagging_fraction=0.1904955020466343\n",
      "[LightGBM] [Warning] bagging_freq is set=5, subsample_freq=0 will be ignored. Current value: bagging_freq=5\n",
      "[LightGBM] [Warning] feature_fraction is set=0.9413596944698738, colsample_bytree=1.0 will be ignored. Current value: feature_fraction=0.9413596944698738\n",
      "[LightGBM] [Warning] bagging_fraction is set=0.19510351589862412, subsample=1.0 will be ignored. Current value: bagging_fraction=0.19510351589862412\n",
      "[LightGBM] [Warning] bagging_freq is set=5, subsample_freq=0 will be ignored. Current value: bagging_freq=5\n",
      "[LightGBM] [Warning] feature_fraction is set=0.9413596944698738, colsample_bytree=1.0 will be ignored. Current value: feature_fraction=0.9413596944698738\n",
      "[LightGBM] [Warning] bagging_fraction is set=0.19510351589862412, subsample=1.0 will be ignored. Current value: bagging_fraction=0.19510351589862412\n",
      "[LightGBM] [Warning] bagging_freq is set=5, subsample_freq=0 will be ignored. Current value: bagging_freq=5\n"
     ]
    },
    {
     "name": "stderr",
     "output_type": "stream",
     "text": [
      "\u001b[32m[I 2023-04-22 16:25:14,833]\u001b[0m Trial 28 finished with value: 0.6362974969004194 and parameters: {'num_leaves': 33, 'learning_rate': 0.006347596735500806, 'max_depth': 3, 'feature_fraction': 0.9413596944698738, 'bagging_fraction': 0.19510351589862412, 'bagging_freq': 5, 'min_child_samples': 80}. Best is trial 25 with value: 0.6394688883273786.\u001b[0m\n"
     ]
    },
    {
     "name": "stdout",
     "output_type": "stream",
     "text": [
      "[LightGBM] [Warning] feature_fraction is set=0.9413596944698738, colsample_bytree=1.0 will be ignored. Current value: feature_fraction=0.9413596944698738\n",
      "[LightGBM] [Warning] bagging_fraction is set=0.19510351589862412, subsample=1.0 will be ignored. Current value: bagging_fraction=0.19510351589862412\n",
      "[LightGBM] [Warning] bagging_freq is set=5, subsample_freq=0 will be ignored. Current value: bagging_freq=5\n",
      "[LightGBM] [Warning] feature_fraction is set=0.9413596944698738, colsample_bytree=1.0 will be ignored. Current value: feature_fraction=0.9413596944698738\n",
      "[LightGBM] [Warning] bagging_fraction is set=0.19510351589862412, subsample=1.0 will be ignored. Current value: bagging_fraction=0.19510351589862412\n",
      "[LightGBM] [Warning] bagging_freq is set=5, subsample_freq=0 will be ignored. Current value: bagging_freq=5\n",
      "[LightGBM] [Warning] feature_fraction is set=0.9413596944698738, colsample_bytree=1.0 will be ignored. Current value: feature_fraction=0.9413596944698738\n",
      "[LightGBM] [Warning] bagging_fraction is set=0.19510351589862412, subsample=1.0 will be ignored. Current value: bagging_fraction=0.19510351589862412\n",
      "[LightGBM] [Warning] bagging_freq is set=5, subsample_freq=0 will be ignored. Current value: bagging_freq=5\n",
      "[LightGBM] [Warning] feature_fraction is set=0.9396785113303756, colsample_bytree=1.0 will be ignored. Current value: feature_fraction=0.9396785113303756\n",
      "[LightGBM] [Warning] bagging_fraction is set=0.1829074425023839, subsample=1.0 will be ignored. Current value: bagging_fraction=0.1829074425023839\n",
      "[LightGBM] [Warning] bagging_freq is set=6, subsample_freq=0 will be ignored. Current value: bagging_freq=6\n",
      "[LightGBM] [Warning] feature_fraction is set=0.9396785113303756, colsample_bytree=1.0 will be ignored. Current value: feature_fraction=0.9396785113303756\n",
      "[LightGBM] [Warning] bagging_fraction is set=0.1829074425023839, subsample=1.0 will be ignored. Current value: bagging_fraction=0.1829074425023839\n",
      "[LightGBM] [Warning] bagging_freq is set=6, subsample_freq=0 will be ignored. Current value: bagging_freq=6\n"
     ]
    },
    {
     "name": "stderr",
     "output_type": "stream",
     "text": [
      "\u001b[32m[I 2023-04-22 16:25:15,062]\u001b[0m Trial 29 finished with value: 0.6335234103984441 and parameters: {'num_leaves': 79, 'learning_rate': 0.053225238706623317, 'max_depth': 3, 'feature_fraction': 0.9396785113303756, 'bagging_fraction': 0.1829074425023839, 'bagging_freq': 6, 'min_child_samples': 100}. Best is trial 25 with value: 0.6394688883273786.\u001b[0m\n"
     ]
    },
    {
     "name": "stdout",
     "output_type": "stream",
     "text": [
      "[LightGBM] [Warning] feature_fraction is set=0.9396785113303756, colsample_bytree=1.0 will be ignored. Current value: feature_fraction=0.9396785113303756\n",
      "[LightGBM] [Warning] bagging_fraction is set=0.1829074425023839, subsample=1.0 will be ignored. Current value: bagging_fraction=0.1829074425023839\n",
      "[LightGBM] [Warning] bagging_freq is set=6, subsample_freq=0 will be ignored. Current value: bagging_freq=6\n",
      "[LightGBM] [Warning] feature_fraction is set=0.9396785113303756, colsample_bytree=1.0 will be ignored. Current value: feature_fraction=0.9396785113303756\n",
      "[LightGBM] [Warning] bagging_fraction is set=0.1829074425023839, subsample=1.0 will be ignored. Current value: bagging_fraction=0.1829074425023839\n",
      "[LightGBM] [Warning] bagging_freq is set=6, subsample_freq=0 will be ignored. Current value: bagging_freq=6\n",
      "[LightGBM] [Warning] feature_fraction is set=0.9396785113303756, colsample_bytree=1.0 will be ignored. Current value: feature_fraction=0.9396785113303756\n",
      "[LightGBM] [Warning] bagging_fraction is set=0.1829074425023839, subsample=1.0 will be ignored. Current value: bagging_fraction=0.1829074425023839\n",
      "[LightGBM] [Warning] bagging_freq is set=6, subsample_freq=0 will be ignored. Current value: bagging_freq=6\n",
      "[LightGBM] [Warning] feature_fraction is set=0.9253972384168696, colsample_bytree=1.0 will be ignored. Current value: feature_fraction=0.9253972384168696\n",
      "[LightGBM] [Warning] bagging_fraction is set=0.27519179094912377, subsample=1.0 will be ignored. Current value: bagging_fraction=0.27519179094912377\n",
      "[LightGBM] [Warning] bagging_freq is set=5, subsample_freq=0 will be ignored. Current value: bagging_freq=5\n",
      "[LightGBM] [Warning] feature_fraction is set=0.9253972384168696, colsample_bytree=1.0 will be ignored. Current value: feature_fraction=0.9253972384168696\n",
      "[LightGBM] [Warning] bagging_fraction is set=0.27519179094912377, subsample=1.0 will be ignored. Current value: bagging_fraction=0.27519179094912377\n",
      "[LightGBM] [Warning] bagging_freq is set=5, subsample_freq=0 will be ignored. Current value: bagging_freq=5\n",
      "[LightGBM] [Warning] feature_fraction is set=0.9253972384168696, colsample_bytree=1.0 will be ignored. Current value: feature_fraction=0.9253972384168696\n",
      "[LightGBM] [Warning] bagging_fraction is set=0.27519179094912377, subsample=1.0 will be ignored. Current value: bagging_fraction=0.27519179094912377\n",
      "[LightGBM] [Warning] bagging_freq is set=5, subsample_freq=0 will be ignored. Current value: bagging_freq=5\n",
      "[LightGBM] [Warning] feature_fraction is set=0.9253972384168696, colsample_bytree=1.0 will be ignored. Current value: feature_fraction=0.9253972384168696\n",
      "[LightGBM] [Warning] bagging_fraction is set=0.27519179094912377, subsample=1.0 will be ignored. Current value: bagging_fraction=0.27519179094912377\n",
      "[LightGBM] [Warning] bagging_freq is set=5, subsample_freq=0 will be ignored. Current value: bagging_freq=5\n",
      "[LightGBM] [Warning] feature_fraction is set=0.9253972384168696, colsample_bytree=1.0 will be ignored. Current value: feature_fraction=0.9253972384168696\n",
      "[LightGBM] [Warning] bagging_fraction is set=0.27519179094912377, subsample=1.0 will be ignored. Current value: bagging_fraction=0.27519179094912377\n",
      "[LightGBM] [Warning] bagging_freq is set=5, subsample_freq=0 will be ignored. Current value: bagging_freq=5\n"
     ]
    },
    {
     "name": "stderr",
     "output_type": "stream",
     "text": [
      "\u001b[32m[I 2023-04-22 16:25:15,394]\u001b[0m Trial 30 finished with value: 0.6391383973127803 and parameters: {'num_leaves': 27, 'learning_rate': 0.011231063497900469, 'max_depth': 4, 'feature_fraction': 0.9253972384168696, 'bagging_fraction': 0.27519179094912377, 'bagging_freq': 5, 'min_child_samples': 91}. Best is trial 25 with value: 0.6394688883273786.\u001b[0m\n"
     ]
    },
    {
     "name": "stdout",
     "output_type": "stream",
     "text": [
      "[LightGBM] [Warning] feature_fraction is set=0.9308299893311143, colsample_bytree=1.0 will be ignored. Current value: feature_fraction=0.9308299893311143\n",
      "[LightGBM] [Warning] bagging_fraction is set=0.2707597926056538, subsample=1.0 will be ignored. Current value: bagging_fraction=0.2707597926056538\n",
      "[LightGBM] [Warning] bagging_freq is set=5, subsample_freq=0 will be ignored. Current value: bagging_freq=5\n",
      "[LightGBM] [Warning] feature_fraction is set=0.9308299893311143, colsample_bytree=1.0 will be ignored. Current value: feature_fraction=0.9308299893311143\n",
      "[LightGBM] [Warning] bagging_fraction is set=0.2707597926056538, subsample=1.0 will be ignored. Current value: bagging_fraction=0.2707597926056538\n",
      "[LightGBM] [Warning] bagging_freq is set=5, subsample_freq=0 will be ignored. Current value: bagging_freq=5\n",
      "[LightGBM] [Warning] feature_fraction is set=0.9308299893311143, colsample_bytree=1.0 will be ignored. Current value: feature_fraction=0.9308299893311143\n",
      "[LightGBM] [Warning] bagging_fraction is set=0.2707597926056538, subsample=1.0 will be ignored. Current value: bagging_fraction=0.2707597926056538\n",
      "[LightGBM] [Warning] bagging_freq is set=5, subsample_freq=0 will be ignored. Current value: bagging_freq=5\n",
      "[LightGBM] [Warning] feature_fraction is set=0.9308299893311143, colsample_bytree=1.0 will be ignored. Current value: feature_fraction=0.9308299893311143\n",
      "[LightGBM] [Warning] bagging_fraction is set=0.2707597926056538, subsample=1.0 will be ignored. Current value: bagging_fraction=0.2707597926056538\n",
      "[LightGBM] [Warning] bagging_freq is set=5, subsample_freq=0 will be ignored. Current value: bagging_freq=5\n"
     ]
    },
    {
     "name": "stderr",
     "output_type": "stream",
     "text": [
      "\u001b[32m[I 2023-04-22 16:25:15,734]\u001b[0m Trial 31 finished with value: 0.6412525709826882 and parameters: {'num_leaves': 24, 'learning_rate': 0.011632263864084363, 'max_depth': 4, 'feature_fraction': 0.9308299893311143, 'bagging_fraction': 0.2707597926056538, 'bagging_freq': 5, 'min_child_samples': 92}. Best is trial 31 with value: 0.6412525709826882.\u001b[0m\n"
     ]
    },
    {
     "name": "stdout",
     "output_type": "stream",
     "text": [
      "[LightGBM] [Warning] feature_fraction is set=0.9308299893311143, colsample_bytree=1.0 will be ignored. Current value: feature_fraction=0.9308299893311143\n",
      "[LightGBM] [Warning] bagging_fraction is set=0.2707597926056538, subsample=1.0 will be ignored. Current value: bagging_fraction=0.2707597926056538\n",
      "[LightGBM] [Warning] bagging_freq is set=5, subsample_freq=0 will be ignored. Current value: bagging_freq=5\n",
      "[LightGBM] [Warning] feature_fraction is set=0.9437430584304075, colsample_bytree=1.0 will be ignored. Current value: feature_fraction=0.9437430584304075\n",
      "[LightGBM] [Warning] bagging_fraction is set=0.27084093342498705, subsample=1.0 will be ignored. Current value: bagging_fraction=0.27084093342498705\n",
      "[LightGBM] [Warning] bagging_freq is set=5, subsample_freq=0 will be ignored. Current value: bagging_freq=5\n",
      "[LightGBM] [Warning] feature_fraction is set=0.9437430584304075, colsample_bytree=1.0 will be ignored. Current value: feature_fraction=0.9437430584304075\n",
      "[LightGBM] [Warning] bagging_fraction is set=0.27084093342498705, subsample=1.0 will be ignored. Current value: bagging_fraction=0.27084093342498705\n",
      "[LightGBM] [Warning] bagging_freq is set=5, subsample_freq=0 will be ignored. Current value: bagging_freq=5\n"
     ]
    },
    {
     "name": "stderr",
     "output_type": "stream",
     "text": [
      "\u001b[32m[I 2023-04-22 16:25:16,051]\u001b[0m Trial 32 finished with value: 0.6404597940420845 and parameters: {'num_leaves': 28, 'learning_rate': 0.010212540922787438, 'max_depth': 4, 'feature_fraction': 0.9437430584304075, 'bagging_fraction': 0.27084093342498705, 'bagging_freq': 5, 'min_child_samples': 90}. Best is trial 31 with value: 0.6412525709826882.\u001b[0m\n"
     ]
    },
    {
     "name": "stdout",
     "output_type": "stream",
     "text": [
      "[LightGBM] [Warning] feature_fraction is set=0.9437430584304075, colsample_bytree=1.0 will be ignored. Current value: feature_fraction=0.9437430584304075\n",
      "[LightGBM] [Warning] bagging_fraction is set=0.27084093342498705, subsample=1.0 will be ignored. Current value: bagging_fraction=0.27084093342498705\n",
      "[LightGBM] [Warning] bagging_freq is set=5, subsample_freq=0 will be ignored. Current value: bagging_freq=5\n",
      "[LightGBM] [Warning] feature_fraction is set=0.9437430584304075, colsample_bytree=1.0 will be ignored. Current value: feature_fraction=0.9437430584304075\n",
      "[LightGBM] [Warning] bagging_fraction is set=0.27084093342498705, subsample=1.0 will be ignored. Current value: bagging_fraction=0.27084093342498705\n",
      "[LightGBM] [Warning] bagging_freq is set=5, subsample_freq=0 will be ignored. Current value: bagging_freq=5\n",
      "[LightGBM] [Warning] feature_fraction is set=0.9437430584304075, colsample_bytree=1.0 will be ignored. Current value: feature_fraction=0.9437430584304075\n",
      "[LightGBM] [Warning] bagging_fraction is set=0.27084093342498705, subsample=1.0 will be ignored. Current value: bagging_fraction=0.27084093342498705\n",
      "[LightGBM] [Warning] bagging_freq is set=5, subsample_freq=0 will be ignored. Current value: bagging_freq=5\n",
      "[LightGBM] [Warning] feature_fraction is set=0.925248698449516, colsample_bytree=1.0 will be ignored. Current value: feature_fraction=0.925248698449516\n",
      "[LightGBM] [Warning] bagging_fraction is set=0.2675639776034645, subsample=1.0 will be ignored. Current value: bagging_fraction=0.2675639776034645\n",
      "[LightGBM] [Warning] bagging_freq is set=6, subsample_freq=0 will be ignored. Current value: bagging_freq=6\n",
      "[LightGBM] [Warning] feature_fraction is set=0.925248698449516, colsample_bytree=1.0 will be ignored. Current value: feature_fraction=0.925248698449516\n",
      "[LightGBM] [Warning] bagging_fraction is set=0.2675639776034645, subsample=1.0 will be ignored. Current value: bagging_fraction=0.2675639776034645\n",
      "[LightGBM] [Warning] bagging_freq is set=6, subsample_freq=0 will be ignored. Current value: bagging_freq=6\n",
      "[LightGBM] [Warning] feature_fraction is set=0.925248698449516, colsample_bytree=1.0 will be ignored. Current value: feature_fraction=0.925248698449516\n",
      "[LightGBM] [Warning] bagging_fraction is set=0.2675639776034645, subsample=1.0 will be ignored. Current value: bagging_fraction=0.2675639776034645\n",
      "[LightGBM] [Warning] bagging_freq is set=6, subsample_freq=0 will be ignored. Current value: bagging_freq=6\n",
      "[LightGBM] [Warning] feature_fraction is set=0.925248698449516, colsample_bytree=1.0 will be ignored. Current value: feature_fraction=0.925248698449516\n",
      "[LightGBM] [Warning] bagging_fraction is set=0.2675639776034645, subsample=1.0 will be ignored. Current value: bagging_fraction=0.2675639776034645\n",
      "[LightGBM] [Warning] bagging_freq is set=6, subsample_freq=0 will be ignored. Current value: bagging_freq=6\n",
      "[LightGBM] [Warning] feature_fraction is set=0.925248698449516, colsample_bytree=1.0 will be ignored. Current value: feature_fraction=0.925248698449516\n",
      "[LightGBM] [Warning] bagging_fraction is set=0.2675639776034645, subsample=1.0 will be ignored. Current value: bagging_fraction=0.2675639776034645\n",
      "[LightGBM] [Warning] bagging_freq is set=6, subsample_freq=0 will be ignored. Current value: bagging_freq=6\n"
     ]
    },
    {
     "name": "stderr",
     "output_type": "stream",
     "text": [
      "\u001b[32m[I 2023-04-22 16:25:16,352]\u001b[0m Trial 33 finished with value: 0.6383455330907783 and parameters: {'num_leaves': 30, 'learning_rate': 0.008668134380453442, 'max_depth': 4, 'feature_fraction': 0.925248698449516, 'bagging_fraction': 0.2675639776034645, 'bagging_freq': 6, 'min_child_samples': 92}. Best is trial 31 with value: 0.6412525709826882.\u001b[0m\n"
     ]
    },
    {
     "name": "stdout",
     "output_type": "stream",
     "text": [
      "[LightGBM] [Warning] feature_fraction is set=0.8209069843322252, colsample_bytree=1.0 will be ignored. Current value: feature_fraction=0.8209069843322252\n",
      "[LightGBM] [Warning] bagging_fraction is set=0.3015760895998933, subsample=1.0 will be ignored. Current value: bagging_fraction=0.3015760895998933\n",
      "[LightGBM] [Warning] bagging_freq is set=4, subsample_freq=0 will be ignored. Current value: bagging_freq=4\n",
      "[LightGBM] [Warning] feature_fraction is set=0.8209069843322252, colsample_bytree=1.0 will be ignored. Current value: feature_fraction=0.8209069843322252\n",
      "[LightGBM] [Warning] bagging_fraction is set=0.3015760895998933, subsample=1.0 will be ignored. Current value: bagging_fraction=0.3015760895998933\n",
      "[LightGBM] [Warning] bagging_freq is set=4, subsample_freq=0 will be ignored. Current value: bagging_freq=4\n",
      "[LightGBM] [Warning] feature_fraction is set=0.8209069843322252, colsample_bytree=1.0 will be ignored. Current value: feature_fraction=0.8209069843322252\n",
      "[LightGBM] [Warning] bagging_fraction is set=0.3015760895998933, subsample=1.0 will be ignored. Current value: bagging_fraction=0.3015760895998933\n",
      "[LightGBM] [Warning] bagging_freq is set=4, subsample_freq=0 will be ignored. Current value: bagging_freq=4\n",
      "[LightGBM] [Warning] feature_fraction is set=0.8209069843322252, colsample_bytree=1.0 will be ignored. Current value: feature_fraction=0.8209069843322252\n",
      "[LightGBM] [Warning] bagging_fraction is set=0.3015760895998933, subsample=1.0 will be ignored. Current value: bagging_fraction=0.3015760895998933\n",
      "[LightGBM] [Warning] bagging_freq is set=4, subsample_freq=0 will be ignored. Current value: bagging_freq=4\n"
     ]
    },
    {
     "name": "stderr",
     "output_type": "stream",
     "text": [
      "\u001b[32m[I 2023-04-22 16:25:16,673]\u001b[0m Trial 34 finished with value: 0.6320028593386078 and parameters: {'num_leaves': 48, 'learning_rate': 0.005288801302400078, 'max_depth': 4, 'feature_fraction': 0.8209069843322252, 'bagging_fraction': 0.3015760895998933, 'bagging_freq': 4, 'min_child_samples': 88}. Best is trial 31 with value: 0.6412525709826882.\u001b[0m\n"
     ]
    },
    {
     "name": "stdout",
     "output_type": "stream",
     "text": [
      "[LightGBM] [Warning] feature_fraction is set=0.8209069843322252, colsample_bytree=1.0 will be ignored. Current value: feature_fraction=0.8209069843322252\n",
      "[LightGBM] [Warning] bagging_fraction is set=0.3015760895998933, subsample=1.0 will be ignored. Current value: bagging_fraction=0.3015760895998933\n",
      "[LightGBM] [Warning] bagging_freq is set=4, subsample_freq=0 will be ignored. Current value: bagging_freq=4\n",
      "[LightGBM] [Warning] feature_fraction is set=0.907256351672584, colsample_bytree=1.0 will be ignored. Current value: feature_fraction=0.907256351672584\n",
      "[LightGBM] [Warning] bagging_fraction is set=0.22024168199142952, subsample=1.0 will be ignored. Current value: bagging_fraction=0.22024168199142952\n",
      "[LightGBM] [Warning] bagging_freq is set=7, subsample_freq=0 will be ignored. Current value: bagging_freq=7\n",
      "[LightGBM] [Warning] feature_fraction is set=0.907256351672584, colsample_bytree=1.0 will be ignored. Current value: feature_fraction=0.907256351672584\n",
      "[LightGBM] [Warning] bagging_fraction is set=0.22024168199142952, subsample=1.0 will be ignored. Current value: bagging_fraction=0.22024168199142952\n",
      "[LightGBM] [Warning] bagging_freq is set=7, subsample_freq=0 will be ignored. Current value: bagging_freq=7\n",
      "[LightGBM] [Warning] feature_fraction is set=0.907256351672584, colsample_bytree=1.0 will be ignored. Current value: feature_fraction=0.907256351672584\n",
      "[LightGBM] [Warning] bagging_fraction is set=0.22024168199142952, subsample=1.0 will be ignored. Current value: bagging_fraction=0.22024168199142952\n",
      "[LightGBM] [Warning] bagging_freq is set=7, subsample_freq=0 will be ignored. Current value: bagging_freq=7\n"
     ]
    },
    {
     "name": "stderr",
     "output_type": "stream",
     "text": [
      "\u001b[32m[I 2023-04-22 16:25:16,962]\u001b[0m Trial 35 finished with value: 0.6376189372704226 and parameters: {'num_leaves': 20, 'learning_rate': 0.010108956010528854, 'max_depth': 4, 'feature_fraction': 0.907256351672584, 'bagging_fraction': 0.22024168199142952, 'bagging_freq': 7, 'min_child_samples': 93}. Best is trial 31 with value: 0.6412525709826882.\u001b[0m\n"
     ]
    },
    {
     "name": "stdout",
     "output_type": "stream",
     "text": [
      "[LightGBM] [Warning] feature_fraction is set=0.907256351672584, colsample_bytree=1.0 will be ignored. Current value: feature_fraction=0.907256351672584\n",
      "[LightGBM] [Warning] bagging_fraction is set=0.22024168199142952, subsample=1.0 will be ignored. Current value: bagging_fraction=0.22024168199142952\n",
      "[LightGBM] [Warning] bagging_freq is set=7, subsample_freq=0 will be ignored. Current value: bagging_freq=7\n",
      "[LightGBM] [Warning] feature_fraction is set=0.907256351672584, colsample_bytree=1.0 will be ignored. Current value: feature_fraction=0.907256351672584\n",
      "[LightGBM] [Warning] bagging_fraction is set=0.22024168199142952, subsample=1.0 will be ignored. Current value: bagging_fraction=0.22024168199142952\n",
      "[LightGBM] [Warning] bagging_freq is set=7, subsample_freq=0 will be ignored. Current value: bagging_freq=7\n",
      "[LightGBM] [Warning] feature_fraction is set=0.9595846065619204, colsample_bytree=1.0 will be ignored. Current value: feature_fraction=0.9595846065619204\n",
      "[LightGBM] [Warning] bagging_fraction is set=0.16078028808409514, subsample=1.0 will be ignored. Current value: bagging_fraction=0.16078028808409514\n",
      "[LightGBM] [Warning] bagging_freq is set=5, subsample_freq=0 will be ignored. Current value: bagging_freq=5\n",
      "[LightGBM] [Warning] feature_fraction is set=0.9595846065619204, colsample_bytree=1.0 will be ignored. Current value: feature_fraction=0.9595846065619204\n",
      "[LightGBM] [Warning] bagging_fraction is set=0.16078028808409514, subsample=1.0 will be ignored. Current value: bagging_fraction=0.16078028808409514\n",
      "[LightGBM] [Warning] bagging_freq is set=5, subsample_freq=0 will be ignored. Current value: bagging_freq=5\n"
     ]
    },
    {
     "name": "stderr",
     "output_type": "stream",
     "text": [
      "\u001b[32m[I 2023-04-22 16:25:17,232]\u001b[0m Trial 36 finished with value: 0.6368259857670224 and parameters: {'num_leaves': 44, 'learning_rate': 0.007177134094406624, 'max_depth': 3, 'feature_fraction': 0.9595846065619204, 'bagging_fraction': 0.16078028808409514, 'bagging_freq': 5, 'min_child_samples': 75}. Best is trial 31 with value: 0.6412525709826882.\u001b[0m\n"
     ]
    },
    {
     "name": "stdout",
     "output_type": "stream",
     "text": [
      "[LightGBM] [Warning] feature_fraction is set=0.9595846065619204, colsample_bytree=1.0 will be ignored. Current value: feature_fraction=0.9595846065619204\n",
      "[LightGBM] [Warning] bagging_fraction is set=0.16078028808409514, subsample=1.0 will be ignored. Current value: bagging_fraction=0.16078028808409514\n",
      "[LightGBM] [Warning] bagging_freq is set=5, subsample_freq=0 will be ignored. Current value: bagging_freq=5\n",
      "[LightGBM] [Warning] feature_fraction is set=0.9595846065619204, colsample_bytree=1.0 will be ignored. Current value: feature_fraction=0.9595846065619204\n",
      "[LightGBM] [Warning] bagging_fraction is set=0.16078028808409514, subsample=1.0 will be ignored. Current value: bagging_fraction=0.16078028808409514\n",
      "[LightGBM] [Warning] bagging_freq is set=5, subsample_freq=0 will be ignored. Current value: bagging_freq=5\n",
      "[LightGBM] [Warning] feature_fraction is set=0.9595846065619204, colsample_bytree=1.0 will be ignored. Current value: feature_fraction=0.9595846065619204\n",
      "[LightGBM] [Warning] bagging_fraction is set=0.16078028808409514, subsample=1.0 will be ignored. Current value: bagging_fraction=0.16078028808409514\n",
      "[LightGBM] [Warning] bagging_freq is set=5, subsample_freq=0 will be ignored. Current value: bagging_freq=5\n",
      "[LightGBM] [Warning] feature_fraction is set=0.9030896857494584, colsample_bytree=1.0 will be ignored. Current value: feature_fraction=0.9030896857494584\n",
      "[LightGBM] [Warning] bagging_fraction is set=0.2540698927060563, subsample=1.0 will be ignored. Current value: bagging_fraction=0.2540698927060563\n",
      "[LightGBM] [Warning] bagging_freq is set=3, subsample_freq=0 will be ignored. Current value: bagging_freq=3\n",
      "[LightGBM] [Warning] feature_fraction is set=0.9030896857494584, colsample_bytree=1.0 will be ignored. Current value: feature_fraction=0.9030896857494584\n",
      "[LightGBM] [Warning] bagging_fraction is set=0.2540698927060563, subsample=1.0 will be ignored. Current value: bagging_fraction=0.2540698927060563\n",
      "[LightGBM] [Warning] bagging_freq is set=3, subsample_freq=0 will be ignored. Current value: bagging_freq=3\n",
      "[LightGBM] [Warning] feature_fraction is set=0.9030896857494584, colsample_bytree=1.0 will be ignored. Current value: feature_fraction=0.9030896857494584\n",
      "[LightGBM] [Warning] bagging_fraction is set=0.2540698927060563, subsample=1.0 will be ignored. Current value: bagging_fraction=0.2540698927060563\n",
      "[LightGBM] [Warning] bagging_freq is set=3, subsample_freq=0 will be ignored. Current value: bagging_freq=3\n",
      "[LightGBM] [Warning] feature_fraction is set=0.9030896857494584, colsample_bytree=1.0 will be ignored. Current value: feature_fraction=0.9030896857494584\n",
      "[LightGBM] [Warning] bagging_fraction is set=0.2540698927060563, subsample=1.0 will be ignored. Current value: bagging_fraction=0.2540698927060563\n",
      "[LightGBM] [Warning] bagging_freq is set=3, subsample_freq=0 will be ignored. Current value: bagging_freq=3\n",
      "[LightGBM] [Warning] feature_fraction is set=0.9030896857494584, colsample_bytree=1.0 will be ignored. Current value: feature_fraction=0.9030896857494584\n",
      "[LightGBM] [Warning] bagging_fraction is set=0.2540698927060563, subsample=1.0 will be ignored. Current value: bagging_fraction=0.2540698927060563\n",
      "[LightGBM] [Warning] bagging_freq is set=3, subsample_freq=0 will be ignored. Current value: bagging_freq=3\n"
     ]
    },
    {
     "name": "stderr",
     "output_type": "stream",
     "text": [
      "\u001b[32m[I 2023-04-22 16:25:17,548]\u001b[0m Trial 37 finished with value: 0.6373547801185194 and parameters: {'num_leaves': 24, 'learning_rate': 0.009718514099916472, 'max_depth': 4, 'feature_fraction': 0.9030896857494584, 'bagging_fraction': 0.2540698927060563, 'bagging_freq': 3, 'min_child_samples': 87}. Best is trial 31 with value: 0.6412525709826882.\u001b[0m\n",
      "\u001b[32m[I 2023-04-22 16:25:17,779]\u001b[0m Trial 38 finished with value: 0.6242730659642259 and parameters: {'num_leaves': 84, 'learning_rate': 0.003683960160526402, 'max_depth': 3, 'feature_fraction': 0.8532893652490776, 'bagging_fraction': 0.15093488439297528, 'bagging_freq': 6, 'min_child_samples': 86}. Best is trial 31 with value: 0.6412525709826882.\u001b[0m\n"
     ]
    },
    {
     "name": "stdout",
     "output_type": "stream",
     "text": [
      "[LightGBM] [Warning] feature_fraction is set=0.8532893652490776, colsample_bytree=1.0 will be ignored. Current value: feature_fraction=0.8532893652490776\n",
      "[LightGBM] [Warning] bagging_fraction is set=0.15093488439297528, subsample=1.0 will be ignored. Current value: bagging_fraction=0.15093488439297528\n",
      "[LightGBM] [Warning] bagging_freq is set=6, subsample_freq=0 will be ignored. Current value: bagging_freq=6\n",
      "[LightGBM] [Warning] feature_fraction is set=0.8532893652490776, colsample_bytree=1.0 will be ignored. Current value: feature_fraction=0.8532893652490776\n",
      "[LightGBM] [Warning] bagging_fraction is set=0.15093488439297528, subsample=1.0 will be ignored. Current value: bagging_fraction=0.15093488439297528\n",
      "[LightGBM] [Warning] bagging_freq is set=6, subsample_freq=0 will be ignored. Current value: bagging_freq=6\n",
      "[LightGBM] [Warning] feature_fraction is set=0.8532893652490776, colsample_bytree=1.0 will be ignored. Current value: feature_fraction=0.8532893652490776\n",
      "[LightGBM] [Warning] bagging_fraction is set=0.15093488439297528, subsample=1.0 will be ignored. Current value: bagging_fraction=0.15093488439297528\n",
      "[LightGBM] [Warning] bagging_freq is set=6, subsample_freq=0 will be ignored. Current value: bagging_freq=6\n",
      "[LightGBM] [Warning] feature_fraction is set=0.8532893652490776, colsample_bytree=1.0 will be ignored. Current value: feature_fraction=0.8532893652490776\n",
      "[LightGBM] [Warning] bagging_fraction is set=0.15093488439297528, subsample=1.0 will be ignored. Current value: bagging_fraction=0.15093488439297528\n",
      "[LightGBM] [Warning] bagging_freq is set=6, subsample_freq=0 will be ignored. Current value: bagging_freq=6\n",
      "[LightGBM] [Warning] feature_fraction is set=0.8532893652490776, colsample_bytree=1.0 will be ignored. Current value: feature_fraction=0.8532893652490776\n",
      "[LightGBM] [Warning] bagging_fraction is set=0.15093488439297528, subsample=1.0 will be ignored. Current value: bagging_fraction=0.15093488439297528\n",
      "[LightGBM] [Warning] bagging_freq is set=6, subsample_freq=0 will be ignored. Current value: bagging_freq=6\n"
     ]
    },
    {
     "name": "stderr",
     "output_type": "stream",
     "text": [
      "\u001b[32m[I 2023-04-22 16:25:17,984]\u001b[0m Trial 39 finished with value: 0.6380815941423708 and parameters: {'num_leaves': 3, 'learning_rate': 0.01103840021711683, 'max_depth': 4, 'feature_fraction': 0.8061756394948498, 'bagging_fraction': 0.3327239196446638, 'bagging_freq': 4, 'min_child_samples': 94}. Best is trial 31 with value: 0.6412525709826882.\u001b[0m\n"
     ]
    },
    {
     "name": "stdout",
     "output_type": "stream",
     "text": [
      "[LightGBM] [Warning] feature_fraction is set=0.8061756394948498, colsample_bytree=1.0 will be ignored. Current value: feature_fraction=0.8061756394948498\n",
      "[LightGBM] [Warning] bagging_fraction is set=0.3327239196446638, subsample=1.0 will be ignored. Current value: bagging_fraction=0.3327239196446638\n",
      "[LightGBM] [Warning] bagging_freq is set=4, subsample_freq=0 will be ignored. Current value: bagging_freq=4\n",
      "[LightGBM] [Warning] feature_fraction is set=0.8061756394948498, colsample_bytree=1.0 will be ignored. Current value: feature_fraction=0.8061756394948498\n",
      "[LightGBM] [Warning] bagging_fraction is set=0.3327239196446638, subsample=1.0 will be ignored. Current value: bagging_fraction=0.3327239196446638\n",
      "[LightGBM] [Warning] bagging_freq is set=4, subsample_freq=0 will be ignored. Current value: bagging_freq=4\n",
      "[LightGBM] [Warning] feature_fraction is set=0.8061756394948498, colsample_bytree=1.0 will be ignored. Current value: feature_fraction=0.8061756394948498\n",
      "[LightGBM] [Warning] bagging_fraction is set=0.3327239196446638, subsample=1.0 will be ignored. Current value: bagging_fraction=0.3327239196446638\n",
      "[LightGBM] [Warning] bagging_freq is set=4, subsample_freq=0 will be ignored. Current value: bagging_freq=4\n",
      "[LightGBM] [Warning] feature_fraction is set=0.8061756394948498, colsample_bytree=1.0 will be ignored. Current value: feature_fraction=0.8061756394948498\n",
      "[LightGBM] [Warning] bagging_fraction is set=0.3327239196446638, subsample=1.0 will be ignored. Current value: bagging_fraction=0.3327239196446638\n",
      "[LightGBM] [Warning] bagging_freq is set=4, subsample_freq=0 will be ignored. Current value: bagging_freq=4\n",
      "[LightGBM] [Warning] feature_fraction is set=0.8061756394948498, colsample_bytree=1.0 will be ignored. Current value: feature_fraction=0.8061756394948498\n",
      "[LightGBM] [Warning] bagging_fraction is set=0.3327239196446638, subsample=1.0 will be ignored. Current value: bagging_fraction=0.3327239196446638\n",
      "[LightGBM] [Warning] bagging_freq is set=4, subsample_freq=0 will be ignored. Current value: bagging_freq=4\n",
      "[LightGBM] [Warning] feature_fraction is set=0.9490809293625722, colsample_bytree=1.0 will be ignored. Current value: feature_fraction=0.9490809293625722\n",
      "[LightGBM] [Warning] bagging_fraction is set=0.434329945568187, subsample=1.0 will be ignored. Current value: bagging_fraction=0.434329945568187\n",
      "[LightGBM] [Warning] bagging_freq is set=8, subsample_freq=0 will be ignored. Current value: bagging_freq=8\n",
      "[LightGBM] [Warning] feature_fraction is set=0.9490809293625722, colsample_bytree=1.0 will be ignored. Current value: feature_fraction=0.9490809293625722\n",
      "[LightGBM] [Warning] bagging_fraction is set=0.434329945568187, subsample=1.0 will be ignored. Current value: bagging_fraction=0.434329945568187\n",
      "[LightGBM] [Warning] bagging_freq is set=8, subsample_freq=0 will be ignored. Current value: bagging_freq=8\n",
      "[LightGBM] [Warning] feature_fraction is set=0.9490809293625722, colsample_bytree=1.0 will be ignored. Current value: feature_fraction=0.9490809293625722\n",
      "[LightGBM] [Warning] bagging_fraction is set=0.434329945568187, subsample=1.0 will be ignored. Current value: bagging_fraction=0.434329945568187\n",
      "[LightGBM] [Warning] bagging_freq is set=8, subsample_freq=0 will be ignored. Current value: bagging_freq=8\n",
      "[LightGBM] [Warning] feature_fraction is set=0.9490809293625722, colsample_bytree=1.0 will be ignored. Current value: feature_fraction=0.9490809293625722\n",
      "[LightGBM] [Warning] bagging_fraction is set=0.434329945568187, subsample=1.0 will be ignored. Current value: bagging_fraction=0.434329945568187\n",
      "[LightGBM] [Warning] bagging_freq is set=8, subsample_freq=0 will be ignored. Current value: bagging_freq=8\n",
      "[LightGBM] [Warning] feature_fraction is set=0.9490809293625722, colsample_bytree=1.0 will be ignored. Current value: feature_fraction=0.9490809293625722\n",
      "[LightGBM] [Warning] bagging_fraction is set=0.434329945568187, subsample=1.0 will be ignored. Current value: bagging_fraction=0.434329945568187\n",
      "[LightGBM] [Warning] bagging_freq is set=8, subsample_freq=0 will be ignored. Current value: bagging_freq=8\n"
     ]
    },
    {
     "name": "stderr",
     "output_type": "stream",
     "text": [
      "\u001b[32m[I 2023-04-22 16:25:18,267]\u001b[0m Trial 40 finished with value: 0.6387420961238768 and parameters: {'num_leaves': 47, 'learning_rate': 0.008045519824449222, 'max_depth': 3, 'feature_fraction': 0.9490809293625722, 'bagging_fraction': 0.434329945568187, 'bagging_freq': 8, 'min_child_samples': 100}. Best is trial 31 with value: 0.6412525709826882.\u001b[0m\n"
     ]
    },
    {
     "name": "stdout",
     "output_type": "stream",
     "text": [
      "[LightGBM] [Warning] feature_fraction is set=0.9995044818099748, colsample_bytree=1.0 will be ignored. Current value: feature_fraction=0.9995044818099748\n",
      "[LightGBM] [Warning] bagging_fraction is set=0.14455541999528457, subsample=1.0 will be ignored. Current value: bagging_fraction=0.14455541999528457\n",
      "[LightGBM] [Warning] bagging_freq is set=5, subsample_freq=0 will be ignored. Current value: bagging_freq=5\n",
      "[LightGBM] [Warning] feature_fraction is set=0.9995044818099748, colsample_bytree=1.0 will be ignored. Current value: feature_fraction=0.9995044818099748\n",
      "[LightGBM] [Warning] bagging_fraction is set=0.14455541999528457, subsample=1.0 will be ignored. Current value: bagging_fraction=0.14455541999528457\n",
      "[LightGBM] [Warning] bagging_freq is set=5, subsample_freq=0 will be ignored. Current value: bagging_freq=5\n",
      "[LightGBM] [Warning] feature_fraction is set=0.9995044818099748, colsample_bytree=1.0 will be ignored. Current value: feature_fraction=0.9995044818099748\n",
      "[LightGBM] [Warning] bagging_fraction is set=0.14455541999528457, subsample=1.0 will be ignored. Current value: bagging_fraction=0.14455541999528457\n",
      "[LightGBM] [Warning] bagging_freq is set=5, subsample_freq=0 will be ignored. Current value: bagging_freq=5\n",
      "[LightGBM] [Warning] feature_fraction is set=0.9995044818099748, colsample_bytree=1.0 will be ignored. Current value: feature_fraction=0.9995044818099748\n",
      "[LightGBM] [Warning] bagging_fraction is set=0.14455541999528457, subsample=1.0 will be ignored. Current value: bagging_fraction=0.14455541999528457\n",
      "[LightGBM] [Warning] bagging_freq is set=5, subsample_freq=0 will be ignored. Current value: bagging_freq=5\n",
      "[LightGBM] [Warning] feature_fraction is set=0.9995044818099748, colsample_bytree=1.0 will be ignored. Current value: feature_fraction=0.9995044818099748\n",
      "[LightGBM] [Warning] bagging_fraction is set=0.14455541999528457, subsample=1.0 will be ignored. Current value: bagging_fraction=0.14455541999528457\n",
      "[LightGBM] [Warning] bagging_freq is set=5, subsample_freq=0 will be ignored. Current value: bagging_freq=5\n"
     ]
    },
    {
     "name": "stderr",
     "output_type": "stream",
     "text": [
      "\u001b[32m[I 2023-04-22 16:25:18,523]\u001b[0m Trial 41 finished with value: 0.6400636455956279 and parameters: {'num_leaves': 14, 'learning_rate': 0.01148260096218313, 'max_depth': 3, 'feature_fraction': 0.9995044818099748, 'bagging_fraction': 0.14455541999528457, 'bagging_freq': 5, 'min_child_samples': 79}. Best is trial 31 with value: 0.6412525709826882.\u001b[0m\n"
     ]
    },
    {
     "name": "stdout",
     "output_type": "stream",
     "text": [
      "[LightGBM] [Warning] feature_fraction is set=0.8995802638116275, colsample_bytree=1.0 will be ignored. Current value: feature_fraction=0.8995802638116275\n",
      "[LightGBM] [Warning] bagging_fraction is set=0.1444545883488642, subsample=1.0 will be ignored. Current value: bagging_fraction=0.1444545883488642\n",
      "[LightGBM] [Warning] bagging_freq is set=5, subsample_freq=0 will be ignored. Current value: bagging_freq=5\n",
      "[LightGBM] [Warning] feature_fraction is set=0.8995802638116275, colsample_bytree=1.0 will be ignored. Current value: feature_fraction=0.8995802638116275\n",
      "[LightGBM] [Warning] bagging_fraction is set=0.1444545883488642, subsample=1.0 will be ignored. Current value: bagging_fraction=0.1444545883488642\n",
      "[LightGBM] [Warning] bagging_freq is set=5, subsample_freq=0 will be ignored. Current value: bagging_freq=5\n",
      "[LightGBM] [Warning] feature_fraction is set=0.8995802638116275, colsample_bytree=1.0 will be ignored. Current value: feature_fraction=0.8995802638116275\n",
      "[LightGBM] [Warning] bagging_fraction is set=0.1444545883488642, subsample=1.0 will be ignored. Current value: bagging_fraction=0.1444545883488642\n",
      "[LightGBM] [Warning] bagging_freq is set=5, subsample_freq=0 will be ignored. Current value: bagging_freq=5\n",
      "[LightGBM] [Warning] feature_fraction is set=0.8995802638116275, colsample_bytree=1.0 will be ignored. Current value: feature_fraction=0.8995802638116275\n",
      "[LightGBM] [Warning] bagging_fraction is set=0.1444545883488642, subsample=1.0 will be ignored. Current value: bagging_fraction=0.1444545883488642\n",
      "[LightGBM] [Warning] bagging_freq is set=5, subsample_freq=0 will be ignored. Current value: bagging_freq=5\n",
      "[LightGBM] [Warning] feature_fraction is set=0.8995802638116275, colsample_bytree=1.0 will be ignored. Current value: feature_fraction=0.8995802638116275\n",
      "[LightGBM] [Warning] bagging_fraction is set=0.1444545883488642, subsample=1.0 will be ignored. Current value: bagging_fraction=0.1444545883488642\n",
      "[LightGBM] [Warning] bagging_freq is set=5, subsample_freq=0 will be ignored. Current value: bagging_freq=5\n"
     ]
    },
    {
     "name": "stderr",
     "output_type": "stream",
     "text": [
      "\u001b[32m[I 2023-04-22 16:25:18,809]\u001b[0m Trial 42 finished with value: 0.6389403994607755 and parameters: {'num_leaves': 21, 'learning_rate': 0.014424586575481417, 'max_depth': 4, 'feature_fraction': 0.8995802638116275, 'bagging_fraction': 0.1444545883488642, 'bagging_freq': 5, 'min_child_samples': 74}. Best is trial 31 with value: 0.6412525709826882.\u001b[0m\n"
     ]
    },
    {
     "name": "stdout",
     "output_type": "stream",
     "text": [
      "[LightGBM] [Warning] feature_fraction is set=0.9624027143816465, colsample_bytree=1.0 will be ignored. Current value: feature_fraction=0.9624027143816465\n",
      "[LightGBM] [Warning] bagging_fraction is set=0.25327437139134124, subsample=1.0 will be ignored. Current value: bagging_fraction=0.25327437139134124\n",
      "[LightGBM] [Warning] bagging_freq is set=6, subsample_freq=0 will be ignored. Current value: bagging_freq=6\n",
      "[LightGBM] [Warning] feature_fraction is set=0.9624027143816465, colsample_bytree=1.0 will be ignored. Current value: feature_fraction=0.9624027143816465\n",
      "[LightGBM] [Warning] bagging_fraction is set=0.25327437139134124, subsample=1.0 will be ignored. Current value: bagging_fraction=0.25327437139134124\n",
      "[LightGBM] [Warning] bagging_freq is set=6, subsample_freq=0 will be ignored. Current value: bagging_freq=6\n",
      "[LightGBM] [Warning] feature_fraction is set=0.9624027143816465, colsample_bytree=1.0 will be ignored. Current value: feature_fraction=0.9624027143816465\n",
      "[LightGBM] [Warning] bagging_fraction is set=0.25327437139134124, subsample=1.0 will be ignored. Current value: bagging_fraction=0.25327437139134124\n",
      "[LightGBM] [Warning] bagging_freq is set=6, subsample_freq=0 will be ignored. Current value: bagging_freq=6\n",
      "[LightGBM] [Warning] feature_fraction is set=0.9624027143816465, colsample_bytree=1.0 will be ignored. Current value: feature_fraction=0.9624027143816465\n",
      "[LightGBM] [Warning] bagging_fraction is set=0.25327437139134124, subsample=1.0 will be ignored. Current value: bagging_fraction=0.25327437139134124\n",
      "[LightGBM] [Warning] bagging_freq is set=6, subsample_freq=0 will be ignored. Current value: bagging_freq=6\n",
      "[LightGBM] [Warning] feature_fraction is set=0.9624027143816465, colsample_bytree=1.0 will be ignored. Current value: feature_fraction=0.9624027143816465\n",
      "[LightGBM] [Warning] bagging_fraction is set=0.25327437139134124, subsample=1.0 will be ignored. Current value: bagging_fraction=0.25327437139134124\n",
      "[LightGBM] [Warning] bagging_freq is set=6, subsample_freq=0 will be ignored. Current value: bagging_freq=6\n"
     ]
    },
    {
     "name": "stderr",
     "output_type": "stream",
     "text": [
      "\u001b[32m[I 2023-04-22 16:25:19,086]\u001b[0m Trial 43 finished with value: 0.637949013698379 and parameters: {'num_leaves': 68, 'learning_rate': 0.010211089949235742, 'max_depth': 3, 'feature_fraction': 0.9624027143816465, 'bagging_fraction': 0.25327437139134124, 'bagging_freq': 6, 'min_child_samples': 83}. Best is trial 31 with value: 0.6412525709826882.\u001b[0m\n"
     ]
    },
    {
     "name": "stdout",
     "output_type": "stream",
     "text": [
      "[LightGBM] [Warning] feature_fraction is set=0.9946754921398396, colsample_bytree=1.0 will be ignored. Current value: feature_fraction=0.9946754921398396\n",
      "[LightGBM] [Warning] bagging_fraction is set=0.11530236852742379, subsample=1.0 will be ignored. Current value: bagging_fraction=0.11530236852742379\n",
      "[LightGBM] [Warning] bagging_freq is set=3, subsample_freq=0 will be ignored. Current value: bagging_freq=3\n",
      "[LightGBM] [Warning] feature_fraction is set=0.9946754921398396, colsample_bytree=1.0 will be ignored. Current value: feature_fraction=0.9946754921398396\n",
      "[LightGBM] [Warning] bagging_fraction is set=0.11530236852742379, subsample=1.0 will be ignored. Current value: bagging_fraction=0.11530236852742379\n",
      "[LightGBM] [Warning] bagging_freq is set=3, subsample_freq=0 will be ignored. Current value: bagging_freq=3\n",
      "[LightGBM] [Warning] feature_fraction is set=0.9946754921398396, colsample_bytree=1.0 will be ignored. Current value: feature_fraction=0.9946754921398396\n",
      "[LightGBM] [Warning] bagging_fraction is set=0.11530236852742379, subsample=1.0 will be ignored. Current value: bagging_fraction=0.11530236852742379\n",
      "[LightGBM] [Warning] bagging_freq is set=3, subsample_freq=0 will be ignored. Current value: bagging_freq=3\n",
      "[LightGBM] [Warning] feature_fraction is set=0.9946754921398396, colsample_bytree=1.0 will be ignored. Current value: feature_fraction=0.9946754921398396\n",
      "[LightGBM] [Warning] bagging_fraction is set=0.11530236852742379, subsample=1.0 will be ignored. Current value: bagging_fraction=0.11530236852742379\n",
      "[LightGBM] [Warning] bagging_freq is set=3, subsample_freq=0 will be ignored. Current value: bagging_freq=3\n"
     ]
    },
    {
     "name": "stderr",
     "output_type": "stream",
     "text": [
      "\u001b[32m[I 2023-04-22 16:25:19,402]\u001b[0m Trial 44 finished with value: 0.6346458055396631 and parameters: {'num_leaves': 38, 'learning_rate': 0.0059166845492553246, 'max_depth': 4, 'feature_fraction': 0.9946754921398396, 'bagging_fraction': 0.11530236852742379, 'bagging_freq': 3, 'min_child_samples': 66}. Best is trial 31 with value: 0.6412525709826882.\u001b[0m\n"
     ]
    },
    {
     "name": "stdout",
     "output_type": "stream",
     "text": [
      "[LightGBM] [Warning] feature_fraction is set=0.9946754921398396, colsample_bytree=1.0 will be ignored. Current value: feature_fraction=0.9946754921398396\n",
      "[LightGBM] [Warning] bagging_fraction is set=0.11530236852742379, subsample=1.0 will be ignored. Current value: bagging_fraction=0.11530236852742379\n",
      "[LightGBM] [Warning] bagging_freq is set=3, subsample_freq=0 will be ignored. Current value: bagging_freq=3\n",
      "[LightGBM] [Warning] feature_fraction is set=0.8744444053423558, colsample_bytree=1.0 will be ignored. Current value: feature_fraction=0.8744444053423558\n",
      "[LightGBM] [Warning] bagging_fraction is set=0.2276740177229341, subsample=1.0 will be ignored. Current value: bagging_fraction=0.2276740177229341\n",
      "[LightGBM] [Warning] bagging_freq is set=4, subsample_freq=0 will be ignored. Current value: bagging_freq=4\n",
      "[LightGBM] [Warning] feature_fraction is set=0.8744444053423558, colsample_bytree=1.0 will be ignored. Current value: feature_fraction=0.8744444053423558\n",
      "[LightGBM] [Warning] bagging_fraction is set=0.2276740177229341, subsample=1.0 will be ignored. Current value: bagging_fraction=0.2276740177229341\n",
      "[LightGBM] [Warning] bagging_freq is set=4, subsample_freq=0 will be ignored. Current value: bagging_freq=4\n",
      "[LightGBM] [Warning] feature_fraction is set=0.8744444053423558, colsample_bytree=1.0 will be ignored. Current value: feature_fraction=0.8744444053423558\n",
      "[LightGBM] [Warning] bagging_fraction is set=0.2276740177229341, subsample=1.0 will be ignored. Current value: bagging_fraction=0.2276740177229341\n",
      "[LightGBM] [Warning] bagging_freq is set=4, subsample_freq=0 will be ignored. Current value: bagging_freq=4\n",
      "[LightGBM] [Warning] feature_fraction is set=0.8744444053423558, colsample_bytree=1.0 will be ignored. Current value: feature_fraction=0.8744444053423558\n",
      "[LightGBM] [Warning] bagging_fraction is set=0.2276740177229341, subsample=1.0 will be ignored. Current value: bagging_fraction=0.2276740177229341\n",
      "[LightGBM] [Warning] bagging_freq is set=4, subsample_freq=0 will be ignored. Current value: bagging_freq=4\n"
     ]
    },
    {
     "name": "stderr",
     "output_type": "stream",
     "text": [
      "\u001b[32m[I 2023-04-22 16:25:19,610]\u001b[0m Trial 45 finished with value: 0.6342495698118082 and parameters: {'num_leaves': 3, 'learning_rate': 0.008408580077877405, 'max_depth': 3, 'feature_fraction': 0.8744444053423558, 'bagging_fraction': 0.2276740177229341, 'bagging_freq': 4, 'min_child_samples': 90}. Best is trial 31 with value: 0.6412525709826882.\u001b[0m\n"
     ]
    },
    {
     "name": "stdout",
     "output_type": "stream",
     "text": [
      "[LightGBM] [Warning] feature_fraction is set=0.8744444053423558, colsample_bytree=1.0 will be ignored. Current value: feature_fraction=0.8744444053423558\n",
      "[LightGBM] [Warning] bagging_fraction is set=0.2276740177229341, subsample=1.0 will be ignored. Current value: bagging_fraction=0.2276740177229341\n",
      "[LightGBM] [Warning] bagging_freq is set=4, subsample_freq=0 will be ignored. Current value: bagging_freq=4\n",
      "[LightGBM] [Warning] feature_fraction is set=0.9254410944387864, colsample_bytree=1.0 will be ignored. Current value: feature_fraction=0.9254410944387864\n",
      "[LightGBM] [Warning] bagging_fraction is set=0.28791163953278553, subsample=1.0 will be ignored. Current value: bagging_fraction=0.28791163953278553\n",
      "[LightGBM] [Warning] bagging_freq is set=7, subsample_freq=0 will be ignored. Current value: bagging_freq=7\n",
      "[LightGBM] [Warning] feature_fraction is set=0.9254410944387864, colsample_bytree=1.0 will be ignored. Current value: feature_fraction=0.9254410944387864\n",
      "[LightGBM] [Warning] bagging_fraction is set=0.28791163953278553, subsample=1.0 will be ignored. Current value: bagging_fraction=0.28791163953278553\n",
      "[LightGBM] [Warning] bagging_freq is set=7, subsample_freq=0 will be ignored. Current value: bagging_freq=7\n",
      "[LightGBM] [Warning] feature_fraction is set=0.9254410944387864, colsample_bytree=1.0 will be ignored. Current value: feature_fraction=0.9254410944387864\n",
      "[LightGBM] [Warning] bagging_fraction is set=0.28791163953278553, subsample=1.0 will be ignored. Current value: bagging_fraction=0.28791163953278553\n",
      "[LightGBM] [Warning] bagging_freq is set=7, subsample_freq=0 will be ignored. Current value: bagging_freq=7\n",
      "[LightGBM] [Warning] feature_fraction is set=0.9254410944387864, colsample_bytree=1.0 will be ignored. Current value: feature_fraction=0.9254410944387864\n",
      "[LightGBM] [Warning] bagging_fraction is set=0.28791163953278553, subsample=1.0 will be ignored. Current value: bagging_fraction=0.28791163953278553\n",
      "[LightGBM] [Warning] bagging_freq is set=7, subsample_freq=0 will be ignored. Current value: bagging_freq=7\n",
      "[LightGBM] [Warning] feature_fraction is set=0.9254410944387864, colsample_bytree=1.0 will be ignored. Current value: feature_fraction=0.9254410944387864\n",
      "[LightGBM] [Warning] bagging_fraction is set=0.28791163953278553, subsample=1.0 will be ignored. Current value: bagging_fraction=0.28791163953278553\n",
      "[LightGBM] [Warning] bagging_freq is set=7, subsample_freq=0 will be ignored. Current value: bagging_freq=7\n"
     ]
    },
    {
     "name": "stderr",
     "output_type": "stream",
     "text": [
      "\u001b[32m[I 2023-04-22 16:25:20,070]\u001b[0m Trial 46 finished with value: 0.6377513431516177 and parameters: {'num_leaves': 63, 'learning_rate': 0.011495080362993024, 'max_depth': 9, 'feature_fraction': 0.9254410944387864, 'bagging_fraction': 0.28791163953278553, 'bagging_freq': 7, 'min_child_samples': 77}. Best is trial 31 with value: 0.6412525709826882.\u001b[0m\n"
     ]
    },
    {
     "name": "stdout",
     "output_type": "stream",
     "text": [
      "[LightGBM] [Warning] feature_fraction is set=0.9646892088552709, colsample_bytree=1.0 will be ignored. Current value: feature_fraction=0.9646892088552709\n",
      "[LightGBM] [Warning] bagging_fraction is set=0.22494578003751164, subsample=1.0 will be ignored. Current value: bagging_fraction=0.22494578003751164\n",
      "[LightGBM] [Warning] bagging_freq is set=5, subsample_freq=0 will be ignored. Current value: bagging_freq=5\n",
      "[LightGBM] [Warning] feature_fraction is set=0.9646892088552709, colsample_bytree=1.0 will be ignored. Current value: feature_fraction=0.9646892088552709\n",
      "[LightGBM] [Warning] bagging_fraction is set=0.22494578003751164, subsample=1.0 will be ignored. Current value: bagging_fraction=0.22494578003751164\n",
      "[LightGBM] [Warning] bagging_freq is set=5, subsample_freq=0 will be ignored. Current value: bagging_freq=5\n",
      "[LightGBM] [Warning] feature_fraction is set=0.9646892088552709, colsample_bytree=1.0 will be ignored. Current value: feature_fraction=0.9646892088552709\n",
      "[LightGBM] [Warning] bagging_fraction is set=0.22494578003751164, subsample=1.0 will be ignored. Current value: bagging_fraction=0.22494578003751164\n",
      "[LightGBM] [Warning] bagging_freq is set=5, subsample_freq=0 will be ignored. Current value: bagging_freq=5\n",
      "[LightGBM] [Warning] feature_fraction is set=0.9646892088552709, colsample_bytree=1.0 will be ignored. Current value: feature_fraction=0.9646892088552709\n",
      "[LightGBM] [Warning] bagging_fraction is set=0.22494578003751164, subsample=1.0 will be ignored. Current value: bagging_fraction=0.22494578003751164\n",
      "[LightGBM] [Warning] bagging_freq is set=5, subsample_freq=0 will be ignored. Current value: bagging_freq=5\n"
     ]
    },
    {
     "name": "stderr",
     "output_type": "stream",
     "text": [
      "\u001b[32m[I 2023-04-22 16:25:20,435]\u001b[0m Trial 47 finished with value: 0.6337866510956652 and parameters: {'num_leaves': 17, 'learning_rate': 0.00716575054092262, 'max_depth': 8, 'feature_fraction': 0.9646892088552709, 'bagging_fraction': 0.22494578003751164, 'bagging_freq': 5, 'min_child_samples': 96}. Best is trial 31 with value: 0.6412525709826882.\u001b[0m\n"
     ]
    },
    {
     "name": "stdout",
     "output_type": "stream",
     "text": [
      "[LightGBM] [Warning] feature_fraction is set=0.9646892088552709, colsample_bytree=1.0 will be ignored. Current value: feature_fraction=0.9646892088552709\n",
      "[LightGBM] [Warning] bagging_fraction is set=0.22494578003751164, subsample=1.0 will be ignored. Current value: bagging_fraction=0.22494578003751164\n",
      "[LightGBM] [Warning] bagging_freq is set=5, subsample_freq=0 will be ignored. Current value: bagging_freq=5\n",
      "[LightGBM] [Warning] feature_fraction is set=0.7992316632424081, colsample_bytree=1.0 will be ignored. Current value: feature_fraction=0.7992316632424081\n",
      "[LightGBM] [Warning] bagging_fraction is set=0.1052930149786719, subsample=1.0 will be ignored. Current value: bagging_fraction=0.1052930149786719\n",
      "[LightGBM] [Warning] bagging_freq is set=6, subsample_freq=0 will be ignored. Current value: bagging_freq=6\n",
      "[LightGBM] [Warning] feature_fraction is set=0.7992316632424081, colsample_bytree=1.0 will be ignored. Current value: feature_fraction=0.7992316632424081\n",
      "[LightGBM] [Warning] bagging_fraction is set=0.1052930149786719, subsample=1.0 will be ignored. Current value: bagging_fraction=0.1052930149786719\n",
      "[LightGBM] [Warning] bagging_freq is set=6, subsample_freq=0 will be ignored. Current value: bagging_freq=6\n",
      "[LightGBM] [Warning] feature_fraction is set=0.7992316632424081, colsample_bytree=1.0 will be ignored. Current value: feature_fraction=0.7992316632424081\n",
      "[LightGBM] [Warning] bagging_fraction is set=0.1052930149786719, subsample=1.0 will be ignored. Current value: bagging_fraction=0.1052930149786719\n",
      "[LightGBM] [Warning] bagging_freq is set=6, subsample_freq=0 will be ignored. Current value: bagging_freq=6\n"
     ]
    },
    {
     "name": "stderr",
     "output_type": "stream",
     "text": [
      "\u001b[32m[I 2023-04-22 16:25:20,702]\u001b[0m Trial 48 finished with value: 0.6353065911857134 and parameters: {'num_leaves': 51, 'learning_rate': 0.021641331608019006, 'max_depth': 5, 'feature_fraction': 0.7992316632424081, 'bagging_fraction': 0.1052930149786719, 'bagging_freq': 6, 'min_child_samples': 84}. Best is trial 31 with value: 0.6412525709826882.\u001b[0m\n"
     ]
    },
    {
     "name": "stdout",
     "output_type": "stream",
     "text": [
      "[LightGBM] [Warning] feature_fraction is set=0.7992316632424081, colsample_bytree=1.0 will be ignored. Current value: feature_fraction=0.7992316632424081\n",
      "[LightGBM] [Warning] bagging_fraction is set=0.1052930149786719, subsample=1.0 will be ignored. Current value: bagging_fraction=0.1052930149786719\n",
      "[LightGBM] [Warning] bagging_freq is set=6, subsample_freq=0 will be ignored. Current value: bagging_freq=6\n",
      "[LightGBM] [Warning] feature_fraction is set=0.7992316632424081, colsample_bytree=1.0 will be ignored. Current value: feature_fraction=0.7992316632424081\n",
      "[LightGBM] [Warning] bagging_fraction is set=0.1052930149786719, subsample=1.0 will be ignored. Current value: bagging_fraction=0.1052930149786719\n",
      "[LightGBM] [Warning] bagging_freq is set=6, subsample_freq=0 will be ignored. Current value: bagging_freq=6\n",
      "[LightGBM] [Warning] feature_fraction is set=0.8884343286925819, colsample_bytree=1.0 will be ignored. Current value: feature_fraction=0.8884343286925819\n",
      "[LightGBM] [Warning] bagging_fraction is set=0.15178172037370852, subsample=1.0 will be ignored. Current value: bagging_fraction=0.15178172037370852\n",
      "[LightGBM] [Warning] bagging_freq is set=4, subsample_freq=0 will be ignored. Current value: bagging_freq=4\n",
      "[LightGBM] [Warning] feature_fraction is set=0.8884343286925819, colsample_bytree=1.0 will be ignored. Current value: feature_fraction=0.8884343286925819\n",
      "[LightGBM] [Warning] bagging_fraction is set=0.15178172037370852, subsample=1.0 will be ignored. Current value: bagging_fraction=0.15178172037370852\n",
      "[LightGBM] [Warning] bagging_freq is set=4, subsample_freq=0 will be ignored. Current value: bagging_freq=4\n"
     ]
    },
    {
     "name": "stderr",
     "output_type": "stream",
     "text": [
      "\u001b[32m[I 2023-04-22 16:25:21,087]\u001b[0m Trial 49 finished with value: 0.6390062314554305 and parameters: {'num_leaves': 28, 'learning_rate': 0.01487471409449763, 'max_depth': 10, 'feature_fraction': 0.8884343286925819, 'bagging_fraction': 0.15178172037370852, 'bagging_freq': 4, 'min_child_samples': 62}. Best is trial 31 with value: 0.6412525709826882.\u001b[0m\n"
     ]
    },
    {
     "name": "stdout",
     "output_type": "stream",
     "text": [
      "[LightGBM] [Warning] feature_fraction is set=0.8884343286925819, colsample_bytree=1.0 will be ignored. Current value: feature_fraction=0.8884343286925819\n",
      "[LightGBM] [Warning] bagging_fraction is set=0.15178172037370852, subsample=1.0 will be ignored. Current value: bagging_fraction=0.15178172037370852\n",
      "[LightGBM] [Warning] bagging_freq is set=4, subsample_freq=0 will be ignored. Current value: bagging_freq=4\n",
      "[LightGBM] [Warning] feature_fraction is set=0.8884343286925819, colsample_bytree=1.0 will be ignored. Current value: feature_fraction=0.8884343286925819\n",
      "[LightGBM] [Warning] bagging_fraction is set=0.15178172037370852, subsample=1.0 will be ignored. Current value: bagging_fraction=0.15178172037370852\n",
      "[LightGBM] [Warning] bagging_freq is set=4, subsample_freq=0 will be ignored. Current value: bagging_freq=4\n",
      "[LightGBM] [Warning] feature_fraction is set=0.8884343286925819, colsample_bytree=1.0 will be ignored. Current value: feature_fraction=0.8884343286925819\n",
      "[LightGBM] [Warning] bagging_fraction is set=0.15178172037370852, subsample=1.0 will be ignored. Current value: bagging_fraction=0.15178172037370852\n",
      "[LightGBM] [Warning] bagging_freq is set=4, subsample_freq=0 will be ignored. Current value: bagging_freq=4\n",
      "[LightGBM] [Warning] feature_fraction is set=0.9308299893311143, colsample_bytree=1.0 will be ignored. Current value: feature_fraction=0.9308299893311143\n",
      "[LightGBM] [Warning] bagging_fraction is set=0.2707597926056538, subsample=1.0 will be ignored. Current value: bagging_fraction=0.2707597926056538\n",
      "[LightGBM] [Warning] bagging_freq is set=5, subsample_freq=0 will be ignored. Current value: bagging_freq=5\n",
      "Best accuracy: 0.6412525709826882\n",
      "Best parameters: {'num_leaves': 24, 'learning_rate': 0.011632263864084363, 'max_depth': 4, 'feature_fraction': 0.9308299893311143, 'bagging_fraction': 0.2707597926056538, 'bagging_freq': 5, 'min_child_samples': 92}\n",
      "Accuracy on test data: 0.630400317082838\n"
     ]
    }
   ],
   "source": [
    "# Define the search space using IntLogUniformDistribution\n",
    "search_space = {\n",
    "    'num_leaves': optuna.distributions.IntLogUniformDistribution(2, 256),\n",
    "    'learning_rate': optuna.distributions.LogUniformDistribution(0.001, 0.1),\n",
    "    'max_depth': optuna.distributions.IntUniformDistribution(3, 10),\n",
    "    'feature_fraction': optuna.distributions.UniformDistribution(0.1, 1.0),\n",
    "    'bagging_fraction': optuna.distributions.UniformDistribution(0.1, 1.0),\n",
    "    'bagging_freq': optuna.distributions.IntUniformDistribution(1, 10),\n",
    "    'min_child_samples': optuna.distributions.IntUniformDistribution(5, 100),\n",
    "}\n",
    "\n",
    "# Create a study object and run the optimization\n",
    "study = optuna.create_study(direction='maximize')\n",
    "study.optimize(objective, n_trials=30)"
   ]
  },
  {
   "cell_type": "code",
   "execution_count": 32,
   "id": "358b9508",
   "metadata": {},
   "outputs": [
    {
     "name": "stdout",
     "output_type": "stream",
     "text": [
      "[LightGBM] [Warning] feature_fraction is set=0.9308299893311143, colsample_bytree=1.0 will be ignored. Current value: feature_fraction=0.9308299893311143\n",
      "[LightGBM] [Warning] bagging_fraction is set=0.2707597926056538, subsample=1.0 will be ignored. Current value: bagging_fraction=0.2707597926056538\n",
      "[LightGBM] [Warning] bagging_freq is set=5, subsample_freq=0 will be ignored. Current value: bagging_freq=5\n",
      "Best accuracy: 0.6412525709826882\n",
      "Best parameters: {'num_leaves': 24, 'learning_rate': 0.011632263864084363, 'max_depth': 4, 'feature_fraction': 0.9308299893311143, 'bagging_fraction': 0.2707597926056538, 'bagging_freq': 5, 'min_child_samples': 92}\n",
      "Accuracy on test data: 0.630400317082838\n"
     ]
    }
   ],
   "source": [
    "# Train the final model with the best hyperparameters\n",
    "best_params = study.best_params\n",
    "lgbm = lgb.LGBMClassifier(**best_params)\n",
    "lgbm.fit(X_train, y_train)\n",
    "y_pred = model.predict(X_test)\n",
    "accuracy_lgbm = accuracy_score(y_test, y_pred)\n",
    "\n",
    "# Print the results\n",
    "print('Best accuracy:', study.best_value)\n",
    "print('Best parameters:', study.best_params)\n",
    "print('Accuracy on test data:', accuracy_lgbm)"
   ]
  },
  {
   "cell_type": "code",
   "execution_count": 38,
   "id": "8f022442",
   "metadata": {},
   "outputs": [
    {
     "data": {
      "image/png": "[encoded data removed]",
      "text/plain": [
       "<Figure size 1200x600 with 2 Axes>"
      ]
     },
     "metadata": {},
     "output_type": "display_data"
    }
   ],
   "source": [
    "# Set the font to Helvetica with size 12\n",
    "rcParams['font.family'] = 'Helvetica'\n",
    "rcParams['font.size'] = 12\n",
    "\n",
    "# Define the models and scores\n",
    "model_names = ['Decision Tree', 'Random Forest', 'Logistic Regression', 'Gaussian Naive Bayes', 'KNN', \n",
    "               'Adaboost', 'Gradient Boosting', 'LGBM']\n",
    "accuracy_scores = [decision_tree.score(X_test, y_test), rf.score(X_test, y_test), logistic_regression.score(X_test, y_test), \n",
    "          gnb.score(X_test, y_test), k_neighbors.score(X_test, y_test), ada_boost.score(X_test, y_test),\n",
    "          gradient_boost.score(X_test, y_test), accuracy_lgbm]\n",
    "f1_scores = [f1_score(y_test, decision_tree.predict(X_test)), f1_score(y_test, rf.predict(X_test)), \n",
    "             f1_score(y_test, logistic_regression.predict(X_test)), f1_score(y_test, gnb.predict(X_test)), \n",
    "             f1_score(y_test, k_neighbors.predict(X_test)), f1_score(y_test, ada_boost.predict(X_test)), \n",
    "             f1_score(y_test, gradient_boost.predict(X_test)), f1_score(y_test, lgbm.predict(X_test))]\n",
    "\n",
    "# Create a subplot with two columns\n",
    "fig, ax = plt.subplots(figsize=(12,6), ncols=2)\n",
    "\n",
    "# Plot the accuracy scores in the first column\n",
    "ax[0].bar(model_names, accuracy_scores, color='#CBCBCB')\n",
    "ax[0].set_xlabel('Model')\n",
    "ax[0].set_ylabel('Accuracy score')\n",
    "ax[0].set_title('Model comparison - Accuracy score')\n",
    "for i in range(len(model_names)):\n",
    "    ax[0].text(i, accuracy_scores[i]/2, '{:.3f}'.format(accuracy_scores[i]), ha='center', va='center')\n",
    "ax[0].tick_params(axis='x', rotation=90)\n",
    "\n",
    "# Plot the F1 scores in the second column\n",
    "ax[1].bar(model_names, f1_scores, color='#CBCBCB')\n",
    "ax[1].set_xlabel('Model')\n",
    "ax[1].set_ylabel('F1 score')\n",
    "ax[1].set_title('Model comparison - F1 score')\n",
    "for i in range(len(model_names)):\n",
    "    ax[1].text(i, f1_scores[i]/2, '{:.3f}'.format(f1_scores[i]), ha='center', va='center')\n",
    "ax[1].tick_params(axis='x', rotation=90)\n",
    "\n",
    "# Set tight layout\n",
    "fig.tight_layout()\n",
    "\n",
    "# Export the figure as PDF\n",
    "fig.savefig('data/model_scores.pdf', bbox_inches='tight')\n"
   ]
  }
 ],
 "metadata": {
  "kernelspec": {
   "display_name": "Python 3 (ipykernel)",
   "language": "python",
   "name": "python3"
  },
  "language_info": {
   "codemirror_mode": {
    "name": "ipython",
    "version": 3
   },
   "file_extension": ".py",
   "mimetype": "text/x-python",
   "name": "python",
   "nbconvert_exporter": "python",
   "pygments_lexer": "ipython3",
   "version": "3.9.13"
  }
 },
 "nbformat": 4,
 "nbformat_minor": 5
}
