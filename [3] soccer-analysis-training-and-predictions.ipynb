{
 "cells": [
  {
   "cell_type": "code",
   "execution_count": null,
   "id": "11636311",
   "metadata": {},
   "outputs": [],
   "source": [
    "# !pip install lightgbm\n",
    "# !pip install optuna"
   ]
  },
  {
   "cell_type": "code",
   "execution_count": null,
   "id": "a8752ba6",
   "metadata": {},
   "outputs": [],
   "source": [
    "import sqlite3\n",
    "import pandas as pd\n",
    "import numpy as np\n",
    "\n",
    "from datetime import datetime\n",
    "from dateutil.relativedelta import relativedelta\n",
    "\n",
    "from sklearn.model_selection import KFold\n",
    "from sklearn.model_selection import train_test_split, cross_val_score\n",
    "\n",
    "from sklearn.tree import DecisionTreeClassifier\n",
    "from sklearn.ensemble import RandomForestClassifier\n",
    "\n",
    "from sklearn.inspection import permutation_importance\n",
    "from sklearn import preprocessing\n",
    "from sklearn.preprocessing import MinMaxScaler\n",
    "\n",
    "from sklearn.decomposition import PCA\n",
    "\n",
    "from sklearn import linear_model\n",
    "from sklearn.naive_bayes import GaussianNB\n",
    "from sklearn.neighbors import KNeighborsClassifier\n",
    "from sklearn.ensemble import AdaBoostClassifier\n",
    "from sklearn.ensemble import GradientBoostingClassifier\n",
    "\n",
    "\n",
    "import matplotlib.pyplot as plt \n",
    "import seaborn as sns # Import seaborn\n",
    "\n",
    "from datetime import datetime\n",
    "from datetime import date\n",
    "from dateutil import parser\n",
    "\n",
    "import lightgbm as lgb\n",
    "from sklearn.metrics import accuracy_score\n",
    "import optuna\n",
    "from optuna.integration import OptunaSearchCV\n",
    "\n",
    "from collections import defaultdict\n",
    "\n",
    "import time\n",
    "\n",
    "from warnings import simplefilter"
   ]
  },
  {
   "cell_type": "code",
   "execution_count": null,
   "id": "723166e4",
   "metadata": {},
   "outputs": [],
   "source": [
    "simplefilter(action=\"ignore\",category=FutureWarning)"
   ]
  },
  {
   "cell_type": "code",
   "execution_count": null,
   "id": "15c70c76",
   "metadata": {},
   "outputs": [],
   "source": [
    "pd.options.mode.chained_assignment = None\n",
    "\n",
    "# Import pre-processed data frame\n",
    "curr_date = \"2023-04-19\"\n",
    "pickle_file = 'sa-preprocessing-' + curr_date + '.pkl'\n",
    "pickle_file_path = 'data/' + pickle_file\n",
    "df_main_nn = pd.read_pickle(pickle_file_path)"
   ]
  },
  {
   "cell_type": "code",
   "execution_count": null,
   "id": "29987d32",
   "metadata": {},
   "outputs": [],
   "source": [
    "# Create the dataframe for modeling\n",
    "# feature_names = [\"last_ten\",\"last_five\",\"last_three\",\n",
    "#                  \"away_player_height_average\",\"away_player_height_average\",\n",
    "# #                  \"home_player_weight_average\",\n",
    "# #               \"away_player_weight_average\",\n",
    "# #                  'home_player_age_average','away_player_age_average',\n",
    "#                  'home_player_rating_average','away_player_rating_average',\n",
    "#               'home_team_bmi' ,'away_team_bmi', \n",
    "#                  'last_10_diff']\n",
    "feature_names = [\"last_ten\",\"last_five\",\"last_three\",  'last_10_diff', \n",
    "                \"avg_height_diff\", \"avg_weight_diff\", \"avg_rating_diff\",\n",
    "                \"avg_age_diff\", \"avg_bmi_diff\"]\n",
    "X = df_main_nn[feature_names].values\n",
    "y = df_main_nn['outcome'].values"
   ]
  },
  {
   "cell_type": "code",
   "execution_count": null,
   "id": "31368660",
   "metadata": {},
   "outputs": [],
   "source": [
    "scaler = preprocessing.MinMaxScaler().fit(X)\n",
    "X = scaler.transform(X)"
   ]
  },
  {
   "cell_type": "code",
   "execution_count": null,
   "id": "047ed20e",
   "metadata": {},
   "outputs": [],
   "source": [
    "X_train,X_test,y_train,y_test = train_test_split(X,y)\n",
    "pd.DataFrame(X).tail(100)"
   ]
  },
  {
   "cell_type": "code",
   "execution_count": null,
   "id": "6d43b8a0",
   "metadata": {},
   "outputs": [],
   "source": [
    "df_main_nn[feature_names].tail(100)"
   ]
  },
  {
   "cell_type": "code",
   "execution_count": null,
   "id": "06e8c11e",
   "metadata": {},
   "outputs": [],
   "source": [
    "# PCA\n",
    "\n",
    "pca = PCA(n_components = len(feature_names))\n",
    "pca.fit(X)\n",
    "\n",
    "pca_evr = pd.DataFrame(pca.explained_variance_ratio_)\n",
    "\n",
    "# Create a figure with two subplots\n",
    "pca_evr.hist()\n",
    "plt.title(\"PCA\",fontsize=10)\n",
    "plt.xlabel('Feature #',fontsize=10)\n",
    "plt.ylabel('Explained Variance',fontsize=10)\n"
   ]
  },
  {
   "cell_type": "code",
   "execution_count": null,
   "id": "26669b4b",
   "metadata": {},
   "outputs": [],
   "source": [
    "# Baseline models\n",
    "decision_tree = DecisionTreeClassifier()\n",
    "random_forest = RandomForestClassifier()\n",
    "\n",
    "decision_tree.fit(X_train, y_train)\n",
    "random_forest.fit(X_train, y_train)\n",
    "\n",
    "print(decision_tree.score(X_test, y_test))\n",
    "print(random_forest.score(X_test, y_test))"
   ]
  },
  {
   "cell_type": "code",
   "execution_count": null,
   "id": "d16fc617",
   "metadata": {},
   "outputs": [],
   "source": [
    "# Feature importance (RF) - based on mean decrease in impurity\n",
    "importances = random_forest.feature_importances_\n",
    "forest_importances = pd.Series(importances, index=feature_names)\n",
    "std = np.std([tree.feature_importances_ for tree in random_forest.estimators_], axis=0)\n",
    "\n",
    "fig, ax = plt.subplots()\n",
    "forest_importances.plot.bar(yerr=std, ax=ax)\n",
    "\n",
    "ax.set_title(\"Feature importances using MDI\")\n",
    "ax.set_ylabel(\"Mean decrease in impurity\")\n",
    "fig.tight_layout()"
   ]
  },
  {
   "cell_type": "code",
   "execution_count": null,
   "id": "3746cad0",
   "metadata": {},
   "outputs": [],
   "source": [
    "\n",
    "result = permutation_importance(\n",
    "    random_forest, X_test, y_test) # n_repeats=10, random_state=42, n_jobs=2\n",
    "\n",
    "forest_importances = pd.Series(result.importances_mean, index=feature_names)\n",
    "\n",
    "fig, ax = plt.subplots()\n",
    "forest_importances.plot.bar(yerr=result.importances_std, ax=ax)\n",
    "ax.set_title(\"Feature importances using permutation on full model\")\n",
    "ax.set_ylabel(\"Mean accuracy decrease\")\n",
    "fig.tight_layout()\n",
    "plt.show()"
   ]
  },
  {
   "cell_type": "code",
   "execution_count": null,
   "id": "619588b8",
   "metadata": {},
   "outputs": [],
   "source": [
    "# Logistic regression\n",
    "\n",
    "logistic_regression = linear_model.LogisticRegression()\n",
    "logistic_regression.fit(X_train, y_train)\n",
    "\n",
    "print(logistic_regression.score(X_test, y_test))"
   ]
  },
  {
   "cell_type": "code",
   "execution_count": null,
   "id": "45c045e2",
   "metadata": {},
   "outputs": [],
   "source": [
    "# Gaussian Naive Bayes\n",
    "\n",
    "gauss_nb = GaussianNB()\n",
    "gauss_nb.fit(X_train, y_train)\n",
    "\n",
    "print(gauss_nb.score(X_test, y_test))"
   ]
  },
  {
   "cell_type": "code",
   "execution_count": null,
   "id": "abccb036",
   "metadata": {},
   "outputs": [],
   "source": [
    "# K nearest neighbor\n",
    "\n",
    "k_neighbors = KNeighborsClassifier()\n",
    "k_neighbors.fit(X_train, y_train)\n",
    "\n",
    "print(k_neighbors.score(X_test, y_test))"
   ]
  },
  {
   "cell_type": "code",
   "execution_count": null,
   "id": "ee19c23d",
   "metadata": {},
   "outputs": [],
   "source": [
    "# Adaboost\n",
    "\n",
    "ada_boost = AdaBoostClassifier(n_estimators = 200)\n",
    "ada_boost.fit(X_train, y_train)\n",
    "\n",
    "print(ada_boost.score(X_test, y_test))"
   ]
  },
  {
   "cell_type": "code",
   "execution_count": null,
   "id": "57605b12",
   "metadata": {},
   "outputs": [],
   "source": [
    "# Gradient Boost Classifier\n",
    "\n",
    "gradient_boost = GradientBoostingClassifier()\n",
    "gradient_boost.fit(X_train, y_train)\n",
    "\n",
    "print(gradient_boost.score(X_test, y_test))"
   ]
  },
  {
   "cell_type": "code",
   "execution_count": null,
   "id": "666d440f",
   "metadata": {},
   "outputs": [],
   "source": [
    "# Define the objective function\n",
    "def objective(trial):\n",
    "    params = {\n",
    "        'boosting_type': 'gbdt',\n",
    "        'objective': 'binary',\n",
    "        'metric': 'binary_logloss',\n",
    "        'num_leaves': trial.suggest_int('num_leaves', 2, 256),\n",
    "        'learning_rate': trial.suggest_loguniform('learning_rate', 0.001, 0.1),\n",
    "        'max_depth': trial.suggest_int('max_depth', 3, 10),\n",
    "        'feature_fraction': trial.suggest_uniform('feature_fraction', 0.1, 1.0),\n",
    "        'bagging_fraction': trial.suggest_uniform('bagging_fraction', 0.1, 1.0),\n",
    "        'bagging_freq': trial.suggest_int('bagging_freq', 1, 10),\n",
    "        'min_child_samples': trial.suggest_int('min_child_samples', 5, 100),\n",
    "        'random_state': 42\n",
    "    }\n",
    "    model = lgb.LGBMClassifier(**params)\n",
    "    model.fit(X_train, y_train)\n",
    "    y_pred = model.predict(X_test)\n",
    "    accuracy = accuracy_score(y_test, y_pred)\n",
    "    return accuracy"
   ]
  },
  {
   "cell_type": "code",
   "execution_count": null,
   "id": "528c9743",
   "metadata": {},
   "outputs": [],
   "source": [
    "# Define the search space using IntLogUniformDistribution\n",
    "search_space = {\n",
    "    'num_leaves': optuna.distributions.IntLogUniformDistribution(2, 256),\n",
    "    'learning_rate': optuna.distributions.LogUniformDistribution(0.001, 0.1),\n",
    "    'max_depth': optuna.distributions.IntUniformDistribution(3, 10),\n",
    "    'feature_fraction': optuna.distributions.UniformDistribution(0.1, 1.0),\n",
    "    'bagging_fraction': optuna.distributions.UniformDistribution(0.1, 1.0),\n",
    "    'bagging_freq': optuna.distributions.IntUniformDistribution(1, 10),\n",
    "    'min_child_samples': optuna.distributions.IntUniformDistribution(5, 100),\n",
    "}\n",
    "\n",
    "# Create a study object and run the optimization\n",
    "study = optuna.create_study(direction='maximize')\n",
    "study.optimize(objective, n_trials=50)\n",
    "\n",
    "# Train the final model with the best hyperparameters\n",
    "best_params = study.best_params\n",
    "model = lgb.LGBMClassifier(**best_params)\n",
    "model.fit(X_train, y_train)\n",
    "y_pred = model.predict(X_test)\n",
    "accuracy_lgbm = accuracy_score(y_test, y_pred)\n",
    "\n",
    "# Print the results\n",
    "print('Best accuracy:', study.best_value)\n",
    "print('Best parameters:', study.best_params)\n",
    "print('Accuracy on test data:', accuracy_lgbm)"
   ]
  },
  {
   "cell_type": "code",
   "execution_count": null,
   "id": "8f022442",
   "metadata": {},
   "outputs": [],
   "source": [
    "# Comparison of Models\n",
    "model_names = ['Decision Tree', 'Random Forest', 'Logistic Regression', 'Gaussian Naive Bayes', 'KNN', \n",
    "               \"Adaboost\", \"Gradient Boosting\",\"LGBM\"]\n",
    "scores = [decision_tree.score(X_test, y_test), random_forest.score(X_test, y_test), logistic_regression.score(X_test, y_test), \n",
    "          gauss_nb.score(X_test, y_test),k_neighbors.score(X_test, y_test),ada_boost.score(X_test, y_test),\n",
    "          gradient_boost.score(X_test, y_test),accuracy_lgbm]\n",
    "\n",
    "# Create a bar chart\n",
    "plt.bar(model_names, scores)\n",
    "\n",
    "# Add labels and title\n",
    "plt.xlabel('Model')\n",
    "plt.ylabel('Mean score')\n",
    "plt.title('Model comparison')\n",
    "\n",
    "# Display the graph\n",
    "for i in range(len(model_names)):\n",
    "    plt.text(i, scores[i]/2, '{:.2f}'.format(scores[i]), ha='center', va='center')\n",
    "plt.xticks(rotation=90)\n",
    "plt.show()"
   ]
  }
 ],
 "metadata": {
  "kernelspec": {
   "display_name": "Python 3 (ipykernel)",
   "language": "python",
   "name": "python3"
  },
  "language_info": {
   "codemirror_mode": {
    "name": "ipython",
    "version": 3
   },
   "file_extension": ".py",
   "mimetype": "text/x-python",
   "name": "python",
   "nbconvert_exporter": "python",
   "pygments_lexer": "ipython3",
   "version": "3.9.13"
  }
 },
 "nbformat": 4,
 "nbformat_minor": 5
}
